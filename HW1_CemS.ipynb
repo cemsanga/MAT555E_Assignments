{
 "cells": [
  {
   "cell_type": "markdown",
   "id": "16c4a62b-bb17-4682-983a-c9d52a3eb12d",
   "metadata": {},
   "source": [
    "MAT555E - Spring 2022 \n",
    "\n",
    "Cem Sanga - 509201104 -  sanga@itu.edu.tr\n",
    "\n",
    "Homework 1"
   ]
  },
  {
   "cell_type": "code",
   "execution_count": 9,
   "id": "d5c4d3c4-1a1e-41fe-88ac-a3d4094f4133",
   "metadata": {},
   "outputs": [],
   "source": [
    "import numpy as np\n",
    "import scipy.integrate as spint\n",
    "import urllib\n",
    "import json\n",
    "import pandas as pd\n",
    "import matplotlib.pyplot as plt\n",
    "#--------NEEDED TO CALL BASEMAP--------\n",
    "import os\n",
    "os.environ['PROJ_LIB'] = '/Users/cemsanga/opt/anaconda3/envs/testbm/share/proj'\n",
    "#--------------------------------------\n",
    "from mpl_toolkits.basemap import Basemap"
   ]
  },
  {
   "cell_type": "markdown",
   "id": "0ecd10f7",
   "metadata": {
    "tags": []
   },
   "source": [
    "***\n",
    "\n",
    "# Question 1\n",
    "\n",
    "Write a python function that takes 4 arguments `a`, `b`, `N` and `fn` where \n",
    "\n",
    "* `a` and `b` determine an interval in $\\mathbb{R}$ \n",
    "* `N` is a positive integer and \n",
    "* `fn` is a real valued function\n",
    "\n",
    "The function you write should calculate the Riemann sum of the function `fn` over the interval [`a`,`b`] with `N` equal subintervals."
   ]
  },
  {
   "cell_type": "markdown",
   "id": "5e1f801d-2418-4963-8da5-46bb932a6930",
   "metadata": {
    "jp-MarkdownHeadingCollapsed": true,
    "tags": []
   },
   "source": [
    "# Solution 1\n",
    "\n",
    "Riemann sums are the discrete forms of the usual integrals. Instead of calculating integrand function along infinitesimaly close x points, we will approximate the intergal with areas of the rectangles. There are types of this implementation which depends on where the argument of the integrand function resides on the respective rectangle. I will use the midpoint convention here. My list of tasks will be;\n",
    "\n",
    "- Defining a lambda function with variable x for whatever function we want to calculate.\n",
    "- Using the given endpoints $a$ and $b$, I will get a range for the summation. With this range defined, I will divide it into $N$ sub-intervals to have N rectangles. I will use `np.linspace` for this and I will have $N$ amount of $x_n$ points \n",
    "- Area of the rectangles will be calculated. Since we are using midpoint rule, the vertical dimension will be $f(x_{n,mid})$ and the horizontal dimension will be $x_{n+1} - x_{n}$. $x_{n,mid}$ is going to be the average of the two consecutive x values such as $x_{n,mid} = \\frac{x_{n+1} + x_{n}}{2}$"
   ]
  },
  {
   "cell_type": "code",
   "execution_count": 6,
   "id": "deddd87b-8af8-49d0-8903-5bc0ecd5c715",
   "metadata": {},
   "outputs": [],
   "source": [
    "a = 0\n",
    "b = 12\n",
    "N = 1000\n",
    "fn = lambda x : 2*x + 5\n",
    "\n",
    "def Riemann_Sum(a,b,N,fn):\n",
    "    d = (b-a)/N\n",
    "    x = np.linspace(a,b,num=N,endpoint=True)\n",
    "    incr = (x[1]-x[0])/2 # Any two index would do since the intervals are equal for any neighboring pair.\n",
    "    xmid = x[:-1] + incr # Excluding last index of x with x[:-1] since there is no point beyond number b.\n",
    "    rsum = []\n",
    "    for n in range(xmid.size):\n",
    "        area = fn(xmid[n])*incr*2 # incr*2 = (x[n+1]-x[n])\n",
    "        rsum.append(area)\n",
    "    return sum(rsum)"
   ]
  },
  {
   "cell_type": "markdown",
   "id": "830381f1-5930-40c2-acb9-07c4d70a12a2",
   "metadata": {},
   "source": [
    "### Reality Check\n",
    "\n",
    "Now I will use standard scipy library to calculate the same integral and compare the results."
   ]
  },
  {
   "cell_type": "code",
   "execution_count": 7,
   "id": "220e2ac1-ad43-49c0-872b-2371379edbfe",
   "metadata": {},
   "outputs": [
    {
     "name": "stdout",
     "output_type": "stream",
     "text": [
      "Result with the Riemann sum is   =  204.00000000000003\n",
      "Result with built-in integration =  204.0\n"
     ]
    }
   ],
   "source": [
    "RS = Riemann_Sum(a,b,N,fn)\n",
    "integ = spint.quad(fn,a,b)[0]\n",
    "\n",
    "print(\"Result with the Riemann sum is   = \", RS)\n",
    "print(\"Result with built-in integration = \", integ)"
   ]
  },
  {
   "cell_type": "markdown",
   "id": "2ddb57b9",
   "metadata": {},
   "source": [
    "***\n",
    "\n",
    "# Question 2\n",
    "\n",
    "We want to sample random samples from the unit circle $x^2+y^2=1$. Write a python function which takes one parameter $N$ the number of sample points and returns a sample $N$ points on the unit circle as a $N\\times 2$ numpy matrix. Calculate some examples, and visualize them."
   ]
  },
  {
   "cell_type": "markdown",
   "id": "d9d4b76e-0693-433c-83b1-a3c9b30a1e74",
   "metadata": {
    "jp-MarkdownHeadingCollapsed": true,
    "tags": []
   },
   "source": [
    "# Solution 2\n",
    "\n",
    "I will be using polar coordinates to generate points on a circle. Since the radius will be fixed to 1 at all times, the position on the sphere has lost one degree of freedom and the angle $\\theta$ measured from the positive x axis is enough to traverse every point on the circle. So, my tasks are;\n",
    "\n",
    "- Defining the radius as a constant value.\n",
    "- Get random samples with `random` library to account for $\\theta$ values. The range of these values are $[0,2\\pi]$.\n",
    "- Use trigonometric identities to acquire positions with $\\theta$ $\\to$ $x=R\\cos{\\theta}$ and $y=R\\sin{\\theta}$. \n",
    "- Store the generated x and y values inside the columns of a \"data\" matrix."
   ]
  },
  {
   "cell_type": "code",
   "execution_count": 4,
   "id": "7dab2c3e-f37b-4ae4-be1d-215e1a4c217d",
   "metadata": {},
   "outputs": [],
   "source": [
    "def points_on_circle(N):\n",
    "    R = 1\n",
    "    data = np.empty(shape=(N,2))\n",
    "    for n in range(N):\n",
    "        seed = np.random.rand()\n",
    "        θ = seed*2*np.pi\n",
    "        x = R*np.cos(θ) # Angle in radians\n",
    "        y = R*np.sin(θ)\n",
    "        data[n,0] = x\n",
    "        data[n,1] = y\n",
    "    return data"
   ]
  },
  {
   "cell_type": "code",
   "execution_count": 20,
   "id": "4b0fe03a-09b4-4982-8c2c-f65864c40f15",
   "metadata": {},
   "outputs": [],
   "source": [
    "def points_on_circle_var_R(N,R):\n",
    "    data = np.empty(shape=(N,2))\n",
    "    for n in range(N):\n",
    "        seed = np.random.rand()\n",
    "        θ = seed*2*np.pi\n",
    "        x = R*np.cos(θ) # Angle in radians\n",
    "        y = R*np.sin(θ)\n",
    "        data[n,0] = x\n",
    "        data[n,1] = y\n",
    "    return data"
   ]
  },
  {
   "cell_type": "code",
   "execution_count": 40,
   "id": "ff39f2c8-c022-4622-a2f8-3f166165935c",
   "metadata": {},
   "outputs": [
    {
     "data": {
      "text/plain": [
       "<matplotlib.legend.Legend at 0x7fe8dc564cd0>"
      ]
     },
     "execution_count": 40,
     "metadata": {},
     "output_type": "execute_result"
    },
    {
     "data": {
      "image/png": "[encoded data removed]",
      "text/plain": [
       "<Figure size 432x288 with 1 Axes>"
      ]
     },
     "metadata": {
      "needs_background": "light"
     },
     "output_type": "display_data"
    }
   ],
   "source": [
    "N=89\n",
    "\n",
    "veri = points_on_circle_var_R(N,0.25)\n",
    "verix1 = veri[:,0]\n",
    "veriy1 = veri[:,1]\n",
    "\n",
    "veri = points_on_circle_var_R(N,0.5)\n",
    "verix2 = veri[:,0]\n",
    "veriy2 = veri[:,1]\n",
    "\n",
    "veri = points_on_circle_var_R(N,0.75)\n",
    "verix3 = veri[:,0]\n",
    "veriy3 = veri[:,1]\n",
    "\n",
    "veri = points_on_circle(N)\n",
    "verix4 = veri[:,0]\n",
    "veriy4 = veri[:,1]\n",
    "\n",
    "plt.scatter(verix1,veriy1)\n",
    "plt.scatter(verix2,veriy2)\n",
    "plt.scatter(verix3,veriy3)\n",
    "plt.scatter(verix4,veriy4,label=\"Unit Circle\")\n",
    "plt.legend()"
   ]
  },
  {
   "cell_type": "markdown",
   "id": "b621645d",
   "metadata": {},
   "source": [
    "***\n",
    "# Question 3\n",
    "\n",
    "Generalize the function above to sampling over the unit sphere $x^2+y^2+z^2=1$. The function should return a $N\\times 3$ numpy array.  Calculate some examples, and visualize them. [Hint: Use spherical coordinates.]"
   ]
  },
  {
   "cell_type": "markdown",
   "id": "f851fa0d-01b0-428c-b638-65c495c0d6c8",
   "metadata": {},
   "source": [
    "# Solution 3\n",
    "\n",
    "This part needs modifications to the the previous circle code, which are;\n",
    "\n",
    "- There are two degrees of freedom now. We need to generate another angle $\\phi$. $\\phi$ will be measured in the xy-plane. The range of $\\phi$ is $[0,2\\pi]$ but now, the range of $\\theta$ is reduced to $[0,\\pi]$.\n",
    "- The trigonometric identities are changed to $\\to$ $x=R\\sin{\\theta}\\cos{\\phi}$, $y=R\\sin{\\theta}\\sin{\\phi}$ and $z=R\\cos{\\theta}$.\n",
    "- Final \"data\" matrix has three columns now, extra one is to hold z-coordinate values."
   ]
  },
  {
   "cell_type": "code",
   "execution_count": 34,
   "id": "346a1005-b7b3-4fa3-bc23-ac666b3c1699",
   "metadata": {},
   "outputs": [
    {
     "data": {
      "text/plain": [
       "array([[ 1.85391185e-01,  7.97986007e-02,  9.79419365e-01],\n",
       "       [-9.78030168e-01,  1.86123101e-01,  9.38892007e-02],\n",
       "       [-5.44080407e-02, -7.30861748e-01, -6.80353490e-01],\n",
       "       [ 2.64080438e-01, -3.82038295e-01, -8.85611802e-01],\n",
       "       [-9.77410161e-01,  1.88691881e-01,  9.52089861e-02],\n",
       "       [ 2.67886288e-01, -3.60780023e-01, -8.93350274e-01],\n",
       "       [-1.60243716e-01,  7.59925703e-01,  6.29948313e-01],\n",
       "       [-2.62729414e-01,  7.69731724e-01,  5.81795779e-01],\n",
       "       [-7.07911997e-01,  6.13720713e-01,  3.49581881e-01],\n",
       "       [ 2.05934038e-02,  8.49439170e-04,  9.99787573e-01],\n",
       "       [ 8.08005271e-02,  1.33698924e-02,  9.96640618e-01],\n",
       "       [-8.52507239e-01,  4.61460028e-01,  2.45532179e-01],\n",
       "       [-1.82964830e-01, -7.63567246e-01, -6.19264832e-01],\n",
       "       [-7.98889505e-01,  5.28092759e-01,  2.87912480e-01],\n",
       "       [ 1.64565545e-01,  6.05413945e-02,  9.84506435e-01],\n",
       "       [ 2.42919484e-01, -4.51975157e-01, -8.58317296e-01],\n",
       "       [-3.31555194e-01,  7.67101021e-01,  5.49205951e-01],\n",
       "       [-3.68754607e-01, -7.62670801e-01, -5.31369258e-01],\n",
       "       [ 2.38262916e-01,  4.63139890e-01,  8.53658143e-01],\n",
       "       [ 6.82227065e-02,  9.46532862e-03,  9.97625215e-01],\n",
       "       [-6.74143645e-01,  6.39061381e-01,  3.70311893e-01],\n",
       "       [ 2.09307237e-02,  6.96084830e-01,  7.17654384e-01],\n",
       "       [ 2.23042817e-01,  1.27648320e-01,  9.66414925e-01],\n",
       "       [-9.50751481e-01,  2.76104845e-01,  1.40846498e-01],\n",
       "       [ 1.00968489e-01, -2.11722232e-02, -9.94664316e-01],\n",
       "       [ 2.45264411e-01, -4.45993370e-01, -8.60775977e-01],\n",
       "       [-5.22850969e-01, -7.21184909e-01, -4.54443826e-01],\n",
       "       [-2.09570307e-01, -7.66750460e-01, -6.06773449e-01],\n",
       "       [ 7.67546703e-02, -1.20357891e-02, -9.96977362e-01],\n",
       "       [ 2.67791330e-01, -2.48352769e-01, -9.30918206e-01],\n",
       "       [-3.05718013e-01,  7.68937071e-01,  5.61491119e-01],\n",
       "       [ 6.58846379e-02, -6.68283718e-01, -7.40983189e-01],\n",
       "       [-4.83297295e-01, -7.35523103e-01, -4.74794156e-01],\n",
       "       [ 2.54362667e-01,  1.93731088e-01,  9.47506147e-01],\n",
       "       [ 2.56959169e-01,  2.01747466e-01,  9.45129592e-01],\n",
       "       [-1.81688152e-01,  7.63385420e-01,  6.19864595e-01],\n",
       "       [-9.63200131e-01,  2.39684551e-01,  1.21642193e-01],\n",
       "       [ 3.28996822e-02,  2.17304026e-03,  9.99456297e-01],\n",
       "       [ 2.66668742e-01,  3.68349145e-01,  8.90621518e-01],\n",
       "       [-9.60594047e-01, -2.47807305e-01, -1.25899233e-01],\n",
       "       [ 2.34899748e-01, -4.70698657e-01, -8.50449812e-01],\n",
       "       [ 1.71559094e-01, -6.65720491e-02, -9.82921991e-01],\n",
       "       [ 1.17884418e-01, -2.92908723e-02, -9.92595239e-01],\n",
       "       [ 2.54210485e-01, -1.93282319e-01, -9.47638631e-01],\n",
       "       [ 2.46644731e-01,  1.73245454e-01,  9.53494829e-01],\n",
       "       [-9.97716857e-01,  6.03947293e-02,  3.02249767e-02],\n",
       "       [-8.11742305e-01,  5.13455355e-01,  2.78276891e-01],\n",
       "       [ 2.16326992e-01, -1.17458939e-01, -9.69229607e-01],\n",
       "       [-2.24900866e-01, -7.68067028e-01, -5.99577052e-01],\n",
       "       [-1.64654977e-02, -7.15010490e-01, -6.98919800e-01],\n",
       "       [ 2.46950910e-01,  4.41519190e-01,  8.62598431e-01],\n",
       "       [ 2.60427701e-01,  2.13751647e-01,  9.41534729e-01],\n",
       "       [-3.09496437e-01, -7.68732058e-01, -5.59699007e-01],\n",
       "       [ 2.71861589e-01,  3.19272853e-01,  9.07830448e-01],\n",
       "       [ 1.64104085e-01, -5.80577237e-01, -7.97496032e-01],\n",
       "       [-4.50451780e-01,  7.45442643e-01,  4.91333348e-01],\n",
       "       [-1.24323986e-01, -7.52369433e-01, -6.46903225e-01],\n",
       "       [-1.19744290e-01,  7.51242481e-01,  6.49073216e-01],\n",
       "       [-1.96520587e-01,  7.65332869e-01,  6.12899061e-01],\n",
       "       [-9.99957025e-01, -8.29206509e-03, -4.14610382e-03],\n",
       "       [ 7.00169325e-02, -6.65413314e-01, -7.43184197e-01],\n",
       "       [ 2.60840290e-01,  2.15303046e-01,  9.41066916e-01],\n",
       "       [ 1.68622975e-01, -5.75257375e-01, -8.00403176e-01],\n",
       "       [-5.78537405e-01, -6.96296643e-01, -4.24812259e-01],\n",
       "       [ 1.56437403e-01, -5.40278196e-02, -9.86209072e-01],\n",
       "       [ 6.60497274e-02, -8.86247447e-03, -9.97776974e-01],\n",
       "       [ 2.11703855e-01, -5.14795704e-01, -8.30762819e-01],\n",
       "       [-2.07113211e-01, -7.66504524e-01, -6.07926750e-01],\n",
       "       [ 1.82971769e-01, -5.57265134e-01, -8.09924010e-01],\n",
       "       [ 1.77428861e-01, -7.19628182e-02, -9.81499033e-01],\n",
       "       [ 2.72099515e-01,  3.11263673e-01,  9.10536534e-01],\n",
       "       [ 1.05042917e-02,  2.20765576e-04,  9.99944804e-01],\n",
       "       [ 2.60008058e-01,  2.12203919e-01,  9.42000693e-01],\n",
       "       [ 2.44862184e-01,  4.47038464e-01,  8.60348257e-01],\n",
       "       [-6.92732933e-01, -6.25482811e-01, -3.59015790e-01],\n",
       "       [-5.72884662e-01, -6.99086412e-01, -4.27880067e-01],\n",
       "       [ 1.22116469e-01,  3.15632400e-02,  9.92013775e-01],\n",
       "       [ 1.96421563e-01,  9.17706762e-02,  9.76215505e-01],\n",
       "       [ 2.13774762e-01,  1.13814635e-01,  9.70230169e-01],\n",
       "       [ 2.27053283e-01, -4.86996986e-01, -8.43374616e-01],\n",
       "       [ 1.89815875e-01,  8.44355892e-02,  9.78182276e-01],\n",
       "       [ 9.29291353e-02,  1.78268973e-02,  9.95513123e-01],\n",
       "       [-2.31757368e-01,  7.68535132e-01,  5.96357505e-01],\n",
       "       [ 2.44178067e-01, -1.67485640e-01, -9.55157386e-01],\n",
       "       [-2.25377485e-01,  7.68101970e-01,  5.99353278e-01],\n",
       "       [ 1.82133513e-01,  5.58366158e-01,  8.09354444e-01],\n",
       "       [-4.15825957e-01, -7.54019368e-01, -5.08471796e-01],\n",
       "       [-7.80625569e-01,  5.47665167e-01,  3.01142136e-01],\n",
       "       [ 1.86144884e-01, -5.53036336e-01, -8.12096603e-01],\n",
       "       [ 6.86743084e-02, -6.66352237e-01, -7.42467869e-01],\n",
       "       [ 1.36650343e-01,  6.09930579e-01,  7.80583994e-01],\n",
       "       [-9.24903694e-01,  3.37919857e-01,  1.74250761e-01],\n",
       "       [ 1.74194429e-01, -5.68478885e-01, -8.04044811e-01],\n",
       "       [ 2.14163483e-01, -1.14362155e-01, -9.70080048e-01],\n",
       "       [-4.50958361e-01,  7.45302979e-01,  4.91080468e-01],\n",
       "       [-3.46258417e-01, -7.65602264e-01, -5.42179198e-01],\n",
       "       [-7.70569999e-01,  5.57874539e-01,  3.08217254e-01],\n",
       "       [ 2.38743668e-01, -4.62026877e-01, -8.54126821e-01],\n",
       "       [ 2.72063928e-01, -2.95663936e-01, -9.15731433e-01],\n",
       "       [ 9.20544441e-02, -1.74820322e-02, -9.95600501e-01]])"
      ]
     },
     "execution_count": 34,
     "metadata": {},
     "output_type": "execute_result"
    }
   ],
   "source": [
    "def points_on_sphere(N):\n",
    "    R = 1\n",
    "    data = np.empty(shape=(N,3))\n",
    "    for n in range(N):\n",
    "        seed = np.random.rand()\n",
    "        θ = seed*np.pi\n",
    "        ϕ = seed*2*np.pi\n",
    "        x = R*np.sin(θ)*np.cos(ϕ) # Angle in radians\n",
    "        y = R*np.sin(θ)*np.sin(ϕ)\n",
    "        z = R*np.cos(θ)\n",
    "        data[n,0] = x\n",
    "        data[n,1] = y\n",
    "        data[n,2] = z\n",
    "    return data"
   ]
  },
  {
   "cell_type": "markdown",
   "id": "c353d543",
   "metadata": {},
   "source": [
    "***\n",
    "# Question 4\n",
    "\n",
    "How can we generalize this to sampling over an $n$-dimensional sphere $x_1^2+\\cdots+x_n^2=1$? Write a python function and explain your code."
   ]
  },
  {
   "cell_type": "code",
   "execution_count": null,
   "id": "188ae40f",
   "metadata": {},
   "outputs": [],
   "source": []
  },
  {
   "cell_type": "markdown",
   "id": "d5dd4dff",
   "metadata": {},
   "source": [
    "***\n",
    "# Question 5\n",
    "\n",
    "Istanbul Municipality has a [data service](https://data.ibb.gov.tr/) that is accessible via an API. Your task is to visualize the stops. Use the [Basemap](https://matplotlib.org/basemap/) library to draw the map.  Their locations (longitudes and latitudes) are given at this [link](https://data.ibb.gov.tr/dataset/public-transport-gtfs-data/resource/d1f7c258-bbc1-406f-9ab2-7a7c1797c673). Here is a list of things I'd like:\n",
    "\n",
    "1. You should pull the data via the API. I don't want to see the file locally.\n",
    "2. In the visualization, the size of the dot representing each stop should depend on the number of people using it.\n",
    "\n",
    "For the second part, browse through the data server and find the relevant data source."
   ]
  },
  {
   "cell_type": "code",
   "execution_count": null,
   "id": "9512c1ad",
   "metadata": {},
   "outputs": [],
   "source": [
    "url = \"https://data.ibb.gov.tr/datastore/odata3.0/d1f7c258-bbc1-406f-9ab2-7a7c1797c673?$top=6440&$format=json\"\n",
    "fileobj = urllib.request.urlopen(url)\n",
    "fileobj = json.loads(fileobj.read())\n",
    "veri = fileobj.get(\"value\")\n",
    "data = pd.DataFrame(veri)\n",
    "data"
   ]
  },
  {
   "cell_type": "markdown",
   "id": "617a838b-9406-46fb-a308-200a60d9d1ea",
   "metadata": {},
   "source": [
    "# Sources\n",
    "\n",
    "- [Mathematical Python - Riemann Sums](https://personal.math.ubc.ca/~pwalls/math-python/integration/riemann-sums/)\n",
    "- [N-spheres sampling](http://extremelearning.com.au/how-to-generate-uniformly-random-points-on-n-spheres-and-n-balls/)\n",
    "- [Fixing `KeyError: 'PROJ_LIB'` at proj/basemap](https://moonbooks.org/Articles/How-to-fix-KeyError-PROJLIB-while-using-basemap-in-python-/)"
   ]
  }
 ],
 "metadata": {
  "kernelspec": {
   "display_name": "Python 3 (ipykernel)",
   "language": "python",
   "name": "python3"
  },
  "language_info": {
   "codemirror_mode": {
    "name": "ipython",
    "version": 3
   },
   "file_extension": ".py",
   "mimetype": "text/x-python",
   "name": "python",
   "nbconvert_exporter": "python",
   "pygments_lexer": "ipython3",
   "version": "3.9.7"
  }
 },
 "nbformat": 4,
 "nbformat_minor": 5
}
