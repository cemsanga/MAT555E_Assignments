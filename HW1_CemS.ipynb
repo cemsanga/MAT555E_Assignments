{
 "cells": [
  {
   "cell_type": "markdown",
   "id": "16c4a62b-bb17-4682-983a-c9d52a3eb12d",
   "metadata": {},
   "source": [
    "MAT555E - Spring 2022 \n",
    "\n",
    "Cem Sanga - 509201104 -  sanga@itu.edu.tr\n",
    "\n",
    "Homework 1"
   ]
  },
  {
   "cell_type": "code",
   "execution_count": 108,
   "id": "d5c4d3c4-1a1e-41fe-88ac-a3d4094f4133",
   "metadata": {},
   "outputs": [],
   "source": [
    "import numpy as np\n",
    "import scipy.integrate as spint"
   ]
  },
  {
   "cell_type": "markdown",
   "id": "0ecd10f7",
   "metadata": {
    "tags": []
   },
   "source": [
    "***\n",
    "\n",
    "# Question 1\n",
    "\n",
    "Write a python function that takes 4 arguments `a`, `b`, `N` and `fn` where \n",
    "\n",
    "* `a` and `b` determine an interval in $\\mathbb{R}$ \n",
    "* `N` is a positive integer and \n",
    "* `fn` is a real valued function\n",
    "\n",
    "The function you write should calculate the Riemann sum of the function `fn` over the interval [`a`,`b`] with `N` equal subintervals."
   ]
  },
  {
   "cell_type": "markdown",
   "id": "5e1f801d-2418-4963-8da5-46bb932a6930",
   "metadata": {
    "tags": []
   },
   "source": [
    "# Solution 1\n",
    "\n",
    "Riemann sums are the discrete forms of the usual integrals. Instead of calculating integrand function along infinitesimaly close x points, we will approximate the intergal with areas of the rectangles. There are types of this implementation which depends on where the argument of the integrand function resides on the respective rectangle. I will use the midpoint convention here. My list of tasks will be;\n",
    "\n",
    "- Defining a lambda function with variable x for whatever function we want to calculate.\n",
    "- Using the given endpoints $a$ and $b$, I will get a range for the summation. With this range defined, I will divide it into $N$ sub-intervals to have N rectangles. I will use `np.linspace` for this and I will have $N$ amount of $x_n$ points \n",
    "- Area of the rectangles will be calculated. Since we are using midpoint rule, the vertical dimension will be $f(x_{n,mid})$ and the horizontal dimension will be $x_{n+1} - x_{n}$. $x_{n,mid}$ is going to be the average of the two consecutive x values such as $x_{n,mid} = \\frac{x_{n+1} + x_{n}}{2}$"
   ]
  },
  {
   "cell_type": "code",
   "execution_count": 156,
   "id": "deddd87b-8af8-49d0-8903-5bc0ecd5c715",
   "metadata": {},
   "outputs": [],
   "source": [
    "a=1\n",
    "b=100\n",
    "N=10000\n",
    "fn = lambda x : 3*(x**2) + 1/x   "
   ]
  },
  {
   "cell_type": "code",
   "execution_count": 157,
   "id": "2716e4f5-dc8b-4b44-8f2b-44b3f21c4793",
   "metadata": {},
   "outputs": [],
   "source": [
    "def RiemannSum(a,b,N,fn):\n",
    "    d = (b-a)/N\n",
    "    x = np.linspace(a,b,N,endpoint=True)\n",
    "    incr = (x[2]-x[1])/2 # Any two index would do since the intervals are even for any pair.\n",
    "    xmid = x[:-1] + incr # Excluding last index of x with x[:-1] since there is no point beyond number b.\n",
    "    rsum=[]\n",
    "    for n in range(N-1):\n",
    "        area = fn(xmid[n])*(x[n+1]-x[n])\n",
    "        rsum.append(area)\n",
    "    return sum(rsum)"
   ]
  },
  {
   "cell_type": "markdown",
   "id": "830381f1-5930-40c2-acb9-07c4d70a12a2",
   "metadata": {},
   "source": [
    "### Reality Check\n",
    "\n",
    "Now I will use standard scipy library to calculate the same integral and compare the results."
   ]
  },
  {
   "cell_type": "code",
   "execution_count": 162,
   "id": "220e2ac1-ad43-49c0-872b-2371379edbfe",
   "metadata": {},
   "outputs": [
    {
     "name": "stdout",
     "output_type": "stream",
     "text": [
      "Result with the Riemann sum is   =  1000003.6027398676\n",
      "Result with built-in integration =  1000003.6051707028\n"
     ]
    }
   ],
   "source": [
    "RS = RiemannSum(a,b,N,fn)\n",
    "integ = spint.quad(fn,a,b)[0]\n",
    "\n",
    "print(\"Result with the Riemann sum is   = \", RS)\n",
    "print(\"Result with built-in integration = \", integ)"
   ]
  },
  {
   "cell_type": "markdown",
   "id": "2ddb57b9",
   "metadata": {},
   "source": [
    "***\n",
    "\n",
    "# Question 2\n",
    "\n",
    "We want to sample random samples from the unit circle $x^2+y^2=1$. Write a python function which takes one parameter $N$ the number of sample points and returns a sample $N$ points on the unit circle as a $N\\times 2$ numpy matrix. Calculate some examples, and visualize them."
   ]
  },
  {
   "cell_type": "code",
   "execution_count": null,
   "id": "2449c6a5",
   "metadata": {},
   "outputs": [],
   "source": []
  },
  {
   "cell_type": "markdown",
   "id": "b621645d",
   "metadata": {},
   "source": [
    "***\n",
    "# Question 3\n",
    "\n",
    "Generalize the function above to sampling over the unit sphere $x^2+y^2+z^2=1$. The function should return a $N\\times 3$ numpy array.  Calculate some examples, and visualize them. [Hint: Use spherical coordinates.]"
   ]
  },
  {
   "cell_type": "code",
   "execution_count": null,
   "id": "3d6344c1",
   "metadata": {},
   "outputs": [],
   "source": []
  },
  {
   "cell_type": "markdown",
   "id": "c353d543",
   "metadata": {},
   "source": [
    "***\n",
    "# Question 4\n",
    "\n",
    "How can we generalize this to sampling over an $n$-dimensional sphere $x_1^2+\\cdots+x_n^2=1$? Write a python function and explain your code."
   ]
  },
  {
   "cell_type": "code",
   "execution_count": null,
   "id": "188ae40f",
   "metadata": {},
   "outputs": [],
   "source": []
  },
  {
   "cell_type": "markdown",
   "id": "d5dd4dff",
   "metadata": {},
   "source": [
    "***\n",
    "# Question 5\n",
    "\n",
    "Istanbul Municipality has a [data service](https://data.ibb.gov.tr/) that is accessible via an API. Your task is to visualize the stops. Use the [Basemap](https://matplotlib.org/basemap/) library to draw the map.  Their locations (longitudes and latitudes) are given at this [link](https://data.ibb.gov.tr/dataset/public-transport-gtfs-data/resource/d1f7c258-bbc1-406f-9ab2-7a7c1797c673). Here is a list of things I'd like:\n",
    "\n",
    "1. You should pull the data via the API. I don't want to see the file locally.\n",
    "2. In the visualization, the size of the dot representing each stop should depend on the number of people using it.\n",
    "\n",
    "For the second part, browse through the data server and find the relevant data source."
   ]
  },
  {
   "cell_type": "code",
   "execution_count": null,
   "id": "9512c1ad",
   "metadata": {},
   "outputs": [],
   "source": []
  },
  {
   "cell_type": "markdown",
   "id": "617a838b-9406-46fb-a308-200a60d9d1ea",
   "metadata": {},
   "source": [
    "# Sources\n",
    "\n",
    "- [Mathematical Python - Riemann Sums](https://personal.math.ubc.ca/~pwalls/math-python/integration/riemann-sums/)\n",
    "- [N-spheres sampling](http://extremelearning.com.au/how-to-generate-uniformly-random-points-on-n-spheres-and-n-balls/)\n",
    "-\n",
    "-"
   ]
  }
 ],
 "metadata": {
  "kernelspec": {
   "display_name": "Python 3 (ipykernel)",
   "language": "python",
   "name": "python3"
  },
  "language_info": {
   "codemirror_mode": {
    "name": "ipython",
    "version": 3
   },
   "file_extension": ".py",
   "mimetype": "text/x-python",
   "name": "python",
   "nbconvert_exporter": "python",
   "pygments_lexer": "ipython3",
   "version": "3.9.7"
  }
 },
 "nbformat": 4,
 "nbformat_minor": 5
}
