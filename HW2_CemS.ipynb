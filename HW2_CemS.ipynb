{
 "cells": [
  {
   "cell_type": "markdown",
   "id": "05421588-2517-4048-b9c8-adb400205ba6",
   "metadata": {
    "jp-MarkdownHeadingCollapsed": true,
    "tags": []
   },
   "source": [
    "# MAT555E - Spring 2022 - Homework 2 \n",
    "\n",
    "Cem Sanga - 509201104 - sanga@itu.edu.tr"
   ]
  },
  {
   "cell_type": "code",
   "execution_count": 1,
   "id": "86adf705",
   "metadata": {},
   "outputs": [],
   "source": [
    "%matplotlib inline\n",
    "import pandas as pd\n",
    "import numpy as np\n",
    "import matplotlib.pyplot as plt\n",
    "import seaborn as sns\n",
    "from statsmodels.datasets import copper\n",
    "from statsmodels.formula.api import ols\n",
    "from statsmodels.stats.anova import anova_lm"
   ]
  },
  {
   "cell_type": "markdown",
   "id": "9efcb9df",
   "metadata": {
    "jp-MarkdownHeadingCollapsed": true,
    "tags": []
   },
   "source": [
    "***\n",
    "# Question 1\n",
    "\n",
    "For this question we are going to use the following dataset:"
   ]
  },
  {
   "cell_type": "code",
   "execution_count": 2,
   "id": "231faa85",
   "metadata": {},
   "outputs": [
    {
     "data": {
      "text/html": [
       "<div>\n",
       "<style scoped>\n",
       "    .dataframe tbody tr th:only-of-type {\n",
       "        vertical-align: middle;\n",
       "    }\n",
       "\n",
       "    .dataframe tbody tr th {\n",
       "        vertical-align: top;\n",
       "    }\n",
       "\n",
       "    .dataframe thead th {\n",
       "        text-align: right;\n",
       "    }\n",
       "</style>\n",
       "<table border=\"1\" class=\"dataframe\">\n",
       "  <thead>\n",
       "    <tr style=\"text-align: right;\">\n",
       "      <th></th>\n",
       "      <th>WORLDCONSUMPTION</th>\n",
       "      <th>COPPERPRICE</th>\n",
       "      <th>INCOMEINDEX</th>\n",
       "      <th>ALUMPRICE</th>\n",
       "      <th>INVENTORYINDEX</th>\n",
       "      <th>TIME</th>\n",
       "    </tr>\n",
       "  </thead>\n",
       "  <tbody>\n",
       "    <tr>\n",
       "      <th>0</th>\n",
       "      <td>3173.0</td>\n",
       "      <td>26.56</td>\n",
       "      <td>0.70</td>\n",
       "      <td>19.76</td>\n",
       "      <td>0.98</td>\n",
       "      <td>1.0</td>\n",
       "    </tr>\n",
       "    <tr>\n",
       "      <th>1</th>\n",
       "      <td>3281.1</td>\n",
       "      <td>27.31</td>\n",
       "      <td>0.71</td>\n",
       "      <td>20.78</td>\n",
       "      <td>1.04</td>\n",
       "      <td>2.0</td>\n",
       "    </tr>\n",
       "    <tr>\n",
       "      <th>2</th>\n",
       "      <td>3135.7</td>\n",
       "      <td>32.95</td>\n",
       "      <td>0.72</td>\n",
       "      <td>22.55</td>\n",
       "      <td>1.05</td>\n",
       "      <td>3.0</td>\n",
       "    </tr>\n",
       "    <tr>\n",
       "      <th>3</th>\n",
       "      <td>3359.1</td>\n",
       "      <td>33.90</td>\n",
       "      <td>0.70</td>\n",
       "      <td>23.06</td>\n",
       "      <td>0.97</td>\n",
       "      <td>4.0</td>\n",
       "    </tr>\n",
       "    <tr>\n",
       "      <th>4</th>\n",
       "      <td>3755.1</td>\n",
       "      <td>42.70</td>\n",
       "      <td>0.74</td>\n",
       "      <td>24.93</td>\n",
       "      <td>1.02</td>\n",
       "      <td>5.0</td>\n",
       "    </tr>\n",
       "  </tbody>\n",
       "</table>\n",
       "</div>"
      ],
      "text/plain": [
       "   WORLDCONSUMPTION  COPPERPRICE  INCOMEINDEX  ALUMPRICE  INVENTORYINDEX  TIME\n",
       "0            3173.0        26.56         0.70      19.76            0.98   1.0\n",
       "1            3281.1        27.31         0.71      20.78            1.04   2.0\n",
       "2            3135.7        32.95         0.72      22.55            1.05   3.0\n",
       "3            3359.1        33.90         0.70      23.06            0.97   4.0\n",
       "4            3755.1        42.70         0.74      24.93            1.02   5.0"
      ]
     },
     "execution_count": 2,
     "metadata": {},
     "output_type": "execute_result"
    }
   ],
   "source": [
    "from statsmodels.datasets import copper\n",
    "\n",
    "prices = copper.data.load_pandas()\n",
    "prices['data'].head()"
   ]
  },
  {
   "cell_type": "markdown",
   "id": "6dc1fe94",
   "metadata": {},
   "source": [
    "Write a regression model, and analyze it. Pick the smallest model and make sure that all variables you picked produce significant regression coefficients with resonable ANOVA profile."
   ]
  },
  {
   "cell_type": "markdown",
   "id": "66ccd8b8-459c-4bc3-9494-d56a0b7ba509",
   "metadata": {
    "tags": []
   },
   "source": [
    "# Solution 1\n",
    "\n",
    "This dataset comes with a built-in description. Let's call it."
   ]
  },
  {
   "cell_type": "code",
   "execution_count": 3,
   "id": "f00751ad-f9d3-4379-b19c-21e6bf678646",
   "metadata": {},
   "outputs": [
    {
     "name": "stdout",
     "output_type": "stream",
     "text": [
      "This data describes the world copper market from 1951 through 1975.  In an\n",
      "example, in Gill, the outcome variable (of a 2 stage estimation) is the world\n",
      "consumption of copper for the 25 years.  The explanatory variables are the\n",
      "world consumption of copper in 1000 metric tons, the constant dollar adjusted\n",
      "price of copper, the price of a substitute, aluminum, an index of real per\n",
      "capita income base 1970, an annual measure of manufacturer inventory change,\n",
      "and a time trend.\n",
      "\n"
     ]
    }
   ],
   "source": [
    "print(copper.DESCRLONG)"
   ]
  },
  {
   "cell_type": "markdown",
   "id": "ebe1dcea-2a5d-40f3-9e0a-b3ff6821fc6a",
   "metadata": {},
   "source": [
    "> 'Outcome variable is the world consumption of copper for 25 years.'"
   ]
  },
  {
   "cell_type": "code",
   "execution_count": 4,
   "id": "8858a989-e964-4a65-92b8-e224dd9c3f25",
   "metadata": {},
   "outputs": [
    {
     "data": {
      "text/html": [
       "<div>\n",
       "<style scoped>\n",
       "    .dataframe tbody tr th:only-of-type {\n",
       "        vertical-align: middle;\n",
       "    }\n",
       "\n",
       "    .dataframe tbody tr th {\n",
       "        vertical-align: top;\n",
       "    }\n",
       "\n",
       "    .dataframe thead th {\n",
       "        text-align: right;\n",
       "    }\n",
       "</style>\n",
       "<table border=\"1\" class=\"dataframe\">\n",
       "  <thead>\n",
       "    <tr style=\"text-align: right;\">\n",
       "      <th></th>\n",
       "      <th>WORLDCONSUMPTION</th>\n",
       "      <th>COPPERPRICE</th>\n",
       "      <th>INCOMEINDEX</th>\n",
       "      <th>ALUMPRICE</th>\n",
       "      <th>INVENTORYINDEX</th>\n",
       "      <th>TIME</th>\n",
       "    </tr>\n",
       "  </thead>\n",
       "  <tbody>\n",
       "    <tr>\n",
       "      <th>0</th>\n",
       "      <td>3173.0</td>\n",
       "      <td>26.56</td>\n",
       "      <td>0.70</td>\n",
       "      <td>19.76</td>\n",
       "      <td>0.98</td>\n",
       "      <td>1.0</td>\n",
       "    </tr>\n",
       "    <tr>\n",
       "      <th>1</th>\n",
       "      <td>3281.1</td>\n",
       "      <td>27.31</td>\n",
       "      <td>0.71</td>\n",
       "      <td>20.78</td>\n",
       "      <td>1.04</td>\n",
       "      <td>2.0</td>\n",
       "    </tr>\n",
       "    <tr>\n",
       "      <th>2</th>\n",
       "      <td>3135.7</td>\n",
       "      <td>32.95</td>\n",
       "      <td>0.72</td>\n",
       "      <td>22.55</td>\n",
       "      <td>1.05</td>\n",
       "      <td>3.0</td>\n",
       "    </tr>\n",
       "    <tr>\n",
       "      <th>3</th>\n",
       "      <td>3359.1</td>\n",
       "      <td>33.90</td>\n",
       "      <td>0.70</td>\n",
       "      <td>23.06</td>\n",
       "      <td>0.97</td>\n",
       "      <td>4.0</td>\n",
       "    </tr>\n",
       "    <tr>\n",
       "      <th>4</th>\n",
       "      <td>3755.1</td>\n",
       "      <td>42.70</td>\n",
       "      <td>0.74</td>\n",
       "      <td>24.93</td>\n",
       "      <td>1.02</td>\n",
       "      <td>5.0</td>\n",
       "    </tr>\n",
       "  </tbody>\n",
       "</table>\n",
       "</div>"
      ],
      "text/plain": [
       "   WORLDCONSUMPTION  COPPERPRICE  INCOMEINDEX  ALUMPRICE  INVENTORYINDEX  TIME\n",
       "0            3173.0        26.56         0.70      19.76            0.98   1.0\n",
       "1            3281.1        27.31         0.71      20.78            1.04   2.0\n",
       "2            3135.7        32.95         0.72      22.55            1.05   3.0\n",
       "3            3359.1        33.90         0.70      23.06            0.97   4.0\n",
       "4            3755.1        42.70         0.74      24.93            1.02   5.0"
      ]
     },
     "execution_count": 4,
     "metadata": {},
     "output_type": "execute_result"
    }
   ],
   "source": [
    "df1 = pd.DataFrame(prices['data'])\n",
    "df1.head()"
   ]
  },
  {
   "cell_type": "code",
   "execution_count": 16,
   "id": "e31e23fa-672b-461f-9cc9-fe7fb692b89d",
   "metadata": {},
   "outputs": [
    {
     "data": {
      "text/plain": [
       "(   COPPERPRICE  INCOMEINDEX  ALUMPRICE  INVENTORYINDEX  TIME\n",
       " 0        26.56         0.70      19.76            0.98   1.0\n",
       " 1        27.31         0.71      20.78            1.04   2.0\n",
       " 2        32.95         0.72      22.55            1.05   3.0\n",
       " 3        33.90         0.70      23.06            0.97   4.0\n",
       " 4        42.70         0.74      24.93            1.02   5.0,\n",
       " <AxesSubplot:>)"
      ]
     },
     "execution_count": 16,
     "metadata": {},
     "output_type": "execute_result"
    },
    {
     "data": {
      "image/png": "[encoded data removed]",
      "text/plain": [
       "<Figure size 432x288 with 2 Axes>"
      ]
     },
     "metadata": {
      "needs_background": "light"
     },
     "output_type": "display_data"
    }
   ],
   "source": [
    "X1 = df1.iloc[:,1:6]\n",
    "cor1 = np.corrcoef(X1.transpose())\n",
    "X1.head(),sns.heatmap(cor1, cmap = \"jet\", annot = True)"
   ]
  },
  {
   "cell_type": "markdown",
   "id": "40e4fce8-e444-4563-8f93-08fdc716fdb8",
   "metadata": {},
   "source": [
    "With this matrix, we can choose which predictors can be used together meaningfully. For every predictor we check the diagonal element (of course every element correlates with itself on the diagonal). It might be okay to work with **blue** and **light blue** colors for each diagonal element, since diagonals do not have significant linear dependence to these colors in the map. With this colormap in mind, I will construct the model using all of the predictors and make decisions aiming high $R^2$ and Adj. $R^2$ values."
   ]
  },
  {
   "cell_type": "code",
   "execution_count": 6,
   "id": "b648e4ef-e59e-4f21-9b9a-42318f553342",
   "metadata": {},
   "outputs": [
    {
     "name": "stdout",
     "output_type": "stream",
     "text": [
      "                            OLS Regression Results                            \n",
      "==============================================================================\n",
      "Dep. Variable:       WORLDCONSUMPTION   R-squared:                       0.978\n",
      "Model:                            OLS   Adj. R-squared:                  0.973\n",
      "Method:                 Least Squares   F-statistic:                     171.0\n",
      "Date:                Fri, 01 Apr 2022   Prob (F-statistic):           4.11e-15\n",
      "Time:                        16:26:24   Log-Likelihood:                -172.61\n",
      "No. Observations:                  25   AIC:                             357.2\n",
      "Df Residuals:                      19   BIC:                             364.5\n",
      "Df Model:                           5                                         \n",
      "Covariance Type:            nonrobust                                         \n",
      "==================================================================================\n",
      "                     coef    std err          t      P>|t|      [0.025      0.975]\n",
      "----------------------------------------------------------------------------------\n",
      "Intercept        283.9552   2768.572      0.103      0.919   -5510.733    6078.644\n",
      "COPPERPRICE       15.0432     14.761      1.019      0.321     -15.852      45.938\n",
      "INCOMEINDEX     1442.8858   3168.592      0.455      0.654   -5189.054    8074.826\n",
      "ALUMPRICE        -64.1230     47.258     -1.357      0.191    -163.035      34.789\n",
      "INVENTORYINDEX  2450.3845   1827.270      1.341      0.196   -1374.136    6274.905\n",
      "TIME             187.2307     54.595      3.429      0.003      72.961     301.500\n",
      "==============================================================================\n",
      "Omnibus:                        8.395   Durbin-Watson:                   1.312\n",
      "Prob(Omnibus):                  0.015   Jarque-Bera (JB):                6.465\n",
      "Skew:                          -0.959   Prob(JB):                       0.0395\n",
      "Kurtosis:                       4.589   Cond. No.                     3.36e+03\n",
      "==============================================================================\n",
      "\n",
      "Notes:\n",
      "[1] Standard Errors assume that the covariance matrix of the errors is correctly specified.\n",
      "[2] The condition number is large, 3.36e+03. This might indicate that there are\n",
      "strong multicollinearity or other numerical problems. \n",
      "\n",
      " ANOVA:\n",
      "\n",
      "                   df        sum_sq       mean_sq           F        PR(>F)\n",
      "COPPERPRICE      1.0  3.002122e+07  3.002122e+07  392.245413  3.804745e-14\n",
      "INCOMEINDEX      1.0  3.397231e+07  3.397231e+07  443.868829  1.234186e-14\n",
      "ALUMPRICE        1.0  5.534683e+05  5.534683e+05    7.231400  1.452587e-02\n",
      "INVENTORYINDEX   1.0  2.521226e+03  2.521226e+03    0.032941  8.578993e-01\n",
      "TIME             1.0  9.001430e+05  9.001430e+05   11.760915  2.810953e-03\n",
      "Residual        19.0  1.454200e+06  7.653682e+04         NaN           NaN\n"
     ]
    }
   ],
   "source": [
    "m1 = ols('WORLDCONSUMPTION ~ COPPERPRICE + INCOMEINDEX + ALUMPRICE + INVENTORYINDEX + TIME', df1).fit()\n",
    "at1 = anova_lm(m1)\n",
    "print(m1.summary(),\"\\n\\n ANOVA:\\n\\n\",at1) #  m1 : MODEL 1, at: ANOVA Table"
   ]
  },
  {
   "cell_type": "markdown",
   "id": "44cc7ab6-89f7-42d9-bdf6-e8960fb942a9",
   "metadata": {},
   "source": [
    "***\n",
    "I will compare the $P > |t|$ values. Lower p value is better. From source [Understanding the Regression Summary](https://rc2e.com/linearregressionandanova#recipe-id240), we can quote;"
   ]
  },
  {
   "cell_type": "markdown",
   "id": "57eabe8d-fd27-4bdc-b5de-3eb14c05ce6d",
   "metadata": {},
   "source": [
    "> \"The p-value is a probability. It gauges the likelihood that the coefficient is not significant, so smaller is better. Big is bad because it indicates a high likelihood of insignificance. Variables with large p-values are candidates for elimination.\""
   ]
  },
  {
   "cell_type": "markdown",
   "id": "ff0d1619-3ea8-4750-bbca-fe31be74fbb0",
   "metadata": {},
   "source": [
    "So I will be removing the high p values coefficients from the model. I will start with **intercept**. By adding a `-1` at the end of the model building string we can remove the intercept parameter."
   ]
  },
  {
   "cell_type": "code",
   "execution_count": 7,
   "id": "34a60a8b-5930-488b-8049-877189d74766",
   "metadata": {},
   "outputs": [
    {
     "name": "stdout",
     "output_type": "stream",
     "text": [
      "                                 OLS Regression Results                                \n",
      "=======================================================================================\n",
      "Dep. Variable:       WORLDCONSUMPTION   R-squared (uncentered):                   0.998\n",
      "Model:                            OLS   Adj. R-squared (uncentered):              0.998\n",
      "Method:                 Least Squares   F-statistic:                              2209.\n",
      "Date:                Fri, 01 Apr 2022   Prob (F-statistic):                    1.05e-26\n",
      "Time:                        16:26:24   Log-Likelihood:                         -172.62\n",
      "No. Observations:                  25   AIC:                                      355.2\n",
      "Df Residuals:                      20   BIC:                                      361.3\n",
      "Df Model:                           5                                                  \n",
      "Covariance Type:            nonrobust                                                  \n",
      "==================================================================================\n",
      "                     coef    std err          t      P>|t|      [0.025      0.975]\n",
      "----------------------------------------------------------------------------------\n",
      "COPPERPRICE       14.2220     12.090      1.176      0.253     -10.998      39.442\n",
      "INCOMEINDEX     1693.1662   1970.555      0.859      0.400   -2417.339    5803.671\n",
      "ALUMPRICE        -60.6381     32.023     -1.894      0.073    -127.437       6.161\n",
      "INVENTORYINDEX  2515.3749   1670.948      1.505      0.148    -970.162    6000.912\n",
      "TIME             183.1930     36.879      4.967      0.000     106.264     260.122\n",
      "==============================================================================\n",
      "Omnibus:                        8.007   Durbin-Watson:                   1.316\n",
      "Prob(Omnibus):                  0.018   Jarque-Bera (JB):                6.014\n",
      "Skew:                          -0.936   Prob(JB):                       0.0494\n",
      "Kurtosis:                       4.506   Cond. No.                     2.20e+03\n",
      "==============================================================================\n",
      "\n",
      "Notes:\n",
      "[1] R² is computed without centering (uncentered) since the model does not contain a constant.\n",
      "[2] Standard Errors assume that the covariance matrix of the errors is correctly specified.\n",
      "[3] The condition number is large, 2.2e+03. This might indicate that there are\n",
      "strong multicollinearity or other numerical problems. \n",
      "\n",
      " ANOVA:\n",
      "\n",
      "                   df        sum_sq       mean_sq             F        PR(>F)\n",
      "COPPERPRICE      1.0  7.678586e+08  7.678586e+08  10554.724072  1.032718e-28\n",
      "INCOMEINDEX      1.0  2.291116e+07  2.291116e+07    314.928985  1.044469e-13\n",
      "ALUMPRICE        1.0  7.148829e+06  7.148829e+06     98.265375  3.664492e-09\n",
      "INVENTORYINDEX   1.0  3.844053e+06  3.844053e+06     52.839051  4.956317e-07\n",
      "TIME             1.0  1.795104e+06  1.795104e+06     24.674893  7.408428e-05\n",
      "Residual        20.0  1.455005e+06  7.275023e+04           NaN           NaN\n"
     ]
    }
   ],
   "source": [
    "m1 = ols('WORLDCONSUMPTION ~ COPPERPRICE + INCOMEINDEX + ALUMPRICE + INVENTORYINDEX + TIME - 1', df1).fit()\n",
    "at1 = anova_lm(m1) \n",
    "print(m1.summary(),\"\\n\\n ANOVA:\\n\\n\",at1)"
   ]
  },
  {
   "cell_type": "markdown",
   "id": "c22d0652-8b1e-4fa2-8ae3-581463012380",
   "metadata": {},
   "source": [
    "***\n",
    "$R^2$ is better now. But I will try to reduce it further by eliminating more parameters. Next one will be, `INCOMEINDEX` due to it's highest p value."
   ]
  },
  {
   "cell_type": "code",
   "execution_count": 8,
   "id": "17ff9d18-2a06-4e02-a53b-edb602cffcff",
   "metadata": {},
   "outputs": [
    {
     "name": "stdout",
     "output_type": "stream",
     "text": [
      "                                 OLS Regression Results                                \n",
      "=======================================================================================\n",
      "Dep. Variable:       WORLDCONSUMPTION   R-squared (uncentered):                   0.998\n",
      "Model:                            OLS   Adj. R-squared (uncentered):              0.998\n",
      "Method:                 Least Squares   F-statistic:                              2796.\n",
      "Date:                Fri, 01 Apr 2022   Prob (F-statistic):                    2.66e-28\n",
      "Time:                        16:26:24   Log-Likelihood:                         -173.07\n",
      "No. Observations:                  25   AIC:                                      354.1\n",
      "Df Residuals:                      21   BIC:                                      359.0\n",
      "Df Model:                           4                                                  \n",
      "Covariance Type:            nonrobust                                                  \n",
      "==================================================================================\n",
      "                     coef    std err          t      P>|t|      [0.025      0.975]\n",
      "----------------------------------------------------------------------------------\n",
      "COPPERPRICE       19.2497     10.514      1.831      0.081      -2.616      41.115\n",
      "ALUMPRICE        -79.3500     23.331     -3.401      0.003    -127.870     -30.830\n",
      "INVENTORYINDEX  3844.7379    627.239      6.130      0.000    2540.322    5149.154\n",
      "TIME             213.7095      9.872     21.647      0.000     193.179     234.240\n",
      "==============================================================================\n",
      "Omnibus:                        4.190   Durbin-Watson:                   1.446\n",
      "Prob(Omnibus):                  0.123   Jarque-Bera (JB):                2.467\n",
      "Skew:                          -0.694   Prob(JB):                        0.291\n",
      "Kurtosis:                       3.663   Cond. No.                         548.\n",
      "==============================================================================\n",
      "\n",
      "Notes:\n",
      "[1] R² is computed without centering (uncentered) since the model does not contain a constant.\n",
      "[2] Standard Errors assume that the covariance matrix of the errors is correctly specified. \n",
      "\n",
      " ANOVA:\n",
      "\n",
      "                   df        sum_sq       mean_sq             F        PR(>F)\n",
      "COPPERPRICE      1.0  7.678586e+08  7.678586e+08  10687.925185  6.412423e-30\n",
      "ALUMPRICE        1.0  1.604775e+06  1.604775e+06     22.337070  1.146878e-04\n",
      "INVENTORYINDEX   1.0  3.741395e+05  3.741395e+05      5.207697  3.301947e-02\n",
      "TIME             1.0  3.366652e+07  3.366652e+07    468.608699  7.659949e-16\n",
      "Residual        21.0  1.508715e+06  7.184356e+04           NaN           NaN\n"
     ]
    }
   ],
   "source": [
    "m1 = ols('WORLDCONSUMPTION ~ COPPERPRICE + ALUMPRICE + INVENTORYINDEX + TIME - 1', df1).fit()\n",
    "at1 = anova_lm(m1)\n",
    "print(m1.summary(),\"\\n\\n ANOVA:\\n\\n\",at1)"
   ]
  },
  {
   "cell_type": "markdown",
   "id": "e6aa858d-b2f9-4fcb-8369-aafcd32300ce",
   "metadata": {},
   "source": [
    "***\n",
    "Next victim is will be `COPPERPRICE`. $R^2$ value did not improve but since we are looking for the smallest model possible, I keep taking down parameters by looking the highest p values and `F` value in ANOVA table. Smaller F values indicates the model remains significant."
   ]
  },
  {
   "cell_type": "code",
   "execution_count": 9,
   "id": "e8e4abb5-e485-4caa-bfbc-0230967e4ba5",
   "metadata": {},
   "outputs": [
    {
     "name": "stdout",
     "output_type": "stream",
     "text": [
      "                                 OLS Regression Results                                \n",
      "=======================================================================================\n",
      "Dep. Variable:       WORLDCONSUMPTION   R-squared (uncentered):                   0.998\n",
      "Model:                            OLS   Adj. R-squared (uncentered):              0.998\n",
      "Method:                 Least Squares   F-statistic:                              3367.\n",
      "Date:                Fri, 01 Apr 2022   Prob (F-statistic):                    1.97e-29\n",
      "Time:                        16:26:24   Log-Likelihood:                         -174.92\n",
      "No. Observations:                  25   AIC:                                      355.8\n",
      "Df Residuals:                      22   BIC:                                      359.5\n",
      "Df Model:                           3                                                  \n",
      "Covariance Type:            nonrobust                                                  \n",
      "==================================================================================\n",
      "                     coef    std err          t      P>|t|      [0.025      0.975]\n",
      "----------------------------------------------------------------------------------\n",
      "ALUMPRICE        -76.1543     24.478     -3.111      0.005    -126.918     -25.390\n",
      "INVENTORYINDEX  4321.9110    600.250      7.200      0.000    3077.068    5566.754\n",
      "TIME             225.8741      7.682     29.402      0.000     209.942     241.806\n",
      "==============================================================================\n",
      "Omnibus:                        8.819   Durbin-Watson:                   1.306\n",
      "Prob(Omnibus):                  0.012   Jarque-Bera (JB):                6.941\n",
      "Skew:                          -0.995   Prob(JB):                       0.0311\n",
      "Kurtosis:                       4.644   Cond. No.                         297.\n",
      "==============================================================================\n",
      "\n",
      "Notes:\n",
      "[1] R² is computed without centering (uncentered) since the model does not contain a constant.\n",
      "[2] Standard Errors assume that the covariance matrix of the errors is correctly specified. \n",
      "\n",
      " ANOVA:\n",
      "\n",
      "                   df        sum_sq       mean_sq            F        PR(>F)\n",
      "ALUMPRICE        1.0  7.236103e+08  7.236103e+08  9099.235957  2.706044e-30\n",
      "INVENTORYINDEX   1.0  1.090483e+07  1.090483e+07   137.125773  6.349643e-11\n",
      "TIME             1.0  6.874807e+07  6.874807e+07   864.491405  3.741299e-19\n",
      "Residual        22.0  1.749535e+06  7.952430e+04          NaN           NaN\n"
     ]
    }
   ],
   "source": [
    "m1 = ols('WORLDCONSUMPTION ~ ALUMPRICE + INVENTORYINDEX + TIME - 1', df1).fit()\n",
    "at1 = anova_lm(m1)\n",
    "print(m1.summary(),\"\\n\\n ANOVA:\\n\\n\",at1)"
   ]
  },
  {
   "cell_type": "markdown",
   "id": "d4ec5bf6-a083-41b2-972e-19340593a524",
   "metadata": {},
   "source": [
    "***\n",
    "If I further reduce the model by removing the `ALUMPRICE` predictor, $R^2$ value slightly decreases. So I will keep this model for the problem. Then, my surviving predictors are `ALUMPRICE`,`INVENTORYINDEX` and `TIME`. These remaining predictors do not violate the intuition taken from the correlation heatmap."
   ]
  },
  {
   "cell_type": "code",
   "execution_count": 10,
   "id": "85fc4cd6-b385-4811-b9fd-2aa2a059f44a",
   "metadata": {},
   "outputs": [
    {
     "data": {
      "text/plain": [
       "(   COPPERPRICE  INCOMEINDEX  ALUMPRICE  INVENTORYINDEX  TIME\n",
       " 0        26.56         0.70      19.76            0.98   1.0\n",
       " 1        27.31         0.71      20.78            1.04   2.0\n",
       " 2        32.95         0.72      22.55            1.05   3.0\n",
       " 3        33.90         0.70      23.06            0.97   4.0\n",
       " 4        42.70         0.74      24.93            1.02   5.0,\n",
       " <AxesSubplot:>)"
      ]
     },
     "execution_count": 10,
     "metadata": {},
     "output_type": "execute_result"
    },
    {
     "data": {
      "image/png": "[encoded data removed]",
      "text/plain": [
       "<Figure size 432x288 with 2 Axes>"
      ]
     },
     "metadata": {
      "needs_background": "light"
     },
     "output_type": "display_data"
    }
   ],
   "source": [
    "X1.head(),sns.heatmap(cor1, cmap = \"jet\", annot = True)"
   ]
  },
  {
   "cell_type": "markdown",
   "id": "6358f844-34e6-4290-9a5b-3a1e2b635e63",
   "metadata": {},
   "source": [
    "If we check the elements $(2,2),(2,3)$ and $(2,4)$; we see that diagonal element $(2,2)$ has relatively no correlation with the other two terms. Finally, we can use our final model for prediction. I will reduce the predictor dataframe to contain only the surviving ones and store them in `Xnew`."
   ]
  },
  {
   "cell_type": "code",
   "execution_count": 18,
   "id": "4f802e57-0598-4655-a357-17293c80744f",
   "metadata": {},
   "outputs": [
    {
     "data": {
      "image/png": "[encoded data removed]",
      "text/plain": [
       "<Figure size 432x288 with 1 Axes>"
      ]
     },
     "metadata": {
      "needs_background": "light"
     },
     "output_type": "display_data"
    }
   ],
   "source": [
    "X1new = X1.iloc[:,2:5]\n",
    "pred = m1.predict(X1new)\n",
    "yreal = df1[\"WORLDCONSUMPTION\"]\n",
    "plt.plot(yreal,yreal, c=\"red\",label=\"Real Values (WORLDCONSUMPTION)\")\n",
    "plt.scatter(yreal,pred,label = \"Model Values\")\n",
    "plt.legend()\n",
    "plt.xlabel(\"World Consumption\")\n",
    "#plt.ylabel(\"World \\n Consumption\\n & Model Values\", rotation=0)\n",
    "plt.tight_layout()\n",
    "plt.show()"
   ]
  },
  {
   "cell_type": "markdown",
   "id": "c17ca3e6-5790-4fee-b1d4-f017068b0816",
   "metadata": {},
   "source": [
    "Eyeballing the model; it seems fine for the first $\\%75$ percent of data, but the deviation from the real values of the ones after $7000$ might be problematic for forecasting uses of the model. "
   ]
  },
  {
   "cell_type": "markdown",
   "id": "b955682b",
   "metadata": {
    "jp-MarkdownHeadingCollapsed": true,
    "tags": []
   },
   "source": [
    "***\n",
    "# Question 2\n",
    "Do the same for the following [dataset](https://archive.ics.uci.edu/ml/datasets/QSAR+fish+toxicity). The first 6 columns are the explanatory variables while the last column is the target variable."
   ]
  },
  {
   "cell_type": "code",
   "execution_count": 23,
   "id": "c3f64869",
   "metadata": {},
   "outputs": [
    {
     "data": {
      "text/html": [
       "<div>\n",
       "<style scoped>\n",
       "    .dataframe tbody tr th:only-of-type {\n",
       "        vertical-align: middle;\n",
       "    }\n",
       "\n",
       "    .dataframe tbody tr th {\n",
       "        vertical-align: top;\n",
       "    }\n",
       "\n",
       "    .dataframe thead th {\n",
       "        text-align: right;\n",
       "    }\n",
       "</style>\n",
       "<table border=\"1\" class=\"dataframe\">\n",
       "  <thead>\n",
       "    <tr style=\"text-align: right;\">\n",
       "      <th></th>\n",
       "      <th>0</th>\n",
       "      <th>1</th>\n",
       "      <th>2</th>\n",
       "      <th>3</th>\n",
       "      <th>4</th>\n",
       "      <th>5</th>\n",
       "      <th>6</th>\n",
       "    </tr>\n",
       "  </thead>\n",
       "  <tbody>\n",
       "    <tr>\n",
       "      <th>0</th>\n",
       "      <td>3.260</td>\n",
       "      <td>0.829</td>\n",
       "      <td>1.676</td>\n",
       "      <td>0</td>\n",
       "      <td>1</td>\n",
       "      <td>1.453</td>\n",
       "      <td>3.770</td>\n",
       "    </tr>\n",
       "    <tr>\n",
       "      <th>1</th>\n",
       "      <td>2.189</td>\n",
       "      <td>0.580</td>\n",
       "      <td>0.863</td>\n",
       "      <td>0</td>\n",
       "      <td>0</td>\n",
       "      <td>1.348</td>\n",
       "      <td>3.115</td>\n",
       "    </tr>\n",
       "    <tr>\n",
       "      <th>2</th>\n",
       "      <td>2.125</td>\n",
       "      <td>0.638</td>\n",
       "      <td>0.831</td>\n",
       "      <td>0</td>\n",
       "      <td>0</td>\n",
       "      <td>1.348</td>\n",
       "      <td>3.531</td>\n",
       "    </tr>\n",
       "    <tr>\n",
       "      <th>3</th>\n",
       "      <td>3.027</td>\n",
       "      <td>0.331</td>\n",
       "      <td>1.472</td>\n",
       "      <td>1</td>\n",
       "      <td>0</td>\n",
       "      <td>1.807</td>\n",
       "      <td>3.510</td>\n",
       "    </tr>\n",
       "    <tr>\n",
       "      <th>4</th>\n",
       "      <td>2.094</td>\n",
       "      <td>0.827</td>\n",
       "      <td>0.860</td>\n",
       "      <td>0</td>\n",
       "      <td>0</td>\n",
       "      <td>1.886</td>\n",
       "      <td>5.390</td>\n",
       "    </tr>\n",
       "    <tr>\n",
       "      <th>...</th>\n",
       "      <td>...</td>\n",
       "      <td>...</td>\n",
       "      <td>...</td>\n",
       "      <td>...</td>\n",
       "      <td>...</td>\n",
       "      <td>...</td>\n",
       "      <td>...</td>\n",
       "    </tr>\n",
       "    <tr>\n",
       "      <th>903</th>\n",
       "      <td>2.801</td>\n",
       "      <td>0.728</td>\n",
       "      <td>2.226</td>\n",
       "      <td>0</td>\n",
       "      <td>2</td>\n",
       "      <td>0.736</td>\n",
       "      <td>3.109</td>\n",
       "    </tr>\n",
       "    <tr>\n",
       "      <th>904</th>\n",
       "      <td>3.652</td>\n",
       "      <td>0.872</td>\n",
       "      <td>0.867</td>\n",
       "      <td>2</td>\n",
       "      <td>3</td>\n",
       "      <td>3.983</td>\n",
       "      <td>4.040</td>\n",
       "    </tr>\n",
       "    <tr>\n",
       "      <th>905</th>\n",
       "      <td>3.763</td>\n",
       "      <td>0.916</td>\n",
       "      <td>0.878</td>\n",
       "      <td>0</td>\n",
       "      <td>6</td>\n",
       "      <td>2.918</td>\n",
       "      <td>4.818</td>\n",
       "    </tr>\n",
       "    <tr>\n",
       "      <th>906</th>\n",
       "      <td>2.831</td>\n",
       "      <td>1.393</td>\n",
       "      <td>1.077</td>\n",
       "      <td>0</td>\n",
       "      <td>1</td>\n",
       "      <td>0.906</td>\n",
       "      <td>5.317</td>\n",
       "    </tr>\n",
       "    <tr>\n",
       "      <th>907</th>\n",
       "      <td>4.057</td>\n",
       "      <td>1.032</td>\n",
       "      <td>1.183</td>\n",
       "      <td>1</td>\n",
       "      <td>3</td>\n",
       "      <td>4.754</td>\n",
       "      <td>8.201</td>\n",
       "    </tr>\n",
       "  </tbody>\n",
       "</table>\n",
       "<p>908 rows × 7 columns</p>\n",
       "</div>"
      ],
      "text/plain": [
       "         0      1      2  3  4      5      6\n",
       "0    3.260  0.829  1.676  0  1  1.453  3.770\n",
       "1    2.189  0.580  0.863  0  0  1.348  3.115\n",
       "2    2.125  0.638  0.831  0  0  1.348  3.531\n",
       "3    3.027  0.331  1.472  1  0  1.807  3.510\n",
       "4    2.094  0.827  0.860  0  0  1.886  5.390\n",
       "..     ...    ...    ... .. ..    ...    ...\n",
       "903  2.801  0.728  2.226  0  2  0.736  3.109\n",
       "904  3.652  0.872  0.867  2  3  3.983  4.040\n",
       "905  3.763  0.916  0.878  0  6  2.918  4.818\n",
       "906  2.831  1.393  1.077  0  1  0.906  5.317\n",
       "907  4.057  1.032  1.183  1  3  4.754  8.201\n",
       "\n",
       "[908 rows x 7 columns]"
      ]
     },
     "execution_count": 23,
     "metadata": {},
     "output_type": "execute_result"
    }
   ],
   "source": [
    "fish = pd.read_csv('https://archive.ics.uci.edu/ml/machine-learning-databases/00504/qsar_fish_toxicity.csv',\n",
    "                   sep=';',\n",
    "                   header=None)\n",
    "fish"
   ]
  },
  {
   "cell_type": "markdown",
   "id": "ff563ff0-c0cb-4a2e-8b65-5f495e74b06b",
   "metadata": {},
   "source": [
    "# Solution 2"
   ]
  },
  {
   "cell_type": "code",
   "execution_count": 24,
   "id": "37a3c681-d1b1-4148-8090-9436cb34cd09",
   "metadata": {},
   "outputs": [
    {
     "data": {
      "text/html": [
       "<div>\n",
       "<style scoped>\n",
       "    .dataframe tbody tr th:only-of-type {\n",
       "        vertical-align: middle;\n",
       "    }\n",
       "\n",
       "    .dataframe tbody tr th {\n",
       "        vertical-align: top;\n",
       "    }\n",
       "\n",
       "    .dataframe thead th {\n",
       "        text-align: right;\n",
       "    }\n",
       "</style>\n",
       "<table border=\"1\" class=\"dataframe\">\n",
       "  <thead>\n",
       "    <tr style=\"text-align: right;\">\n",
       "      <th></th>\n",
       "      <th>CIC0</th>\n",
       "      <th>SM1DZ</th>\n",
       "      <th>GATS1I</th>\n",
       "      <th>NDSCH</th>\n",
       "      <th>NDSSC</th>\n",
       "      <th>MLOGP</th>\n",
       "      <th>LC50</th>\n",
       "    </tr>\n",
       "  </thead>\n",
       "  <tbody>\n",
       "    <tr>\n",
       "      <th>0</th>\n",
       "      <td>3.260</td>\n",
       "      <td>0.829</td>\n",
       "      <td>1.676</td>\n",
       "      <td>0</td>\n",
       "      <td>1</td>\n",
       "      <td>1.453</td>\n",
       "      <td>3.770</td>\n",
       "    </tr>\n",
       "    <tr>\n",
       "      <th>1</th>\n",
       "      <td>2.189</td>\n",
       "      <td>0.580</td>\n",
       "      <td>0.863</td>\n",
       "      <td>0</td>\n",
       "      <td>0</td>\n",
       "      <td>1.348</td>\n",
       "      <td>3.115</td>\n",
       "    </tr>\n",
       "    <tr>\n",
       "      <th>2</th>\n",
       "      <td>2.125</td>\n",
       "      <td>0.638</td>\n",
       "      <td>0.831</td>\n",
       "      <td>0</td>\n",
       "      <td>0</td>\n",
       "      <td>1.348</td>\n",
       "      <td>3.531</td>\n",
       "    </tr>\n",
       "    <tr>\n",
       "      <th>3</th>\n",
       "      <td>3.027</td>\n",
       "      <td>0.331</td>\n",
       "      <td>1.472</td>\n",
       "      <td>1</td>\n",
       "      <td>0</td>\n",
       "      <td>1.807</td>\n",
       "      <td>3.510</td>\n",
       "    </tr>\n",
       "    <tr>\n",
       "      <th>4</th>\n",
       "      <td>2.094</td>\n",
       "      <td>0.827</td>\n",
       "      <td>0.860</td>\n",
       "      <td>0</td>\n",
       "      <td>0</td>\n",
       "      <td>1.886</td>\n",
       "      <td>5.390</td>\n",
       "    </tr>\n",
       "  </tbody>\n",
       "</table>\n",
       "</div>"
      ],
      "text/plain": [
       "    CIC0  SM1DZ  GATS1I  NDSCH  NDSSC  MLOGP   LC50\n",
       "0  3.260  0.829   1.676      0      1  1.453  3.770\n",
       "1  2.189  0.580   0.863      0      0  1.348  3.115\n",
       "2  2.125  0.638   0.831      0      0  1.348  3.531\n",
       "3  3.027  0.331   1.472      1      0  1.807  3.510\n",
       "4  2.094  0.827   0.860      0      0  1.886  5.390"
      ]
     },
     "execution_count": 24,
     "metadata": {},
     "output_type": "execute_result"
    }
   ],
   "source": [
    "df2 = fish\n",
    "df2.rename({0: 'CIC0', 1: 'SM1DZ',2:'GATS1I',3:'NDSCH',4:'NDSSC',5:'MLOGP',6:'LC50'}, axis=1, inplace = True)\n",
    "df2.head()"
   ]
  },
  {
   "cell_type": "code",
   "execution_count": 25,
   "id": "9acd0918-d17e-41e9-8b4f-e375895f1b1c",
   "metadata": {},
   "outputs": [
    {
     "data": {
      "text/plain": [
       "(    CIC0  SM1DZ  GATS1I  NDSCH  NDSSC  MLOGP\n",
       " 0  3.260  0.829   1.676      0      1  1.453\n",
       " 1  2.189  0.580   0.863      0      0  1.348\n",
       " 2  2.125  0.638   0.831      0      0  1.348\n",
       " 3  3.027  0.331   1.472      1      0  1.807\n",
       " 4  2.094  0.827   0.860      0      0  1.886,\n",
       " <AxesSubplot:>)"
      ]
     },
     "execution_count": 25,
     "metadata": {},
     "output_type": "execute_result"
    },
    {
     "data": {
      "image/png": "[encoded data removed]",
      "text/plain": [
       "<Figure size 432x288 with 2 Axes>"
      ]
     },
     "metadata": {
      "needs_background": "light"
     },
     "output_type": "display_data"
    }
   ],
   "source": [
    "X2 = df2.iloc[:,0:6]\n",
    "Y2 = df2.iloc[:,6]\n",
    "cor2 = np.corrcoef(X2.transpose())\n",
    "X2.head(),sns.heatmap(cor2, cmap = \"jet\", annot = True)"
   ]
  },
  {
   "cell_type": "code",
   "execution_count": 26,
   "id": "5ee108fb-3d65-408d-bd94-a80dbf3f9966",
   "metadata": {},
   "outputs": [
    {
     "name": "stdout",
     "output_type": "stream",
     "text": [
      "                            OLS Regression Results                            \n",
      "==============================================================================\n",
      "Dep. Variable:                   LC50   R-squared:                       0.515\n",
      "Model:                            OLS   Adj. R-squared:                  0.512\n",
      "Method:                 Least Squares   F-statistic:                     191.2\n",
      "Date:                Fri, 01 Apr 2022   Prob (F-statistic):          7.87e-139\n",
      "Time:                        16:36:16   Log-Likelihood:                -1300.8\n",
      "No. Observations:                 908   AIC:                             2614.\n",
      "Df Residuals:                     902   BIC:                             2642.\n",
      "Df Model:                           5                                         \n",
      "Covariance Type:            nonrobust                                         \n",
      "==============================================================================\n",
      "                 coef    std err          t      P>|t|      [0.025      0.975]\n",
      "------------------------------------------------------------------------------\n",
      "Intercept      2.3056      0.194     11.903      0.000       1.925       2.686\n",
      "CIC0           0.8578      0.048     17.743      0.000       0.763       0.953\n",
      "SM1DZ          1.6576      0.085     19.405      0.000       1.490       1.825\n",
      "GATS1I        -1.4363      0.088    -16.378      0.000      -1.608      -1.264\n",
      "NDSCH          0.4468      0.058      7.723      0.000       0.333       0.560\n",
      "NDSSC         -0.0272      0.043     -0.638      0.523      -0.111       0.057\n",
      "==============================================================================\n",
      "Omnibus:                       34.789   Durbin-Watson:                   1.920\n",
      "Prob(Omnibus):                  0.000   Jarque-Bera (JB):               77.756\n",
      "Skew:                           0.188   Prob(JB):                     1.30e-17\n",
      "Kurtosis:                       4.383   Cond. No.                         21.7\n",
      "==============================================================================\n",
      "\n",
      "Notes:\n",
      "[1] Standard Errors assume that the covariance matrix of the errors is correctly specified. \n",
      "\n",
      " ANOVA:\n",
      "\n",
      "              df      sum_sq     mean_sq           F        PR(>F)\n",
      "CIC0        1.0  163.712676  163.712676  158.254701  1.488305e-33\n",
      "SM1DZ       1.0  467.982290  467.982290  452.380349  1.107899e-81\n",
      "GATS1I      1.0  294.541130  294.541130  284.721499  9.988649e-56\n",
      "NDSCH       1.0   62.219362   62.219362   60.145047  2.376672e-14\n",
      "NDSSC       1.0    0.421449    0.421449    0.407398  5.234551e-01\n",
      "Residual  902.0  933.108668    1.034489         NaN           NaN\n"
     ]
    }
   ],
   "source": [
    "m2 = ols('LC50 ~ CIC0 + SM1DZ + GATS1I + NDSCH + NDSSC', df2).fit()\n",
    "at2 = anova_lm(m2)\n",
    "print(m2.summary(),\"\\n\\n ANOVA:\\n\\n\",at2)"
   ]
  },
  {
   "cell_type": "markdown",
   "id": "4c43452b-46df-491d-8564-99af5020556d",
   "metadata": {},
   "source": [
    "***\n",
    "\n",
    "First candidate to drop would be the `NDSSC` due to it's p value."
   ]
  },
  {
   "cell_type": "code",
   "execution_count": 44,
   "id": "7dc4e4da-ca59-42f4-ace5-93541b60ce9e",
   "metadata": {},
   "outputs": [
    {
     "name": "stdout",
     "output_type": "stream",
     "text": [
      "                            OLS Regression Results                            \n",
      "==============================================================================\n",
      "Dep. Variable:                   LC50   R-squared:                       0.514\n",
      "Model:                            OLS   Adj. R-squared:                  0.512\n",
      "Method:                 Least Squares   F-statistic:                     239.0\n",
      "Date:                Fri, 01 Apr 2022   Prob (F-statistic):          5.85e-140\n",
      "Time:                        17:01:54   Log-Likelihood:                -1301.0\n",
      "No. Observations:                 908   AIC:                             2612.\n",
      "Df Residuals:                     903   BIC:                             2636.\n",
      "Df Model:                           4                                         \n",
      "Covariance Type:            nonrobust                                         \n",
      "==============================================================================\n",
      "                 coef    std err          t      P>|t|      [0.025      0.975]\n",
      "------------------------------------------------------------------------------\n",
      "Intercept      2.3350      0.188     12.416      0.000       1.966       2.704\n",
      "CIC0           0.8493      0.046     18.273      0.000       0.758       0.941\n",
      "SM1DZ          1.6429      0.082     19.979      0.000       1.481       1.804\n",
      "GATS1I        -1.4419      0.087    -16.528      0.000      -1.613      -1.271\n",
      "NDSCH          0.4393      0.057      7.758      0.000       0.328       0.550\n",
      "==============================================================================\n",
      "Omnibus:                       33.948   Durbin-Watson:                   1.920\n",
      "Prob(Omnibus):                  0.000   Jarque-Bera (JB):               75.305\n",
      "Skew:                           0.183   Prob(JB):                     4.44e-17\n",
      "Kurtosis:                       4.362   Cond. No.                         20.7\n",
      "==============================================================================\n",
      "\n",
      "Notes:\n",
      "[1] Standard Errors assume that the covariance matrix of the errors is correctly specified. \n",
      "\n",
      " ANOVA:\n",
      "\n",
      "              df      sum_sq     mean_sq           F        PR(>F)\n",
      "CIC0        1.0  163.712676  163.712676  158.358625  1.414648e-33\n",
      "SM1DZ       1.0  467.982290  467.982290  452.677423  9.674506e-82\n",
      "GATS1I      1.0  294.541130  294.541130  284.908473  9.141356e-56\n",
      "NDSCH       1.0   62.219362   62.219362   60.184544  2.329925e-14\n",
      "Residual  903.0  933.530117    1.033810         NaN           NaN\n"
     ]
    }
   ],
   "source": [
    "m2 = ols('LC50 ~ CIC0 + SM1DZ + GATS1I + NDSCH ', df2).fit()\n",
    "at2 = anova_lm(m2)\n",
    "print(m2.summary(),\"\\n\\n ANOVA:\\n\\n\",at2)"
   ]
  },
  {
   "cell_type": "markdown",
   "id": "8a49a20e-7544-4fb0-a379-5b2833e33a9f",
   "metadata": {},
   "source": [
    "***\n",
    "Still not very good. Let's try to remove intercept term since all variables have the same p value."
   ]
  },
  {
   "cell_type": "code",
   "execution_count": 45,
   "id": "c10f6dea-a629-4906-8e63-23a4b141e96e",
   "metadata": {},
   "outputs": [
    {
     "name": "stdout",
     "output_type": "stream",
     "text": [
      "                                 OLS Regression Results                                \n",
      "=======================================================================================\n",
      "Dep. Variable:                   LC50   R-squared (uncentered):                   0.935\n",
      "Model:                            OLS   Adj. R-squared (uncentered):              0.935\n",
      "Method:                 Least Squares   F-statistic:                              3273.\n",
      "Date:                Fri, 01 Apr 2022   Prob (F-statistic):                        0.00\n",
      "Time:                        17:01:58   Log-Likelihood:                         -1372.5\n",
      "No. Observations:                 908   AIC:                                      2753.\n",
      "Df Residuals:                     904   BIC:                                      2772.\n",
      "Df Model:                           4                                                  \n",
      "Covariance Type:            nonrobust                                                  \n",
      "==============================================================================\n",
      "                 coef    std err          t      P>|t|      [0.025      0.975]\n",
      "------------------------------------------------------------------------------\n",
      "CIC0           1.2493      0.036     34.476      0.000       1.178       1.320\n",
      "SM1DZ          2.1548      0.077     28.009      0.000       2.004       2.306\n",
      "GATS1I        -0.8471      0.079    -10.744      0.000      -1.002      -0.692\n",
      "NDSCH          0.4811      0.061      7.870      0.000       0.361       0.601\n",
      "==============================================================================\n",
      "Omnibus:                       42.724   Durbin-Watson:                   1.818\n",
      "Prob(Omnibus):                  0.000   Jarque-Bera (JB):              129.302\n",
      "Skew:                          -0.094   Prob(JB):                     8.36e-29\n",
      "Kurtosis:                       4.839   Cond. No.                         8.01\n",
      "==============================================================================\n",
      "\n",
      "Notes:\n",
      "[1] R² is computed without centering (uncentered) since the model does not contain a constant.\n",
      "[2] Standard Errors assume that the covariance matrix of the errors is correctly specified. \n",
      "\n",
      " ANOVA:\n",
      "\n",
      "              df        sum_sq       mean_sq             F         PR(>F)\n",
      "CIC0        1.0  14820.511215  14820.511215  12258.852382   0.000000e+00\n",
      "SM1DZ       1.0    791.296427    791.296427    654.524392  4.932326e-109\n",
      "GATS1I      1.0    142.180296    142.180296    117.605070   7.616425e-26\n",
      "NDSCH       1.0     74.887565     74.887565     61.943585   1.007889e-14\n",
      "Residual  904.0   1092.903456      1.208964           NaN            NaN\n"
     ]
    }
   ],
   "source": [
    "m2 = ols('LC50 ~ CIC0 + SM1DZ + GATS1I + NDSCH - 1', df2).fit()\n",
    "at2 = anova_lm(m2)\n",
    "print(m2.summary(),\"\\n\\n ANOVA:\\n\\n\",at2)"
   ]
  },
  {
   "cell_type": "markdown",
   "id": "32eb15ae-b153-468b-ad1c-ed77f98b3827",
   "metadata": {},
   "source": [
    "***\n",
    "Great! Since p values are not a indicator anymore, when I try to remove any predictor, $R^2$ decreases significantly. So let's call it and build the model with these predictors. Checking the heatmap of the predictors again;"
   ]
  },
  {
   "cell_type": "code",
   "execution_count": 55,
   "id": "55e2da0f-28d5-497c-872c-fdad8f2a3f82",
   "metadata": {},
   "outputs": [
    {
     "data": {
      "text/html": [
       "<div>\n",
       "<style scoped>\n",
       "    .dataframe tbody tr th:only-of-type {\n",
       "        vertical-align: middle;\n",
       "    }\n",
       "\n",
       "    .dataframe tbody tr th {\n",
       "        vertical-align: top;\n",
       "    }\n",
       "\n",
       "    .dataframe thead th {\n",
       "        text-align: right;\n",
       "    }\n",
       "</style>\n",
       "<table border=\"1\" class=\"dataframe\">\n",
       "  <thead>\n",
       "    <tr style=\"text-align: right;\">\n",
       "      <th></th>\n",
       "      <th>CIC0</th>\n",
       "      <th>SM1DZ</th>\n",
       "      <th>GATS1I</th>\n",
       "      <th>NDSCH</th>\n",
       "    </tr>\n",
       "  </thead>\n",
       "  <tbody>\n",
       "    <tr>\n",
       "      <th>0</th>\n",
       "      <td>3.260</td>\n",
       "      <td>0.829</td>\n",
       "      <td>1.676</td>\n",
       "      <td>0</td>\n",
       "    </tr>\n",
       "    <tr>\n",
       "      <th>1</th>\n",
       "      <td>2.189</td>\n",
       "      <td>0.580</td>\n",
       "      <td>0.863</td>\n",
       "      <td>0</td>\n",
       "    </tr>\n",
       "    <tr>\n",
       "      <th>2</th>\n",
       "      <td>2.125</td>\n",
       "      <td>0.638</td>\n",
       "      <td>0.831</td>\n",
       "      <td>0</td>\n",
       "    </tr>\n",
       "    <tr>\n",
       "      <th>3</th>\n",
       "      <td>3.027</td>\n",
       "      <td>0.331</td>\n",
       "      <td>1.472</td>\n",
       "      <td>1</td>\n",
       "    </tr>\n",
       "    <tr>\n",
       "      <th>4</th>\n",
       "      <td>2.094</td>\n",
       "      <td>0.827</td>\n",
       "      <td>0.860</td>\n",
       "      <td>0</td>\n",
       "    </tr>\n",
       "    <tr>\n",
       "      <th>...</th>\n",
       "      <td>...</td>\n",
       "      <td>...</td>\n",
       "      <td>...</td>\n",
       "      <td>...</td>\n",
       "    </tr>\n",
       "    <tr>\n",
       "      <th>903</th>\n",
       "      <td>2.801</td>\n",
       "      <td>0.728</td>\n",
       "      <td>2.226</td>\n",
       "      <td>0</td>\n",
       "    </tr>\n",
       "    <tr>\n",
       "      <th>904</th>\n",
       "      <td>3.652</td>\n",
       "      <td>0.872</td>\n",
       "      <td>0.867</td>\n",
       "      <td>2</td>\n",
       "    </tr>\n",
       "    <tr>\n",
       "      <th>905</th>\n",
       "      <td>3.763</td>\n",
       "      <td>0.916</td>\n",
       "      <td>0.878</td>\n",
       "      <td>0</td>\n",
       "    </tr>\n",
       "    <tr>\n",
       "      <th>906</th>\n",
       "      <td>2.831</td>\n",
       "      <td>1.393</td>\n",
       "      <td>1.077</td>\n",
       "      <td>0</td>\n",
       "    </tr>\n",
       "    <tr>\n",
       "      <th>907</th>\n",
       "      <td>4.057</td>\n",
       "      <td>1.032</td>\n",
       "      <td>1.183</td>\n",
       "      <td>1</td>\n",
       "    </tr>\n",
       "  </tbody>\n",
       "</table>\n",
       "<p>908 rows × 4 columns</p>\n",
       "</div>"
      ],
      "text/plain": [
       "      CIC0  SM1DZ  GATS1I  NDSCH\n",
       "0    3.260  0.829   1.676      0\n",
       "1    2.189  0.580   0.863      0\n",
       "2    2.125  0.638   0.831      0\n",
       "3    3.027  0.331   1.472      1\n",
       "4    2.094  0.827   0.860      0\n",
       "..     ...    ...     ...    ...\n",
       "903  2.801  0.728   2.226      0\n",
       "904  3.652  0.872   0.867      2\n",
       "905  3.763  0.916   0.878      0\n",
       "906  2.831  1.393   1.077      0\n",
       "907  4.057  1.032   1.183      1\n",
       "\n",
       "[908 rows x 4 columns]"
      ]
     },
     "execution_count": 55,
     "metadata": {},
     "output_type": "execute_result"
    },
    {
     "data": {
      "image/png": "[encoded data removed]",
      "text/plain": [
       "<Figure size 432x288 with 2 Axes>"
      ]
     },
     "metadata": {
      "needs_background": "light"
     },
     "output_type": "display_data"
    }
   ],
   "source": [
    "X2.head(),sns.heatmap(cor2, cmap = \"jet\", annot = True)\n",
    "X2.iloc[:,0:4]"
   ]
  },
  {
   "cell_type": "markdown",
   "id": "066a5ca0-0f56-4acd-9458-d09af3007c13",
   "metadata": {},
   "source": [
    "We can see that the row and column of the `NDSSC` was problematic. In any other element the max value is $0.25$, but when `NDSSC` is in business, values go up. So, our model is sensible in both terms."
   ]
  },
  {
   "cell_type": "code",
   "execution_count": 56,
   "id": "27c8eb9a-9ca8-471c-ac1a-5c2e98cd8aac",
   "metadata": {},
   "outputs": [
    {
     "data": {
      "image/png": "[encoded data removed]",
      "text/plain": [
       "<Figure size 432x288 with 1 Axes>"
      ]
     },
     "metadata": {
      "needs_background": "light"
     },
     "output_type": "display_data"
    }
   ],
   "source": [
    "X2new = X2.iloc[:,0:4]\n",
    "pred2 = m2.predict(X2new)\n",
    "yreal2 = Y2\n",
    "plt.plot(yreal2,yreal2, c=\"red\",label=\"Real Values (LC50)\")\n",
    "plt.scatter(yreal2,pred2,label = \"Model Values\")\n",
    "plt.legend()\n",
    "plt.xlabel(\"LC50\")\n",
    "plt.tight_layout()\n",
    "plt.show()"
   ]
  },
  {
   "cell_type": "markdown",
   "id": "fd62946d",
   "metadata": {},
   "source": [
    "***\n",
    "# Question 3\n",
    "\n",
    "Develop a sensible regression model for the following [dataset](https://archive.ics.uci.edu/ml/datasets/Communities+and+Crime+Unnormalized):\n"
   ]
  },
  {
   "cell_type": "code",
   "execution_count": 15,
   "id": "94ea7817",
   "metadata": {},
   "outputs": [
    {
     "data": {
      "text/html": [
       "<div>\n",
       "<style scoped>\n",
       "    .dataframe tbody tr th:only-of-type {\n",
       "        vertical-align: middle;\n",
       "    }\n",
       "\n",
       "    .dataframe tbody tr th {\n",
       "        vertical-align: top;\n",
       "    }\n",
       "\n",
       "    .dataframe thead th {\n",
       "        text-align: right;\n",
       "    }\n",
       "</style>\n",
       "<table border=\"1\" class=\"dataframe\">\n",
       "  <thead>\n",
       "    <tr style=\"text-align: right;\">\n",
       "      <th></th>\n",
       "      <th>0</th>\n",
       "      <th>1</th>\n",
       "      <th>2</th>\n",
       "      <th>3</th>\n",
       "      <th>4</th>\n",
       "      <th>5</th>\n",
       "      <th>6</th>\n",
       "      <th>7</th>\n",
       "      <th>8</th>\n",
       "      <th>9</th>\n",
       "      <th>...</th>\n",
       "      <th>137</th>\n",
       "      <th>138</th>\n",
       "      <th>139</th>\n",
       "      <th>140</th>\n",
       "      <th>141</th>\n",
       "      <th>142</th>\n",
       "      <th>143</th>\n",
       "      <th>144</th>\n",
       "      <th>145</th>\n",
       "      <th>146</th>\n",
       "    </tr>\n",
       "  </thead>\n",
       "  <tbody>\n",
       "    <tr>\n",
       "      <th>0</th>\n",
       "      <td>BerkeleyHeightstownship</td>\n",
       "      <td>NJ</td>\n",
       "      <td>39</td>\n",
       "      <td>5320</td>\n",
       "      <td>1</td>\n",
       "      <td>11980</td>\n",
       "      <td>3.10</td>\n",
       "      <td>1.37</td>\n",
       "      <td>91.78</td>\n",
       "      <td>6.50</td>\n",
       "      <td>...</td>\n",
       "      <td>14</td>\n",
       "      <td>114.85</td>\n",
       "      <td>138</td>\n",
       "      <td>1132.08</td>\n",
       "      <td>16</td>\n",
       "      <td>131.26</td>\n",
       "      <td>2</td>\n",
       "      <td>16.41</td>\n",
       "      <td>41.02</td>\n",
       "      <td>1394.59</td>\n",
       "    </tr>\n",
       "    <tr>\n",
       "      <th>1</th>\n",
       "      <td>Marpletownship</td>\n",
       "      <td>PA</td>\n",
       "      <td>45</td>\n",
       "      <td>47616</td>\n",
       "      <td>1</td>\n",
       "      <td>23123</td>\n",
       "      <td>2.82</td>\n",
       "      <td>0.80</td>\n",
       "      <td>95.57</td>\n",
       "      <td>3.44</td>\n",
       "      <td>...</td>\n",
       "      <td>57</td>\n",
       "      <td>242.37</td>\n",
       "      <td>376</td>\n",
       "      <td>1598.78</td>\n",
       "      <td>26</td>\n",
       "      <td>110.55</td>\n",
       "      <td>1</td>\n",
       "      <td>4.25</td>\n",
       "      <td>127.56</td>\n",
       "      <td>1955.95</td>\n",
       "    </tr>\n",
       "    <tr>\n",
       "      <th>2</th>\n",
       "      <td>Tigardcity</td>\n",
       "      <td>OR</td>\n",
       "      <td>?</td>\n",
       "      <td>?</td>\n",
       "      <td>1</td>\n",
       "      <td>29344</td>\n",
       "      <td>2.43</td>\n",
       "      <td>0.74</td>\n",
       "      <td>94.33</td>\n",
       "      <td>3.43</td>\n",
       "      <td>...</td>\n",
       "      <td>274</td>\n",
       "      <td>758.14</td>\n",
       "      <td>1797</td>\n",
       "      <td>4972.19</td>\n",
       "      <td>136</td>\n",
       "      <td>376.3</td>\n",
       "      <td>22</td>\n",
       "      <td>60.87</td>\n",
       "      <td>218.59</td>\n",
       "      <td>6167.51</td>\n",
       "    </tr>\n",
       "    <tr>\n",
       "      <th>3</th>\n",
       "      <td>Gloversvillecity</td>\n",
       "      <td>NY</td>\n",
       "      <td>35</td>\n",
       "      <td>29443</td>\n",
       "      <td>1</td>\n",
       "      <td>16656</td>\n",
       "      <td>2.40</td>\n",
       "      <td>1.70</td>\n",
       "      <td>97.35</td>\n",
       "      <td>0.50</td>\n",
       "      <td>...</td>\n",
       "      <td>225</td>\n",
       "      <td>1301.78</td>\n",
       "      <td>716</td>\n",
       "      <td>4142.56</td>\n",
       "      <td>47</td>\n",
       "      <td>271.93</td>\n",
       "      <td>?</td>\n",
       "      <td>?</td>\n",
       "      <td>306.64</td>\n",
       "      <td>?</td>\n",
       "    </tr>\n",
       "    <tr>\n",
       "      <th>4</th>\n",
       "      <td>Bemidjicity</td>\n",
       "      <td>MN</td>\n",
       "      <td>7</td>\n",
       "      <td>5068</td>\n",
       "      <td>1</td>\n",
       "      <td>11245</td>\n",
       "      <td>2.76</td>\n",
       "      <td>0.53</td>\n",
       "      <td>89.16</td>\n",
       "      <td>1.17</td>\n",
       "      <td>...</td>\n",
       "      <td>91</td>\n",
       "      <td>728.93</td>\n",
       "      <td>1060</td>\n",
       "      <td>8490.87</td>\n",
       "      <td>91</td>\n",
       "      <td>728.93</td>\n",
       "      <td>5</td>\n",
       "      <td>40.05</td>\n",
       "      <td>?</td>\n",
       "      <td>9988.79</td>\n",
       "    </tr>\n",
       "  </tbody>\n",
       "</table>\n",
       "<p>5 rows × 147 columns</p>\n",
       "</div>"
      ],
      "text/plain": [
       "                       0   1   2      3    4      5     6     7      8    \\\n",
       "0  BerkeleyHeightstownship  NJ  39   5320    1  11980  3.10  1.37  91.78   \n",
       "1           Marpletownship  PA  45  47616    1  23123  2.82  0.80  95.57   \n",
       "2               Tigardcity  OR   ?      ?    1  29344  2.43  0.74  94.33   \n",
       "3         Gloversvillecity  NY  35  29443    1  16656  2.40  1.70  97.35   \n",
       "4              Bemidjicity  MN   7   5068    1  11245  2.76  0.53  89.16   \n",
       "\n",
       "    9    ...  137      138   139      140  141     142  143    144     145  \\\n",
       "0  6.50  ...   14   114.85   138  1132.08   16  131.26    2  16.41   41.02   \n",
       "1  3.44  ...   57   242.37   376  1598.78   26  110.55    1   4.25  127.56   \n",
       "2  3.43  ...  274   758.14  1797  4972.19  136   376.3   22  60.87  218.59   \n",
       "3  0.50  ...  225  1301.78   716  4142.56   47  271.93    ?      ?  306.64   \n",
       "4  1.17  ...   91   728.93  1060  8490.87   91  728.93    5  40.05       ?   \n",
       "\n",
       "       146  \n",
       "0  1394.59  \n",
       "1  1955.95  \n",
       "2  6167.51  \n",
       "3        ?  \n",
       "4  9988.79  \n",
       "\n",
       "[5 rows x 147 columns]"
      ]
     },
     "execution_count": 15,
     "metadata": {},
     "output_type": "execute_result"
    }
   ],
   "source": [
    "interconnections = pd.read_csv('https://archive.ics.uci.edu/ml/machine-learning-databases/00211/CommViolPredUnnormalizedData.txt',\n",
    "                               sep=',',\n",
    "                               header=None)\n",
    "df3 = interconnections\n",
    "df3.head()"
   ]
  },
  {
   "cell_type": "markdown",
   "id": "014f1496-ad03-48c3-811c-5d279209f882",
   "metadata": {},
   "source": [
    "There are `?` values in the data, we need to clear them to proceed."
   ]
  },
  {
   "cell_type": "markdown",
   "id": "abe80026",
   "metadata": {},
   "source": [
    "There are 16 possible response variables. You may choose any one of these as the response variable.\n",
    "\n",
    "* murders: number of murders in 1995 (numeric - expected to be integer) potential GOAL attribute (to be predicted)\n",
    "* murdPerPop: number of murders per 100K population (numeric - decimal) potential GOAL attribute (to be predicted)\n",
    "* rapes: number of rapes in 1995 (numeric - expected to be integer) potential GOAL attribute (to be predicted)\n",
    "* rapesPerPop: number of rapes per 100K population (numeric - decimal) potential GOAL attribute (to be predicted)\n",
    "* robberies: number of robberies in 1995 (numeric - expected to be integer) potential GOAL attribute (to be predicted)\n",
    "* robbbPerPop: number of robberies per 100K population (numeric - decimal) potential GOAL attribute (to be predicted)\n",
    "* assaults: number of assaults in 1995 (numeric - expected to be integer) potential GOAL attribute (to be predicted)\n",
    "* assaultPerPop: number of assaults per 100K population (numeric - decimal) potential GOAL attribute (to be predicted)\n",
    "* burglaries: number of burglaries in 1995 (numeric - expected to be integer) potential GOAL attribute (to be predicted)\n",
    "* burglPerPop: number of burglaries per 100K population (numeric - decimal) potential GOAL attribute (to be predicted)\n",
    "* larcenies: number of larcenies in 1995 (numeric - expected to be integer) potential GOAL attribute (to be predicted)\n",
    "* larcPerPop: number of larcenies per 100K population (numeric - decimal) potential GOAL attribute (to be predicted)\n",
    "* autoTheft: number of auto thefts in 1995 (numeric - expected to be integer) potential GOAL attribute (to be predicted)\n",
    "* autoTheftPerPop: number of auto thefts per 100K population (numeric - decimal) potential GOAL attribute (to be predicted)\n",
    "* arsons: number of arsons in 1995 (numeric - expected to be integer) potential GOAL attribute (to be predicted)\n",
    "* arsonsPerPop: number of arsons per 100K population (numeric - decimal) potential GOAL attribute (to be predicted)\n",
    "* ViolentCrimesPerPop: total number of violent crimes per 100K popuation (numeric - decimal) GOAL attribute (to be predicted)\n",
    "* nonViolPerPop: total number of non-violent crimes per 100K popuation (numeric - decimal) potential GOAL attribute (to be predicted)\n"
   ]
  },
  {
   "cell_type": "markdown",
   "id": "37a1dd2b-92ea-43bd-9e17-afba7c050e31",
   "metadata": {},
   "source": [
    "# Solution 3"
   ]
  },
  {
   "cell_type": "markdown",
   "id": "75b4a13d-87b9-4e7f-aa05-d470ff9d686a",
   "metadata": {},
   "source": [
    "***\n",
    "# References"
   ]
  },
  {
   "cell_type": "markdown",
   "id": "275313b7-eff2-47e0-83e6-a068578a3e9e",
   "metadata": {},
   "source": [
    "## General\n",
    "\n",
    "- [Colormap options for correlation matrices](https://matplotlib.org/stable/tutorials/colors/colormaps.html)\n",
    "- [Removing intercept term in smf.ols function](https://stackoverflow.com/questions/54257216/how-to-set-intercept-to-0-with-statsmodel-for-multiple-linear-regression)\n",
    "- [Practical guide to linear regression with Python](https://realpython.com/linear-regression-in-python/)\n",
    "- [Linear Regression and ANOVA article from R cookbook](https://rc2e.com/linearregressionandanova)\n",
    "- [Understanding the Regression Summary](https://rc2e.com/linearregressionandanova#recipe-id240)\n",
    "- [Anova analysis](https://www.statisticshowto.com/probability-and-statistics/hypothesis-testing/anova/)\n",
    "- [Anova II](https://www.investopedia.com/terms/a/anova.asp)\n",
    "- [ANOVA Tables, section 16.3.1](https://www.middleprofessor.com/files/applied-biostatistics_bookdown/_book/anova-tables.html)\n",
    "\n",
    "## Problem 1\n",
    "\n",
    "- [Description of the first problem's dataset](https://www.statsmodels.org/dev/datasets/generated/copper.html)\n",
    "- [Jeff Gill's book on linear models](https://books.google.com.tr/books/about/Generalized_Linear_Models.html?id=f4hJwAEACAAJ&redir_esc=y)\n",
    "\n",
    "## Problem 2\n",
    "\n",
    "- [Simon Wenkel's Analysis on Dataset](https://www.simonwenkel.com/2019/09/30/revisitingML-qsar-fish-toxicity.html)\n",
    "- [Original research that data was taken from](https://www.researchgate.net/publication/273700321_A_similarity-based_QSAR_model_for_predicting_acute_toxicity_towards_the_fathead_minnow_Pimephales_promelas)\n",
    "\n",
    "## Problem 3\n",
    "\n",
    "\n",
    "\n",
    "\n",
    "\n"
   ]
  },
  {
   "cell_type": "markdown",
   "id": "58164760-14d6-4f69-aaf0-cc15bbb80879",
   "metadata": {},
   "source": [
    "***\n",
    "# Personal Notes"
   ]
  },
  {
   "cell_type": "markdown",
   "id": "dc3a9678-5a6b-46f4-ba50-d12438e6bcd9",
   "metadata": {},
   "source": [
    "- Regression creates a model, and ANOVA is one method of evaluating such models.\n",
    "- Fisher (founder of the method) used ANOVA to prove there was a significant difference in the average weight of potatoes when different fertilizers were used."
   ]
  },
  {
   "cell_type": "code",
   "execution_count": null,
   "id": "c3c0298f-e0b9-4476-a23e-132d8fcdb121",
   "metadata": {},
   "outputs": [],
   "source": []
  }
 ],
 "metadata": {
  "kernelspec": {
   "display_name": "Python 3.9.7 64-bit ('base': conda)",
   "language": "python",
   "name": "python397jvsc74a57bd0df2f81b94a627e8efc53712ce382a9fd4efeeb18c61063c915a2dc322dae6b87"
  },
  "language_info": {
   "codemirror_mode": {
    "name": "ipython",
    "version": 3
   },
   "file_extension": ".py",
   "mimetype": "text/x-python",
   "name": "python",
   "nbconvert_exporter": "python",
   "pygments_lexer": "ipython3",
   "version": "3.9.7"
  }
 },
 "nbformat": 4,
 "nbformat_minor": 5
}
