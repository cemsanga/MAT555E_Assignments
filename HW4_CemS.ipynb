{
  "cells": [
    {
      "cell_type": "markdown",
      "metadata": {
        "id": "view-in-github",
        "colab_type": "text"
      },
      "source": [
        "<a href=\"https://colab.research.google.com/github/cemsanga/MAT555E_Assignments/blob/main/HW4_CemS.ipynb\" target=\"_parent\"><img src=\"https://colab.research.google.com/assets/colab-badge.svg\" alt=\"Open In Colab\"/></a>"
      ]
    },
    {
      "cell_type": "markdown",
      "source": [
        "Cem Sanga - 509201104 - HW4 - MAT555E"
      ],
      "metadata": {
        "id": "cYO0e15U9HBX"
      },
      "id": "cYO0e15U9HBX"
    },
    {
      "cell_type": "code",
      "execution_count": 1,
      "id": "222a1585",
      "metadata": {
        "id": "222a1585"
      },
      "outputs": [],
      "source": [
        "import pandas as pd\n",
        "import numpy as np\n",
        "import matplotlib.pyplot as plt\n",
        "from urllib.request import urlopen\n",
        "from zipfile import ZipFile\n",
        "from io import BytesIO\n",
        "import requests\n",
        "from collections import Counter\n",
        "from os import path\n",
        "from sklearn.model_selection import train_test_split\n",
        "from scipy.stats import chisquare\n",
        "from scipy.ndimage.interpolation import shift\n",
        "from sklearn.preprocessing import LabelEncoder,MinMaxScaler\n",
        "from sklearn.metrics import confusion_matrix,accuracy_score,mean_squared_error\n",
        "from sklearn.linear_model import LogisticRegression\n",
        "from sklearn.svm import SVC\n",
        "from sklearn.neighbors import KNeighborsClassifier\n",
        "from sklearn.tree import DecisionTreeClassifier\n",
        "from sklearn import tree\n",
        "import xgboost as xgb\n",
        "from keras.backend import clear_session\n",
        "from math import sqrt\n",
        "\n",
        "import tensorflow as tf\n",
        "import keras as ks\n",
        "from keras.layers import Dense, Conv2D, Dropout, Flatten, MaxPooling2D,MaxPooling3D, LSTM, Embedding\n",
        "from keras.utils import np_utils\n",
        "from keras.models import Sequential\n",
        "from tensorflow.keras.utils import to_categorical\n",
        "\n",
        "import warnings\n",
        "warnings.filterwarnings('ignore')"
      ]
    },
    {
      "cell_type": "markdown",
      "id": "1e81bf4e",
      "metadata": {
        "id": "1e81bf4e"
      },
      "source": [
        "# HW 4"
      ]
    },
    {
      "cell_type": "markdown",
      "id": "f21330f9",
      "metadata": {
        "id": "f21330f9"
      },
      "source": [
        "# Q1\n",
        "\n",
        "For this question we are going to use [1994 Census Adult Data Set](https://archive.ics.uci.edu/ml/datasets/adult).\n",
        "\n",
        "Construct \n",
        "\n",
        "- Logistic regression\n",
        "- SVM\n",
        "- KNN\n",
        "- Decision tree\n",
        "- Gradient Boost (XGBoost)\n",
        "- Neural network\n",
        "\n",
        "models for the data. Cross-validate your models and measure the accuracies. Compare them putting the accuracies in a table."
      ]
    },
    {
      "cell_type": "markdown",
      "id": "ecca90dc",
      "metadata": {
        "id": "ecca90dc"
      },
      "source": [
        "## Data Handling"
      ]
    },
    {
      "cell_type": "code",
      "execution_count": 2,
      "id": "658454b7",
      "metadata": {
        "id": "658454b7"
      },
      "outputs": [],
      "source": [
        "data = pd.read_csv('https://archive.ics.uci.edu/ml/machine-learning-databases/adult/adult.data',header=None)"
      ]
    },
    {
      "cell_type": "markdown",
      "id": "7bacd888",
      "metadata": {
        "id": "7bacd888"
      },
      "source": [
        "I will take the column names from the file `adult.names` which was presented at the data source."
      ]
    },
    {
      "cell_type": "code",
      "execution_count": 3,
      "id": "5da855b6",
      "metadata": {
        "id": "5da855b6"
      },
      "outputs": [],
      "source": [
        "if path.exists(\"adult.names\") == True:\n",
        "    f = open('adult.names', \"r\")\n",
        "    lines = f.readlines()\n",
        "    descriptions = lines[-14:]\n",
        "    col_names = []\n",
        "    for x in descriptions:\n",
        "        label = x.split(\":\")[0]\n",
        "        col_names.append(label)\n",
        "else:\n",
        "    col_names=['age','workclass','fnlwgt','education','education-num','marital-status','occupation','relationship','race','sex','capital-gain','capital-loss','hours-per-week','native-country']"
      ]
    },
    {
      "cell_type": "markdown",
      "id": "51e46803",
      "metadata": {
        "id": "51e46803"
      },
      "source": [
        "We also need to add the target variable `income` to the columns"
      ]
    },
    {
      "cell_type": "code",
      "execution_count": 4,
      "id": "b9d8cf14",
      "metadata": {
        "colab": {
          "base_uri": "https://localhost:8080/"
        },
        "id": "b9d8cf14",
        "outputId": "5d9af33b-2227-4f72-f7ef-2d2e358b2c87"
      },
      "outputs": [
        {
          "output_type": "execute_result",
          "data": {
            "text/plain": [
              "['age',\n",
              " 'workclass',\n",
              " 'fnlwgt',\n",
              " 'education',\n",
              " 'education-num',\n",
              " 'marital-status',\n",
              " 'occupation',\n",
              " 'relationship',\n",
              " 'race',\n",
              " 'sex',\n",
              " 'capital-gain',\n",
              " 'capital-loss',\n",
              " 'hours-per-week',\n",
              " 'native-country',\n",
              " 'income']"
            ]
          },
          "metadata": {},
          "execution_count": 4
        }
      ],
      "source": [
        "col_names.append(\"income\")\n",
        "col_names"
      ]
    },
    {
      "cell_type": "code",
      "execution_count": 5,
      "id": "6e96bd8f",
      "metadata": {
        "colab": {
          "base_uri": "https://localhost:8080/",
          "height": 667
        },
        "id": "6e96bd8f",
        "outputId": "d122cfac-e5d3-4982-eb29-e77985a80e32"
      },
      "outputs": [
        {
          "output_type": "execute_result",
          "data": {
            "text/plain": [
              "       age          workclass  fnlwgt    education  education-num  \\\n",
              "0       39          State-gov   77516    Bachelors             13   \n",
              "1       50   Self-emp-not-inc   83311    Bachelors             13   \n",
              "2       38            Private  215646      HS-grad              9   \n",
              "3       53            Private  234721         11th              7   \n",
              "4       28            Private  338409    Bachelors             13   \n",
              "...    ...                ...     ...          ...            ...   \n",
              "32556   27            Private  257302   Assoc-acdm             12   \n",
              "32557   40            Private  154374      HS-grad              9   \n",
              "32558   58            Private  151910      HS-grad              9   \n",
              "32559   22            Private  201490      HS-grad              9   \n",
              "32560   52       Self-emp-inc  287927      HS-grad              9   \n",
              "\n",
              "            marital-status          occupation    relationship    race  \\\n",
              "0            Never-married        Adm-clerical   Not-in-family   White   \n",
              "1       Married-civ-spouse     Exec-managerial         Husband   White   \n",
              "2                 Divorced   Handlers-cleaners   Not-in-family   White   \n",
              "3       Married-civ-spouse   Handlers-cleaners         Husband   Black   \n",
              "4       Married-civ-spouse      Prof-specialty            Wife   Black   \n",
              "...                    ...                 ...             ...     ...   \n",
              "32556   Married-civ-spouse        Tech-support            Wife   White   \n",
              "32557   Married-civ-spouse   Machine-op-inspct         Husband   White   \n",
              "32558              Widowed        Adm-clerical       Unmarried   White   \n",
              "32559        Never-married        Adm-clerical       Own-child   White   \n",
              "32560   Married-civ-spouse     Exec-managerial            Wife   White   \n",
              "\n",
              "           sex  capital-gain  capital-loss  hours-per-week  native-country  \\\n",
              "0         Male          2174             0              40   United-States   \n",
              "1         Male             0             0              13   United-States   \n",
              "2         Male             0             0              40   United-States   \n",
              "3         Male             0             0              40   United-States   \n",
              "4       Female             0             0              40            Cuba   \n",
              "...        ...           ...           ...             ...             ...   \n",
              "32556   Female             0             0              38   United-States   \n",
              "32557     Male             0             0              40   United-States   \n",
              "32558   Female             0             0              40   United-States   \n",
              "32559     Male             0             0              20   United-States   \n",
              "32560   Female         15024             0              40   United-States   \n",
              "\n",
              "       income  \n",
              "0       <=50K  \n",
              "1       <=50K  \n",
              "2       <=50K  \n",
              "3       <=50K  \n",
              "4       <=50K  \n",
              "...       ...  \n",
              "32556   <=50K  \n",
              "32557    >50K  \n",
              "32558   <=50K  \n",
              "32559   <=50K  \n",
              "32560    >50K  \n",
              "\n",
              "[32561 rows x 15 columns]"
            ],
            "text/html": [
              "\n",
              "  <div id=\"df-4a0929ec-20db-406a-9c95-a6a37e8a6453\">\n",
              "    <div class=\"colab-df-container\">\n",
              "      <div>\n",
              "<style scoped>\n",
              "    .dataframe tbody tr th:only-of-type {\n",
              "        vertical-align: middle;\n",
              "    }\n",
              "\n",
              "    .dataframe tbody tr th {\n",
              "        vertical-align: top;\n",
              "    }\n",
              "\n",
              "    .dataframe thead th {\n",
              "        text-align: right;\n",
              "    }\n",
              "</style>\n",
              "<table border=\"1\" class=\"dataframe\">\n",
              "  <thead>\n",
              "    <tr style=\"text-align: right;\">\n",
              "      <th></th>\n",
              "      <th>age</th>\n",
              "      <th>workclass</th>\n",
              "      <th>fnlwgt</th>\n",
              "      <th>education</th>\n",
              "      <th>education-num</th>\n",
              "      <th>marital-status</th>\n",
              "      <th>occupation</th>\n",
              "      <th>relationship</th>\n",
              "      <th>race</th>\n",
              "      <th>sex</th>\n",
              "      <th>capital-gain</th>\n",
              "      <th>capital-loss</th>\n",
              "      <th>hours-per-week</th>\n",
              "      <th>native-country</th>\n",
              "      <th>income</th>\n",
              "    </tr>\n",
              "  </thead>\n",
              "  <tbody>\n",
              "    <tr>\n",
              "      <th>0</th>\n",
              "      <td>39</td>\n",
              "      <td>State-gov</td>\n",
              "      <td>77516</td>\n",
              "      <td>Bachelors</td>\n",
              "      <td>13</td>\n",
              "      <td>Never-married</td>\n",
              "      <td>Adm-clerical</td>\n",
              "      <td>Not-in-family</td>\n",
              "      <td>White</td>\n",
              "      <td>Male</td>\n",
              "      <td>2174</td>\n",
              "      <td>0</td>\n",
              "      <td>40</td>\n",
              "      <td>United-States</td>\n",
              "      <td>&lt;=50K</td>\n",
              "    </tr>\n",
              "    <tr>\n",
              "      <th>1</th>\n",
              "      <td>50</td>\n",
              "      <td>Self-emp-not-inc</td>\n",
              "      <td>83311</td>\n",
              "      <td>Bachelors</td>\n",
              "      <td>13</td>\n",
              "      <td>Married-civ-spouse</td>\n",
              "      <td>Exec-managerial</td>\n",
              "      <td>Husband</td>\n",
              "      <td>White</td>\n",
              "      <td>Male</td>\n",
              "      <td>0</td>\n",
              "      <td>0</td>\n",
              "      <td>13</td>\n",
              "      <td>United-States</td>\n",
              "      <td>&lt;=50K</td>\n",
              "    </tr>\n",
              "    <tr>\n",
              "      <th>2</th>\n",
              "      <td>38</td>\n",
              "      <td>Private</td>\n",
              "      <td>215646</td>\n",
              "      <td>HS-grad</td>\n",
              "      <td>9</td>\n",
              "      <td>Divorced</td>\n",
              "      <td>Handlers-cleaners</td>\n",
              "      <td>Not-in-family</td>\n",
              "      <td>White</td>\n",
              "      <td>Male</td>\n",
              "      <td>0</td>\n",
              "      <td>0</td>\n",
              "      <td>40</td>\n",
              "      <td>United-States</td>\n",
              "      <td>&lt;=50K</td>\n",
              "    </tr>\n",
              "    <tr>\n",
              "      <th>3</th>\n",
              "      <td>53</td>\n",
              "      <td>Private</td>\n",
              "      <td>234721</td>\n",
              "      <td>11th</td>\n",
              "      <td>7</td>\n",
              "      <td>Married-civ-spouse</td>\n",
              "      <td>Handlers-cleaners</td>\n",
              "      <td>Husband</td>\n",
              "      <td>Black</td>\n",
              "      <td>Male</td>\n",
              "      <td>0</td>\n",
              "      <td>0</td>\n",
              "      <td>40</td>\n",
              "      <td>United-States</td>\n",
              "      <td>&lt;=50K</td>\n",
              "    </tr>\n",
              "    <tr>\n",
              "      <th>4</th>\n",
              "      <td>28</td>\n",
              "      <td>Private</td>\n",
              "      <td>338409</td>\n",
              "      <td>Bachelors</td>\n",
              "      <td>13</td>\n",
              "      <td>Married-civ-spouse</td>\n",
              "      <td>Prof-specialty</td>\n",
              "      <td>Wife</td>\n",
              "      <td>Black</td>\n",
              "      <td>Female</td>\n",
              "      <td>0</td>\n",
              "      <td>0</td>\n",
              "      <td>40</td>\n",
              "      <td>Cuba</td>\n",
              "      <td>&lt;=50K</td>\n",
              "    </tr>\n",
              "    <tr>\n",
              "      <th>...</th>\n",
              "      <td>...</td>\n",
              "      <td>...</td>\n",
              "      <td>...</td>\n",
              "      <td>...</td>\n",
              "      <td>...</td>\n",
              "      <td>...</td>\n",
              "      <td>...</td>\n",
              "      <td>...</td>\n",
              "      <td>...</td>\n",
              "      <td>...</td>\n",
              "      <td>...</td>\n",
              "      <td>...</td>\n",
              "      <td>...</td>\n",
              "      <td>...</td>\n",
              "      <td>...</td>\n",
              "    </tr>\n",
              "    <tr>\n",
              "      <th>32556</th>\n",
              "      <td>27</td>\n",
              "      <td>Private</td>\n",
              "      <td>257302</td>\n",
              "      <td>Assoc-acdm</td>\n",
              "      <td>12</td>\n",
              "      <td>Married-civ-spouse</td>\n",
              "      <td>Tech-support</td>\n",
              "      <td>Wife</td>\n",
              "      <td>White</td>\n",
              "      <td>Female</td>\n",
              "      <td>0</td>\n",
              "      <td>0</td>\n",
              "      <td>38</td>\n",
              "      <td>United-States</td>\n",
              "      <td>&lt;=50K</td>\n",
              "    </tr>\n",
              "    <tr>\n",
              "      <th>32557</th>\n",
              "      <td>40</td>\n",
              "      <td>Private</td>\n",
              "      <td>154374</td>\n",
              "      <td>HS-grad</td>\n",
              "      <td>9</td>\n",
              "      <td>Married-civ-spouse</td>\n",
              "      <td>Machine-op-inspct</td>\n",
              "      <td>Husband</td>\n",
              "      <td>White</td>\n",
              "      <td>Male</td>\n",
              "      <td>0</td>\n",
              "      <td>0</td>\n",
              "      <td>40</td>\n",
              "      <td>United-States</td>\n",
              "      <td>&gt;50K</td>\n",
              "    </tr>\n",
              "    <tr>\n",
              "      <th>32558</th>\n",
              "      <td>58</td>\n",
              "      <td>Private</td>\n",
              "      <td>151910</td>\n",
              "      <td>HS-grad</td>\n",
              "      <td>9</td>\n",
              "      <td>Widowed</td>\n",
              "      <td>Adm-clerical</td>\n",
              "      <td>Unmarried</td>\n",
              "      <td>White</td>\n",
              "      <td>Female</td>\n",
              "      <td>0</td>\n",
              "      <td>0</td>\n",
              "      <td>40</td>\n",
              "      <td>United-States</td>\n",
              "      <td>&lt;=50K</td>\n",
              "    </tr>\n",
              "    <tr>\n",
              "      <th>32559</th>\n",
              "      <td>22</td>\n",
              "      <td>Private</td>\n",
              "      <td>201490</td>\n",
              "      <td>HS-grad</td>\n",
              "      <td>9</td>\n",
              "      <td>Never-married</td>\n",
              "      <td>Adm-clerical</td>\n",
              "      <td>Own-child</td>\n",
              "      <td>White</td>\n",
              "      <td>Male</td>\n",
              "      <td>0</td>\n",
              "      <td>0</td>\n",
              "      <td>20</td>\n",
              "      <td>United-States</td>\n",
              "      <td>&lt;=50K</td>\n",
              "    </tr>\n",
              "    <tr>\n",
              "      <th>32560</th>\n",
              "      <td>52</td>\n",
              "      <td>Self-emp-inc</td>\n",
              "      <td>287927</td>\n",
              "      <td>HS-grad</td>\n",
              "      <td>9</td>\n",
              "      <td>Married-civ-spouse</td>\n",
              "      <td>Exec-managerial</td>\n",
              "      <td>Wife</td>\n",
              "      <td>White</td>\n",
              "      <td>Female</td>\n",
              "      <td>15024</td>\n",
              "      <td>0</td>\n",
              "      <td>40</td>\n",
              "      <td>United-States</td>\n",
              "      <td>&gt;50K</td>\n",
              "    </tr>\n",
              "  </tbody>\n",
              "</table>\n",
              "<p>32561 rows × 15 columns</p>\n",
              "</div>\n",
              "      <button class=\"colab-df-convert\" onclick=\"convertToInteractive('df-4a0929ec-20db-406a-9c95-a6a37e8a6453')\"\n",
              "              title=\"Convert this dataframe to an interactive table.\"\n",
              "              style=\"display:none;\">\n",
              "        \n",
              "  <svg xmlns=\"http://www.w3.org/2000/svg\" height=\"24px\"viewBox=\"0 0 24 24\"\n",
              "       width=\"24px\">\n",
              "    <path d=\"M0 0h24v24H0V0z\" fill=\"none\"/>\n",
              "    <path d=\"M18.56 5.44l.94 2.06.94-2.06 2.06-.94-2.06-.94-.94-2.06-.94 2.06-2.06.94zm-11 1L8.5 8.5l.94-2.06 2.06-.94-2.06-.94L8.5 2.5l-.94 2.06-2.06.94zm10 10l.94 2.06.94-2.06 2.06-.94-2.06-.94-.94-2.06-.94 2.06-2.06.94z\"/><path d=\"M17.41 7.96l-1.37-1.37c-.4-.4-.92-.59-1.43-.59-.52 0-1.04.2-1.43.59L10.3 9.45l-7.72 7.72c-.78.78-.78 2.05 0 2.83L4 21.41c.39.39.9.59 1.41.59.51 0 1.02-.2 1.41-.59l7.78-7.78 2.81-2.81c.8-.78.8-2.07 0-2.86zM5.41 20L4 18.59l7.72-7.72 1.47 1.35L5.41 20z\"/>\n",
              "  </svg>\n",
              "      </button>\n",
              "      \n",
              "  <style>\n",
              "    .colab-df-container {\n",
              "      display:flex;\n",
              "      flex-wrap:wrap;\n",
              "      gap: 12px;\n",
              "    }\n",
              "\n",
              "    .colab-df-convert {\n",
              "      background-color: #E8F0FE;\n",
              "      border: none;\n",
              "      border-radius: 50%;\n",
              "      cursor: pointer;\n",
              "      display: none;\n",
              "      fill: #1967D2;\n",
              "      height: 32px;\n",
              "      padding: 0 0 0 0;\n",
              "      width: 32px;\n",
              "    }\n",
              "\n",
              "    .colab-df-convert:hover {\n",
              "      background-color: #E2EBFA;\n",
              "      box-shadow: 0px 1px 2px rgba(60, 64, 67, 0.3), 0px 1px 3px 1px rgba(60, 64, 67, 0.15);\n",
              "      fill: #174EA6;\n",
              "    }\n",
              "\n",
              "    [theme=dark] .colab-df-convert {\n",
              "      background-color: #3B4455;\n",
              "      fill: #D2E3FC;\n",
              "    }\n",
              "\n",
              "    [theme=dark] .colab-df-convert:hover {\n",
              "      background-color: #434B5C;\n",
              "      box-shadow: 0px 1px 3px 1px rgba(0, 0, 0, 0.15);\n",
              "      filter: drop-shadow(0px 1px 2px rgba(0, 0, 0, 0.3));\n",
              "      fill: #FFFFFF;\n",
              "    }\n",
              "  </style>\n",
              "\n",
              "      <script>\n",
              "        const buttonEl =\n",
              "          document.querySelector('#df-4a0929ec-20db-406a-9c95-a6a37e8a6453 button.colab-df-convert');\n",
              "        buttonEl.style.display =\n",
              "          google.colab.kernel.accessAllowed ? 'block' : 'none';\n",
              "\n",
              "        async function convertToInteractive(key) {\n",
              "          const element = document.querySelector('#df-4a0929ec-20db-406a-9c95-a6a37e8a6453');\n",
              "          const dataTable =\n",
              "            await google.colab.kernel.invokeFunction('convertToInteractive',\n",
              "                                                     [key], {});\n",
              "          if (!dataTable) return;\n",
              "\n",
              "          const docLinkHtml = 'Like what you see? Visit the ' +\n",
              "            '<a target=\"_blank\" href=https://colab.research.google.com/notebooks/data_table.ipynb>data table notebook</a>'\n",
              "            + ' to learn more about interactive tables.';\n",
              "          element.innerHTML = '';\n",
              "          dataTable['output_type'] = 'display_data';\n",
              "          await google.colab.output.renderOutput(dataTable, element);\n",
              "          const docLink = document.createElement('div');\n",
              "          docLink.innerHTML = docLinkHtml;\n",
              "          element.appendChild(docLink);\n",
              "        }\n",
              "      </script>\n",
              "    </div>\n",
              "  </div>\n",
              "  "
            ]
          },
          "metadata": {},
          "execution_count": 5
        }
      ],
      "source": [
        "col_index = [i for i in range(len(col_names))]\n",
        "col_dict = dict(zip(col_index,col_names))\n",
        "origin_df = pd.DataFrame(data)\n",
        "origin_df.rename(col_dict, axis=1, inplace = True)\n",
        "df = origin_df\n",
        "origin_df"
      ]
    },
    {
      "cell_type": "code",
      "execution_count": 6,
      "id": "d39f5e52",
      "metadata": {
        "id": "d39f5e52"
      },
      "outputs": [],
      "source": [
        "categorical = [\"workclass\", \"education\", \"marital-status\" , \"occupation\" , \"relationship\", \"race\", \"sex\", \"native-country\"]"
      ]
    },
    {
      "cell_type": "markdown",
      "id": "47c7f52b",
      "metadata": {
        "id": "47c7f52b"
      },
      "source": [
        "Next, I will use a code snippet that I took from my classmate *Ahmet Süheyl Kiriş*. As we discussed in class, dealing with categorical data is problematic since every labeling we can do instead of the categories can be biased depending on the label type. So we give every option of a category an individual column. These new columns will only have binary values of $0$ or $1$, depending whether that row has that attribute. With my sincere gratitude to the owner, I name the snippet, _SuheylBinarizer_. (Later, we have noticed that LabelBinarizer does the same thing but it is still good for his citation count this way.)\n",
        "\n",
        "The list `categorical values` only contains the columns of the dataset that has categorical parameters. At the end of the next code cell, `df` will be a DataFrame containing only the new binary columns."
      ]
    },
    {
      "cell_type": "code",
      "execution_count": 7,
      "id": "1064da49",
      "metadata": {
        "id": "1064da49"
      },
      "outputs": [],
      "source": [
        "# Süheyl Binarizer\n",
        "\n",
        "trivial = np.zeros((32561,1)).astype(int)\n",
        "df = pd.DataFrame(trivial, columns = [\"Deneme\"])\n",
        "\n",
        "for a in range(len(categorical)):\n",
        "    arr_unique = np.unique(data[categorical[a]])\n",
        "    arr = data[categorical[a]]\n",
        "    clmns = []\n",
        "    \n",
        "    for u in arr_unique:\n",
        "        string = str(categorical[a]) + str(u)\n",
        "        clmns.append(string)\n",
        "\n",
        "    matrix = np.zeros((32561,len(arr_unique)))\n",
        "    for i in range(len(arr_unique)):\n",
        "        for j in range(32561):\n",
        "            if arr[j] == arr_unique[i]:\n",
        "                matrix[j][i] = 1;\n",
        "    matrix = matrix.astype(int)\n",
        "    df2 = pd.DataFrame(matrix, columns = clmns)\n",
        "    df = df.join(df2)\n",
        "df = df.drop([\"Deneme\"], axis=1)"
      ]
    },
    {
      "cell_type": "markdown",
      "id": "860a6e16",
      "metadata": {
        "id": "860a6e16"
      },
      "source": [
        "Now I drop the original categorical columns from the initial `data` DataFrame and add the newly formed binary columns."
      ]
    },
    {
      "cell_type": "code",
      "execution_count": 8,
      "id": "b482cf81",
      "metadata": {
        "colab": {
          "base_uri": "https://localhost:8080/",
          "height": 419
        },
        "id": "b482cf81",
        "outputId": "effd639e-5bbe-4b17-b7d8-e6abdc037145"
      },
      "outputs": [
        {
          "output_type": "execute_result",
          "data": {
            "text/plain": [
              "       age  fnlwgt  education-num  capital-gain  capital-loss  hours-per-week  \\\n",
              "0       39   77516             13          2174             0              40   \n",
              "1       50   83311             13             0             0              13   \n",
              "2       38  215646              9             0             0              40   \n",
              "3       53  234721              7             0             0              40   \n",
              "4       28  338409             13             0             0              40   \n",
              "...    ...     ...            ...           ...           ...             ...   \n",
              "32556   27  257302             12             0             0              38   \n",
              "32557   40  154374              9             0             0              40   \n",
              "32558   58  151910              9             0             0              40   \n",
              "32559   22  201490              9             0             0              20   \n",
              "32560   52  287927              9         15024             0              40   \n",
              "\n",
              "       income  \n",
              "0       <=50K  \n",
              "1       <=50K  \n",
              "2       <=50K  \n",
              "3       <=50K  \n",
              "4       <=50K  \n",
              "...       ...  \n",
              "32556   <=50K  \n",
              "32557    >50K  \n",
              "32558   <=50K  \n",
              "32559   <=50K  \n",
              "32560    >50K  \n",
              "\n",
              "[32561 rows x 7 columns]"
            ],
            "text/html": [
              "\n",
              "  <div id=\"df-4ddf8958-d253-4a41-b65d-6d805ea98405\">\n",
              "    <div class=\"colab-df-container\">\n",
              "      <div>\n",
              "<style scoped>\n",
              "    .dataframe tbody tr th:only-of-type {\n",
              "        vertical-align: middle;\n",
              "    }\n",
              "\n",
              "    .dataframe tbody tr th {\n",
              "        vertical-align: top;\n",
              "    }\n",
              "\n",
              "    .dataframe thead th {\n",
              "        text-align: right;\n",
              "    }\n",
              "</style>\n",
              "<table border=\"1\" class=\"dataframe\">\n",
              "  <thead>\n",
              "    <tr style=\"text-align: right;\">\n",
              "      <th></th>\n",
              "      <th>age</th>\n",
              "      <th>fnlwgt</th>\n",
              "      <th>education-num</th>\n",
              "      <th>capital-gain</th>\n",
              "      <th>capital-loss</th>\n",
              "      <th>hours-per-week</th>\n",
              "      <th>income</th>\n",
              "    </tr>\n",
              "  </thead>\n",
              "  <tbody>\n",
              "    <tr>\n",
              "      <th>0</th>\n",
              "      <td>39</td>\n",
              "      <td>77516</td>\n",
              "      <td>13</td>\n",
              "      <td>2174</td>\n",
              "      <td>0</td>\n",
              "      <td>40</td>\n",
              "      <td>&lt;=50K</td>\n",
              "    </tr>\n",
              "    <tr>\n",
              "      <th>1</th>\n",
              "      <td>50</td>\n",
              "      <td>83311</td>\n",
              "      <td>13</td>\n",
              "      <td>0</td>\n",
              "      <td>0</td>\n",
              "      <td>13</td>\n",
              "      <td>&lt;=50K</td>\n",
              "    </tr>\n",
              "    <tr>\n",
              "      <th>2</th>\n",
              "      <td>38</td>\n",
              "      <td>215646</td>\n",
              "      <td>9</td>\n",
              "      <td>0</td>\n",
              "      <td>0</td>\n",
              "      <td>40</td>\n",
              "      <td>&lt;=50K</td>\n",
              "    </tr>\n",
              "    <tr>\n",
              "      <th>3</th>\n",
              "      <td>53</td>\n",
              "      <td>234721</td>\n",
              "      <td>7</td>\n",
              "      <td>0</td>\n",
              "      <td>0</td>\n",
              "      <td>40</td>\n",
              "      <td>&lt;=50K</td>\n",
              "    </tr>\n",
              "    <tr>\n",
              "      <th>4</th>\n",
              "      <td>28</td>\n",
              "      <td>338409</td>\n",
              "      <td>13</td>\n",
              "      <td>0</td>\n",
              "      <td>0</td>\n",
              "      <td>40</td>\n",
              "      <td>&lt;=50K</td>\n",
              "    </tr>\n",
              "    <tr>\n",
              "      <th>...</th>\n",
              "      <td>...</td>\n",
              "      <td>...</td>\n",
              "      <td>...</td>\n",
              "      <td>...</td>\n",
              "      <td>...</td>\n",
              "      <td>...</td>\n",
              "      <td>...</td>\n",
              "    </tr>\n",
              "    <tr>\n",
              "      <th>32556</th>\n",
              "      <td>27</td>\n",
              "      <td>257302</td>\n",
              "      <td>12</td>\n",
              "      <td>0</td>\n",
              "      <td>0</td>\n",
              "      <td>38</td>\n",
              "      <td>&lt;=50K</td>\n",
              "    </tr>\n",
              "    <tr>\n",
              "      <th>32557</th>\n",
              "      <td>40</td>\n",
              "      <td>154374</td>\n",
              "      <td>9</td>\n",
              "      <td>0</td>\n",
              "      <td>0</td>\n",
              "      <td>40</td>\n",
              "      <td>&gt;50K</td>\n",
              "    </tr>\n",
              "    <tr>\n",
              "      <th>32558</th>\n",
              "      <td>58</td>\n",
              "      <td>151910</td>\n",
              "      <td>9</td>\n",
              "      <td>0</td>\n",
              "      <td>0</td>\n",
              "      <td>40</td>\n",
              "      <td>&lt;=50K</td>\n",
              "    </tr>\n",
              "    <tr>\n",
              "      <th>32559</th>\n",
              "      <td>22</td>\n",
              "      <td>201490</td>\n",
              "      <td>9</td>\n",
              "      <td>0</td>\n",
              "      <td>0</td>\n",
              "      <td>20</td>\n",
              "      <td>&lt;=50K</td>\n",
              "    </tr>\n",
              "    <tr>\n",
              "      <th>32560</th>\n",
              "      <td>52</td>\n",
              "      <td>287927</td>\n",
              "      <td>9</td>\n",
              "      <td>15024</td>\n",
              "      <td>0</td>\n",
              "      <td>40</td>\n",
              "      <td>&gt;50K</td>\n",
              "    </tr>\n",
              "  </tbody>\n",
              "</table>\n",
              "<p>32561 rows × 7 columns</p>\n",
              "</div>\n",
              "      <button class=\"colab-df-convert\" onclick=\"convertToInteractive('df-4ddf8958-d253-4a41-b65d-6d805ea98405')\"\n",
              "              title=\"Convert this dataframe to an interactive table.\"\n",
              "              style=\"display:none;\">\n",
              "        \n",
              "  <svg xmlns=\"http://www.w3.org/2000/svg\" height=\"24px\"viewBox=\"0 0 24 24\"\n",
              "       width=\"24px\">\n",
              "    <path d=\"M0 0h24v24H0V0z\" fill=\"none\"/>\n",
              "    <path d=\"M18.56 5.44l.94 2.06.94-2.06 2.06-.94-2.06-.94-.94-2.06-.94 2.06-2.06.94zm-11 1L8.5 8.5l.94-2.06 2.06-.94-2.06-.94L8.5 2.5l-.94 2.06-2.06.94zm10 10l.94 2.06.94-2.06 2.06-.94-2.06-.94-.94-2.06-.94 2.06-2.06.94z\"/><path d=\"M17.41 7.96l-1.37-1.37c-.4-.4-.92-.59-1.43-.59-.52 0-1.04.2-1.43.59L10.3 9.45l-7.72 7.72c-.78.78-.78 2.05 0 2.83L4 21.41c.39.39.9.59 1.41.59.51 0 1.02-.2 1.41-.59l7.78-7.78 2.81-2.81c.8-.78.8-2.07 0-2.86zM5.41 20L4 18.59l7.72-7.72 1.47 1.35L5.41 20z\"/>\n",
              "  </svg>\n",
              "      </button>\n",
              "      \n",
              "  <style>\n",
              "    .colab-df-container {\n",
              "      display:flex;\n",
              "      flex-wrap:wrap;\n",
              "      gap: 12px;\n",
              "    }\n",
              "\n",
              "    .colab-df-convert {\n",
              "      background-color: #E8F0FE;\n",
              "      border: none;\n",
              "      border-radius: 50%;\n",
              "      cursor: pointer;\n",
              "      display: none;\n",
              "      fill: #1967D2;\n",
              "      height: 32px;\n",
              "      padding: 0 0 0 0;\n",
              "      width: 32px;\n",
              "    }\n",
              "\n",
              "    .colab-df-convert:hover {\n",
              "      background-color: #E2EBFA;\n",
              "      box-shadow: 0px 1px 2px rgba(60, 64, 67, 0.3), 0px 1px 3px 1px rgba(60, 64, 67, 0.15);\n",
              "      fill: #174EA6;\n",
              "    }\n",
              "\n",
              "    [theme=dark] .colab-df-convert {\n",
              "      background-color: #3B4455;\n",
              "      fill: #D2E3FC;\n",
              "    }\n",
              "\n",
              "    [theme=dark] .colab-df-convert:hover {\n",
              "      background-color: #434B5C;\n",
              "      box-shadow: 0px 1px 3px 1px rgba(0, 0, 0, 0.15);\n",
              "      filter: drop-shadow(0px 1px 2px rgba(0, 0, 0, 0.3));\n",
              "      fill: #FFFFFF;\n",
              "    }\n",
              "  </style>\n",
              "\n",
              "      <script>\n",
              "        const buttonEl =\n",
              "          document.querySelector('#df-4ddf8958-d253-4a41-b65d-6d805ea98405 button.colab-df-convert');\n",
              "        buttonEl.style.display =\n",
              "          google.colab.kernel.accessAllowed ? 'block' : 'none';\n",
              "\n",
              "        async function convertToInteractive(key) {\n",
              "          const element = document.querySelector('#df-4ddf8958-d253-4a41-b65d-6d805ea98405');\n",
              "          const dataTable =\n",
              "            await google.colab.kernel.invokeFunction('convertToInteractive',\n",
              "                                                     [key], {});\n",
              "          if (!dataTable) return;\n",
              "\n",
              "          const docLinkHtml = 'Like what you see? Visit the ' +\n",
              "            '<a target=\"_blank\" href=https://colab.research.google.com/notebooks/data_table.ipynb>data table notebook</a>'\n",
              "            + ' to learn more about interactive tables.';\n",
              "          element.innerHTML = '';\n",
              "          dataTable['output_type'] = 'display_data';\n",
              "          await google.colab.output.renderOutput(dataTable, element);\n",
              "          const docLink = document.createElement('div');\n",
              "          docLink.innerHTML = docLinkHtml;\n",
              "          element.appendChild(docLink);\n",
              "        }\n",
              "      </script>\n",
              "    </div>\n",
              "  </div>\n",
              "  "
            ]
          },
          "metadata": {},
          "execution_count": 8
        }
      ],
      "source": [
        "reduced_origin_df = origin_df.drop(categorical,axis = 1)\n",
        "reduced_origin_df\n"
      ]
    },
    {
      "cell_type": "markdown",
      "id": "51c34aca",
      "metadata": {
        "id": "51c34aca"
      },
      "source": [
        "We need to join two dataframes by means of columns. Since the row indices are same, we can do this by `concat` function."
      ]
    },
    {
      "cell_type": "code",
      "execution_count": 9,
      "id": "5d77d384",
      "metadata": {
        "id": "5d77d384"
      },
      "outputs": [],
      "source": [
        "final_data = pd.concat([df,reduced_origin_df],axis = 1)"
      ]
    },
    {
      "cell_type": "markdown",
      "id": "548811b1",
      "metadata": {
        "id": "548811b1"
      },
      "source": [
        "Using the helper function to convert the income column to binary values."
      ]
    },
    {
      "cell_type": "code",
      "execution_count": 10,
      "id": "ff96acc7",
      "metadata": {
        "colab": {
          "base_uri": "https://localhost:8080/",
          "height": 534
        },
        "id": "ff96acc7",
        "outputId": "69aab543-8f93-4ca0-d9c4-19730ed9b672"
      },
      "outputs": [
        {
          "output_type": "execute_result",
          "data": {
            "text/plain": [
              "       workclass ?  workclass Federal-gov  workclass Local-gov  \\\n",
              "0                0                      0                    0   \n",
              "1                0                      0                    0   \n",
              "2                0                      0                    0   \n",
              "3                0                      0                    0   \n",
              "4                0                      0                    0   \n",
              "...            ...                    ...                  ...   \n",
              "32556            0                      0                    0   \n",
              "32557            0                      0                    0   \n",
              "32558            0                      0                    0   \n",
              "32559            0                      0                    0   \n",
              "32560            0                      0                    0   \n",
              "\n",
              "       workclass Never-worked  workclass Private  workclass Self-emp-inc  \\\n",
              "0                           0                  0                       0   \n",
              "1                           0                  0                       0   \n",
              "2                           0                  1                       0   \n",
              "3                           0                  1                       0   \n",
              "4                           0                  1                       0   \n",
              "...                       ...                ...                     ...   \n",
              "32556                       0                  1                       0   \n",
              "32557                       0                  1                       0   \n",
              "32558                       0                  1                       0   \n",
              "32559                       0                  1                       0   \n",
              "32560                       0                  0                       1   \n",
              "\n",
              "       workclass Self-emp-not-inc  workclass State-gov  workclass Without-pay  \\\n",
              "0                               0                    1                      0   \n",
              "1                               1                    0                      0   \n",
              "2                               0                    0                      0   \n",
              "3                               0                    0                      0   \n",
              "4                               0                    0                      0   \n",
              "...                           ...                  ...                    ...   \n",
              "32556                           0                    0                      0   \n",
              "32557                           0                    0                      0   \n",
              "32558                           0                    0                      0   \n",
              "32559                           0                    0                      0   \n",
              "32560                           0                    0                      0   \n",
              "\n",
              "       education 10th  ...  native-country United-States  \\\n",
              "0                   0  ...                             1   \n",
              "1                   0  ...                             1   \n",
              "2                   0  ...                             1   \n",
              "3                   0  ...                             1   \n",
              "4                   0  ...                             0   \n",
              "...               ...  ...                           ...   \n",
              "32556               0  ...                             1   \n",
              "32557               0  ...                             1   \n",
              "32558               0  ...                             1   \n",
              "32559               0  ...                             1   \n",
              "32560               0  ...                             1   \n",
              "\n",
              "       native-country Vietnam  native-country Yugoslavia  age  fnlwgt  \\\n",
              "0                           0                          0   39   77516   \n",
              "1                           0                          0   50   83311   \n",
              "2                           0                          0   38  215646   \n",
              "3                           0                          0   53  234721   \n",
              "4                           0                          0   28  338409   \n",
              "...                       ...                        ...  ...     ...   \n",
              "32556                       0                          0   27  257302   \n",
              "32557                       0                          0   40  154374   \n",
              "32558                       0                          0   58  151910   \n",
              "32559                       0                          0   22  201490   \n",
              "32560                       0                          0   52  287927   \n",
              "\n",
              "       education-num  capital-gain  capital-loss  hours-per-week  income  \n",
              "0                 13          2174             0              40       0  \n",
              "1                 13             0             0              13       0  \n",
              "2                  9             0             0              40       0  \n",
              "3                  7             0             0              40       0  \n",
              "4                 13             0             0              40       0  \n",
              "...              ...           ...           ...             ...     ...  \n",
              "32556             12             0             0              38       0  \n",
              "32557              9             0             0              40       1  \n",
              "32558              9             0             0              40       0  \n",
              "32559              9             0             0              20       0  \n",
              "32560              9         15024             0              40       1  \n",
              "\n",
              "[32561 rows x 109 columns]"
            ],
            "text/html": [
              "\n",
              "  <div id=\"df-8b2a5a1c-f9be-4718-9613-03e5dd18d66a\">\n",
              "    <div class=\"colab-df-container\">\n",
              "      <div>\n",
              "<style scoped>\n",
              "    .dataframe tbody tr th:only-of-type {\n",
              "        vertical-align: middle;\n",
              "    }\n",
              "\n",
              "    .dataframe tbody tr th {\n",
              "        vertical-align: top;\n",
              "    }\n",
              "\n",
              "    .dataframe thead th {\n",
              "        text-align: right;\n",
              "    }\n",
              "</style>\n",
              "<table border=\"1\" class=\"dataframe\">\n",
              "  <thead>\n",
              "    <tr style=\"text-align: right;\">\n",
              "      <th></th>\n",
              "      <th>workclass ?</th>\n",
              "      <th>workclass Federal-gov</th>\n",
              "      <th>workclass Local-gov</th>\n",
              "      <th>workclass Never-worked</th>\n",
              "      <th>workclass Private</th>\n",
              "      <th>workclass Self-emp-inc</th>\n",
              "      <th>workclass Self-emp-not-inc</th>\n",
              "      <th>workclass State-gov</th>\n",
              "      <th>workclass Without-pay</th>\n",
              "      <th>education 10th</th>\n",
              "      <th>...</th>\n",
              "      <th>native-country United-States</th>\n",
              "      <th>native-country Vietnam</th>\n",
              "      <th>native-country Yugoslavia</th>\n",
              "      <th>age</th>\n",
              "      <th>fnlwgt</th>\n",
              "      <th>education-num</th>\n",
              "      <th>capital-gain</th>\n",
              "      <th>capital-loss</th>\n",
              "      <th>hours-per-week</th>\n",
              "      <th>income</th>\n",
              "    </tr>\n",
              "  </thead>\n",
              "  <tbody>\n",
              "    <tr>\n",
              "      <th>0</th>\n",
              "      <td>0</td>\n",
              "      <td>0</td>\n",
              "      <td>0</td>\n",
              "      <td>0</td>\n",
              "      <td>0</td>\n",
              "      <td>0</td>\n",
              "      <td>0</td>\n",
              "      <td>1</td>\n",
              "      <td>0</td>\n",
              "      <td>0</td>\n",
              "      <td>...</td>\n",
              "      <td>1</td>\n",
              "      <td>0</td>\n",
              "      <td>0</td>\n",
              "      <td>39</td>\n",
              "      <td>77516</td>\n",
              "      <td>13</td>\n",
              "      <td>2174</td>\n",
              "      <td>0</td>\n",
              "      <td>40</td>\n",
              "      <td>0</td>\n",
              "    </tr>\n",
              "    <tr>\n",
              "      <th>1</th>\n",
              "      <td>0</td>\n",
              "      <td>0</td>\n",
              "      <td>0</td>\n",
              "      <td>0</td>\n",
              "      <td>0</td>\n",
              "      <td>0</td>\n",
              "      <td>1</td>\n",
              "      <td>0</td>\n",
              "      <td>0</td>\n",
              "      <td>0</td>\n",
              "      <td>...</td>\n",
              "      <td>1</td>\n",
              "      <td>0</td>\n",
              "      <td>0</td>\n",
              "      <td>50</td>\n",
              "      <td>83311</td>\n",
              "      <td>13</td>\n",
              "      <td>0</td>\n",
              "      <td>0</td>\n",
              "      <td>13</td>\n",
              "      <td>0</td>\n",
              "    </tr>\n",
              "    <tr>\n",
              "      <th>2</th>\n",
              "      <td>0</td>\n",
              "      <td>0</td>\n",
              "      <td>0</td>\n",
              "      <td>0</td>\n",
              "      <td>1</td>\n",
              "      <td>0</td>\n",
              "      <td>0</td>\n",
              "      <td>0</td>\n",
              "      <td>0</td>\n",
              "      <td>0</td>\n",
              "      <td>...</td>\n",
              "      <td>1</td>\n",
              "      <td>0</td>\n",
              "      <td>0</td>\n",
              "      <td>38</td>\n",
              "      <td>215646</td>\n",
              "      <td>9</td>\n",
              "      <td>0</td>\n",
              "      <td>0</td>\n",
              "      <td>40</td>\n",
              "      <td>0</td>\n",
              "    </tr>\n",
              "    <tr>\n",
              "      <th>3</th>\n",
              "      <td>0</td>\n",
              "      <td>0</td>\n",
              "      <td>0</td>\n",
              "      <td>0</td>\n",
              "      <td>1</td>\n",
              "      <td>0</td>\n",
              "      <td>0</td>\n",
              "      <td>0</td>\n",
              "      <td>0</td>\n",
              "      <td>0</td>\n",
              "      <td>...</td>\n",
              "      <td>1</td>\n",
              "      <td>0</td>\n",
              "      <td>0</td>\n",
              "      <td>53</td>\n",
              "      <td>234721</td>\n",
              "      <td>7</td>\n",
              "      <td>0</td>\n",
              "      <td>0</td>\n",
              "      <td>40</td>\n",
              "      <td>0</td>\n",
              "    </tr>\n",
              "    <tr>\n",
              "      <th>4</th>\n",
              "      <td>0</td>\n",
              "      <td>0</td>\n",
              "      <td>0</td>\n",
              "      <td>0</td>\n",
              "      <td>1</td>\n",
              "      <td>0</td>\n",
              "      <td>0</td>\n",
              "      <td>0</td>\n",
              "      <td>0</td>\n",
              "      <td>0</td>\n",
              "      <td>...</td>\n",
              "      <td>0</td>\n",
              "      <td>0</td>\n",
              "      <td>0</td>\n",
              "      <td>28</td>\n",
              "      <td>338409</td>\n",
              "      <td>13</td>\n",
              "      <td>0</td>\n",
              "      <td>0</td>\n",
              "      <td>40</td>\n",
              "      <td>0</td>\n",
              "    </tr>\n",
              "    <tr>\n",
              "      <th>...</th>\n",
              "      <td>...</td>\n",
              "      <td>...</td>\n",
              "      <td>...</td>\n",
              "      <td>...</td>\n",
              "      <td>...</td>\n",
              "      <td>...</td>\n",
              "      <td>...</td>\n",
              "      <td>...</td>\n",
              "      <td>...</td>\n",
              "      <td>...</td>\n",
              "      <td>...</td>\n",
              "      <td>...</td>\n",
              "      <td>...</td>\n",
              "      <td>...</td>\n",
              "      <td>...</td>\n",
              "      <td>...</td>\n",
              "      <td>...</td>\n",
              "      <td>...</td>\n",
              "      <td>...</td>\n",
              "      <td>...</td>\n",
              "      <td>...</td>\n",
              "    </tr>\n",
              "    <tr>\n",
              "      <th>32556</th>\n",
              "      <td>0</td>\n",
              "      <td>0</td>\n",
              "      <td>0</td>\n",
              "      <td>0</td>\n",
              "      <td>1</td>\n",
              "      <td>0</td>\n",
              "      <td>0</td>\n",
              "      <td>0</td>\n",
              "      <td>0</td>\n",
              "      <td>0</td>\n",
              "      <td>...</td>\n",
              "      <td>1</td>\n",
              "      <td>0</td>\n",
              "      <td>0</td>\n",
              "      <td>27</td>\n",
              "      <td>257302</td>\n",
              "      <td>12</td>\n",
              "      <td>0</td>\n",
              "      <td>0</td>\n",
              "      <td>38</td>\n",
              "      <td>0</td>\n",
              "    </tr>\n",
              "    <tr>\n",
              "      <th>32557</th>\n",
              "      <td>0</td>\n",
              "      <td>0</td>\n",
              "      <td>0</td>\n",
              "      <td>0</td>\n",
              "      <td>1</td>\n",
              "      <td>0</td>\n",
              "      <td>0</td>\n",
              "      <td>0</td>\n",
              "      <td>0</td>\n",
              "      <td>0</td>\n",
              "      <td>...</td>\n",
              "      <td>1</td>\n",
              "      <td>0</td>\n",
              "      <td>0</td>\n",
              "      <td>40</td>\n",
              "      <td>154374</td>\n",
              "      <td>9</td>\n",
              "      <td>0</td>\n",
              "      <td>0</td>\n",
              "      <td>40</td>\n",
              "      <td>1</td>\n",
              "    </tr>\n",
              "    <tr>\n",
              "      <th>32558</th>\n",
              "      <td>0</td>\n",
              "      <td>0</td>\n",
              "      <td>0</td>\n",
              "      <td>0</td>\n",
              "      <td>1</td>\n",
              "      <td>0</td>\n",
              "      <td>0</td>\n",
              "      <td>0</td>\n",
              "      <td>0</td>\n",
              "      <td>0</td>\n",
              "      <td>...</td>\n",
              "      <td>1</td>\n",
              "      <td>0</td>\n",
              "      <td>0</td>\n",
              "      <td>58</td>\n",
              "      <td>151910</td>\n",
              "      <td>9</td>\n",
              "      <td>0</td>\n",
              "      <td>0</td>\n",
              "      <td>40</td>\n",
              "      <td>0</td>\n",
              "    </tr>\n",
              "    <tr>\n",
              "      <th>32559</th>\n",
              "      <td>0</td>\n",
              "      <td>0</td>\n",
              "      <td>0</td>\n",
              "      <td>0</td>\n",
              "      <td>1</td>\n",
              "      <td>0</td>\n",
              "      <td>0</td>\n",
              "      <td>0</td>\n",
              "      <td>0</td>\n",
              "      <td>0</td>\n",
              "      <td>...</td>\n",
              "      <td>1</td>\n",
              "      <td>0</td>\n",
              "      <td>0</td>\n",
              "      <td>22</td>\n",
              "      <td>201490</td>\n",
              "      <td>9</td>\n",
              "      <td>0</td>\n",
              "      <td>0</td>\n",
              "      <td>20</td>\n",
              "      <td>0</td>\n",
              "    </tr>\n",
              "    <tr>\n",
              "      <th>32560</th>\n",
              "      <td>0</td>\n",
              "      <td>0</td>\n",
              "      <td>0</td>\n",
              "      <td>0</td>\n",
              "      <td>0</td>\n",
              "      <td>1</td>\n",
              "      <td>0</td>\n",
              "      <td>0</td>\n",
              "      <td>0</td>\n",
              "      <td>0</td>\n",
              "      <td>...</td>\n",
              "      <td>1</td>\n",
              "      <td>0</td>\n",
              "      <td>0</td>\n",
              "      <td>52</td>\n",
              "      <td>287927</td>\n",
              "      <td>9</td>\n",
              "      <td>15024</td>\n",
              "      <td>0</td>\n",
              "      <td>40</td>\n",
              "      <td>1</td>\n",
              "    </tr>\n",
              "  </tbody>\n",
              "</table>\n",
              "<p>32561 rows × 109 columns</p>\n",
              "</div>\n",
              "      <button class=\"colab-df-convert\" onclick=\"convertToInteractive('df-8b2a5a1c-f9be-4718-9613-03e5dd18d66a')\"\n",
              "              title=\"Convert this dataframe to an interactive table.\"\n",
              "              style=\"display:none;\">\n",
              "        \n",
              "  <svg xmlns=\"http://www.w3.org/2000/svg\" height=\"24px\"viewBox=\"0 0 24 24\"\n",
              "       width=\"24px\">\n",
              "    <path d=\"M0 0h24v24H0V0z\" fill=\"none\"/>\n",
              "    <path d=\"M18.56 5.44l.94 2.06.94-2.06 2.06-.94-2.06-.94-.94-2.06-.94 2.06-2.06.94zm-11 1L8.5 8.5l.94-2.06 2.06-.94-2.06-.94L8.5 2.5l-.94 2.06-2.06.94zm10 10l.94 2.06.94-2.06 2.06-.94-2.06-.94-.94-2.06-.94 2.06-2.06.94z\"/><path d=\"M17.41 7.96l-1.37-1.37c-.4-.4-.92-.59-1.43-.59-.52 0-1.04.2-1.43.59L10.3 9.45l-7.72 7.72c-.78.78-.78 2.05 0 2.83L4 21.41c.39.39.9.59 1.41.59.51 0 1.02-.2 1.41-.59l7.78-7.78 2.81-2.81c.8-.78.8-2.07 0-2.86zM5.41 20L4 18.59l7.72-7.72 1.47 1.35L5.41 20z\"/>\n",
              "  </svg>\n",
              "      </button>\n",
              "      \n",
              "  <style>\n",
              "    .colab-df-container {\n",
              "      display:flex;\n",
              "      flex-wrap:wrap;\n",
              "      gap: 12px;\n",
              "    }\n",
              "\n",
              "    .colab-df-convert {\n",
              "      background-color: #E8F0FE;\n",
              "      border: none;\n",
              "      border-radius: 50%;\n",
              "      cursor: pointer;\n",
              "      display: none;\n",
              "      fill: #1967D2;\n",
              "      height: 32px;\n",
              "      padding: 0 0 0 0;\n",
              "      width: 32px;\n",
              "    }\n",
              "\n",
              "    .colab-df-convert:hover {\n",
              "      background-color: #E2EBFA;\n",
              "      box-shadow: 0px 1px 2px rgba(60, 64, 67, 0.3), 0px 1px 3px 1px rgba(60, 64, 67, 0.15);\n",
              "      fill: #174EA6;\n",
              "    }\n",
              "\n",
              "    [theme=dark] .colab-df-convert {\n",
              "      background-color: #3B4455;\n",
              "      fill: #D2E3FC;\n",
              "    }\n",
              "\n",
              "    [theme=dark] .colab-df-convert:hover {\n",
              "      background-color: #434B5C;\n",
              "      box-shadow: 0px 1px 3px 1px rgba(0, 0, 0, 0.15);\n",
              "      filter: drop-shadow(0px 1px 2px rgba(0, 0, 0, 0.3));\n",
              "      fill: #FFFFFF;\n",
              "    }\n",
              "  </style>\n",
              "\n",
              "      <script>\n",
              "        const buttonEl =\n",
              "          document.querySelector('#df-8b2a5a1c-f9be-4718-9613-03e5dd18d66a button.colab-df-convert');\n",
              "        buttonEl.style.display =\n",
              "          google.colab.kernel.accessAllowed ? 'block' : 'none';\n",
              "\n",
              "        async function convertToInteractive(key) {\n",
              "          const element = document.querySelector('#df-8b2a5a1c-f9be-4718-9613-03e5dd18d66a');\n",
              "          const dataTable =\n",
              "            await google.colab.kernel.invokeFunction('convertToInteractive',\n",
              "                                                     [key], {});\n",
              "          if (!dataTable) return;\n",
              "\n",
              "          const docLinkHtml = 'Like what you see? Visit the ' +\n",
              "            '<a target=\"_blank\" href=https://colab.research.google.com/notebooks/data_table.ipynb>data table notebook</a>'\n",
              "            + ' to learn more about interactive tables.';\n",
              "          element.innerHTML = '';\n",
              "          dataTable['output_type'] = 'display_data';\n",
              "          await google.colab.output.renderOutput(dataTable, element);\n",
              "          const docLink = document.createElement('div');\n",
              "          docLink.innerHTML = docLinkHtml;\n",
              "          element.appendChild(docLink);\n",
              "        }\n",
              "      </script>\n",
              "    </div>\n",
              "  </div>\n",
              "  "
            ]
          },
          "metadata": {},
          "execution_count": 10
        }
      ],
      "source": [
        "def helper(x):\n",
        "    if ('<=' in x):\n",
        "        return 0\n",
        "    else:\n",
        "        return 1\n",
        "    \n",
        "y = [helper(x) for x in data.iloc[:,14]]\n",
        "final_data['income'] = y\n",
        "final_data"
      ]
    },
    {
      "cell_type": "markdown",
      "id": "5bac4167",
      "metadata": {
        "id": "5bac4167"
      },
      "source": [
        "## Logistic Regression"
      ]
    },
    {
      "cell_type": "markdown",
      "id": "858a3159",
      "metadata": {
        "id": "858a3159"
      },
      "source": [
        "Creating the Logistic regression model..."
      ]
    },
    {
      "cell_type": "code",
      "execution_count": 11,
      "id": "9f06382c",
      "metadata": {
        "id": "9f06382c"
      },
      "outputs": [],
      "source": [
        "x = final_data.iloc[:,0:-1]\n",
        "y = final_data.iloc[:,-1]\n",
        "x_train, x_test, y_train, y_test = train_test_split(x,y,test_size=0.30)\n",
        "\n",
        "LogResModel = LogisticRegression(C=1.0,penalty=\"l2\",multi_class=\"multinomial\",max_iter=10000,tol=1e-2,solver=\"newton-cg\")\n",
        "LogResModel.fit(x_train,y_train)\n",
        "LogResPred = LogResModel.predict(x_test)"
      ]
    },
    {
      "cell_type": "code",
      "execution_count": 12,
      "id": "e4511bf7",
      "metadata": {
        "colab": {
          "base_uri": "https://localhost:8080/"
        },
        "id": "e4511bf7",
        "outputId": "51b7253d-b60f-4d6d-9d30-3522052d1355"
      },
      "outputs": [
        {
          "output_type": "stream",
          "name": "stdout",
          "text": [
            "Accuracy =  0.8511618384686253\n",
            "Confusion Matrix = \n",
            " [[6935  922]\n",
            " [ 532 1380]]\n"
          ]
        }
      ],
      "source": [
        "def LogResResults():\n",
        "    print(\"Accuracy = \",accuracy_score(LogResPred,y_test))\n",
        "    print(\"Confusion Matrix = \\n\",confusion_matrix(LogResPred,y_test))\n",
        "LogResResults()\n",
        "LogResScore = accuracy_score(LogResPred,y_test)"
      ]
    },
    {
      "cell_type": "markdown",
      "id": "e60a3f06",
      "metadata": {
        "id": "e60a3f06"
      },
      "source": [
        "## Support Vector Machine (SVM)"
      ]
    },
    {
      "cell_type": "code",
      "execution_count": 13,
      "id": "6d5a62cd",
      "metadata": {
        "id": "6d5a62cd"
      },
      "outputs": [],
      "source": [
        "SVM_Model = SVC(C = 2, kernel=\"rbf\",tol= 0.001,max_iter=20000)\n",
        "\n",
        "SVM_Model.fit(x_train,y_train)\n",
        "SVM_Pred = SVM_Model.predict(x_test)\n",
        "def SVMResults():\n",
        "    print(\"Accuracy = \",accuracy_score(SVM_Pred,y_test))\n",
        "    print(\"Confusion Matrix = \\n\",confusion_matrix(SVM_Pred,y_test))\n",
        "SVM_Score = accuracy_score(SVM_Pred,y_test)"
      ]
    },
    {
      "cell_type": "code",
      "execution_count": 14,
      "id": "a696a6ce",
      "metadata": {
        "colab": {
          "base_uri": "https://localhost:8080/"
        },
        "id": "a696a6ce",
        "outputId": "e4587cd9-a9d6-4ba7-925c-3e95e5ecaa53"
      },
      "outputs": [
        {
          "output_type": "stream",
          "name": "stdout",
          "text": [
            "Accuracy =  0.7996724332070836\n",
            "Confusion Matrix = \n",
            " [[7448 1938]\n",
            " [  19  364]]\n"
          ]
        }
      ],
      "source": [
        "SVMResults()"
      ]
    },
    {
      "cell_type": "markdown",
      "id": "1fa5f647",
      "metadata": {
        "id": "1fa5f647"
      },
      "source": [
        "## K-Nearest Neighbor"
      ]
    },
    {
      "cell_type": "code",
      "execution_count": 15,
      "id": "083fd753",
      "metadata": {
        "id": "083fd753"
      },
      "outputs": [],
      "source": [
        "KNN_scores = []\n",
        "def KNN_Exp(N):\n",
        "    global KNN_scores\n",
        "    KNN_Model = KNeighborsClassifier(n_neighbors=N)\n",
        "    KNN_Model.fit(x_train,y_train)\n",
        "    KNN_Pred = KNN_Model.predict(x_test)\n",
        "    KNN_scores.append(accuracy_score(KNN_Pred,y_test))\n",
        "    print(\"Accuracy = \",accuracy_score(KNN_Pred,y_test))\n",
        "    print(\"Confusion Matrix = \\n\",confusion_matrix(KNN_Pred,y_test))"
      ]
    },
    {
      "cell_type": "code",
      "execution_count": 16,
      "id": "271cb3b0",
      "metadata": {
        "colab": {
          "base_uri": "https://localhost:8080/"
        },
        "id": "271cb3b0",
        "outputId": "4cfc96ee-6e1d-4e58-dd18-ccad3c946633"
      },
      "outputs": [
        {
          "output_type": "stream",
          "name": "stdout",
          "text": [
            "2\n",
            "Accuracy =  0.7853413860169925\n",
            "Confusion Matrix = \n",
            " [[7080 1710]\n",
            " [ 387  592]]\n",
            "3\n",
            "Accuracy =  0.7549390930494421\n",
            "Confusion Matrix = \n",
            " [[6555 1482]\n",
            " [ 912  820]]\n",
            "4\n",
            "Accuracy =  0.7892312416828744\n",
            "Confusion Matrix = \n",
            " [[7131 1723]\n",
            " [ 336  579]]\n",
            "5\n",
            "Accuracy =  0.7764356638345787\n",
            "Confusion Matrix = \n",
            " [[6867 1584]\n",
            " [ 600  718]]\n",
            "6\n",
            "Accuracy =  0.7927116388576108\n",
            "Confusion Matrix = \n",
            " [[7201 1759]\n",
            " [ 266  543]]\n",
            "7\n",
            "Accuracy =  0.7838059166751971\n",
            "Confusion Matrix = \n",
            " [[7029 1674]\n",
            " [ 438  628]]\n",
            "8\n",
            "Accuracy =  0.7939400143310472\n",
            "Confusion Matrix = \n",
            " [[7243 1789]\n",
            " [ 224  513]]\n",
            "9\n",
            "Accuracy =  0.7904596171563107\n",
            "Confusion Matrix = \n",
            " [[7155 1735]\n",
            " [ 312  567]]\n",
            "10\n",
            "Accuracy =  0.7972156822602109\n",
            "Confusion Matrix = \n",
            " [[7289 1803]\n",
            " [ 178  499]]\n",
            "11\n",
            "Accuracy =  0.7938376497082609\n",
            "Confusion Matrix = \n",
            " [[7210 1757]\n",
            " [ 257  545]]\n"
          ]
        }
      ],
      "source": [
        "for i in np.arange(2,12):\n",
        "    print(i)\n",
        "    KNN_Exp(i)"
      ]
    },
    {
      "cell_type": "code",
      "source": [
        "KNN_scores"
      ],
      "metadata": {
        "colab": {
          "base_uri": "https://localhost:8080/"
        },
        "id": "_TTociHXMvED",
        "outputId": "05f8ee0a-ea0d-4695-fd30-7c3775b0d53c"
      },
      "id": "_TTociHXMvED",
      "execution_count": 17,
      "outputs": [
        {
          "output_type": "execute_result",
          "data": {
            "text/plain": [
              "[0.7853413860169925,\n",
              " 0.7549390930494421,\n",
              " 0.7892312416828744,\n",
              " 0.7764356638345787,\n",
              " 0.7927116388576108,\n",
              " 0.7838059166751971,\n",
              " 0.7939400143310472,\n",
              " 0.7904596171563107,\n",
              " 0.7972156822602109,\n",
              " 0.7938376497082609]"
            ]
          },
          "metadata": {},
          "execution_count": 17
        }
      ]
    },
    {
      "cell_type": "markdown",
      "id": "540198c7",
      "metadata": {
        "id": "540198c7"
      },
      "source": [
        "Highest value is acquired by neighbors of 10. So, n is going to be 10."
      ]
    },
    {
      "cell_type": "markdown",
      "id": "b6f3fa4a",
      "metadata": {
        "id": "b6f3fa4a"
      },
      "source": [
        "## Decision Trees"
      ]
    },
    {
      "cell_type": "code",
      "execution_count": 18,
      "id": "47ac023b",
      "metadata": {
        "colab": {
          "base_uri": "https://localhost:8080/"
        },
        "id": "47ac023b",
        "outputId": "a2ec99ca-d263-4a02-b8e2-dbc256848693"
      },
      "outputs": [
        {
          "output_type": "stream",
          "name": "stdout",
          "text": [
            "0.9896501950185805\n"
          ]
        }
      ],
      "source": [
        "DT_Model = DecisionTreeClassifier(max_depth=36, criterion=\"entropy\")\n",
        "DT_Model.fit(x,y)\n",
        "DT_Score = DT_Model.score(x,y)\n",
        "print(DT_Score)"
      ]
    },
    {
      "cell_type": "code",
      "execution_count": 19,
      "id": "c79bd2af",
      "metadata": {
        "colab": {
          "base_uri": "https://localhost:8080/",
          "height": 1000
        },
        "id": "c79bd2af",
        "outputId": "70414f3b-fe73-4d47-a24f-83d339061601"
      },
      "outputs": [
        {
          "output_type": "execute_result",
          "data": {
            "text/plain": [
              "[Text(0.5072115384615384, 0.9166666666666666, 'X[27] <= 0.5\\nentropy = 0.796\\nsamples = 32561\\nvalue = [24720, 7841]'),\n",
              " Text(0.25961538461538464, 0.75, 'X[105] <= 7073.5\\nentropy = 0.348\\nsamples = 17585\\nvalue = [16436, 1149]'),\n",
              " Text(0.15384615384615385, 0.5833333333333334, 'X[104] <= 12.5\\nentropy = 0.283\\nsamples = 17274\\nvalue = [16425, 849]'),\n",
              " Text(0.07692307692307693, 0.4166666666666667, 'X[102] <= 28.5\\nentropy = 0.167\\nsamples = 13864\\nvalue = [13522, 342]'),\n",
              " Text(0.038461538461538464, 0.25, 'X[102] <= 21.5\\nentropy = 0.043\\nsamples = 6212\\nvalue = [6183, 29]'),\n",
              " Text(0.019230769230769232, 0.08333333333333333, '\\n  (...)  \\n'),\n",
              " Text(0.057692307692307696, 0.08333333333333333, '\\n  (...)  \\n'),\n",
              " Text(0.11538461538461539, 0.25, 'X[107] <= 40.5\\nentropy = 0.246\\nsamples = 7652\\nvalue = [7339, 313]'),\n",
              " Text(0.09615384615384616, 0.08333333333333333, '\\n  (...)  \\n'),\n",
              " Text(0.1346153846153846, 0.08333333333333333, '\\n  (...)  \\n'),\n",
              " Text(0.23076923076923078, 0.4166666666666667, 'X[102] <= 27.5\\nentropy = 0.607\\nsamples = 3410\\nvalue = [2903, 507]'),\n",
              " Text(0.19230769230769232, 0.25, 'X[106] <= 2102.5\\nentropy = 0.13\\nsamples = 1003\\nvalue = [985, 18]'),\n",
              " Text(0.17307692307692307, 0.08333333333333333, '\\n  (...)  \\n'),\n",
              " Text(0.21153846153846154, 0.08333333333333333, '\\n  (...)  \\n'),\n",
              " Text(0.2692307692307692, 0.25, 'X[107] <= 43.5\\nentropy = 0.728\\nsamples = 2407\\nvalue = [1918, 489]'),\n",
              " Text(0.25, 0.08333333333333333, '\\n  (...)  \\n'),\n",
              " Text(0.28846153846153844, 0.08333333333333333, '\\n  (...)  \\n'),\n",
              " Text(0.36538461538461536, 0.5833333333333334, 'X[102] <= 20.5\\nentropy = 0.221\\nsamples = 311\\nvalue = [11, 300]'),\n",
              " Text(0.34615384615384615, 0.4166666666666667, 'entropy = 0.0\\nsamples = 4\\nvalue = [4, 0]'),\n",
              " Text(0.38461538461538464, 0.4166666666666667, 'X[105] <= 8296.0\\nentropy = 0.157\\nsamples = 307\\nvalue = [7, 300]'),\n",
              " Text(0.34615384615384615, 0.25, 'X[104] <= 11.5\\nentropy = 0.9\\nsamples = 19\\nvalue = [6, 13]'),\n",
              " Text(0.3269230769230769, 0.08333333333333333, '\\n  (...)  \\n'),\n",
              " Text(0.36538461538461536, 0.08333333333333333, '\\n  (...)  \\n'),\n",
              " Text(0.4230769230769231, 0.25, 'X[105] <= 30961.5\\nentropy = 0.033\\nsamples = 288\\nvalue = [1, 287]'),\n",
              " Text(0.40384615384615385, 0.08333333333333333, '\\n  (...)  \\n'),\n",
              " Text(0.4423076923076923, 0.08333333333333333, '\\n  (...)  \\n'),\n",
              " Text(0.7548076923076923, 0.75, 'X[104] <= 12.5\\nentropy = 0.992\\nsamples = 14976\\nvalue = [8284, 6692]'),\n",
              " Text(0.6153846153846154, 0.5833333333333334, 'X[105] <= 5095.5\\nentropy = 0.916\\nsamples = 10507\\nvalue = [7029, 3478]'),\n",
              " Text(0.5384615384615384, 0.4166666666666667, 'X[104] <= 8.5\\nentropy = 0.877\\nsamples = 9979\\nvalue = [7018, 2961]'),\n",
              " Text(0.5, 0.25, 'X[102] <= 36.5\\nentropy = 0.472\\nsamples = 1656\\nvalue = [1489, 167]'),\n",
              " Text(0.4807692307692308, 0.08333333333333333, '\\n  (...)  \\n'),\n",
              " Text(0.5192307692307693, 0.08333333333333333, '\\n  (...)  \\n'),\n",
              " Text(0.5769230769230769, 0.25, 'X[102] <= 35.5\\nentropy = 0.921\\nsamples = 8323\\nvalue = [5529, 2794]'),\n",
              " Text(0.5576923076923077, 0.08333333333333333, '\\n  (...)  \\n'),\n",
              " Text(0.5961538461538461, 0.08333333333333333, '\\n  (...)  \\n'),\n",
              " Text(0.6923076923076923, 0.4166666666666667, 'X[102] <= 60.5\\nentropy = 0.146\\nsamples = 528\\nvalue = [11, 517]'),\n",
              " Text(0.6538461538461539, 0.25, 'X[104] <= 1.5\\nentropy = 0.022\\nsamples = 462\\nvalue = [1, 461]'),\n",
              " Text(0.6346153846153846, 0.08333333333333333, '\\n  (...)  \\n'),\n",
              " Text(0.6730769230769231, 0.08333333333333333, '\\n  (...)  \\n'),\n",
              " Text(0.7307692307692307, 0.25, 'X[105] <= 6640.5\\nentropy = 0.614\\nsamples = 66\\nvalue = [10, 56]'),\n",
              " Text(0.7115384615384616, 0.08333333333333333, '\\n  (...)  \\n'),\n",
              " Text(0.75, 0.08333333333333333, '\\n  (...)  \\n'),\n",
              " Text(0.8942307692307693, 0.5833333333333334, 'X[105] <= 5095.5\\nentropy = 0.857\\nsamples = 4469\\nvalue = [1255, 3214]'),\n",
              " Text(0.8461538461538461, 0.4166666666666667, 'X[106] <= 1782.5\\nentropy = 0.915\\nsamples = 3788\\nvalue = [1252, 2536]'),\n",
              " Text(0.8076923076923077, 0.25, 'X[107] <= 31.0\\nentropy = 0.947\\nsamples = 3390\\nvalue = [1239, 2151]'),\n",
              " Text(0.7884615384615384, 0.08333333333333333, '\\n  (...)  \\n'),\n",
              " Text(0.8269230769230769, 0.08333333333333333, '\\n  (...)  \\n'),\n",
              " Text(0.8846153846153846, 0.25, 'X[106] <= 1989.5\\nentropy = 0.208\\nsamples = 398\\nvalue = [13, 385]'),\n",
              " Text(0.8653846153846154, 0.08333333333333333, '\\n  (...)  \\n'),\n",
              " Text(0.9038461538461539, 0.08333333333333333, '\\n  (...)  \\n'),\n",
              " Text(0.9423076923076923, 0.4166666666666667, 'X[102] <= 62.5\\nentropy = 0.041\\nsamples = 681\\nvalue = [3, 678]'),\n",
              " Text(0.9230769230769231, 0.25, 'entropy = 0.0\\nsamples = 609\\nvalue = [0, 609]'),\n",
              " Text(0.9615384615384616, 0.25, 'X[37] <= 0.5\\nentropy = 0.25\\nsamples = 72\\nvalue = [3, 69]'),\n",
              " Text(0.9423076923076923, 0.08333333333333333, '\\n  (...)  \\n'),\n",
              " Text(0.9807692307692307, 0.08333333333333333, '\\n  (...)  \\n')]"
            ]
          },
          "metadata": {},
          "execution_count": 19
        },
        {
          "output_type": "display_data",
          "data": {
            "text/plain": [
              "<Figure size 2880x2880 with 1 Axes>"
            ],
            "image/png": "[encoded data removed]"
          },
          "metadata": {
            "needs_background": "light"
          }
        }
      ],
      "source": [
        "plt.figure(figsize=(12,12), dpi=240)\n",
        "tree.plot_tree(DT_Model,filled = True,max_depth=4)"
      ]
    },
    {
      "cell_type": "markdown",
      "id": "549daeaa",
      "metadata": {
        "id": "549daeaa"
      },
      "source": [
        "## XGBoost"
      ]
    },
    {
      "cell_type": "code",
      "execution_count": 20,
      "id": "42f9d4c6",
      "metadata": {
        "colab": {
          "base_uri": "https://localhost:8080/"
        },
        "id": "42f9d4c6",
        "outputId": "c33ffdc4-6f34-48c8-e7f5-bf73bb0d0e49"
      },
      "outputs": [
        {
          "output_type": "stream",
          "name": "stdout",
          "text": [
            "0.8639574163169209\n"
          ]
        }
      ],
      "source": [
        "XGB_Model = xgb.XGBClassifier()\n",
        "XGB_Model.fit(x_train,y_train)\n",
        "XGB_pred = XGB_Model.predict(x_test)\n",
        "XGB_score = accuracy_score(XGB_pred,y_test)\n",
        "print(XGB_score)\n"
      ]
    },
    {
      "cell_type": "markdown",
      "id": "3aa09b5c",
      "metadata": {
        "id": "3aa09b5c"
      },
      "source": [
        "## Neural Network"
      ]
    },
    {
      "cell_type": "code",
      "execution_count": 21,
      "id": "2ad61a21",
      "metadata": {
        "id": "2ad61a21"
      },
      "outputs": [],
      "source": [
        "NN_model = ks.models.Sequential()\n",
        "\n",
        "NN_model.add(ks.layers.Dense(100, activation='relu', input_dim=108))\n",
        "NN_model.add(ks.layers.Dense(1,activation='sigmoid'))"
      ]
    },
    {
      "cell_type": "code",
      "source": [
        "NN_model.compile(optimizer='adam',\n",
        "              loss='binary_crossentropy',\n",
        "              metrics=['binary_accuracy'])\n",
        "\n",
        "NN_model.compile(loss='binary_crossentropy', \n",
        "              optimizer='adam', \n",
        "              metrics=['binary_accuracy'])\n",
        "\n",
        "NN_model.fit(x_train,y_train,epochs=30,batch_size=100,validation_data=(x_test, y_test))\n",
        "loss, accuracy = NN_model.evaluate(x_train, y_train, verbose=False)\n",
        "print(\"Training Accuracy: {:.4f}\".format(accuracy))\n",
        "loss, NN_score = NN_model.evaluate(x_test, y_test, verbose=False)\n",
        "print(\"Testing Accuracy:  {:.4f}\".format(NN_score))"
      ],
      "metadata": {
        "colab": {
          "base_uri": "https://localhost:8080/"
        },
        "id": "-3a0QGw_6MyF",
        "outputId": "f305b8b8-e39e-41a1-9da7-2a444d42fa5b"
      },
      "id": "-3a0QGw_6MyF",
      "execution_count": 22,
      "outputs": [
        {
          "output_type": "stream",
          "name": "stdout",
          "text": [
            "Epoch 1/30\n",
            "228/228 [==============================] - 1s 4ms/step - loss: 1555.5897 - binary_accuracy: 0.6467 - val_loss: 28.6452 - val_binary_accuracy: 0.7853\n",
            "Epoch 2/30\n",
            "228/228 [==============================] - 1s 3ms/step - loss: 89.2900 - binary_accuracy: 0.6858 - val_loss: 206.4037 - val_binary_accuracy: 0.2356\n",
            "Epoch 3/30\n",
            "228/228 [==============================] - 1s 3ms/step - loss: 103.9796 - binary_accuracy: 0.6854 - val_loss: 102.9348 - val_binary_accuracy: 0.7882\n",
            "Epoch 4/30\n",
            "228/228 [==============================] - 1s 3ms/step - loss: 89.7214 - binary_accuracy: 0.6853 - val_loss: 51.6180 - val_binary_accuracy: 0.7934\n",
            "Epoch 5/30\n",
            "228/228 [==============================] - 1s 3ms/step - loss: 97.2971 - binary_accuracy: 0.6913 - val_loss: 66.1345 - val_binary_accuracy: 0.7863\n",
            "Epoch 6/30\n",
            "228/228 [==============================] - 1s 3ms/step - loss: 52.4690 - binary_accuracy: 0.6891 - val_loss: 56.5880 - val_binary_accuracy: 0.2357\n",
            "Epoch 7/30\n",
            "228/228 [==============================] - 1s 3ms/step - loss: 62.6307 - binary_accuracy: 0.6827 - val_loss: 155.0804 - val_binary_accuracy: 0.7769\n",
            "Epoch 8/30\n",
            "228/228 [==============================] - 1s 3ms/step - loss: 73.3536 - binary_accuracy: 0.6835 - val_loss: 57.3498 - val_binary_accuracy: 0.7922\n",
            "Epoch 9/30\n",
            "228/228 [==============================] - 1s 3ms/step - loss: 67.0547 - binary_accuracy: 0.6898 - val_loss: 13.1175 - val_binary_accuracy: 0.7818\n",
            "Epoch 10/30\n",
            "228/228 [==============================] - 1s 3ms/step - loss: 43.9771 - binary_accuracy: 0.6840 - val_loss: 16.5030 - val_binary_accuracy: 0.6482\n",
            "Epoch 11/30\n",
            "228/228 [==============================] - 1s 3ms/step - loss: 77.7891 - binary_accuracy: 0.6802 - val_loss: 169.9615 - val_binary_accuracy: 0.7849\n",
            "Epoch 12/30\n",
            "228/228 [==============================] - 1s 3ms/step - loss: 66.4257 - binary_accuracy: 0.6892 - val_loss: 14.3897 - val_binary_accuracy: 0.7883\n",
            "Epoch 13/30\n",
            "228/228 [==============================] - 1s 3ms/step - loss: 56.8897 - binary_accuracy: 0.6866 - val_loss: 163.2709 - val_binary_accuracy: 0.7842\n",
            "Epoch 14/30\n",
            "228/228 [==============================] - 1s 3ms/step - loss: 62.8433 - binary_accuracy: 0.6921 - val_loss: 24.1370 - val_binary_accuracy: 0.7998\n",
            "Epoch 15/30\n",
            "228/228 [==============================] - 1s 3ms/step - loss: 31.8035 - binary_accuracy: 0.6956 - val_loss: 8.2202 - val_binary_accuracy: 0.7793\n",
            "Epoch 16/30\n",
            "228/228 [==============================] - 1s 3ms/step - loss: 37.4706 - binary_accuracy: 0.7029 - val_loss: 13.8448 - val_binary_accuracy: 0.4540\n",
            "Epoch 17/30\n",
            "228/228 [==============================] - 1s 3ms/step - loss: 44.7391 - binary_accuracy: 0.6952 - val_loss: 37.5948 - val_binary_accuracy: 0.7950\n",
            "Epoch 18/30\n",
            "228/228 [==============================] - 1s 3ms/step - loss: 52.7389 - binary_accuracy: 0.6937 - val_loss: 163.3987 - val_binary_accuracy: 0.7744\n",
            "Epoch 19/30\n",
            "228/228 [==============================] - 1s 3ms/step - loss: 69.8652 - binary_accuracy: 0.6952 - val_loss: 29.6813 - val_binary_accuracy: 0.7965\n",
            "Epoch 20/30\n",
            "228/228 [==============================] - 1s 5ms/step - loss: 50.5053 - binary_accuracy: 0.6985 - val_loss: 12.8557 - val_binary_accuracy: 0.5850\n",
            "Epoch 21/30\n",
            "228/228 [==============================] - 1s 3ms/step - loss: 36.2603 - binary_accuracy: 0.7044 - val_loss: 13.4878 - val_binary_accuracy: 0.7931\n",
            "Epoch 22/30\n",
            "228/228 [==============================] - 1s 3ms/step - loss: 67.7889 - binary_accuracy: 0.6925 - val_loss: 115.0299 - val_binary_accuracy: 0.2379\n",
            "Epoch 23/30\n",
            "228/228 [==============================] - 1s 3ms/step - loss: 50.4938 - binary_accuracy: 0.7072 - val_loss: 21.0644 - val_binary_accuracy: 0.7928\n",
            "Epoch 24/30\n",
            "228/228 [==============================] - 1s 3ms/step - loss: 50.9476 - binary_accuracy: 0.7076 - val_loss: 24.5414 - val_binary_accuracy: 0.8003\n",
            "Epoch 25/30\n",
            "228/228 [==============================] - 1s 3ms/step - loss: 29.6689 - binary_accuracy: 0.7160 - val_loss: 11.1898 - val_binary_accuracy: 0.6672\n",
            "Epoch 26/30\n",
            "228/228 [==============================] - 1s 3ms/step - loss: 46.5711 - binary_accuracy: 0.7038 - val_loss: 9.1325 - val_binary_accuracy: 0.7963\n",
            "Epoch 27/30\n",
            "228/228 [==============================] - 1s 3ms/step - loss: 30.6476 - binary_accuracy: 0.7136 - val_loss: 81.1169 - val_binary_accuracy: 0.7827\n",
            "Epoch 28/30\n",
            "228/228 [==============================] - 1s 3ms/step - loss: 56.3162 - binary_accuracy: 0.7002 - val_loss: 92.3124 - val_binary_accuracy: 0.7934\n",
            "Epoch 29/30\n",
            "228/228 [==============================] - 1s 3ms/step - loss: 34.6653 - binary_accuracy: 0.7056 - val_loss: 10.5028 - val_binary_accuracy: 0.7894\n",
            "Epoch 30/30\n",
            "228/228 [==============================] - 1s 3ms/step - loss: 34.7600 - binary_accuracy: 0.7088 - val_loss: 16.4996 - val_binary_accuracy: 0.5154\n",
            "Training Accuracy: 0.5209\n",
            "Testing Accuracy:  0.5154\n"
          ]
        }
      ]
    },
    {
      "cell_type": "code",
      "source": [
        "NN_model.summary()\n",
        "clear_session()"
      ],
      "metadata": {
        "colab": {
          "base_uri": "https://localhost:8080/"
        },
        "id": "WjZ6govN-bI6",
        "outputId": "9b006061-492c-4037-b994-df6b9660b5a4"
      },
      "id": "WjZ6govN-bI6",
      "execution_count": 23,
      "outputs": [
        {
          "output_type": "stream",
          "name": "stdout",
          "text": [
            "Model: \"sequential\"\n",
            "_________________________________________________________________\n",
            " Layer (type)                Output Shape              Param #   \n",
            "=================================================================\n",
            " dense (Dense)               (None, 100)               10900     \n",
            "                                                                 \n",
            " dense_1 (Dense)             (None, 1)                 101       \n",
            "                                                                 \n",
            "=================================================================\n",
            "Total params: 11,001\n",
            "Trainable params: 11,001\n",
            "Non-trainable params: 0\n",
            "_________________________________________________________________\n"
          ]
        }
      ]
    },
    {
      "cell_type": "markdown",
      "source": [
        "## Q1 Results"
      ],
      "metadata": {
        "id": "YshlOQoGOTg6"
      },
      "id": "YshlOQoGOTg6"
    },
    {
      "cell_type": "code",
      "source": [
        "Q1Res = pd.DataFrame()\n",
        "Q1Res = Q1Res.append({\"LogRes\":LogResScore,\"SVM\":SVM_Score,\"KNN\":max(KNN_scores),\"DT\":DT_Score,\"XGB\":XGB_score,\"NN\":NN_score},ignore_index = True)\n",
        "Q1Res.head()"
      ],
      "metadata": {
        "colab": {
          "base_uri": "https://localhost:8080/",
          "height": 80
        },
        "id": "XasR-C60Knwg",
        "outputId": "a89735b5-31f2-44d0-e53b-f32c1b14a1b4"
      },
      "id": "XasR-C60Knwg",
      "execution_count": 24,
      "outputs": [
        {
          "output_type": "execute_result",
          "data": {
            "text/plain": [
              "     LogRes       SVM       KNN       DT       XGB        NN\n",
              "0  0.851162  0.799672  0.797216  0.98965  0.863957  0.515406"
            ],
            "text/html": [
              "\n",
              "  <div id=\"df-0b585968-2e29-4034-b7a2-a2f1182fc502\">\n",
              "    <div class=\"colab-df-container\">\n",
              "      <div>\n",
              "<style scoped>\n",
              "    .dataframe tbody tr th:only-of-type {\n",
              "        vertical-align: middle;\n",
              "    }\n",
              "\n",
              "    .dataframe tbody tr th {\n",
              "        vertical-align: top;\n",
              "    }\n",
              "\n",
              "    .dataframe thead th {\n",
              "        text-align: right;\n",
              "    }\n",
              "</style>\n",
              "<table border=\"1\" class=\"dataframe\">\n",
              "  <thead>\n",
              "    <tr style=\"text-align: right;\">\n",
              "      <th></th>\n",
              "      <th>LogRes</th>\n",
              "      <th>SVM</th>\n",
              "      <th>KNN</th>\n",
              "      <th>DT</th>\n",
              "      <th>XGB</th>\n",
              "      <th>NN</th>\n",
              "    </tr>\n",
              "  </thead>\n",
              "  <tbody>\n",
              "    <tr>\n",
              "      <th>0</th>\n",
              "      <td>0.851162</td>\n",
              "      <td>0.799672</td>\n",
              "      <td>0.797216</td>\n",
              "      <td>0.98965</td>\n",
              "      <td>0.863957</td>\n",
              "      <td>0.515406</td>\n",
              "    </tr>\n",
              "  </tbody>\n",
              "</table>\n",
              "</div>\n",
              "      <button class=\"colab-df-convert\" onclick=\"convertToInteractive('df-0b585968-2e29-4034-b7a2-a2f1182fc502')\"\n",
              "              title=\"Convert this dataframe to an interactive table.\"\n",
              "              style=\"display:none;\">\n",
              "        \n",
              "  <svg xmlns=\"http://www.w3.org/2000/svg\" height=\"24px\"viewBox=\"0 0 24 24\"\n",
              "       width=\"24px\">\n",
              "    <path d=\"M0 0h24v24H0V0z\" fill=\"none\"/>\n",
              "    <path d=\"M18.56 5.44l.94 2.06.94-2.06 2.06-.94-2.06-.94-.94-2.06-.94 2.06-2.06.94zm-11 1L8.5 8.5l.94-2.06 2.06-.94-2.06-.94L8.5 2.5l-.94 2.06-2.06.94zm10 10l.94 2.06.94-2.06 2.06-.94-2.06-.94-.94-2.06-.94 2.06-2.06.94z\"/><path d=\"M17.41 7.96l-1.37-1.37c-.4-.4-.92-.59-1.43-.59-.52 0-1.04.2-1.43.59L10.3 9.45l-7.72 7.72c-.78.78-.78 2.05 0 2.83L4 21.41c.39.39.9.59 1.41.59.51 0 1.02-.2 1.41-.59l7.78-7.78 2.81-2.81c.8-.78.8-2.07 0-2.86zM5.41 20L4 18.59l7.72-7.72 1.47 1.35L5.41 20z\"/>\n",
              "  </svg>\n",
              "      </button>\n",
              "      \n",
              "  <style>\n",
              "    .colab-df-container {\n",
              "      display:flex;\n",
              "      flex-wrap:wrap;\n",
              "      gap: 12px;\n",
              "    }\n",
              "\n",
              "    .colab-df-convert {\n",
              "      background-color: #E8F0FE;\n",
              "      border: none;\n",
              "      border-radius: 50%;\n",
              "      cursor: pointer;\n",
              "      display: none;\n",
              "      fill: #1967D2;\n",
              "      height: 32px;\n",
              "      padding: 0 0 0 0;\n",
              "      width: 32px;\n",
              "    }\n",
              "\n",
              "    .colab-df-convert:hover {\n",
              "      background-color: #E2EBFA;\n",
              "      box-shadow: 0px 1px 2px rgba(60, 64, 67, 0.3), 0px 1px 3px 1px rgba(60, 64, 67, 0.15);\n",
              "      fill: #174EA6;\n",
              "    }\n",
              "\n",
              "    [theme=dark] .colab-df-convert {\n",
              "      background-color: #3B4455;\n",
              "      fill: #D2E3FC;\n",
              "    }\n",
              "\n",
              "    [theme=dark] .colab-df-convert:hover {\n",
              "      background-color: #434B5C;\n",
              "      box-shadow: 0px 1px 3px 1px rgba(0, 0, 0, 0.15);\n",
              "      filter: drop-shadow(0px 1px 2px rgba(0, 0, 0, 0.3));\n",
              "      fill: #FFFFFF;\n",
              "    }\n",
              "  </style>\n",
              "\n",
              "      <script>\n",
              "        const buttonEl =\n",
              "          document.querySelector('#df-0b585968-2e29-4034-b7a2-a2f1182fc502 button.colab-df-convert');\n",
              "        buttonEl.style.display =\n",
              "          google.colab.kernel.accessAllowed ? 'block' : 'none';\n",
              "\n",
              "        async function convertToInteractive(key) {\n",
              "          const element = document.querySelector('#df-0b585968-2e29-4034-b7a2-a2f1182fc502');\n",
              "          const dataTable =\n",
              "            await google.colab.kernel.invokeFunction('convertToInteractive',\n",
              "                                                     [key], {});\n",
              "          if (!dataTable) return;\n",
              "\n",
              "          const docLinkHtml = 'Like what you see? Visit the ' +\n",
              "            '<a target=\"_blank\" href=https://colab.research.google.com/notebooks/data_table.ipynb>data table notebook</a>'\n",
              "            + ' to learn more about interactive tables.';\n",
              "          element.innerHTML = '';\n",
              "          dataTable['output_type'] = 'display_data';\n",
              "          await google.colab.output.renderOutput(dataTable, element);\n",
              "          const docLink = document.createElement('div');\n",
              "          docLink.innerHTML = docLinkHtml;\n",
              "          element.appendChild(docLink);\n",
              "        }\n",
              "      </script>\n",
              "    </div>\n",
              "  </div>\n",
              "  "
            ]
          },
          "metadata": {},
          "execution_count": 24
        }
      ]
    },
    {
      "cell_type": "markdown",
      "source": [
        "The winner seems like the Decision Tree Classifier."
      ],
      "metadata": {
        "id": "Y5sVF0m9e4w2"
      },
      "id": "Y5sVF0m9e4w2"
    },
    {
      "cell_type": "markdown",
      "id": "e5d24982",
      "metadata": {
        "id": "e5d24982"
      },
      "source": [
        "# Q2\n",
        "\n",
        "For this question we are going to use [the Dry Bean Dataset](https://archive.ics.uci.edu/ml/datasets/Dry+Bean+Dataset):\n",
        "\n",
        "Construct \n",
        "\n",
        "- Logistic regression\n",
        "- SVM\n",
        "- KNN\n",
        "- Decision tree\n",
        "- Gradient Boost (XGBoost)\n",
        "- Neural network\n",
        "\n",
        "models for the data. Cross-validate your models and measure the accuracies. Compare them putting the accuracies in a table."
      ]
    },
    {
      "cell_type": "markdown",
      "source": [
        "## Data Handling"
      ],
      "metadata": {
        "id": "_-0plue2SDW8"
      },
      "id": "_-0plue2SDW8"
    },
    {
      "cell_type": "code",
      "execution_count": 25,
      "id": "928cc867",
      "metadata": {
        "colab": {
          "base_uri": "https://localhost:8080/",
          "height": 483
        },
        "id": "928cc867",
        "outputId": "cea94f35-6450-406b-ba71-fa550e3aa516"
      },
      "outputs": [
        {
          "output_type": "execute_result",
          "data": {
            "text/plain": [
              "        Area  Perimeter  MajorAxisLength  MinorAxisLength  AspectRation  \\\n",
              "0      28395    610.291       208.178117       173.888747      1.197191   \n",
              "1      28734    638.018       200.524796       182.734419      1.097356   \n",
              "2      29380    624.110       212.826130       175.931143      1.209713   \n",
              "3      30008    645.884       210.557999       182.516516      1.153638   \n",
              "4      30140    620.134       201.847882       190.279279      1.060798   \n",
              "...      ...        ...              ...              ...           ...   \n",
              "13606  42097    759.696       288.721612       185.944705      1.552728   \n",
              "13607  42101    757.499       281.576392       190.713136      1.476439   \n",
              "13608  42139    759.321       281.539928       191.187979      1.472582   \n",
              "13609  42147    763.779       283.382636       190.275731      1.489326   \n",
              "13610  42159    772.237       295.142741       182.204716      1.619841   \n",
              "\n",
              "       Eccentricity  ConvexArea  EquivDiameter    Extent  Solidity  roundness  \\\n",
              "0          0.549812       28715     190.141097  0.763923  0.988856   0.958027   \n",
              "1          0.411785       29172     191.272750  0.783968  0.984986   0.887034   \n",
              "2          0.562727       29690     193.410904  0.778113  0.989559   0.947849   \n",
              "3          0.498616       30724     195.467062  0.782681  0.976696   0.903936   \n",
              "4          0.333680       30417     195.896503  0.773098  0.990893   0.984877   \n",
              "...             ...         ...            ...       ...       ...        ...   \n",
              "13606      0.765002       42508     231.515799  0.714574  0.990331   0.916603   \n",
              "13607      0.735702       42494     231.526798  0.799943  0.990752   0.922015   \n",
              "13608      0.734065       42569     231.631261  0.729932  0.989899   0.918424   \n",
              "13609      0.741055       42667     231.653248  0.705389  0.987813   0.907906   \n",
              "13610      0.786693       42600     231.686223  0.788962  0.989648   0.888380   \n",
              "\n",
              "       Compactness  ShapeFactor1  ShapeFactor2  ShapeFactor3  ShapeFactor4  \\\n",
              "0         0.913358      0.007332      0.003147      0.834222      0.998724   \n",
              "1         0.953861      0.006979      0.003564      0.909851      0.998430   \n",
              "2         0.908774      0.007244      0.003048      0.825871      0.999066   \n",
              "3         0.928329      0.007017      0.003215      0.861794      0.994199   \n",
              "4         0.970516      0.006697      0.003665      0.941900      0.999166   \n",
              "...            ...           ...           ...           ...           ...   \n",
              "13606     0.801865      0.006858      0.001749      0.642988      0.998385   \n",
              "13607     0.822252      0.006688      0.001886      0.676099      0.998219   \n",
              "13608     0.822730      0.006681      0.001888      0.676884      0.996767   \n",
              "13609     0.817457      0.006724      0.001852      0.668237      0.995222   \n",
              "13610     0.784997      0.007001      0.001640      0.616221      0.998180   \n",
              "\n",
              "          Class  \n",
              "0         SEKER  \n",
              "1         SEKER  \n",
              "2         SEKER  \n",
              "3         SEKER  \n",
              "4         SEKER  \n",
              "...         ...  \n",
              "13606  DERMASON  \n",
              "13607  DERMASON  \n",
              "13608  DERMASON  \n",
              "13609  DERMASON  \n",
              "13610  DERMASON  \n",
              "\n",
              "[13611 rows x 17 columns]"
            ],
            "text/html": [
              "\n",
              "  <div id=\"df-96a20b58-f882-4dd5-9dee-a9c5477fabec\">\n",
              "    <div class=\"colab-df-container\">\n",
              "      <div>\n",
              "<style scoped>\n",
              "    .dataframe tbody tr th:only-of-type {\n",
              "        vertical-align: middle;\n",
              "    }\n",
              "\n",
              "    .dataframe tbody tr th {\n",
              "        vertical-align: top;\n",
              "    }\n",
              "\n",
              "    .dataframe thead th {\n",
              "        text-align: right;\n",
              "    }\n",
              "</style>\n",
              "<table border=\"1\" class=\"dataframe\">\n",
              "  <thead>\n",
              "    <tr style=\"text-align: right;\">\n",
              "      <th></th>\n",
              "      <th>Area</th>\n",
              "      <th>Perimeter</th>\n",
              "      <th>MajorAxisLength</th>\n",
              "      <th>MinorAxisLength</th>\n",
              "      <th>AspectRation</th>\n",
              "      <th>Eccentricity</th>\n",
              "      <th>ConvexArea</th>\n",
              "      <th>EquivDiameter</th>\n",
              "      <th>Extent</th>\n",
              "      <th>Solidity</th>\n",
              "      <th>roundness</th>\n",
              "      <th>Compactness</th>\n",
              "      <th>ShapeFactor1</th>\n",
              "      <th>ShapeFactor2</th>\n",
              "      <th>ShapeFactor3</th>\n",
              "      <th>ShapeFactor4</th>\n",
              "      <th>Class</th>\n",
              "    </tr>\n",
              "  </thead>\n",
              "  <tbody>\n",
              "    <tr>\n",
              "      <th>0</th>\n",
              "      <td>28395</td>\n",
              "      <td>610.291</td>\n",
              "      <td>208.178117</td>\n",
              "      <td>173.888747</td>\n",
              "      <td>1.197191</td>\n",
              "      <td>0.549812</td>\n",
              "      <td>28715</td>\n",
              "      <td>190.141097</td>\n",
              "      <td>0.763923</td>\n",
              "      <td>0.988856</td>\n",
              "      <td>0.958027</td>\n",
              "      <td>0.913358</td>\n",
              "      <td>0.007332</td>\n",
              "      <td>0.003147</td>\n",
              "      <td>0.834222</td>\n",
              "      <td>0.998724</td>\n",
              "      <td>SEKER</td>\n",
              "    </tr>\n",
              "    <tr>\n",
              "      <th>1</th>\n",
              "      <td>28734</td>\n",
              "      <td>638.018</td>\n",
              "      <td>200.524796</td>\n",
              "      <td>182.734419</td>\n",
              "      <td>1.097356</td>\n",
              "      <td>0.411785</td>\n",
              "      <td>29172</td>\n",
              "      <td>191.272750</td>\n",
              "      <td>0.783968</td>\n",
              "      <td>0.984986</td>\n",
              "      <td>0.887034</td>\n",
              "      <td>0.953861</td>\n",
              "      <td>0.006979</td>\n",
              "      <td>0.003564</td>\n",
              "      <td>0.909851</td>\n",
              "      <td>0.998430</td>\n",
              "      <td>SEKER</td>\n",
              "    </tr>\n",
              "    <tr>\n",
              "      <th>2</th>\n",
              "      <td>29380</td>\n",
              "      <td>624.110</td>\n",
              "      <td>212.826130</td>\n",
              "      <td>175.931143</td>\n",
              "      <td>1.209713</td>\n",
              "      <td>0.562727</td>\n",
              "      <td>29690</td>\n",
              "      <td>193.410904</td>\n",
              "      <td>0.778113</td>\n",
              "      <td>0.989559</td>\n",
              "      <td>0.947849</td>\n",
              "      <td>0.908774</td>\n",
              "      <td>0.007244</td>\n",
              "      <td>0.003048</td>\n",
              "      <td>0.825871</td>\n",
              "      <td>0.999066</td>\n",
              "      <td>SEKER</td>\n",
              "    </tr>\n",
              "    <tr>\n",
              "      <th>3</th>\n",
              "      <td>30008</td>\n",
              "      <td>645.884</td>\n",
              "      <td>210.557999</td>\n",
              "      <td>182.516516</td>\n",
              "      <td>1.153638</td>\n",
              "      <td>0.498616</td>\n",
              "      <td>30724</td>\n",
              "      <td>195.467062</td>\n",
              "      <td>0.782681</td>\n",
              "      <td>0.976696</td>\n",
              "      <td>0.903936</td>\n",
              "      <td>0.928329</td>\n",
              "      <td>0.007017</td>\n",
              "      <td>0.003215</td>\n",
              "      <td>0.861794</td>\n",
              "      <td>0.994199</td>\n",
              "      <td>SEKER</td>\n",
              "    </tr>\n",
              "    <tr>\n",
              "      <th>4</th>\n",
              "      <td>30140</td>\n",
              "      <td>620.134</td>\n",
              "      <td>201.847882</td>\n",
              "      <td>190.279279</td>\n",
              "      <td>1.060798</td>\n",
              "      <td>0.333680</td>\n",
              "      <td>30417</td>\n",
              "      <td>195.896503</td>\n",
              "      <td>0.773098</td>\n",
              "      <td>0.990893</td>\n",
              "      <td>0.984877</td>\n",
              "      <td>0.970516</td>\n",
              "      <td>0.006697</td>\n",
              "      <td>0.003665</td>\n",
              "      <td>0.941900</td>\n",
              "      <td>0.999166</td>\n",
              "      <td>SEKER</td>\n",
              "    </tr>\n",
              "    <tr>\n",
              "      <th>...</th>\n",
              "      <td>...</td>\n",
              "      <td>...</td>\n",
              "      <td>...</td>\n",
              "      <td>...</td>\n",
              "      <td>...</td>\n",
              "      <td>...</td>\n",
              "      <td>...</td>\n",
              "      <td>...</td>\n",
              "      <td>...</td>\n",
              "      <td>...</td>\n",
              "      <td>...</td>\n",
              "      <td>...</td>\n",
              "      <td>...</td>\n",
              "      <td>...</td>\n",
              "      <td>...</td>\n",
              "      <td>...</td>\n",
              "      <td>...</td>\n",
              "    </tr>\n",
              "    <tr>\n",
              "      <th>13606</th>\n",
              "      <td>42097</td>\n",
              "      <td>759.696</td>\n",
              "      <td>288.721612</td>\n",
              "      <td>185.944705</td>\n",
              "      <td>1.552728</td>\n",
              "      <td>0.765002</td>\n",
              "      <td>42508</td>\n",
              "      <td>231.515799</td>\n",
              "      <td>0.714574</td>\n",
              "      <td>0.990331</td>\n",
              "      <td>0.916603</td>\n",
              "      <td>0.801865</td>\n",
              "      <td>0.006858</td>\n",
              "      <td>0.001749</td>\n",
              "      <td>0.642988</td>\n",
              "      <td>0.998385</td>\n",
              "      <td>DERMASON</td>\n",
              "    </tr>\n",
              "    <tr>\n",
              "      <th>13607</th>\n",
              "      <td>42101</td>\n",
              "      <td>757.499</td>\n",
              "      <td>281.576392</td>\n",
              "      <td>190.713136</td>\n",
              "      <td>1.476439</td>\n",
              "      <td>0.735702</td>\n",
              "      <td>42494</td>\n",
              "      <td>231.526798</td>\n",
              "      <td>0.799943</td>\n",
              "      <td>0.990752</td>\n",
              "      <td>0.922015</td>\n",
              "      <td>0.822252</td>\n",
              "      <td>0.006688</td>\n",
              "      <td>0.001886</td>\n",
              "      <td>0.676099</td>\n",
              "      <td>0.998219</td>\n",
              "      <td>DERMASON</td>\n",
              "    </tr>\n",
              "    <tr>\n",
              "      <th>13608</th>\n",
              "      <td>42139</td>\n",
              "      <td>759.321</td>\n",
              "      <td>281.539928</td>\n",
              "      <td>191.187979</td>\n",
              "      <td>1.472582</td>\n",
              "      <td>0.734065</td>\n",
              "      <td>42569</td>\n",
              "      <td>231.631261</td>\n",
              "      <td>0.729932</td>\n",
              "      <td>0.989899</td>\n",
              "      <td>0.918424</td>\n",
              "      <td>0.822730</td>\n",
              "      <td>0.006681</td>\n",
              "      <td>0.001888</td>\n",
              "      <td>0.676884</td>\n",
              "      <td>0.996767</td>\n",
              "      <td>DERMASON</td>\n",
              "    </tr>\n",
              "    <tr>\n",
              "      <th>13609</th>\n",
              "      <td>42147</td>\n",
              "      <td>763.779</td>\n",
              "      <td>283.382636</td>\n",
              "      <td>190.275731</td>\n",
              "      <td>1.489326</td>\n",
              "      <td>0.741055</td>\n",
              "      <td>42667</td>\n",
              "      <td>231.653248</td>\n",
              "      <td>0.705389</td>\n",
              "      <td>0.987813</td>\n",
              "      <td>0.907906</td>\n",
              "      <td>0.817457</td>\n",
              "      <td>0.006724</td>\n",
              "      <td>0.001852</td>\n",
              "      <td>0.668237</td>\n",
              "      <td>0.995222</td>\n",
              "      <td>DERMASON</td>\n",
              "    </tr>\n",
              "    <tr>\n",
              "      <th>13610</th>\n",
              "      <td>42159</td>\n",
              "      <td>772.237</td>\n",
              "      <td>295.142741</td>\n",
              "      <td>182.204716</td>\n",
              "      <td>1.619841</td>\n",
              "      <td>0.786693</td>\n",
              "      <td>42600</td>\n",
              "      <td>231.686223</td>\n",
              "      <td>0.788962</td>\n",
              "      <td>0.989648</td>\n",
              "      <td>0.888380</td>\n",
              "      <td>0.784997</td>\n",
              "      <td>0.007001</td>\n",
              "      <td>0.001640</td>\n",
              "      <td>0.616221</td>\n",
              "      <td>0.998180</td>\n",
              "      <td>DERMASON</td>\n",
              "    </tr>\n",
              "  </tbody>\n",
              "</table>\n",
              "<p>13611 rows × 17 columns</p>\n",
              "</div>\n",
              "      <button class=\"colab-df-convert\" onclick=\"convertToInteractive('df-96a20b58-f882-4dd5-9dee-a9c5477fabec')\"\n",
              "              title=\"Convert this dataframe to an interactive table.\"\n",
              "              style=\"display:none;\">\n",
              "        \n",
              "  <svg xmlns=\"http://www.w3.org/2000/svg\" height=\"24px\"viewBox=\"0 0 24 24\"\n",
              "       width=\"24px\">\n",
              "    <path d=\"M0 0h24v24H0V0z\" fill=\"none\"/>\n",
              "    <path d=\"M18.56 5.44l.94 2.06.94-2.06 2.06-.94-2.06-.94-.94-2.06-.94 2.06-2.06.94zm-11 1L8.5 8.5l.94-2.06 2.06-.94-2.06-.94L8.5 2.5l-.94 2.06-2.06.94zm10 10l.94 2.06.94-2.06 2.06-.94-2.06-.94-.94-2.06-.94 2.06-2.06.94z\"/><path d=\"M17.41 7.96l-1.37-1.37c-.4-.4-.92-.59-1.43-.59-.52 0-1.04.2-1.43.59L10.3 9.45l-7.72 7.72c-.78.78-.78 2.05 0 2.83L4 21.41c.39.39.9.59 1.41.59.51 0 1.02-.2 1.41-.59l7.78-7.78 2.81-2.81c.8-.78.8-2.07 0-2.86zM5.41 20L4 18.59l7.72-7.72 1.47 1.35L5.41 20z\"/>\n",
              "  </svg>\n",
              "      </button>\n",
              "      \n",
              "  <style>\n",
              "    .colab-df-container {\n",
              "      display:flex;\n",
              "      flex-wrap:wrap;\n",
              "      gap: 12px;\n",
              "    }\n",
              "\n",
              "    .colab-df-convert {\n",
              "      background-color: #E8F0FE;\n",
              "      border: none;\n",
              "      border-radius: 50%;\n",
              "      cursor: pointer;\n",
              "      display: none;\n",
              "      fill: #1967D2;\n",
              "      height: 32px;\n",
              "      padding: 0 0 0 0;\n",
              "      width: 32px;\n",
              "    }\n",
              "\n",
              "    .colab-df-convert:hover {\n",
              "      background-color: #E2EBFA;\n",
              "      box-shadow: 0px 1px 2px rgba(60, 64, 67, 0.3), 0px 1px 3px 1px rgba(60, 64, 67, 0.15);\n",
              "      fill: #174EA6;\n",
              "    }\n",
              "\n",
              "    [theme=dark] .colab-df-convert {\n",
              "      background-color: #3B4455;\n",
              "      fill: #D2E3FC;\n",
              "    }\n",
              "\n",
              "    [theme=dark] .colab-df-convert:hover {\n",
              "      background-color: #434B5C;\n",
              "      box-shadow: 0px 1px 3px 1px rgba(0, 0, 0, 0.15);\n",
              "      filter: drop-shadow(0px 1px 2px rgba(0, 0, 0, 0.3));\n",
              "      fill: #FFFFFF;\n",
              "    }\n",
              "  </style>\n",
              "\n",
              "      <script>\n",
              "        const buttonEl =\n",
              "          document.querySelector('#df-96a20b58-f882-4dd5-9dee-a9c5477fabec button.colab-df-convert');\n",
              "        buttonEl.style.display =\n",
              "          google.colab.kernel.accessAllowed ? 'block' : 'none';\n",
              "\n",
              "        async function convertToInteractive(key) {\n",
              "          const element = document.querySelector('#df-96a20b58-f882-4dd5-9dee-a9c5477fabec');\n",
              "          const dataTable =\n",
              "            await google.colab.kernel.invokeFunction('convertToInteractive',\n",
              "                                                     [key], {});\n",
              "          if (!dataTable) return;\n",
              "\n",
              "          const docLinkHtml = 'Like what you see? Visit the ' +\n",
              "            '<a target=\"_blank\" href=https://colab.research.google.com/notebooks/data_table.ipynb>data table notebook</a>'\n",
              "            + ' to learn more about interactive tables.';\n",
              "          element.innerHTML = '';\n",
              "          dataTable['output_type'] = 'display_data';\n",
              "          await google.colab.output.renderOutput(dataTable, element);\n",
              "          const docLink = document.createElement('div');\n",
              "          docLink.innerHTML = docLinkHtml;\n",
              "          element.appendChild(docLink);\n",
              "        }\n",
              "      </script>\n",
              "    </div>\n",
              "  </div>\n",
              "  "
            ]
          },
          "metadata": {},
          "execution_count": 25
        }
      ],
      "source": [
        "with urlopen('https://archive.ics.uci.edu/ml/machine-learning-databases/00602/DryBeanDataset.zip') as url:\n",
        "    zf = ZipFile(BytesIO(url.read()))\n",
        "    data = pd.read_excel(zf.open('DryBeanDataset/Dry_Bean_Dataset.xlsx'))\n",
        "    \n",
        "data"
      ]
    },
    {
      "cell_type": "markdown",
      "source": [
        "Doing the same process to the outcomes as above. This time, instead of income, we have several classes so we need to use several labels."
      ],
      "metadata": {
        "id": "A8BTPfZ_Rj44"
      },
      "id": "A8BTPfZ_Rj44"
    },
    {
      "cell_type": "code",
      "source": [
        "le = LabelEncoder()\n",
        "data['Class'] = le.fit_transform(data['Class'])\n",
        "data['Class']"
      ],
      "metadata": {
        "colab": {
          "base_uri": "https://localhost:8080/"
        },
        "id": "KegypOKFQ7Kt",
        "outputId": "91ccb355-5290-41eb-feea-42c5ded0bb14"
      },
      "id": "KegypOKFQ7Kt",
      "execution_count": 26,
      "outputs": [
        {
          "output_type": "execute_result",
          "data": {
            "text/plain": [
              "0        5\n",
              "1        5\n",
              "2        5\n",
              "3        5\n",
              "4        5\n",
              "        ..\n",
              "13606    3\n",
              "13607    3\n",
              "13608    3\n",
              "13609    3\n",
              "13610    3\n",
              "Name: Class, Length: 13611, dtype: int64"
            ]
          },
          "metadata": {},
          "execution_count": 26
        }
      ]
    },
    {
      "cell_type": "code",
      "source": [
        "x2 = data.iloc[:,0:-1]\n",
        "y2 = data.iloc[:,-1]"
      ],
      "metadata": {
        "id": "eGZYetk3SLm8"
      },
      "id": "eGZYetk3SLm8",
      "execution_count": 27,
      "outputs": []
    },
    {
      "cell_type": "markdown",
      "source": [
        "## Logistic Regression"
      ],
      "metadata": {
        "id": "YL2fnZP8R5h8"
      },
      "id": "YL2fnZP8R5h8"
    },
    {
      "cell_type": "code",
      "source": [
        "x2_train, x2_test, y2_train, y2_test = train_test_split(x2,y2,test_size=0.30)\n",
        "\n",
        "LogResModel2 = LogisticRegression(C=1.0,solver=\"lbfgs\",multi_class=\"multinomial\",max_iter=10000,tol=1e-1)\n",
        "LogResModel2.fit(x2_train,y2_train)\n",
        "LogResPred2 = LogResModel2.predict(x2_test)\n",
        "\n",
        "def LogResResults2():\n",
        "    print(\"Accuracy = \",accuracy_score(LogResPred2,y2_test))\n",
        "    print(\"Confusion Matrix = \\n\",confusion_matrix(LogResPred2,y2_test))\n",
        "LogResResults2()\n",
        "LogResScore2 = accuracy_score(LogResPred2,y2_test)"
      ],
      "metadata": {
        "colab": {
          "base_uri": "https://localhost:8080/"
        },
        "id": "-xulEqzYSJDQ",
        "outputId": "f292a336-846c-4d6d-f89d-5d0d2e4b5294"
      },
      "id": "-xulEqzYSJDQ",
      "execution_count": 28,
      "outputs": [
        {
          "output_type": "stream",
          "name": "stdout",
          "text": [
            "Accuracy =  0.9106268364348677\n",
            "Confusion Matrix = \n",
            " [[361   0  19   0   2   1   4]\n",
            " [  0 159   0   0   0   0   0]\n",
            " [ 33   0 422   0  10   1   3]\n",
            " [  0   0   0 958   9  16  79]\n",
            " [  4   0  13   2 519   1  13]\n",
            " [  3   0   1  17   0 592  15]\n",
            " [  8   0   6  69  10  26 708]]\n"
          ]
        }
      ]
    },
    {
      "cell_type": "markdown",
      "source": [
        "## Support Vector Machine"
      ],
      "metadata": {
        "id": "XtaOrdIxVW0F"
      },
      "id": "XtaOrdIxVW0F"
    },
    {
      "cell_type": "code",
      "source": [
        "SVM_Model2 = SVC(C = 2, kernel=\"rbf\",tol= 0.001,max_iter=20000)\n",
        "\n",
        "SVM_Model2.fit(x2_train,y2_train)\n",
        "SVM_Pred2 = SVM_Model2.predict(x2_test)\n",
        "def SVMResults():\n",
        "    print(\"Accuracy = \",accuracy_score(SVM_Pred2,y2_test))\n",
        "    print(\"Confusion Matrix = \\n\",confusion_matrix(SVM_Pred2,y2_test))\n",
        "SVM_Score2 = accuracy_score(SVM_Pred2,y2_test)"
      ],
      "metadata": {
        "id": "mcjIsWyuVbTM"
      },
      "id": "mcjIsWyuVbTM",
      "execution_count": 29,
      "outputs": []
    },
    {
      "cell_type": "markdown",
      "source": [
        "## K-Nearest Neighbor"
      ],
      "metadata": {
        "id": "az_mwUlVVvqk"
      },
      "id": "az_mwUlVVvqk"
    },
    {
      "cell_type": "code",
      "source": [
        "KNN_scores2 = []\n",
        "def KNN_Exp(N):\n",
        "    global KNN_scores2\n",
        "    KNN_Model2 = KNeighborsClassifier(n_neighbors=N)\n",
        "    KNN_Model2.fit(x2_train,y2_train)\n",
        "    KNN_Pred2 = KNN_Model2.predict(x2_test)\n",
        "    KNN_scores2.append(accuracy_score(KNN_Pred2,y2_test))\n",
        "    print(\"Accuracy = \",accuracy_score(KNN_Pred2,y2_test))\n",
        "    print(\"Confusion Matrix = \\n\",confusion_matrix(KNN_Pred2,y2_test))\n",
        "  \n",
        "for i in np.arange(2,12):\n",
        "    print(i)\n",
        "    KNN_Exp(i)"
      ],
      "metadata": {
        "colab": {
          "base_uri": "https://localhost:8080/"
        },
        "id": "o9ihIjsSYRW6",
        "outputId": "fb21c8d7-579e-4ea8-d819-0e9b0f2fd78d"
      },
      "id": "o9ihIjsSYRW6",
      "execution_count": 30,
      "outputs": [
        {
          "output_type": "stream",
          "name": "stdout",
          "text": [
            "2\n",
            "Accuracy =  0.6914789422135161\n",
            "Confusion Matrix = \n",
            " [[277   0 223   0  68   2  22]\n",
            " [  1 159   1   0   0   0   0]\n",
            " [102   0 222   0  51   1   5]\n",
            " [  0   0   0 966  28 182 158]\n",
            " [ 18   0  13   7 369  11 104]\n",
            " [  2   0   1  47   3 386  88]\n",
            " [  9   0   1  26  31  55 445]]\n",
            "3\n",
            "Accuracy =  0.713026444662096\n",
            "Confusion Matrix = \n",
            " [[196   0 127   0  47   0  14]\n",
            " [  0 159   0   0   0   0   0]\n",
            " [162   0 301   0  27   1   7]\n",
            " [  0   0   0 918  24 135 118]\n",
            " [ 39   0  31   4 368   9  69]\n",
            " [  0   0   1  62   1 398  42]\n",
            " [ 12   0   1  62  83  94 572]]\n",
            "4\n",
            "Accuracy =  0.7115572967678746\n",
            "Confusion Matrix = \n",
            " [[242   0 178   0  41   0  11]\n",
            " [  1 159   1   0   0   0   0]\n",
            " [119   0 251   0  35   0   0]\n",
            " [  0   0   0 941  23 146 111]\n",
            " [ 38   0  29   2 382  11  92]\n",
            " [  0   0   1  50   1 390  67]\n",
            " [  9   0   1  53  68  90 541]]\n",
            "5\n",
            "Accuracy =  0.713026444662096\n",
            "Confusion Matrix = \n",
            " [[199   0 126   0  42   0   7]\n",
            " [  0 159   0   0   0   0   0]\n",
            " [150   0 307   0  24   0   0]\n",
            " [  0   0   0 925  26 142 109]\n",
            " [ 49   0  26   1 373  12  90]\n",
            " [  0   0   1  69   0 376  43]\n",
            " [ 11   0   1  51  85 107 573]]\n",
            "6\n",
            "Accuracy =  0.7002938295788442\n",
            "Confusion Matrix = \n",
            " [[213   0 163   0  43   0   6]\n",
            " [  0 159   0   0   0   0   0]\n",
            " [129   0 265   0  28   0   1]\n",
            " [  0   0   0 933  26 163 113]\n",
            " [ 57   0  31   1 376  11  94]\n",
            " [  0   0   1  60   0 359  53]\n",
            " [ 10   0   1  52  77 104 555]]\n",
            "7\n",
            "Accuracy =  0.7049461312438785\n",
            "Confusion Matrix = \n",
            " [[187   0 118   0  28   0   5]\n",
            " [  0 159   0   0   0   0   0]\n",
            " [154   0 305   0  31   0   1]\n",
            " [  0   0   0 918  24 150 107]\n",
            " [ 56   0  36   1 373  10  84]\n",
            " [  0   0   1  71   0 355  43]\n",
            " [ 12   0   1  56  94 122 582]]\n",
            "8\n",
            "Accuracy =  0.6963761018609207\n",
            "Confusion Matrix = \n",
            " [[200   0 153   0  29   0   5]\n",
            " [  0 159   0   0   0   0   0]\n",
            " [134   0 273   0  30   0   0]\n",
            " [  0   0   0 924  22 170 115]\n",
            " [ 65   0  33   1 376  11  89]\n",
            " [  0   0   1  70   1 343  44]\n",
            " [ 10   0   1  51  92 113 569]]\n",
            "9\n",
            "Accuracy =  0.6939275220372184\n",
            "Confusion Matrix = \n",
            " [[185   0 126   0  29   0   2]\n",
            " [  0 159   0   0   0   0   0]\n",
            " [154   0 300   0  25   0   0]\n",
            " [  0   0   0 917  23 165 112]\n",
            " [ 60   0  33   0 363  11  93]\n",
            " [  0   0   1  77   1 335  40]\n",
            " [ 10   0   1  52 109 126 575]]\n",
            "10\n",
            "Accuracy =  0.6919686581782566\n",
            "Confusion Matrix = \n",
            " [[193   0 137   0  25   0   1]\n",
            " [  0 159   0   0   0   0   0]\n",
            " [137   0 286   0  28   0   0]\n",
            " [  0   0   0 922  21 173 115]\n",
            " [ 70   0  36   0 367  11  96]\n",
            " [  0   0   1  76   1 333  44]\n",
            " [  9   0   1  48 108 120 566]]\n",
            "11\n",
            "Accuracy =  0.6890303623898139\n",
            "Confusion Matrix = \n",
            " [[183   0 120   0  27   0   0]\n",
            " [  0 159   0   0   0   0   0]\n",
            " [148   0 302   0  27   0   0]\n",
            " [  0   0   0 923  22 175 114]\n",
            " [ 68   0  37   0 352  10  89]\n",
            " [  0   0   1  81   1 315  39]\n",
            " [ 10   0   1  42 121 137 580]]\n"
          ]
        }
      ]
    },
    {
      "cell_type": "markdown",
      "source": [
        "## Decision Tree"
      ],
      "metadata": {
        "id": "CJDRmsGrV0RO"
      },
      "id": "CJDRmsGrV0RO"
    },
    {
      "cell_type": "code",
      "source": [
        "DT_Model2 = DecisionTreeClassifier(max_depth=36, criterion=\"entropy\")\n",
        "DT_Model2.fit(x2,y2)\n",
        "DT_Score2 = DT_Model2.score(x2,y2)\n",
        "print(DT_Score2)"
      ],
      "metadata": {
        "colab": {
          "base_uri": "https://localhost:8080/"
        },
        "id": "_uetMEvDYs3Y",
        "outputId": "54df7903-938f-42fb-9c52-b060f450e83b"
      },
      "id": "_uetMEvDYs3Y",
      "execution_count": 31,
      "outputs": [
        {
          "output_type": "stream",
          "name": "stdout",
          "text": [
            "1.0\n"
          ]
        }
      ]
    },
    {
      "cell_type": "code",
      "source": [
        "plt.figure(figsize=(12,12), dpi=240)\n",
        "tree.plot_tree(DT_Model2,filled = True,max_depth=4)"
      ],
      "metadata": {
        "colab": {
          "base_uri": "https://localhost:8080/",
          "height": 1000
        },
        "id": "aJ0K5B8yY_2R",
        "outputId": "6b24199f-3137-457c-d55c-3c52f88946e7"
      },
      "id": "aJ0K5B8yY_2R",
      "execution_count": 32,
      "outputs": [
        {
          "output_type": "execute_result",
          "data": {
            "text/plain": [
              "[Text(0.5145833333333333, 0.9166666666666666, 'X[2] <= 328.881\\nentropy = 2.647\\nsamples = 13611\\nvalue = [1322, 522, 1630, 3546, 1928, 2027, 2636]'),\n",
              " Text(0.26666666666666666, 0.75, 'X[3] <= 181.384\\nentropy = 1.753\\nsamples = 8298\\nvalue = [136, 0, 7, 3546, 156, 2023, 2430]'),\n",
              " Text(0.13333333333333333, 0.5833333333333334, 'X[1] <= 704.897\\nentropy = 0.755\\nsamples = 3695\\nvalue = [1, 0, 0, 3151, 141, 17, 385]'),\n",
              " Text(0.06666666666666667, 0.4166666666666667, 'X[1] <= 668.069\\nentropy = 0.169\\nsamples = 2708\\nvalue = [0, 0, 0, 2653, 5, 16, 34]'),\n",
              " Text(0.03333333333333333, 0.25, 'X[12] <= 0.007\\nentropy = 0.048\\nsamples = 1873\\nvalue = [0, 0, 0, 1863, 0, 10, 0]'),\n",
              " Text(0.016666666666666666, 0.08333333333333333, '\\n  (...)  \\n'),\n",
              " Text(0.05, 0.08333333333333333, '\\n  (...)  \\n'),\n",
              " Text(0.1, 0.25, 'X[4] <= 1.403\\nentropy = 0.359\\nsamples = 835\\nvalue = [0, 0, 0, 790, 5, 6, 34]'),\n",
              " Text(0.08333333333333333, 0.08333333333333333, '\\n  (...)  \\n'),\n",
              " Text(0.11666666666666667, 0.08333333333333333, '\\n  (...)  \\n'),\n",
              " Text(0.2, 0.4166666666666667, 'X[14] <= 0.55\\nentropy = 1.443\\nsamples = 987\\nvalue = [1, 0, 0, 498, 136, 1, 351]'),\n",
              " Text(0.16666666666666666, 0.25, 'X[12] <= 0.008\\nentropy = 0.523\\nsamples = 119\\nvalue = [0, 0, 0, 3, 108, 0, 8]'),\n",
              " Text(0.15, 0.08333333333333333, '\\n  (...)  \\n'),\n",
              " Text(0.18333333333333332, 0.08333333333333333, '\\n  (...)  \\n'),\n",
              " Text(0.23333333333333334, 0.25, 'X[1] <= 752.681\\nentropy = 1.174\\nsamples = 868\\nvalue = [1, 0, 0, 495, 28, 1, 343]'),\n",
              " Text(0.21666666666666667, 0.08333333333333333, '\\n  (...)  \\n'),\n",
              " Text(0.25, 0.08333333333333333, '\\n  (...)  \\n'),\n",
              " Text(0.4, 0.5833333333333334, 'X[11] <= 0.853\\nentropy = 1.537\\nsamples = 4603\\nvalue = [135, 0, 7, 395, 15, 2006, 2045]'),\n",
              " Text(0.3333333333333333, 0.4166666666666667, 'X[6] <= 42670.5\\nentropy = 1.092\\nsamples = 2575\\nvalue = [96, 0, 5, 319, 15, 120, 2020]'),\n",
              " Text(0.3, 0.25, 'X[10] <= 0.909\\nentropy = 1.256\\nsamples = 775\\nvalue = [1, 0, 0, 319, 1, 40, 414]'),\n",
              " Text(0.2833333333333333, 0.08333333333333333, '\\n  (...)  \\n'),\n",
              " Text(0.31666666666666665, 0.08333333333333333, '\\n  (...)  \\n'),\n",
              " Text(0.36666666666666664, 0.25, 'X[1] <= 870.881\\nentropy = 0.648\\nsamples = 1800\\nvalue = [95, 0, 5, 0, 14, 80, 1606]'),\n",
              " Text(0.35, 0.08333333333333333, '\\n  (...)  \\n'),\n",
              " Text(0.38333333333333336, 0.08333333333333333, '\\n  (...)  \\n'),\n",
              " Text(0.4666666666666667, 0.4166666666666667, 'X[1] <= 854.741\\nentropy = 0.473\\nsamples = 2028\\nvalue = [39, 0, 2, 76, 0, 1886, 25]'),\n",
              " Text(0.43333333333333335, 0.25, 'X[14] <= 0.77\\nentropy = 0.359\\nsamples = 1978\\nvalue = [4, 0, 1, 76, 0, 1872, 25]'),\n",
              " Text(0.4166666666666667, 0.08333333333333333, '\\n  (...)  \\n'),\n",
              " Text(0.45, 0.08333333333333333, '\\n  (...)  \\n'),\n",
              " Text(0.5, 0.25, 'X[10] <= 0.763\\nentropy = 0.987\\nsamples = 50\\nvalue = [35, 0, 1, 0, 0, 14, 0]'),\n",
              " Text(0.48333333333333334, 0.08333333333333333, '\\n  (...)  \\n'),\n",
              " Text(0.5166666666666667, 0.08333333333333333, '\\n  (...)  \\n'),\n",
              " Text(0.7625, 0.75, 'X[12] <= 0.006\\nentropy = 2.052\\nsamples = 5313\\nvalue = [1186, 522, 1623, 0, 1772, 4, 206]'),\n",
              " Text(0.6583333333333333, 0.5833333333333334, 'X[3] <= 313.823\\nentropy = 1.565\\nsamples = 3300\\nvalue = [1155, 522, 1574, 0, 36, 2, 11]'),\n",
              " Text(0.6, 0.4166666666666667, 'X[14] <= 0.616\\nentropy = 1.111\\nsamples = 2777\\nvalue = [1154, 0, 1574, 0, 36, 2, 11]'),\n",
              " Text(0.5666666666666667, 0.25, 'X[10] <= 0.801\\nentropy = 0.828\\nsamples = 1818\\nvalue = [333, 0, 1449, 0, 34, 0, 2]'),\n",
              " Text(0.55, 0.08333333333333333, '\\n  (...)  \\n'),\n",
              " Text(0.5833333333333334, 0.08333333333333333, '\\n  (...)  \\n'),\n",
              " Text(0.6333333333333333, 0.25, 'X[10] <= 0.843\\nentropy = 0.675\\nsamples = 959\\nvalue = [821, 0, 125, 0, 2, 2, 9]'),\n",
              " Text(0.6166666666666667, 0.08333333333333333, '\\n  (...)  \\n'),\n",
              " Text(0.65, 0.08333333333333333, '\\n  (...)  \\n'),\n",
              " Text(0.7166666666666667, 0.4166666666666667, 'X[0] <= 116500.5\\nentropy = 0.02\\nsamples = 523\\nvalue = [1, 522, 0, 0, 0, 0, 0]'),\n",
              " Text(0.7, 0.25, 'X[13] <= 0.001\\nentropy = 1.0\\nsamples = 2\\nvalue = [1, 1, 0, 0, 0, 0, 0]'),\n",
              " Text(0.6833333333333333, 0.08333333333333333, '\\n  (...)  \\n'),\n",
              " Text(0.7166666666666667, 0.08333333333333333, '\\n  (...)  \\n'),\n",
              " Text(0.7333333333333333, 0.25, 'entropy = 0.0\\nsamples = 521\\nvalue = [0, 521, 0, 0, 0, 0, 0]'),\n",
              " Text(0.8666666666666667, 0.5833333333333334, 'X[14] <= 0.544\\nentropy = 0.744\\nsamples = 2013\\nvalue = [31, 0, 49, 0, 1736, 2, 195]'),\n",
              " Text(0.8, 0.4166666666666667, 'X[4] <= 1.989\\nentropy = 0.177\\nsamples = 1710\\nvalue = [4, 0, 17, 0, 1674, 0, 15]'),\n",
              " Text(0.7666666666666667, 0.25, 'X[1] <= 964.508\\nentropy = 0.457\\nsamples = 509\\nvalue = [4, 0, 17, 0, 474, 0, 14]'),\n",
              " Text(0.75, 0.08333333333333333, '\\n  (...)  \\n'),\n",
              " Text(0.7833333333333333, 0.08333333333333333, '\\n  (...)  \\n'),\n",
              " Text(0.8333333333333334, 0.25, 'X[10] <= 0.816\\nentropy = 0.01\\nsamples = 1201\\nvalue = [0, 0, 0, 0, 1200, 0, 1]'),\n",
              " Text(0.8166666666666667, 0.08333333333333333, '\\n  (...)  \\n'),\n",
              " Text(0.85, 0.08333333333333333, '\\n  (...)  \\n'),\n",
              " Text(0.9333333333333333, 0.4166666666666667, 'X[10] <= 0.851\\nentropy = 1.616\\nsamples = 303\\nvalue = [27, 0, 32, 0, 62, 2, 180]'),\n",
              " Text(0.9, 0.25, 'X[3] <= 198.223\\nentropy = 1.906\\nsamples = 150\\nvalue = [26, 0, 24, 0, 58, 0, 42]'),\n",
              " Text(0.8833333333333333, 0.08333333333333333, '\\n  (...)  \\n'),\n",
              " Text(0.9166666666666666, 0.08333333333333333, '\\n  (...)  \\n'),\n",
              " Text(0.9666666666666667, 0.25, 'X[6] <= 56390.5\\nentropy = 0.624\\nsamples = 153\\nvalue = [1, 0, 8, 0, 4, 2, 138]'),\n",
              " Text(0.95, 0.08333333333333333, '\\n  (...)  \\n'),\n",
              " Text(0.9833333333333333, 0.08333333333333333, '\\n  (...)  \\n')]"
            ]
          },
          "metadata": {},
          "execution_count": 32
        },
        {
          "output_type": "display_data",
          "data": {
            "text/plain": [
              "<Figure size 2880x2880 with 1 Axes>"
            ],
            "image/png": "[encoded data removed]"
          },
          "metadata": {
            "needs_background": "light"
          }
        }
      ]
    },
    {
      "cell_type": "markdown",
      "source": [
        "## XGBoost"
      ],
      "metadata": {
        "id": "vZBp4Xz_V3P3"
      },
      "id": "vZBp4Xz_V3P3"
    },
    {
      "cell_type": "code",
      "source": [
        "XGB_Model2 = xgb.XGBClassifier()\n",
        "XGB_Model2.fit(x2_train,y2_train)\n",
        "XGB_pred2 = XGB_Model2.predict(x2_test)\n",
        "XGB_score2 = accuracy_score(XGB_pred2,y2_test)\n",
        "print(XGB_score2)"
      ],
      "metadata": {
        "colab": {
          "base_uri": "https://localhost:8080/"
        },
        "id": "FcG0z90QZE05",
        "outputId": "8919aa81-eae4-4ef2-c80f-512ca3109490"
      },
      "id": "FcG0z90QZE05",
      "execution_count": 33,
      "outputs": [
        {
          "output_type": "stream",
          "name": "stdout",
          "text": [
            "0.9248285994123409\n"
          ]
        }
      ]
    },
    {
      "cell_type": "markdown",
      "source": [
        "## Neural Network"
      ],
      "metadata": {
        "id": "AZDlAZpEV6Bz"
      },
      "id": "AZDlAZpEV6Bz"
    },
    {
      "cell_type": "code",
      "source": [
        "NN_model2 = ks.models.Sequential()\n",
        "\n",
        "NN_model2.add(ks.layers.Dense(100, activation='relu', input_dim=16))\n",
        "NN_model2.add(ks.layers.Dense(25,activation='relu'))\n",
        "NN_model2.add(ks.layers.Dense(1,activation='softmax'))\n",
        "\n",
        "NN_model2.compile(loss='binary_crossentropy', \n",
        "              optimizer='adam', \n",
        "              metrics=['binary_accuracy'])\n",
        "\n",
        "NN_model2.fit(x2_train,y2_train,epochs=30,batch_size=100,validation_data=(x2_test, y2_test))\n",
        "loss2, accuracy2 = NN_model2.evaluate(x2_train, y2_train, verbose=False)\n",
        "print(\"Training Accuracy: {:.4f}\".format(accuracy2))\n",
        "loss2, NN_score2 = NN_model2.evaluate(x2_test, y2_test, verbose=False)\n",
        "print(\"Testing Accuracy:  {:.4f}\".format(NN_score2))"
      ],
      "metadata": {
        "colab": {
          "base_uri": "https://localhost:8080/"
        },
        "id": "1Vk3O1EpZX5J",
        "outputId": "e97df310-8e0a-4622-8ec1-f4b34dfb5197"
      },
      "id": "1Vk3O1EpZX5J",
      "execution_count": 34,
      "outputs": [
        {
          "output_type": "stream",
          "name": "stdout",
          "text": [
            "Epoch 1/30\n",
            "96/96 [==============================] - 1s 6ms/step - loss: -91282.7578 - binary_accuracy: 0.0381 - val_loss: -276021.6250 - val_binary_accuracy: 0.0389\n",
            "Epoch 2/30\n",
            "96/96 [==============================] - 0s 3ms/step - loss: -905063.2500 - binary_accuracy: 0.0381 - val_loss: -1998026.6250 - val_binary_accuracy: 0.0389\n",
            "Epoch 3/30\n",
            "96/96 [==============================] - 0s 3ms/step - loss: -4162175.7500 - binary_accuracy: 0.0381 - val_loss: -7230971.5000 - val_binary_accuracy: 0.0389\n",
            "Epoch 4/30\n",
            "96/96 [==============================] - 0s 3ms/step - loss: -11801645.0000 - binary_accuracy: 0.0381 - val_loss: -17825938.0000 - val_binary_accuracy: 0.0389\n",
            "Epoch 5/30\n",
            "96/96 [==============================] - 0s 3ms/step - loss: -25611856.0000 - binary_accuracy: 0.0381 - val_loss: -35417040.0000 - val_binary_accuracy: 0.0389\n",
            "Epoch 6/30\n",
            "96/96 [==============================] - 0s 3ms/step - loss: -47190636.0000 - binary_accuracy: 0.0381 - val_loss: -61599524.0000 - val_binary_accuracy: 0.0389\n",
            "Epoch 7/30\n",
            "96/96 [==============================] - 0s 3ms/step - loss: -78019784.0000 - binary_accuracy: 0.0381 - val_loss: -97829240.0000 - val_binary_accuracy: 0.0389\n",
            "Epoch 8/30\n",
            "96/96 [==============================] - 0s 3ms/step - loss: -119271224.0000 - binary_accuracy: 0.0381 - val_loss: -145011072.0000 - val_binary_accuracy: 0.0389\n",
            "Epoch 9/30\n",
            "96/96 [==============================] - 0s 3ms/step - loss: -172089632.0000 - binary_accuracy: 0.0381 - val_loss: -204443280.0000 - val_binary_accuracy: 0.0389\n",
            "Epoch 10/30\n",
            "96/96 [==============================] - 0s 3ms/step - loss: -237506480.0000 - binary_accuracy: 0.0381 - val_loss: -277254400.0000 - val_binary_accuracy: 0.0389\n",
            "Epoch 11/30\n",
            "96/96 [==============================] - 0s 3ms/step - loss: -316511040.0000 - binary_accuracy: 0.0381 - val_loss: -363914208.0000 - val_binary_accuracy: 0.0389\n",
            "Epoch 12/30\n",
            "96/96 [==============================] - 0s 3ms/step - loss: -409703456.0000 - binary_accuracy: 0.0381 - val_loss: -465410240.0000 - val_binary_accuracy: 0.0389\n",
            "Epoch 13/30\n",
            "96/96 [==============================] - 0s 3ms/step - loss: -517825568.0000 - binary_accuracy: 0.0381 - val_loss: -582030144.0000 - val_binary_accuracy: 0.0389\n",
            "Epoch 14/30\n",
            "96/96 [==============================] - 0s 3ms/step - loss: -641917248.0000 - binary_accuracy: 0.0381 - val_loss: -715037376.0000 - val_binary_accuracy: 0.0389\n",
            "Epoch 15/30\n",
            "96/96 [==============================] - 0s 3ms/step - loss: -782261312.0000 - binary_accuracy: 0.0381 - val_loss: -865225600.0000 - val_binary_accuracy: 0.0389\n",
            "Epoch 16/30\n",
            "96/96 [==============================] - 0s 3ms/step - loss: -939611072.0000 - binary_accuracy: 0.0381 - val_loss: -1032329088.0000 - val_binary_accuracy: 0.0389\n",
            "Epoch 17/30\n",
            "96/96 [==============================] - 0s 3ms/step - loss: -1114480384.0000 - binary_accuracy: 0.0381 - val_loss: -1217766784.0000 - val_binary_accuracy: 0.0389\n",
            "Epoch 18/30\n",
            "96/96 [==============================] - 0s 3ms/step - loss: -1307076864.0000 - binary_accuracy: 0.0381 - val_loss: -1420772480.0000 - val_binary_accuracy: 0.0389\n",
            "Epoch 19/30\n",
            "96/96 [==============================] - 0s 3ms/step - loss: -1517953664.0000 - binary_accuracy: 0.0381 - val_loss: -1642639744.0000 - val_binary_accuracy: 0.0389\n",
            "Epoch 20/30\n",
            "96/96 [==============================] - 0s 3ms/step - loss: -1747669120.0000 - binary_accuracy: 0.0381 - val_loss: -1883584640.0000 - val_binary_accuracy: 0.0389\n",
            "Epoch 21/30\n",
            "96/96 [==============================] - 0s 3ms/step - loss: -1996535168.0000 - binary_accuracy: 0.0381 - val_loss: -2144149120.0000 - val_binary_accuracy: 0.0389\n",
            "Epoch 22/30\n",
            "96/96 [==============================] - 0s 3ms/step - loss: -2265081344.0000 - binary_accuracy: 0.0381 - val_loss: -2423779328.0000 - val_binary_accuracy: 0.0389\n",
            "Epoch 23/30\n",
            "96/96 [==============================] - 0s 3ms/step - loss: -2552867584.0000 - binary_accuracy: 0.0381 - val_loss: -2723922176.0000 - val_binary_accuracy: 0.0389\n",
            "Epoch 24/30\n",
            "96/96 [==============================] - 0s 3ms/step - loss: -2861006080.0000 - binary_accuracy: 0.0381 - val_loss: -3044825088.0000 - val_binary_accuracy: 0.0389\n",
            "Epoch 25/30\n",
            "96/96 [==============================] - 0s 3ms/step - loss: -3189287168.0000 - binary_accuracy: 0.0381 - val_loss: -3385620736.0000 - val_binary_accuracy: 0.0389\n",
            "Epoch 26/30\n",
            "96/96 [==============================] - 0s 3ms/step - loss: -3538211840.0000 - binary_accuracy: 0.0381 - val_loss: -3747620608.0000 - val_binary_accuracy: 0.0389\n",
            "Epoch 27/30\n",
            "96/96 [==============================] - 0s 3ms/step - loss: -3908422656.0000 - binary_accuracy: 0.0381 - val_loss: -4131542272.0000 - val_binary_accuracy: 0.0389\n",
            "Epoch 28/30\n",
            "96/96 [==============================] - 0s 3ms/step - loss: -4299627520.0000 - binary_accuracy: 0.0381 - val_loss: -4535249408.0000 - val_binary_accuracy: 0.0389\n",
            "Epoch 29/30\n",
            "96/96 [==============================] - 0s 3ms/step - loss: -4712699392.0000 - binary_accuracy: 0.0381 - val_loss: -4961859584.0000 - val_binary_accuracy: 0.0389\n",
            "Epoch 30/30\n",
            "96/96 [==============================] - 0s 3ms/step - loss: -5147955712.0000 - binary_accuracy: 0.0381 - val_loss: -5411510272.0000 - val_binary_accuracy: 0.0389\n",
            "Training Accuracy: 0.0381\n",
            "Testing Accuracy:  0.0389\n"
          ]
        }
      ]
    },
    {
      "cell_type": "markdown",
      "source": [
        "## Q2 Results"
      ],
      "metadata": {
        "id": "C0ZdEtOdWAPC"
      },
      "id": "C0ZdEtOdWAPC"
    },
    {
      "cell_type": "code",
      "source": [
        "Q2Res = pd.DataFrame()\n",
        "Q2Res = Q2Res.append({\"LogRes\":LogResScore2,\"SVM\":SVM_Score2,\"KNN\":max(KNN_scores2),\"DT\":DT_Score2,\"XGB\":XGB_score2,\"NN\":NN_score2},ignore_index = True)\n",
        "Q2Res.head()"
      ],
      "metadata": {
        "colab": {
          "base_uri": "https://localhost:8080/",
          "height": 80
        },
        "id": "SS0LVRGveull",
        "outputId": "ea0fcc24-dd94-489d-c9d8-261e3374f6fb"
      },
      "id": "SS0LVRGveull",
      "execution_count": 35,
      "outputs": [
        {
          "output_type": "execute_result",
          "data": {
            "text/plain": [
              "     LogRes       SVM       KNN   DT       XGB        NN\n",
              "0  0.910627  0.622919  0.713026  1.0  0.924829  0.038932"
            ],
            "text/html": [
              "\n",
              "  <div id=\"df-76318b9d-24c2-4947-9215-66e30c2ccaa7\">\n",
              "    <div class=\"colab-df-container\">\n",
              "      <div>\n",
              "<style scoped>\n",
              "    .dataframe tbody tr th:only-of-type {\n",
              "        vertical-align: middle;\n",
              "    }\n",
              "\n",
              "    .dataframe tbody tr th {\n",
              "        vertical-align: top;\n",
              "    }\n",
              "\n",
              "    .dataframe thead th {\n",
              "        text-align: right;\n",
              "    }\n",
              "</style>\n",
              "<table border=\"1\" class=\"dataframe\">\n",
              "  <thead>\n",
              "    <tr style=\"text-align: right;\">\n",
              "      <th></th>\n",
              "      <th>LogRes</th>\n",
              "      <th>SVM</th>\n",
              "      <th>KNN</th>\n",
              "      <th>DT</th>\n",
              "      <th>XGB</th>\n",
              "      <th>NN</th>\n",
              "    </tr>\n",
              "  </thead>\n",
              "  <tbody>\n",
              "    <tr>\n",
              "      <th>0</th>\n",
              "      <td>0.910627</td>\n",
              "      <td>0.622919</td>\n",
              "      <td>0.713026</td>\n",
              "      <td>1.0</td>\n",
              "      <td>0.924829</td>\n",
              "      <td>0.038932</td>\n",
              "    </tr>\n",
              "  </tbody>\n",
              "</table>\n",
              "</div>\n",
              "      <button class=\"colab-df-convert\" onclick=\"convertToInteractive('df-76318b9d-24c2-4947-9215-66e30c2ccaa7')\"\n",
              "              title=\"Convert this dataframe to an interactive table.\"\n",
              "              style=\"display:none;\">\n",
              "        \n",
              "  <svg xmlns=\"http://www.w3.org/2000/svg\" height=\"24px\"viewBox=\"0 0 24 24\"\n",
              "       width=\"24px\">\n",
              "    <path d=\"M0 0h24v24H0V0z\" fill=\"none\"/>\n",
              "    <path d=\"M18.56 5.44l.94 2.06.94-2.06 2.06-.94-2.06-.94-.94-2.06-.94 2.06-2.06.94zm-11 1L8.5 8.5l.94-2.06 2.06-.94-2.06-.94L8.5 2.5l-.94 2.06-2.06.94zm10 10l.94 2.06.94-2.06 2.06-.94-2.06-.94-.94-2.06-.94 2.06-2.06.94z\"/><path d=\"M17.41 7.96l-1.37-1.37c-.4-.4-.92-.59-1.43-.59-.52 0-1.04.2-1.43.59L10.3 9.45l-7.72 7.72c-.78.78-.78 2.05 0 2.83L4 21.41c.39.39.9.59 1.41.59.51 0 1.02-.2 1.41-.59l7.78-7.78 2.81-2.81c.8-.78.8-2.07 0-2.86zM5.41 20L4 18.59l7.72-7.72 1.47 1.35L5.41 20z\"/>\n",
              "  </svg>\n",
              "      </button>\n",
              "      \n",
              "  <style>\n",
              "    .colab-df-container {\n",
              "      display:flex;\n",
              "      flex-wrap:wrap;\n",
              "      gap: 12px;\n",
              "    }\n",
              "\n",
              "    .colab-df-convert {\n",
              "      background-color: #E8F0FE;\n",
              "      border: none;\n",
              "      border-radius: 50%;\n",
              "      cursor: pointer;\n",
              "      display: none;\n",
              "      fill: #1967D2;\n",
              "      height: 32px;\n",
              "      padding: 0 0 0 0;\n",
              "      width: 32px;\n",
              "    }\n",
              "\n",
              "    .colab-df-convert:hover {\n",
              "      background-color: #E2EBFA;\n",
              "      box-shadow: 0px 1px 2px rgba(60, 64, 67, 0.3), 0px 1px 3px 1px rgba(60, 64, 67, 0.15);\n",
              "      fill: #174EA6;\n",
              "    }\n",
              "\n",
              "    [theme=dark] .colab-df-convert {\n",
              "      background-color: #3B4455;\n",
              "      fill: #D2E3FC;\n",
              "    }\n",
              "\n",
              "    [theme=dark] .colab-df-convert:hover {\n",
              "      background-color: #434B5C;\n",
              "      box-shadow: 0px 1px 3px 1px rgba(0, 0, 0, 0.15);\n",
              "      filter: drop-shadow(0px 1px 2px rgba(0, 0, 0, 0.3));\n",
              "      fill: #FFFFFF;\n",
              "    }\n",
              "  </style>\n",
              "\n",
              "      <script>\n",
              "        const buttonEl =\n",
              "          document.querySelector('#df-76318b9d-24c2-4947-9215-66e30c2ccaa7 button.colab-df-convert');\n",
              "        buttonEl.style.display =\n",
              "          google.colab.kernel.accessAllowed ? 'block' : 'none';\n",
              "\n",
              "        async function convertToInteractive(key) {\n",
              "          const element = document.querySelector('#df-76318b9d-24c2-4947-9215-66e30c2ccaa7');\n",
              "          const dataTable =\n",
              "            await google.colab.kernel.invokeFunction('convertToInteractive',\n",
              "                                                     [key], {});\n",
              "          if (!dataTable) return;\n",
              "\n",
              "          const docLinkHtml = 'Like what you see? Visit the ' +\n",
              "            '<a target=\"_blank\" href=https://colab.research.google.com/notebooks/data_table.ipynb>data table notebook</a>'\n",
              "            + ' to learn more about interactive tables.';\n",
              "          element.innerHTML = '';\n",
              "          dataTable['output_type'] = 'display_data';\n",
              "          await google.colab.output.renderOutput(dataTable, element);\n",
              "          const docLink = document.createElement('div');\n",
              "          docLink.innerHTML = docLinkHtml;\n",
              "          element.appendChild(docLink);\n",
              "        }\n",
              "      </script>\n",
              "    </div>\n",
              "  </div>\n",
              "  "
            ]
          },
          "metadata": {},
          "execution_count": 35
        }
      ]
    },
    {
      "cell_type": "markdown",
      "source": [
        "The winner seems like, again, the Decision Tree Classifier."
      ],
      "metadata": {
        "id": "Mq-ClMtlfFX2"
      },
      "id": "Mq-ClMtlfFX2"
    },
    {
      "cell_type": "markdown",
      "id": "a6bc9b76",
      "metadata": {
        "id": "a6bc9b76"
      },
      "source": [
        "# Q3\n",
        "\n",
        "For this question we are going to use the [Japanese MNIST](https://github.com/rois-codh/kmnist) dataset.\n",
        "\n",
        "Construct a convolutional neural network model for the dataset and cross-validate your model."
      ]
    },
    {
      "cell_type": "code",
      "execution_count": 36,
      "id": "7f98d401",
      "metadata": {
        "id": "7f98d401",
        "colab": {
          "base_uri": "https://localhost:8080/"
        },
        "outputId": "a77bab30-ca96-4394-93d5-713b4187d8b3"
      },
      "outputs": [
        {
          "output_type": "stream",
          "name": "stdout",
          "text": [
            "Please select a download option:\n",
            "1) Kuzushiji-MNIST (10 classes, 28x28, 70k examples)\n",
            "2) Kuzushiji-49 (49 classes, 28x28, 270k examples)\n",
            "3) Kuzushiji-Kanji (3832 classes, 64x64, 140k examples)\n",
            "> 1\n",
            "Please select a download option:\n",
            "1) MNIST data format (ubyte.gz)\n",
            "2) NumPy data format (.npz)\n",
            "> 2\n",
            "Downloading kmnist-train-imgs.npz - 18.0 MB\n"
          ]
        },
        {
          "output_type": "stream",
          "name": "stderr",
          "text": [
            "100%|██████████| 17954/17954 [00:05<00:00, 3081.13KB/s]\n"
          ]
        },
        {
          "output_type": "stream",
          "name": "stdout",
          "text": [
            "Downloading kmnist-train-labels.npz - 0.0 MB\n"
          ]
        },
        {
          "output_type": "stream",
          "name": "stderr",
          "text": [
            "100%|██████████| 30/30 [00:00<00:00, 814.61KB/s]\n"
          ]
        },
        {
          "output_type": "stream",
          "name": "stdout",
          "text": [
            "Downloading kmnist-test-imgs.npz - 3.0 MB\n"
          ]
        },
        {
          "output_type": "stream",
          "name": "stderr",
          "text": [
            "100%|██████████| 3008/3008 [00:01<00:00, 2410.67KB/s]\n"
          ]
        },
        {
          "output_type": "stream",
          "name": "stdout",
          "text": [
            "Downloading kmnist-test-labels.npz - 0.0 MB\n"
          ]
        },
        {
          "output_type": "stream",
          "name": "stderr",
          "text": [
            "100%|██████████| 6/6 [00:00<00:00, 8286.41KB/s]"
          ]
        },
        {
          "output_type": "stream",
          "name": "stdout",
          "text": [
            "All dataset files downloaded!\n"
          ]
        },
        {
          "output_type": "stream",
          "name": "stderr",
          "text": [
            "\n"
          ]
        }
      ],
      "source": [
        "try:\n",
        "    from tqdm import tqdm\n",
        "except ImportError:\n",
        "    tqdm = lambda x, total, unit: x  # If tqdm doesn't exist, replace it with a function that does nothing\n",
        "    print('**** Could not import tqdm. Please install tqdm for download progressbars! (pip install tqdm) ****')\n",
        "\n",
        "# Python2 compatibility\n",
        "try:\n",
        "    input = raw_input\n",
        "except NameError:\n",
        "    pass\n",
        "\n",
        "download_dict = {\n",
        "    '1) Kuzushiji-MNIST (10 classes, 28x28, 70k examples)': {\n",
        "        '1) MNIST data format (ubyte.gz)':\n",
        "            ['http://codh.rois.ac.jp/kmnist/dataset/kmnist/train-images-idx3-ubyte.gz',\n",
        "            'http://codh.rois.ac.jp/kmnist/dataset/kmnist/train-labels-idx1-ubyte.gz',\n",
        "            'http://codh.rois.ac.jp/kmnist/dataset/kmnist/t10k-images-idx3-ubyte.gz',\n",
        "            'http://codh.rois.ac.jp/kmnist/dataset/kmnist/t10k-labels-idx1-ubyte.gz'],\n",
        "        '2) NumPy data format (.npz)':\n",
        "            ['http://codh.rois.ac.jp/kmnist/dataset/kmnist/kmnist-train-imgs.npz',\n",
        "            'http://codh.rois.ac.jp/kmnist/dataset/kmnist/kmnist-train-labels.npz',\n",
        "            'http://codh.rois.ac.jp/kmnist/dataset/kmnist/kmnist-test-imgs.npz',\n",
        "            'http://codh.rois.ac.jp/kmnist/dataset/kmnist/kmnist-test-labels.npz'],\n",
        "    },\n",
        "    '2) Kuzushiji-49 (49 classes, 28x28, 270k examples)': {\n",
        "        '1) NumPy data format (.npz)':\n",
        "            ['http://codh.rois.ac.jp/kmnist/dataset/k49/k49-train-imgs.npz',\n",
        "            'http://codh.rois.ac.jp/kmnist/dataset/k49/k49-train-labels.npz',\n",
        "            'http://codh.rois.ac.jp/kmnist/dataset/k49/k49-test-imgs.npz',\n",
        "            'http://codh.rois.ac.jp/kmnist/dataset/k49/k49-test-labels.npz'],\n",
        "    },\n",
        "    '3) Kuzushiji-Kanji (3832 classes, 64x64, 140k examples)': {\n",
        "        '1) Folders of images (.tar)':\n",
        "            ['http://codh.rois.ac.jp/kmnist/dataset/kkanji/kkanji.tar'],\n",
        "    }\n",
        "\n",
        "}\n",
        "\n",
        "# Download a list of files\n",
        "def download_list(url_list):\n",
        "    for url in url_list:\n",
        "        path = url.split('/')[-1]\n",
        "        r = requests.get(url, stream=True)\n",
        "        with open(path, 'wb') as f:\n",
        "            total_length = int(r.headers.get('content-length'))\n",
        "            print('Downloading {} - {:.1f} MB'.format(path, (total_length / 1024000)))\n",
        "\n",
        "            for chunk in tqdm(r.iter_content(chunk_size=1024), total=int(total_length / 1024) + 1, unit=\"KB\"):\n",
        "                if chunk:\n",
        "                    f.write(chunk)\n",
        "    print('All dataset files downloaded!')\n",
        "\n",
        "# Ask the user about which path to take down the dict\n",
        "def traverse_dict(d):\n",
        "    print('Please select a download option:')\n",
        "    keys = sorted(d.keys())  # Print download options\n",
        "    for key in keys:\n",
        "        print(key)\n",
        "\n",
        "    userinput = input('> ').strip()\n",
        "\n",
        "    try:\n",
        "        selection = int(userinput) - 1\n",
        "    except ValueError:\n",
        "        print('Your selection was not valid')\n",
        "        traverse_dict(d)  # Try again if input was not valid\n",
        "        return\n",
        "\n",
        "    selected = keys[selection]\n",
        "\n",
        "    next_level = d[selected]\n",
        "    if isinstance(next_level, list):  # If we've hit a list of downloads, download that list\n",
        "        download_list(next_level)\n",
        "    else:\n",
        "        traverse_dict(next_level)     # Otherwise, repeat with the next level\n",
        "\n",
        "traverse_dict(download_dict)"
      ]
    },
    {
      "cell_type": "code",
      "source": [
        "CHAR_PATH = \"http://codh.rois.ac.jp/kmnist/dataset/kmnist/\"\n",
        "char_df = pd.read_csv(CHAR_PATH+'kmnist_classmap.csv', encoding = 'utf-8')\n",
        "x3_train = np.load('kmnist-train-imgs.npz')['arr_0']\n",
        "x3_test = np.load('kmnist-test-imgs.npz')['arr_0']\n",
        "y3_train = np.load('kmnist-train-labels.npz')['arr_0']\n",
        "y3_test = np.load('kmnist-test-labels.npz')['arr_0']\n",
        "\n",
        "x3_train.shape,x3_test.shape"
      ],
      "metadata": {
        "colab": {
          "base_uri": "https://localhost:8080/"
        },
        "id": "Aeebees6hMtE",
        "outputId": "894b2572-fb39-401a-e03e-f8bfff650b64"
      },
      "id": "Aeebees6hMtE",
      "execution_count": 37,
      "outputs": [
        {
          "output_type": "execute_result",
          "data": {
            "text/plain": [
              "((60000, 28, 28), (10000, 28, 28))"
            ]
          },
          "metadata": {},
          "execution_count": 37
        }
      ]
    },
    {
      "cell_type": "code",
      "source": [
        "char_df"
      ],
      "metadata": {
        "colab": {
          "base_uri": "https://localhost:8080/",
          "height": 359
        },
        "id": "a30fymEh0xm_",
        "outputId": "7b91ec8b-9803-4cd2-8563-ec5e28395763"
      },
      "id": "a30fymEh0xm_",
      "execution_count": 38,
      "outputs": [
        {
          "output_type": "execute_result",
          "data": {
            "text/plain": [
              "   index codepoint char\n",
              "0      0    U+304A    お\n",
              "1      1    U+304D    き\n",
              "2      2    U+3059    す\n",
              "3      3    U+3064    つ\n",
              "4      4    U+306A    な\n",
              "5      5    U+306F    は\n",
              "6      6    U+307E    ま\n",
              "7      7    U+3084    や\n",
              "8      8    U+308C    れ\n",
              "9      9    U+3092    を"
            ],
            "text/html": [
              "\n",
              "  <div id=\"df-4e1a5f09-2015-403f-a2c4-636123c283b1\">\n",
              "    <div class=\"colab-df-container\">\n",
              "      <div>\n",
              "<style scoped>\n",
              "    .dataframe tbody tr th:only-of-type {\n",
              "        vertical-align: middle;\n",
              "    }\n",
              "\n",
              "    .dataframe tbody tr th {\n",
              "        vertical-align: top;\n",
              "    }\n",
              "\n",
              "    .dataframe thead th {\n",
              "        text-align: right;\n",
              "    }\n",
              "</style>\n",
              "<table border=\"1\" class=\"dataframe\">\n",
              "  <thead>\n",
              "    <tr style=\"text-align: right;\">\n",
              "      <th></th>\n",
              "      <th>index</th>\n",
              "      <th>codepoint</th>\n",
              "      <th>char</th>\n",
              "    </tr>\n",
              "  </thead>\n",
              "  <tbody>\n",
              "    <tr>\n",
              "      <th>0</th>\n",
              "      <td>0</td>\n",
              "      <td>U+304A</td>\n",
              "      <td>お</td>\n",
              "    </tr>\n",
              "    <tr>\n",
              "      <th>1</th>\n",
              "      <td>1</td>\n",
              "      <td>U+304D</td>\n",
              "      <td>き</td>\n",
              "    </tr>\n",
              "    <tr>\n",
              "      <th>2</th>\n",
              "      <td>2</td>\n",
              "      <td>U+3059</td>\n",
              "      <td>す</td>\n",
              "    </tr>\n",
              "    <tr>\n",
              "      <th>3</th>\n",
              "      <td>3</td>\n",
              "      <td>U+3064</td>\n",
              "      <td>つ</td>\n",
              "    </tr>\n",
              "    <tr>\n",
              "      <th>4</th>\n",
              "      <td>4</td>\n",
              "      <td>U+306A</td>\n",
              "      <td>な</td>\n",
              "    </tr>\n",
              "    <tr>\n",
              "      <th>5</th>\n",
              "      <td>5</td>\n",
              "      <td>U+306F</td>\n",
              "      <td>は</td>\n",
              "    </tr>\n",
              "    <tr>\n",
              "      <th>6</th>\n",
              "      <td>6</td>\n",
              "      <td>U+307E</td>\n",
              "      <td>ま</td>\n",
              "    </tr>\n",
              "    <tr>\n",
              "      <th>7</th>\n",
              "      <td>7</td>\n",
              "      <td>U+3084</td>\n",
              "      <td>や</td>\n",
              "    </tr>\n",
              "    <tr>\n",
              "      <th>8</th>\n",
              "      <td>8</td>\n",
              "      <td>U+308C</td>\n",
              "      <td>れ</td>\n",
              "    </tr>\n",
              "    <tr>\n",
              "      <th>9</th>\n",
              "      <td>9</td>\n",
              "      <td>U+3092</td>\n",
              "      <td>を</td>\n",
              "    </tr>\n",
              "  </tbody>\n",
              "</table>\n",
              "</div>\n",
              "      <button class=\"colab-df-convert\" onclick=\"convertToInteractive('df-4e1a5f09-2015-403f-a2c4-636123c283b1')\"\n",
              "              title=\"Convert this dataframe to an interactive table.\"\n",
              "              style=\"display:none;\">\n",
              "        \n",
              "  <svg xmlns=\"http://www.w3.org/2000/svg\" height=\"24px\"viewBox=\"0 0 24 24\"\n",
              "       width=\"24px\">\n",
              "    <path d=\"M0 0h24v24H0V0z\" fill=\"none\"/>\n",
              "    <path d=\"M18.56 5.44l.94 2.06.94-2.06 2.06-.94-2.06-.94-.94-2.06-.94 2.06-2.06.94zm-11 1L8.5 8.5l.94-2.06 2.06-.94-2.06-.94L8.5 2.5l-.94 2.06-2.06.94zm10 10l.94 2.06.94-2.06 2.06-.94-2.06-.94-.94-2.06-.94 2.06-2.06.94z\"/><path d=\"M17.41 7.96l-1.37-1.37c-.4-.4-.92-.59-1.43-.59-.52 0-1.04.2-1.43.59L10.3 9.45l-7.72 7.72c-.78.78-.78 2.05 0 2.83L4 21.41c.39.39.9.59 1.41.59.51 0 1.02-.2 1.41-.59l7.78-7.78 2.81-2.81c.8-.78.8-2.07 0-2.86zM5.41 20L4 18.59l7.72-7.72 1.47 1.35L5.41 20z\"/>\n",
              "  </svg>\n",
              "      </button>\n",
              "      \n",
              "  <style>\n",
              "    .colab-df-container {\n",
              "      display:flex;\n",
              "      flex-wrap:wrap;\n",
              "      gap: 12px;\n",
              "    }\n",
              "\n",
              "    .colab-df-convert {\n",
              "      background-color: #E8F0FE;\n",
              "      border: none;\n",
              "      border-radius: 50%;\n",
              "      cursor: pointer;\n",
              "      display: none;\n",
              "      fill: #1967D2;\n",
              "      height: 32px;\n",
              "      padding: 0 0 0 0;\n",
              "      width: 32px;\n",
              "    }\n",
              "\n",
              "    .colab-df-convert:hover {\n",
              "      background-color: #E2EBFA;\n",
              "      box-shadow: 0px 1px 2px rgba(60, 64, 67, 0.3), 0px 1px 3px 1px rgba(60, 64, 67, 0.15);\n",
              "      fill: #174EA6;\n",
              "    }\n",
              "\n",
              "    [theme=dark] .colab-df-convert {\n",
              "      background-color: #3B4455;\n",
              "      fill: #D2E3FC;\n",
              "    }\n",
              "\n",
              "    [theme=dark] .colab-df-convert:hover {\n",
              "      background-color: #434B5C;\n",
              "      box-shadow: 0px 1px 3px 1px rgba(0, 0, 0, 0.15);\n",
              "      filter: drop-shadow(0px 1px 2px rgba(0, 0, 0, 0.3));\n",
              "      fill: #FFFFFF;\n",
              "    }\n",
              "  </style>\n",
              "\n",
              "      <script>\n",
              "        const buttonEl =\n",
              "          document.querySelector('#df-4e1a5f09-2015-403f-a2c4-636123c283b1 button.colab-df-convert');\n",
              "        buttonEl.style.display =\n",
              "          google.colab.kernel.accessAllowed ? 'block' : 'none';\n",
              "\n",
              "        async function convertToInteractive(key) {\n",
              "          const element = document.querySelector('#df-4e1a5f09-2015-403f-a2c4-636123c283b1');\n",
              "          const dataTable =\n",
              "            await google.colab.kernel.invokeFunction('convertToInteractive',\n",
              "                                                     [key], {});\n",
              "          if (!dataTable) return;\n",
              "\n",
              "          const docLinkHtml = 'Like what you see? Visit the ' +\n",
              "            '<a target=\"_blank\" href=https://colab.research.google.com/notebooks/data_table.ipynb>data table notebook</a>'\n",
              "            + ' to learn more about interactive tables.';\n",
              "          element.innerHTML = '';\n",
              "          dataTable['output_type'] = 'display_data';\n",
              "          await google.colab.output.renderOutput(dataTable, element);\n",
              "          const docLink = document.createElement('div');\n",
              "          docLink.innerHTML = docLinkHtml;\n",
              "          element.appendChild(docLink);\n",
              "        }\n",
              "      </script>\n",
              "    </div>\n",
              "  </div>\n",
              "  "
            ]
          },
          "metadata": {},
          "execution_count": 38
        }
      ]
    },
    {
      "cell_type": "code",
      "source": [
        "x3_train.reshape(60000,28,28,1)\n",
        "x3_test.reshape(10000,28,28,1)\n",
        "x3_train.shape,x3_test.shape"
      ],
      "metadata": {
        "id": "wGYrIpGIufFe",
        "colab": {
          "base_uri": "https://localhost:8080/"
        },
        "outputId": "1ee508ec-1e99-4785-945f-b3084974590f"
      },
      "id": "wGYrIpGIufFe",
      "execution_count": 39,
      "outputs": [
        {
          "output_type": "execute_result",
          "data": {
            "text/plain": [
              "((60000, 28, 28), (10000, 28, 28))"
            ]
          },
          "metadata": {},
          "execution_count": 39
        }
      ]
    },
    {
      "cell_type": "code",
      "source": [
        "y3_train.shape"
      ],
      "metadata": {
        "colab": {
          "base_uri": "https://localhost:8080/"
        },
        "id": "sadzVeuS3mxp",
        "outputId": "dc2daf8a-c003-4435-863e-82036c50f55e"
      },
      "id": "sadzVeuS3mxp",
      "execution_count": 40,
      "outputs": [
        {
          "output_type": "execute_result",
          "data": {
            "text/plain": [
              "(60000,)"
            ]
          },
          "metadata": {},
          "execution_count": 40
        }
      ]
    },
    {
      "cell_type": "code",
      "source": [
        "y3_train_cat = to_categorical(y3_train)\n",
        "y3_test_cat = to_categorical(y3_test)"
      ],
      "metadata": {
        "id": "gKpwo5sP3RwI"
      },
      "id": "gKpwo5sP3RwI",
      "execution_count": 41,
      "outputs": []
    },
    {
      "cell_type": "code",
      "source": [
        "y3_train_cat.shape"
      ],
      "metadata": {
        "colab": {
          "base_uri": "https://localhost:8080/"
        },
        "id": "JpTznE1n0ozR",
        "outputId": "7681cdf4-c9ed-4fa6-aced-60d0862224ad"
      },
      "id": "JpTznE1n0ozR",
      "execution_count": 42,
      "outputs": [
        {
          "output_type": "execute_result",
          "data": {
            "text/plain": [
              "(60000, 10)"
            ]
          },
          "metadata": {},
          "execution_count": 42
        }
      ]
    },
    {
      "cell_type": "code",
      "source": [
        "model3 = ks.models.Sequential()\n",
        "\n",
        "model3.add(Conv2D(64, (3, 3), padding=\"same\", activation='relu', input_shape=(28,28,1)))\n",
        "model3.add(MaxPooling2D((3,3)))\n",
        "model3.add(Flatten())\n",
        "model3.add(Dense(128, activation = 'relu',))\n",
        "model3.add(Dense(10, activation = 'softmax'))\n",
        "\n",
        "model3.compile(optimizer='adam',\n",
        "              loss='binary_crossentropy',\n",
        "              metrics=['binary_accuracy'])\n",
        "\n",
        "model3.fit(x3_train, y3_train_cat, batch_size=64, epochs=5)"
      ],
      "metadata": {
        "colab": {
          "base_uri": "https://localhost:8080/"
        },
        "id": "a82nwiTqj0zA",
        "outputId": "e908d6eb-acd2-4f68-e983-46082e2e162d"
      },
      "id": "a82nwiTqj0zA",
      "execution_count": 43,
      "outputs": [
        {
          "output_type": "stream",
          "name": "stdout",
          "text": [
            "Epoch 1/5\n",
            "938/938 [==============================] - 45s 47ms/step - loss: 0.2052 - binary_accuracy: 0.9807\n",
            "Epoch 2/5\n",
            "938/938 [==============================] - 46s 49ms/step - loss: 0.0255 - binary_accuracy: 0.9939\n",
            "Epoch 3/5\n",
            "938/938 [==============================] - 40s 42ms/step - loss: 0.0169 - binary_accuracy: 0.9962\n",
            "Epoch 4/5\n",
            "938/938 [==============================] - 41s 44ms/step - loss: 0.0128 - binary_accuracy: 0.9973\n",
            "Epoch 5/5\n",
            "938/938 [==============================] - 38s 41ms/step - loss: 0.0107 - binary_accuracy: 0.9977\n"
          ]
        },
        {
          "output_type": "execute_result",
          "data": {
            "text/plain": [
              "<keras.callbacks.History at 0x7feb60e50e50>"
            ]
          },
          "metadata": {},
          "execution_count": 43
        }
      ]
    },
    {
      "cell_type": "code",
      "source": [
        "loss3, accuracy3 = model3.evaluate(x3_train, y3_train_cat, verbose=False)\n",
        "print(\"Training Accuracy: {:.4f}\".format(accuracy3))\n",
        "loss3, NN_score3 = model3.evaluate(x3_test, y3_test_cat, verbose=False)\n",
        "print(\"Testing Accuracy:  {:.4f}\".format(NN_score3))"
      ],
      "metadata": {
        "colab": {
          "base_uri": "https://localhost:8080/"
        },
        "id": "TiI1Z17o57ky",
        "outputId": "8a212c4e-ebc4-425d-dac9-15e9c5c10022"
      },
      "id": "TiI1Z17o57ky",
      "execution_count": 44,
      "outputs": [
        {
          "output_type": "stream",
          "name": "stdout",
          "text": [
            "Training Accuracy: 0.9987\n",
            "Testing Accuracy:  0.9864\n"
          ]
        }
      ]
    },
    {
      "cell_type": "markdown",
      "id": "bb380447",
      "metadata": {
        "id": "bb380447"
      },
      "source": [
        "# Q4\n",
        "\n",
        "For this question we are going to use Box and Jenkins Airline Passenger Dataset. For this dataset, please install the `rdatasets` library:"
      ]
    },
    {
      "cell_type": "code",
      "execution_count": 45,
      "id": "7b92762a",
      "metadata": {
        "id": "7b92762a",
        "colab": {
          "base_uri": "https://localhost:8080/"
        },
        "outputId": "dffad9a5-a12b-4441-ee39-47ca55c25c9c"
      },
      "outputs": [
        {
          "output_type": "stream",
          "name": "stdout",
          "text": [
            "Looking in indexes: https://pypi.org/simple, https://us-python.pkg.dev/colab-wheels/public/simple/\n",
            "Requirement already satisfied: rdatasets in /usr/local/lib/python3.7/dist-packages (0.1.0)\n",
            "Requirement already satisfied: pandas in /usr/local/lib/python3.7/dist-packages (from rdatasets) (1.3.5)\n",
            "Requirement already satisfied: pytz>=2017.3 in /usr/local/lib/python3.7/dist-packages (from pandas->rdatasets) (2022.1)\n",
            "Requirement already satisfied: numpy>=1.17.3 in /usr/local/lib/python3.7/dist-packages (from pandas->rdatasets) (1.21.6)\n",
            "Requirement already satisfied: python-dateutil>=2.7.3 in /usr/local/lib/python3.7/dist-packages (from pandas->rdatasets) (2.8.2)\n",
            "Requirement already satisfied: six>=1.5 in /usr/local/lib/python3.7/dist-packages (from python-dateutil>=2.7.3->pandas->rdatasets) (1.15.0)\n"
          ]
        }
      ],
      "source": [
        "!pip install rdatasets\n",
        "from rdatasets import data"
      ]
    },
    {
      "cell_type": "markdown",
      "id": "d9534c73",
      "metadata": {
        "id": "d9534c73"
      },
      "source": [
        "Construct\n",
        "\n",
        "- recurrent \n",
        "- LSTM\n",
        "\n",
        "neutral network models on the train set (the first 122 values), and then test it on the last 24 values."
      ]
    },
    {
      "cell_type": "code",
      "execution_count": 46,
      "id": "2b6b19a0",
      "metadata": {
        "id": "2b6b19a0",
        "colab": {
          "base_uri": "https://localhost:8080/",
          "height": 282
        },
        "outputId": "7d3ceb83-bb50-4fc1-9c4f-9ab4759b3b2a"
      },
      "outputs": [
        {
          "output_type": "execute_result",
          "data": {
            "text/plain": [
              "<matplotlib.axes._subplots.AxesSubplot at 0x7feb5f0f3fd0>"
            ]
          },
          "metadata": {},
          "execution_count": 46
        },
        {
          "output_type": "display_data",
          "data": {
            "text/plain": [
              "<Figure size 864x288 with 1 Axes>"
            ],
            "image/png": "[encoded data removed]"
          },
          "metadata": {
            "needs_background": "light"
          }
        }
      ],
      "source": [
        "airline = data('AirPassengers')\n",
        "\n",
        "plt.figure(figsize=(12,4))\n",
        "airline['value'].plot()"
      ]
    },
    {
      "cell_type": "code",
      "execution_count": 47,
      "id": "a773d44d",
      "metadata": {
        "id": "a773d44d",
        "colab": {
          "base_uri": "https://localhost:8080/"
        },
        "outputId": "2a94d999-61a6-4aaf-a15e-127e699790f8"
      },
      "outputs": [
        {
          "output_type": "stream",
          "name": "stdout",
          "text": [
            "          time  value\n",
            "1  1949.083333    118\n",
            "2  1949.166667    132\n",
            "3  1949.250000    129\n",
            "4  1949.333333    121\n",
            "            time  value\n",
            "124  1959.333333    420\n",
            "125  1959.416667    472\n",
            "126  1959.500000    548\n",
            "127  1959.583333    559\n"
          ]
        }
      ],
      "source": [
        "train = airline[:123]\n",
        "test = airline[123:]\n",
        "print(train[1:5])\n",
        "print(test[1:5])"
      ]
    },
    {
      "cell_type": "code",
      "source": [
        "time_df = airline['time']\n",
        "value_df = airline['value']\n",
        "value = value_df.to_numpy()\n",
        "time = time_df.to_numpy()\n",
        "value[0:4],time[0:4]"
      ],
      "metadata": {
        "colab": {
          "base_uri": "https://localhost:8080/"
        },
        "id": "SQdA-ZkfI7VO",
        "outputId": "9bc63bea-64b1-4f27-b611-ee77136910f0"
      },
      "id": "SQdA-ZkfI7VO",
      "execution_count": 48,
      "outputs": [
        {
          "output_type": "execute_result",
          "data": {
            "text/plain": [
              "(array([112, 118, 132, 129]),\n",
              " array([1949.        , 1949.08333333, 1949.16666667, 1949.25      ]))"
            ]
          },
          "metadata": {},
          "execution_count": 48
        }
      ]
    },
    {
      "cell_type": "markdown",
      "source": [
        "On the web, I generally read that scaling this problem's set using maximum and minimum values for this problem is a good thing. So here it is."
      ],
      "metadata": {
        "id": "4pLYdT_OZfID"
      },
      "id": "4pLYdT_OZfID"
    },
    {
      "cell_type": "code",
      "execution_count": 49,
      "id": "bec6529f",
      "metadata": {
        "id": "bec6529f",
        "colab": {
          "base_uri": "https://localhost:8080/"
        },
        "outputId": "d0253743-e9d1-48ee-f1e8-b17a354f20df"
      },
      "outputs": [
        {
          "output_type": "stream",
          "name": "stdout",
          "text": [
            "[[0.01544402]\n",
            " [0.02702703]\n",
            " [0.05405405]\n",
            " [0.04826255]]\n",
            "\n",
            "\n",
            "[[0.        ]\n",
            " [0.00699301]\n",
            " [0.01398601]\n",
            " [0.02097902]]\n"
          ]
        }
      ],
      "source": [
        "scale = MinMaxScaler(feature_range=(0, 1))\n",
        "time = scale.fit_transform(time.reshape(-1,1))\n",
        "value = scale.fit_transform(value.reshape(-1,1))\n",
        "print(value[0:4])\n",
        "print(\"\\n\")\n",
        "print(time[0:4])"
      ]
    },
    {
      "cell_type": "markdown",
      "source": [
        "The training data set must be separated into pieces so that the pieces must be following each other like the i_th data on the one set must be the same of the i+1_th data on the other set. So one follows the other one from 1 step back."
      ],
      "metadata": {
        "id": "rUgvzAYbFBot"
      },
      "id": "rUgvzAYbFBot"
    },
    {
      "cell_type": "code",
      "source": [
        "shifted_value = np.roll(value, -1)\n",
        "print(value[0:4])\n",
        "print(\"\\n\")\n",
        "print(shifted_value[0:4])"
      ],
      "metadata": {
        "colab": {
          "base_uri": "https://localhost:8080/"
        },
        "id": "do8bqQHTLIB6",
        "outputId": "6225afe6-7f44-4d45-87a7-d01cb64e736f"
      },
      "id": "do8bqQHTLIB6",
      "execution_count": 50,
      "outputs": [
        {
          "output_type": "stream",
          "name": "stdout",
          "text": [
            "[[0.01544402]\n",
            " [0.02702703]\n",
            " [0.05405405]\n",
            " [0.04826255]]\n",
            "\n",
            "\n",
            "[[0.02702703]\n",
            " [0.05405405]\n",
            " [0.04826255]\n",
            " [0.03281853]]\n"
          ]
        }
      ]
    },
    {
      "cell_type": "code",
      "source": [
        "shifted_value[-5:] # Last 5 elements"
      ],
      "metadata": {
        "id": "sKDvPAyDY-9Z",
        "colab": {
          "base_uri": "https://localhost:8080/"
        },
        "outputId": "b2140129-25df-4d93-ada1-9bf8e76b4380"
      },
      "id": "sKDvPAyDY-9Z",
      "execution_count": 51,
      "outputs": [
        {
          "output_type": "execute_result",
          "data": {
            "text/plain": [
              "array([[0.77992278],\n",
              "       [0.68918919],\n",
              "       [0.55212355],\n",
              "       [0.63320463],\n",
              "       [0.01544402]])"
            ]
          },
          "metadata": {},
          "execution_count": 51
        }
      ]
    },
    {
      "cell_type": "markdown",
      "source": [
        "I drop the last elements so the continuity of the time series is provided and they are of equal size."
      ],
      "metadata": {
        "id": "gXEtKvPhZSBZ"
      },
      "id": "gXEtKvPhZSBZ"
    },
    {
      "cell_type": "code",
      "source": [
        "v = value[:-1]\n",
        "sv = shifted_value[:-1]\n",
        "v.size,sv.size"
      ],
      "metadata": {
        "colab": {
          "base_uri": "https://localhost:8080/"
        },
        "id": "UweWVZc8YFDk",
        "outputId": "a0ad75b4-b4b4-49ca-9626-c5842df708cd"
      },
      "id": "UweWVZc8YFDk",
      "execution_count": 52,
      "outputs": [
        {
          "output_type": "execute_result",
          "data": {
            "text/plain": [
              "(143, 143)"
            ]
          },
          "metadata": {},
          "execution_count": 52
        }
      ]
    },
    {
      "cell_type": "markdown",
      "source": [
        "Doing the same thing for time set."
      ],
      "metadata": {
        "id": "mBm8BK6vbn3g"
      },
      "id": "mBm8BK6vbn3g"
    },
    {
      "cell_type": "code",
      "source": [
        "shifted_time = np.roll(time, -1)\n",
        "t = time[:-1]\n",
        "st = shifted_time[:-1]\n",
        "t.size,st.size"
      ],
      "metadata": {
        "colab": {
          "base_uri": "https://localhost:8080/"
        },
        "id": "w0WGufRRXMyZ",
        "outputId": "659ff26a-feb3-4c9a-b3bc-cddfbe1098b8"
      },
      "id": "w0WGufRRXMyZ",
      "execution_count": 53,
      "outputs": [
        {
          "output_type": "execute_result",
          "data": {
            "text/plain": [
              "(143, 143)"
            ]
          },
          "metadata": {},
          "execution_count": 53
        }
      ]
    },
    {
      "cell_type": "code",
      "source": [
        "print(time[0:4])\n",
        "print(\"\\n\")\n",
        "print(shifted_time[0:4])"
      ],
      "metadata": {
        "colab": {
          "base_uri": "https://localhost:8080/"
        },
        "id": "4RjMC5avbwwx",
        "outputId": "e52ed807-0ba2-4170-e633-c949f5445b19"
      },
      "id": "4RjMC5avbwwx",
      "execution_count": 54,
      "outputs": [
        {
          "output_type": "stream",
          "name": "stdout",
          "text": [
            "[[0.        ]\n",
            " [0.00699301]\n",
            " [0.01398601]\n",
            " [0.02097902]]\n",
            "\n",
            "\n",
            "[[0.00699301]\n",
            " [0.01398601]\n",
            " [0.02097902]\n",
            " [0.02797203]]\n"
          ]
        }
      ]
    },
    {
      "cell_type": "code",
      "source": [
        "v_train = v[:120]\n",
        "v_test = v[120:]\n",
        "t_train = t[:120]\n",
        "t_test = t[120:]\n",
        "v_train.shape,v_test.shape,t_train.shape,t_test.shape"
      ],
      "metadata": {
        "colab": {
          "base_uri": "https://localhost:8080/"
        },
        "id": "YiH8KlTnuMyK",
        "outputId": "71a152e5-1ac3-49b4-aa1a-b24e40ef700f"
      },
      "id": "YiH8KlTnuMyK",
      "execution_count": 55,
      "outputs": [
        {
          "output_type": "execute_result",
          "data": {
            "text/plain": [
              "((120, 1), (23, 1), (120, 1), (23, 1))"
            ]
          },
          "metadata": {},
          "execution_count": 55
        }
      ]
    },
    {
      "cell_type": "markdown",
      "source": [
        "`inputs: A 3D tensor with shape [batch, timesteps, feature].` \n",
        "\n",
        "This is from `LSTM` function documentation at tensorflow.keras.layers"
      ],
      "metadata": {
        "id": "omT5U5gKdiKa"
      },
      "id": "omT5U5gKdiKa"
    },
    {
      "cell_type": "code",
      "source": [
        "trainX = np.reshape(t_train,(t_train.shape[0],1,1))\n",
        "testX = np.reshape(t_test,(t_test.shape[0],1,1))"
      ],
      "metadata": {
        "id": "pPSZ1O7RdnlG"
      },
      "id": "pPSZ1O7RdnlG",
      "execution_count": 56,
      "outputs": []
    },
    {
      "cell_type": "code",
      "source": [
        "model4 = Sequential()\n",
        "model4.add(LSTM(4, input_shape=(1, 1)))\n",
        "model4.add(Dense(1))\n",
        "model4.compile(loss='mean_squared_error', optimizer='adam')\n",
        "model4.fit(trainX, v_train, epochs=100, batch_size=1, verbose=2)"
      ],
      "metadata": {
        "colab": {
          "base_uri": "https://localhost:8080/"
        },
        "id": "9tnlVu2otdYj",
        "outputId": "7a930e61-80ba-4689-a861-7961d563a159"
      },
      "id": "9tnlVu2otdYj",
      "execution_count": 57,
      "outputs": [
        {
          "output_type": "stream",
          "name": "stdout",
          "text": [
            "Epoch 1/100\n",
            "120/120 - 2s - loss: 0.0708 - 2s/epoch - 18ms/step\n",
            "Epoch 2/100\n",
            "120/120 - 0s - loss: 0.0288 - 167ms/epoch - 1ms/step\n",
            "Epoch 3/100\n",
            "120/120 - 0s - loss: 0.0205 - 181ms/epoch - 2ms/step\n",
            "Epoch 4/100\n",
            "120/120 - 0s - loss: 0.0181 - 179ms/epoch - 1ms/step\n",
            "Epoch 5/100\n",
            "120/120 - 0s - loss: 0.0161 - 168ms/epoch - 1ms/step\n",
            "Epoch 6/100\n",
            "120/120 - 0s - loss: 0.0141 - 172ms/epoch - 1ms/step\n",
            "Epoch 7/100\n",
            "120/120 - 0s - loss: 0.0123 - 179ms/epoch - 1ms/step\n",
            "Epoch 8/100\n",
            "120/120 - 0s - loss: 0.0108 - 179ms/epoch - 1ms/step\n",
            "Epoch 9/100\n",
            "120/120 - 0s - loss: 0.0094 - 170ms/epoch - 1ms/step\n",
            "Epoch 10/100\n",
            "120/120 - 0s - loss: 0.0084 - 182ms/epoch - 2ms/step\n",
            "Epoch 11/100\n",
            "120/120 - 0s - loss: 0.0074 - 171ms/epoch - 1ms/step\n",
            "Epoch 12/100\n",
            "120/120 - 0s - loss: 0.0068 - 167ms/epoch - 1ms/step\n",
            "Epoch 13/100\n",
            "120/120 - 0s - loss: 0.0064 - 171ms/epoch - 1ms/step\n",
            "Epoch 14/100\n",
            "120/120 - 0s - loss: 0.0060 - 173ms/epoch - 1ms/step\n",
            "Epoch 15/100\n",
            "120/120 - 0s - loss: 0.0058 - 180ms/epoch - 1ms/step\n",
            "Epoch 16/100\n",
            "120/120 - 0s - loss: 0.0057 - 184ms/epoch - 2ms/step\n",
            "Epoch 17/100\n",
            "120/120 - 0s - loss: 0.0056 - 164ms/epoch - 1ms/step\n",
            "Epoch 18/100\n",
            "120/120 - 0s - loss: 0.0056 - 171ms/epoch - 1ms/step\n",
            "Epoch 19/100\n",
            "120/120 - 0s - loss: 0.0055 - 171ms/epoch - 1ms/step\n",
            "Epoch 20/100\n",
            "120/120 - 0s - loss: 0.0055 - 161ms/epoch - 1ms/step\n",
            "Epoch 21/100\n",
            "120/120 - 0s - loss: 0.0055 - 191ms/epoch - 2ms/step\n",
            "Epoch 22/100\n",
            "120/120 - 0s - loss: 0.0054 - 166ms/epoch - 1ms/step\n",
            "Epoch 23/100\n",
            "120/120 - 0s - loss: 0.0054 - 167ms/epoch - 1ms/step\n",
            "Epoch 24/100\n",
            "120/120 - 0s - loss: 0.0054 - 174ms/epoch - 1ms/step\n",
            "Epoch 25/100\n",
            "120/120 - 0s - loss: 0.0054 - 168ms/epoch - 1ms/step\n",
            "Epoch 26/100\n",
            "120/120 - 0s - loss: 0.0054 - 188ms/epoch - 2ms/step\n",
            "Epoch 27/100\n",
            "120/120 - 0s - loss: 0.0054 - 270ms/epoch - 2ms/step\n",
            "Epoch 28/100\n",
            "120/120 - 0s - loss: 0.0054 - 178ms/epoch - 1ms/step\n",
            "Epoch 29/100\n",
            "120/120 - 0s - loss: 0.0055 - 175ms/epoch - 1ms/step\n",
            "Epoch 30/100\n",
            "120/120 - 0s - loss: 0.0054 - 174ms/epoch - 1ms/step\n",
            "Epoch 31/100\n",
            "120/120 - 0s - loss: 0.0055 - 185ms/epoch - 2ms/step\n",
            "Epoch 32/100\n",
            "120/120 - 0s - loss: 0.0055 - 174ms/epoch - 1ms/step\n",
            "Epoch 33/100\n",
            "120/120 - 0s - loss: 0.0055 - 168ms/epoch - 1ms/step\n",
            "Epoch 34/100\n",
            "120/120 - 0s - loss: 0.0054 - 172ms/epoch - 1ms/step\n",
            "Epoch 35/100\n",
            "120/120 - 0s - loss: 0.0056 - 175ms/epoch - 1ms/step\n",
            "Epoch 36/100\n",
            "120/120 - 0s - loss: 0.0054 - 172ms/epoch - 1ms/step\n",
            "Epoch 37/100\n",
            "120/120 - 0s - loss: 0.0056 - 180ms/epoch - 1ms/step\n",
            "Epoch 38/100\n",
            "120/120 - 0s - loss: 0.0055 - 178ms/epoch - 1ms/step\n",
            "Epoch 39/100\n",
            "120/120 - 0s - loss: 0.0053 - 185ms/epoch - 2ms/step\n",
            "Epoch 40/100\n",
            "120/120 - 0s - loss: 0.0055 - 196ms/epoch - 2ms/step\n",
            "Epoch 41/100\n",
            "120/120 - 0s - loss: 0.0055 - 275ms/epoch - 2ms/step\n",
            "Epoch 42/100\n",
            "120/120 - 0s - loss: 0.0054 - 288ms/epoch - 2ms/step\n",
            "Epoch 43/100\n",
            "120/120 - 0s - loss: 0.0054 - 279ms/epoch - 2ms/step\n",
            "Epoch 44/100\n",
            "120/120 - 0s - loss: 0.0055 - 270ms/epoch - 2ms/step\n",
            "Epoch 45/100\n",
            "120/120 - 0s - loss: 0.0054 - 271ms/epoch - 2ms/step\n",
            "Epoch 46/100\n",
            "120/120 - 0s - loss: 0.0054 - 251ms/epoch - 2ms/step\n",
            "Epoch 47/100\n",
            "120/120 - 0s - loss: 0.0054 - 275ms/epoch - 2ms/step\n",
            "Epoch 48/100\n",
            "120/120 - 0s - loss: 0.0054 - 254ms/epoch - 2ms/step\n",
            "Epoch 49/100\n",
            "120/120 - 0s - loss: 0.0055 - 272ms/epoch - 2ms/step\n",
            "Epoch 50/100\n",
            "120/120 - 0s - loss: 0.0052 - 332ms/epoch - 3ms/step\n",
            "Epoch 51/100\n",
            "120/120 - 0s - loss: 0.0055 - 398ms/epoch - 3ms/step\n",
            "Epoch 52/100\n",
            "120/120 - 0s - loss: 0.0055 - 284ms/epoch - 2ms/step\n",
            "Epoch 53/100\n",
            "120/120 - 0s - loss: 0.0054 - 317ms/epoch - 3ms/step\n",
            "Epoch 54/100\n",
            "120/120 - 0s - loss: 0.0055 - 342ms/epoch - 3ms/step\n",
            "Epoch 55/100\n",
            "120/120 - 0s - loss: 0.0055 - 290ms/epoch - 2ms/step\n",
            "Epoch 56/100\n",
            "120/120 - 0s - loss: 0.0054 - 331ms/epoch - 3ms/step\n",
            "Epoch 57/100\n",
            "120/120 - 0s - loss: 0.0054 - 313ms/epoch - 3ms/step\n",
            "Epoch 58/100\n",
            "120/120 - 0s - loss: 0.0055 - 278ms/epoch - 2ms/step\n",
            "Epoch 59/100\n",
            "120/120 - 0s - loss: 0.0053 - 346ms/epoch - 3ms/step\n",
            "Epoch 60/100\n",
            "120/120 - 0s - loss: 0.0054 - 333ms/epoch - 3ms/step\n",
            "Epoch 61/100\n",
            "120/120 - 0s - loss: 0.0054 - 291ms/epoch - 2ms/step\n",
            "Epoch 62/100\n",
            "120/120 - 0s - loss: 0.0055 - 315ms/epoch - 3ms/step\n",
            "Epoch 63/100\n",
            "120/120 - 0s - loss: 0.0055 - 291ms/epoch - 2ms/step\n",
            "Epoch 64/100\n",
            "120/120 - 0s - loss: 0.0054 - 264ms/epoch - 2ms/step\n",
            "Epoch 65/100\n",
            "120/120 - 0s - loss: 0.0054 - 270ms/epoch - 2ms/step\n",
            "Epoch 66/100\n",
            "120/120 - 0s - loss: 0.0054 - 266ms/epoch - 2ms/step\n",
            "Epoch 67/100\n",
            "120/120 - 0s - loss: 0.0054 - 301ms/epoch - 3ms/step\n",
            "Epoch 68/100\n",
            "120/120 - 0s - loss: 0.0054 - 239ms/epoch - 2ms/step\n",
            "Epoch 69/100\n",
            "120/120 - 0s - loss: 0.0054 - 307ms/epoch - 3ms/step\n",
            "Epoch 70/100\n",
            "120/120 - 0s - loss: 0.0054 - 371ms/epoch - 3ms/step\n",
            "Epoch 71/100\n",
            "120/120 - 0s - loss: 0.0054 - 276ms/epoch - 2ms/step\n",
            "Epoch 72/100\n",
            "120/120 - 0s - loss: 0.0054 - 310ms/epoch - 3ms/step\n",
            "Epoch 73/100\n",
            "120/120 - 0s - loss: 0.0054 - 343ms/epoch - 3ms/step\n",
            "Epoch 74/100\n",
            "120/120 - 0s - loss: 0.0055 - 400ms/epoch - 3ms/step\n",
            "Epoch 75/100\n",
            "120/120 - 0s - loss: 0.0055 - 346ms/epoch - 3ms/step\n",
            "Epoch 76/100\n",
            "120/120 - 0s - loss: 0.0053 - 355ms/epoch - 3ms/step\n",
            "Epoch 77/100\n",
            "120/120 - 0s - loss: 0.0054 - 385ms/epoch - 3ms/step\n",
            "Epoch 78/100\n",
            "120/120 - 0s - loss: 0.0055 - 374ms/epoch - 3ms/step\n",
            "Epoch 79/100\n",
            "120/120 - 0s - loss: 0.0055 - 391ms/epoch - 3ms/step\n",
            "Epoch 80/100\n",
            "120/120 - 0s - loss: 0.0054 - 370ms/epoch - 3ms/step\n",
            "Epoch 81/100\n",
            "120/120 - 0s - loss: 0.0053 - 402ms/epoch - 3ms/step\n",
            "Epoch 82/100\n",
            "120/120 - 0s - loss: 0.0056 - 312ms/epoch - 3ms/step\n",
            "Epoch 83/100\n",
            "120/120 - 0s - loss: 0.0055 - 362ms/epoch - 3ms/step\n",
            "Epoch 84/100\n",
            "120/120 - 0s - loss: 0.0054 - 405ms/epoch - 3ms/step\n",
            "Epoch 85/100\n",
            "120/120 - 0s - loss: 0.0054 - 462ms/epoch - 4ms/step\n",
            "Epoch 86/100\n",
            "120/120 - 0s - loss: 0.0054 - 338ms/epoch - 3ms/step\n",
            "Epoch 87/100\n",
            "120/120 - 0s - loss: 0.0056 - 307ms/epoch - 3ms/step\n",
            "Epoch 88/100\n",
            "120/120 - 0s - loss: 0.0055 - 410ms/epoch - 3ms/step\n",
            "Epoch 89/100\n",
            "120/120 - 0s - loss: 0.0054 - 356ms/epoch - 3ms/step\n",
            "Epoch 90/100\n",
            "120/120 - 0s - loss: 0.0054 - 300ms/epoch - 3ms/step\n",
            "Epoch 91/100\n",
            "120/120 - 0s - loss: 0.0056 - 438ms/epoch - 4ms/step\n",
            "Epoch 92/100\n",
            "120/120 - 0s - loss: 0.0054 - 393ms/epoch - 3ms/step\n",
            "Epoch 93/100\n",
            "120/120 - 0s - loss: 0.0054 - 377ms/epoch - 3ms/step\n",
            "Epoch 94/100\n",
            "120/120 - 0s - loss: 0.0055 - 398ms/epoch - 3ms/step\n",
            "Epoch 95/100\n",
            "120/120 - 0s - loss: 0.0054 - 380ms/epoch - 3ms/step\n",
            "Epoch 96/100\n",
            "120/120 - 0s - loss: 0.0054 - 327ms/epoch - 3ms/step\n",
            "Epoch 97/100\n",
            "120/120 - 0s - loss: 0.0054 - 330ms/epoch - 3ms/step\n",
            "Epoch 98/100\n",
            "120/120 - 0s - loss: 0.0055 - 341ms/epoch - 3ms/step\n",
            "Epoch 99/100\n",
            "120/120 - 0s - loss: 0.0054 - 345ms/epoch - 3ms/step\n",
            "Epoch 100/100\n",
            "120/120 - 0s - loss: 0.0054 - 377ms/epoch - 3ms/step\n"
          ]
        },
        {
          "output_type": "execute_result",
          "data": {
            "text/plain": [
              "<keras.callbacks.History at 0x7feb60b93250>"
            ]
          },
          "metadata": {},
          "execution_count": 57
        }
      ]
    },
    {
      "cell_type": "code",
      "source": [
        "trainPredict = model4.predict(trainX)\n",
        "testPredict = model4.predict(testX)\n",
        "trainPredict[:,0].shape"
      ],
      "metadata": {
        "colab": {
          "base_uri": "https://localhost:8080/"
        },
        "id": "f6C6p1YfwV5S",
        "outputId": "f6741e80-3014-4d56-e70e-9999ff23dca1"
      },
      "id": "f6C6p1YfwV5S",
      "execution_count": 58,
      "outputs": [
        {
          "output_type": "execute_result",
          "data": {
            "text/plain": [
              "(120,)"
            ]
          },
          "metadata": {},
          "execution_count": 58
        }
      ]
    },
    {
      "cell_type": "code",
      "source": [
        "trainPredict = scale.inverse_transform(trainPredict)\n",
        "v_train = scale.inverse_transform(v_train)\n",
        "testPredict = scale.inverse_transform(testPredict)\n",
        "v_test = scale.inverse_transform(v_test)"
      ],
      "metadata": {
        "id": "2fxhuG65yqpZ"
      },
      "id": "2fxhuG65yqpZ",
      "execution_count": 64,
      "outputs": []
    },
    {
      "cell_type": "code",
      "source": [
        "trainScore = sqrt(mean_squared_error(v_train[:,0], trainPredict[:,0]))\n",
        "print('Train Score: %.2f RMSE' % (trainScore))\n",
        "testScore = sqrt(mean_squared_error(v_test[:,0], testPredict[:,0]))\n",
        "print('Test Score: %.2f RMSE' % (testScore))"
      ],
      "metadata": {
        "colab": {
          "base_uri": "https://localhost:8080/"
        },
        "id": "9td4s-8jwgeq",
        "outputId": "37a473d0-360b-456a-d885-63ec2c448ac8"
      },
      "id": "9td4s-8jwgeq",
      "execution_count": 65,
      "outputs": [
        {
          "output_type": "stream",
          "name": "stdout",
          "text": [
            "Train Score: 69773544.68 RMSE\n",
            "Test Score: 225964.41 RMSE\n"
          ]
        }
      ]
    },
    {
      "cell_type": "markdown",
      "source": [
        "According to the tutorial I follow, these errors correspond to wrong number of passengers my model has guessed. So, I think no airline would hire my model..."
      ],
      "metadata": {
        "id": "p8nlZewV6jEr"
      },
      "id": "p8nlZewV6jEr"
    },
    {
      "cell_type": "markdown",
      "source": [
        "## I couldn't resolve the last error, so I give up here..."
      ],
      "metadata": {
        "id": "1ZHl_gbO4hm9"
      },
      "id": "1ZHl_gbO4hm9"
    },
    {
      "cell_type": "code",
      "source": [
        "loss4, accuracy4 = model4.evaluate(v_train[:,0], trainPredict[:,0], verbose=False)\n",
        "print(\"Training Accuracy: {:.4f}\".format(accuracy4))\n",
        "loss4, NN_score4 = model4.evaluate(v_test[:,0], testPredict[:,0], verbose=False)\n",
        "print(\"Testing Accuracy:  {:.4f}\".format(NN_score4))"
      ],
      "metadata": {
        "colab": {
          "base_uri": "https://localhost:8080/",
          "height": 769
        },
        "id": "5LPqKvfNzHLP",
        "outputId": "c9055a25-a602-4f12-f713-7cc56b798932"
      },
      "id": "5LPqKvfNzHLP",
      "execution_count": 61,
      "outputs": [
        {
          "output_type": "stream",
          "name": "stdout",
          "text": [
            "WARNING:tensorflow:Model was constructed with shape (None, 1, 1) for input KerasTensor(type_spec=TensorSpec(shape=(None, 1, 1), dtype=tf.float32, name='lstm_input'), name='lstm_input', description=\"created by layer 'lstm_input'\"), but it was called on an input with incompatible shape (None,).\n"
          ]
        },
        {
          "output_type": "error",
          "ename": "ValueError",
          "evalue": "ignored",
          "traceback": [
            "\u001b[0;31m---------------------------------------------------------------------------\u001b[0m",
            "\u001b[0;31mValueError\u001b[0m                                Traceback (most recent call last)",
            "\u001b[0;32m<ipython-input-61-c623c0b64346>\u001b[0m in \u001b[0;36m<module>\u001b[0;34m()\u001b[0m\n\u001b[0;32m----> 1\u001b[0;31m \u001b[0mloss4\u001b[0m\u001b[0;34m,\u001b[0m \u001b[0maccuracy4\u001b[0m \u001b[0;34m=\u001b[0m \u001b[0mmodel4\u001b[0m\u001b[0;34m.\u001b[0m\u001b[0mevaluate\u001b[0m\u001b[0;34m(\u001b[0m\u001b[0mv_train\u001b[0m\u001b[0;34m[\u001b[0m\u001b[0;34m:\u001b[0m\u001b[0;34m,\u001b[0m\u001b[0;36m0\u001b[0m\u001b[0;34m]\u001b[0m\u001b[0;34m,\u001b[0m \u001b[0mtrainPredict\u001b[0m\u001b[0;34m[\u001b[0m\u001b[0;34m:\u001b[0m\u001b[0;34m,\u001b[0m\u001b[0;36m0\u001b[0m\u001b[0;34m]\u001b[0m\u001b[0;34m,\u001b[0m \u001b[0mverbose\u001b[0m\u001b[0;34m=\u001b[0m\u001b[0;32mFalse\u001b[0m\u001b[0;34m)\u001b[0m\u001b[0;34m\u001b[0m\u001b[0;34m\u001b[0m\u001b[0m\n\u001b[0m\u001b[1;32m      2\u001b[0m \u001b[0mprint\u001b[0m\u001b[0;34m(\u001b[0m\u001b[0;34m\"Training Accuracy: {:.4f}\"\u001b[0m\u001b[0;34m.\u001b[0m\u001b[0mformat\u001b[0m\u001b[0;34m(\u001b[0m\u001b[0maccuracy4\u001b[0m\u001b[0;34m)\u001b[0m\u001b[0;34m)\u001b[0m\u001b[0;34m\u001b[0m\u001b[0;34m\u001b[0m\u001b[0m\n\u001b[1;32m      3\u001b[0m \u001b[0mloss4\u001b[0m\u001b[0;34m,\u001b[0m \u001b[0mNN_score4\u001b[0m \u001b[0;34m=\u001b[0m \u001b[0mmodel4\u001b[0m\u001b[0;34m.\u001b[0m\u001b[0mevaluate\u001b[0m\u001b[0;34m(\u001b[0m\u001b[0mv_test\u001b[0m\u001b[0;34m[\u001b[0m\u001b[0;34m:\u001b[0m\u001b[0;34m,\u001b[0m\u001b[0;36m0\u001b[0m\u001b[0;34m]\u001b[0m\u001b[0;34m,\u001b[0m \u001b[0mtestPredict\u001b[0m\u001b[0;34m[\u001b[0m\u001b[0;34m:\u001b[0m\u001b[0;34m,\u001b[0m\u001b[0;36m0\u001b[0m\u001b[0;34m]\u001b[0m\u001b[0;34m,\u001b[0m \u001b[0mverbose\u001b[0m\u001b[0;34m=\u001b[0m\u001b[0;32mFalse\u001b[0m\u001b[0;34m)\u001b[0m\u001b[0;34m\u001b[0m\u001b[0;34m\u001b[0m\u001b[0m\n\u001b[1;32m      4\u001b[0m \u001b[0mprint\u001b[0m\u001b[0;34m(\u001b[0m\u001b[0;34m\"Testing Accuracy:  {:.4f}\"\u001b[0m\u001b[0;34m.\u001b[0m\u001b[0mformat\u001b[0m\u001b[0;34m(\u001b[0m\u001b[0mNN_score4\u001b[0m\u001b[0;34m)\u001b[0m\u001b[0;34m)\u001b[0m\u001b[0;34m\u001b[0m\u001b[0;34m\u001b[0m\u001b[0m\n",
            "\u001b[0;32m/usr/local/lib/python3.7/dist-packages/keras/utils/traceback_utils.py\u001b[0m in \u001b[0;36merror_handler\u001b[0;34m(*args, **kwargs)\u001b[0m\n\u001b[1;32m     65\u001b[0m     \u001b[0;32mexcept\u001b[0m \u001b[0mException\u001b[0m \u001b[0;32mas\u001b[0m \u001b[0me\u001b[0m\u001b[0;34m:\u001b[0m  \u001b[0;31m# pylint: disable=broad-except\u001b[0m\u001b[0;34m\u001b[0m\u001b[0;34m\u001b[0m\u001b[0m\n\u001b[1;32m     66\u001b[0m       \u001b[0mfiltered_tb\u001b[0m \u001b[0;34m=\u001b[0m \u001b[0m_process_traceback_frames\u001b[0m\u001b[0;34m(\u001b[0m\u001b[0me\u001b[0m\u001b[0;34m.\u001b[0m\u001b[0m__traceback__\u001b[0m\u001b[0;34m)\u001b[0m\u001b[0;34m\u001b[0m\u001b[0;34m\u001b[0m\u001b[0m\n\u001b[0;32m---> 67\u001b[0;31m       \u001b[0;32mraise\u001b[0m \u001b[0me\u001b[0m\u001b[0;34m.\u001b[0m\u001b[0mwith_traceback\u001b[0m\u001b[0;34m(\u001b[0m\u001b[0mfiltered_tb\u001b[0m\u001b[0;34m)\u001b[0m \u001b[0;32mfrom\u001b[0m \u001b[0;32mNone\u001b[0m\u001b[0;34m\u001b[0m\u001b[0;34m\u001b[0m\u001b[0m\n\u001b[0m\u001b[1;32m     68\u001b[0m     \u001b[0;32mfinally\u001b[0m\u001b[0;34m:\u001b[0m\u001b[0;34m\u001b[0m\u001b[0;34m\u001b[0m\u001b[0m\n\u001b[1;32m     69\u001b[0m       \u001b[0;32mdel\u001b[0m \u001b[0mfiltered_tb\u001b[0m\u001b[0;34m\u001b[0m\u001b[0;34m\u001b[0m\u001b[0m\n",
            "\u001b[0;32m/usr/local/lib/python3.7/dist-packages/tensorflow/python/framework/func_graph.py\u001b[0m in \u001b[0;36mautograph_handler\u001b[0;34m(*args, **kwargs)\u001b[0m\n\u001b[1;32m   1145\u001b[0m           \u001b[0;32mexcept\u001b[0m \u001b[0mException\u001b[0m \u001b[0;32mas\u001b[0m \u001b[0me\u001b[0m\u001b[0;34m:\u001b[0m  \u001b[0;31m# pylint:disable=broad-except\u001b[0m\u001b[0;34m\u001b[0m\u001b[0;34m\u001b[0m\u001b[0m\n\u001b[1;32m   1146\u001b[0m             \u001b[0;32mif\u001b[0m \u001b[0mhasattr\u001b[0m\u001b[0;34m(\u001b[0m\u001b[0me\u001b[0m\u001b[0;34m,\u001b[0m \u001b[0;34m\"ag_error_metadata\"\u001b[0m\u001b[0;34m)\u001b[0m\u001b[0;34m:\u001b[0m\u001b[0;34m\u001b[0m\u001b[0;34m\u001b[0m\u001b[0m\n\u001b[0;32m-> 1147\u001b[0;31m               \u001b[0;32mraise\u001b[0m \u001b[0me\u001b[0m\u001b[0;34m.\u001b[0m\u001b[0mag_error_metadata\u001b[0m\u001b[0;34m.\u001b[0m\u001b[0mto_exception\u001b[0m\u001b[0;34m(\u001b[0m\u001b[0me\u001b[0m\u001b[0;34m)\u001b[0m\u001b[0;34m\u001b[0m\u001b[0;34m\u001b[0m\u001b[0m\n\u001b[0m\u001b[1;32m   1148\u001b[0m             \u001b[0;32melse\u001b[0m\u001b[0;34m:\u001b[0m\u001b[0;34m\u001b[0m\u001b[0;34m\u001b[0m\u001b[0m\n\u001b[1;32m   1149\u001b[0m               \u001b[0;32mraise\u001b[0m\u001b[0;34m\u001b[0m\u001b[0;34m\u001b[0m\u001b[0m\n",
            "\u001b[0;31mValueError\u001b[0m: in user code:\n\n    File \"/usr/local/lib/python3.7/dist-packages/keras/engine/training.py\", line 1525, in test_function  *\n        return step_function(self, iterator)\n    File \"/usr/local/lib/python3.7/dist-packages/keras/engine/training.py\", line 1514, in step_function  **\n        outputs = model.distribute_strategy.run(run_step, args=(data,))\n    File \"/usr/local/lib/python3.7/dist-packages/keras/engine/training.py\", line 1507, in run_step  **\n        outputs = model.test_step(data)\n    File \"/usr/local/lib/python3.7/dist-packages/keras/engine/training.py\", line 1471, in test_step\n        y_pred = self(x, training=False)\n    File \"/usr/local/lib/python3.7/dist-packages/keras/utils/traceback_utils.py\", line 67, in error_handler\n        raise e.with_traceback(filtered_tb) from None\n    File \"/usr/local/lib/python3.7/dist-packages/keras/engine/input_spec.py\", line 214, in assert_input_compatibility\n        raise ValueError(f'Input {input_index} of layer \"{layer_name}\" '\n\n    ValueError: Exception encountered when calling layer \"sequential_2\" (type Sequential).\n    \n    Input 0 of layer \"lstm\" is incompatible with the layer: expected ndim=3, found ndim=1. Full shape received: (None,)\n    \n    Call arguments received:\n      • inputs=tf.Tensor(shape=(None,), dtype=float32)\n      • training=False\n      • mask=None\n"
          ]
        }
      ]
    }
  ],
  "metadata": {
    "interpreter": {
      "hash": "df2f81b94a627e8efc53712ce382a9fd4efeeb18c61063c915a2dc322dae6b87"
    },
    "kernelspec": {
      "display_name": "Python 3 (ipykernel)",
      "language": "python",
      "name": "python3"
    },
    "language_info": {
      "codemirror_mode": {
        "name": "ipython",
        "version": 3
      },
      "file_extension": ".py",
      "mimetype": "text/x-python",
      "name": "python",
      "nbconvert_exporter": "python",
      "pygments_lexer": "ipython3",
      "version": "3.9.7"
    },
    "colab": {
      "name": "HW4_CemS.ipynb",
      "provenance": [],
      "collapsed_sections": [
        "5bac4167",
        "e60a3f06"
      ],
      "include_colab_link": true
    }
  },
  "nbformat": 4,
  "nbformat_minor": 5
}