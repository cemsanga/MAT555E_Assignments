{
  "cells": [
    {
      "cell_type": "markdown",
      "metadata": {
        "id": "view-in-github",
        "colab_type": "text"
      },
      "source": [
        "<a href=\"https://colab.research.google.com/github/cemsanga/MAT555E_Assignments/blob/main/HW4_CemS.ipynb\" target=\"_parent\"><img src=\"https://colab.research.google.com/assets/colab-badge.svg\" alt=\"Open In Colab\"/></a>"
      ]
    },
    {
      "cell_type": "code",
      "execution_count": 75,
      "id": "222a1585",
      "metadata": {
        "id": "222a1585"
      },
      "outputs": [],
      "source": [
        "import pandas as pd\n",
        "import numpy as np\n",
        "import matplotlib.pyplot as plt\n",
        "from urllib.request import urlopen\n",
        "from zipfile import ZipFile\n",
        "from io import BytesIO\n",
        "import requests\n",
        "from collections import Counter\n",
        "from os import path\n",
        "from sklearn.model_selection import train_test_split\n",
        "from scipy.stats import chisquare\n",
        "from sklearn.preprocessing import LabelEncoder,MinMaxScaler\n",
        "from sklearn.metrics import confusion_matrix,accuracy_score\n",
        "from sklearn.linear_model import LogisticRegression\n",
        "from sklearn.svm import SVC\n",
        "from sklearn.neighbors import KNeighborsClassifier\n",
        "from sklearn.tree import DecisionTreeClassifier\n",
        "from sklearn import tree\n",
        "import xgboost as xgb\n",
        "from keras.backend import clear_session\n",
        "\n",
        "import tensorflow as tf\n",
        "import keras as ks\n",
        "from keras.layers import Dense, Conv2D, Dropout, Flatten, MaxPooling2D,MaxPooling3D, LSTM, Embedding\n",
        "from keras.utils import np_utils\n",
        "from tensorflow.keras.utils import to_categorical\n",
        "\n",
        "import warnings\n",
        "#warnings.filterwarnings('ignore')"
      ]
    },
    {
      "cell_type": "markdown",
      "id": "1e81bf4e",
      "metadata": {
        "id": "1e81bf4e"
      },
      "source": [
        "# HW 4"
      ]
    },
    {
      "cell_type": "markdown",
      "id": "f21330f9",
      "metadata": {
        "id": "f21330f9"
      },
      "source": [
        "# Q1\n",
        "\n",
        "For this question we are going to use [1994 Census Adult Data Set](https://archive.ics.uci.edu/ml/datasets/adult).\n",
        "\n",
        "Construct \n",
        "\n",
        "- Logistic regression\n",
        "- SVM\n",
        "- KNN\n",
        "- Decision tree\n",
        "- Gradient Boost (XGBoost)\n",
        "- Neural network\n",
        "\n",
        "models for the data. Cross-validate your models and measure the accuracies. Compare them putting the accuracies in a table."
      ]
    },
    {
      "cell_type": "markdown",
      "id": "ecca90dc",
      "metadata": {
        "id": "ecca90dc"
      },
      "source": [
        "## Data Handling"
      ]
    },
    {
      "cell_type": "code",
      "execution_count": null,
      "id": "658454b7",
      "metadata": {
        "id": "658454b7"
      },
      "outputs": [],
      "source": [
        "data = pd.read_csv('https://archive.ics.uci.edu/ml/machine-learning-databases/adult/adult.data',header=None)"
      ]
    },
    {
      "cell_type": "markdown",
      "id": "7bacd888",
      "metadata": {
        "id": "7bacd888"
      },
      "source": [
        "I will take the column names from the file `adult.names` which was presented at the data source."
      ]
    },
    {
      "cell_type": "code",
      "execution_count": null,
      "id": "5da855b6",
      "metadata": {
        "id": "5da855b6"
      },
      "outputs": [],
      "source": [
        "if path.exists(\"adult.names\") == True:\n",
        "    f = open('adult.names', \"r\")\n",
        "    lines = f.readlines()\n",
        "    descriptions = lines[-14:]\n",
        "    col_names = []\n",
        "    for x in descriptions:\n",
        "        label = x.split(\":\")[0]\n",
        "        col_names.append(label)\n",
        "else:\n",
        "    col_names=['age','workclass','fnlwgt','education','education-num','marital-status','occupation','relationship','race','sex','capital-gain','capital-loss','hours-per-week','native-country']"
      ]
    },
    {
      "cell_type": "markdown",
      "id": "51e46803",
      "metadata": {
        "id": "51e46803"
      },
      "source": [
        "We also need to add the target variable `income` to the columns"
      ]
    },
    {
      "cell_type": "code",
      "execution_count": null,
      "id": "b9d8cf14",
      "metadata": {
        "colab": {
          "base_uri": "https://localhost:8080/"
        },
        "id": "b9d8cf14",
        "outputId": "f760881a-e056-4ab0-deea-f5f339e83260"
      },
      "outputs": [
        {
          "output_type": "execute_result",
          "data": {
            "text/plain": [
              "['age',\n",
              " 'workclass',\n",
              " 'fnlwgt',\n",
              " 'education',\n",
              " 'education-num',\n",
              " 'marital-status',\n",
              " 'occupation',\n",
              " 'relationship',\n",
              " 'race',\n",
              " 'sex',\n",
              " 'capital-gain',\n",
              " 'capital-loss',\n",
              " 'hours-per-week',\n",
              " 'native-country',\n",
              " 'income']"
            ]
          },
          "metadata": {},
          "execution_count": 4
        }
      ],
      "source": [
        "col_names.append(\"income\")\n",
        "col_names"
      ]
    },
    {
      "cell_type": "code",
      "execution_count": null,
      "id": "6e96bd8f",
      "metadata": {
        "colab": {
          "base_uri": "https://localhost:8080/",
          "height": 599
        },
        "id": "6e96bd8f",
        "outputId": "60c3defd-6d3c-440d-b2b6-1cc7ec630c3e"
      },
      "outputs": [
        {
          "output_type": "execute_result",
          "data": {
            "text/plain": [
              "       age          workclass  fnlwgt    education  education-num  \\\n",
              "0       39          State-gov   77516    Bachelors             13   \n",
              "1       50   Self-emp-not-inc   83311    Bachelors             13   \n",
              "2       38            Private  215646      HS-grad              9   \n",
              "3       53            Private  234721         11th              7   \n",
              "4       28            Private  338409    Bachelors             13   \n",
              "...    ...                ...     ...          ...            ...   \n",
              "32556   27            Private  257302   Assoc-acdm             12   \n",
              "32557   40            Private  154374      HS-grad              9   \n",
              "32558   58            Private  151910      HS-grad              9   \n",
              "32559   22            Private  201490      HS-grad              9   \n",
              "32560   52       Self-emp-inc  287927      HS-grad              9   \n",
              "\n",
              "            marital-status          occupation    relationship    race  \\\n",
              "0            Never-married        Adm-clerical   Not-in-family   White   \n",
              "1       Married-civ-spouse     Exec-managerial         Husband   White   \n",
              "2                 Divorced   Handlers-cleaners   Not-in-family   White   \n",
              "3       Married-civ-spouse   Handlers-cleaners         Husband   Black   \n",
              "4       Married-civ-spouse      Prof-specialty            Wife   Black   \n",
              "...                    ...                 ...             ...     ...   \n",
              "32556   Married-civ-spouse        Tech-support            Wife   White   \n",
              "32557   Married-civ-spouse   Machine-op-inspct         Husband   White   \n",
              "32558              Widowed        Adm-clerical       Unmarried   White   \n",
              "32559        Never-married        Adm-clerical       Own-child   White   \n",
              "32560   Married-civ-spouse     Exec-managerial            Wife   White   \n",
              "\n",
              "           sex  capital-gain  capital-loss  hours-per-week  native-country  \\\n",
              "0         Male          2174             0              40   United-States   \n",
              "1         Male             0             0              13   United-States   \n",
              "2         Male             0             0              40   United-States   \n",
              "3         Male             0             0              40   United-States   \n",
              "4       Female             0             0              40            Cuba   \n",
              "...        ...           ...           ...             ...             ...   \n",
              "32556   Female             0             0              38   United-States   \n",
              "32557     Male             0             0              40   United-States   \n",
              "32558   Female             0             0              40   United-States   \n",
              "32559     Male             0             0              20   United-States   \n",
              "32560   Female         15024             0              40   United-States   \n",
              "\n",
              "       income  \n",
              "0       <=50K  \n",
              "1       <=50K  \n",
              "2       <=50K  \n",
              "3       <=50K  \n",
              "4       <=50K  \n",
              "...       ...  \n",
              "32556   <=50K  \n",
              "32557    >50K  \n",
              "32558   <=50K  \n",
              "32559   <=50K  \n",
              "32560    >50K  \n",
              "\n",
              "[32561 rows x 15 columns]"
            ],
            "text/html": [
              "\n",
              "  <div id=\"df-2371b2d7-a81d-4e94-a508-2f4a17520310\">\n",
              "    <div class=\"colab-df-container\">\n",
              "      <div>\n",
              "<style scoped>\n",
              "    .dataframe tbody tr th:only-of-type {\n",
              "        vertical-align: middle;\n",
              "    }\n",
              "\n",
              "    .dataframe tbody tr th {\n",
              "        vertical-align: top;\n",
              "    }\n",
              "\n",
              "    .dataframe thead th {\n",
              "        text-align: right;\n",
              "    }\n",
              "</style>\n",
              "<table border=\"1\" class=\"dataframe\">\n",
              "  <thead>\n",
              "    <tr style=\"text-align: right;\">\n",
              "      <th></th>\n",
              "      <th>age</th>\n",
              "      <th>workclass</th>\n",
              "      <th>fnlwgt</th>\n",
              "      <th>education</th>\n",
              "      <th>education-num</th>\n",
              "      <th>marital-status</th>\n",
              "      <th>occupation</th>\n",
              "      <th>relationship</th>\n",
              "      <th>race</th>\n",
              "      <th>sex</th>\n",
              "      <th>capital-gain</th>\n",
              "      <th>capital-loss</th>\n",
              "      <th>hours-per-week</th>\n",
              "      <th>native-country</th>\n",
              "      <th>income</th>\n",
              "    </tr>\n",
              "  </thead>\n",
              "  <tbody>\n",
              "    <tr>\n",
              "      <th>0</th>\n",
              "      <td>39</td>\n",
              "      <td>State-gov</td>\n",
              "      <td>77516</td>\n",
              "      <td>Bachelors</td>\n",
              "      <td>13</td>\n",
              "      <td>Never-married</td>\n",
              "      <td>Adm-clerical</td>\n",
              "      <td>Not-in-family</td>\n",
              "      <td>White</td>\n",
              "      <td>Male</td>\n",
              "      <td>2174</td>\n",
              "      <td>0</td>\n",
              "      <td>40</td>\n",
              "      <td>United-States</td>\n",
              "      <td>&lt;=50K</td>\n",
              "    </tr>\n",
              "    <tr>\n",
              "      <th>1</th>\n",
              "      <td>50</td>\n",
              "      <td>Self-emp-not-inc</td>\n",
              "      <td>83311</td>\n",
              "      <td>Bachelors</td>\n",
              "      <td>13</td>\n",
              "      <td>Married-civ-spouse</td>\n",
              "      <td>Exec-managerial</td>\n",
              "      <td>Husband</td>\n",
              "      <td>White</td>\n",
              "      <td>Male</td>\n",
              "      <td>0</td>\n",
              "      <td>0</td>\n",
              "      <td>13</td>\n",
              "      <td>United-States</td>\n",
              "      <td>&lt;=50K</td>\n",
              "    </tr>\n",
              "    <tr>\n",
              "      <th>2</th>\n",
              "      <td>38</td>\n",
              "      <td>Private</td>\n",
              "      <td>215646</td>\n",
              "      <td>HS-grad</td>\n",
              "      <td>9</td>\n",
              "      <td>Divorced</td>\n",
              "      <td>Handlers-cleaners</td>\n",
              "      <td>Not-in-family</td>\n",
              "      <td>White</td>\n",
              "      <td>Male</td>\n",
              "      <td>0</td>\n",
              "      <td>0</td>\n",
              "      <td>40</td>\n",
              "      <td>United-States</td>\n",
              "      <td>&lt;=50K</td>\n",
              "    </tr>\n",
              "    <tr>\n",
              "      <th>3</th>\n",
              "      <td>53</td>\n",
              "      <td>Private</td>\n",
              "      <td>234721</td>\n",
              "      <td>11th</td>\n",
              "      <td>7</td>\n",
              "      <td>Married-civ-spouse</td>\n",
              "      <td>Handlers-cleaners</td>\n",
              "      <td>Husband</td>\n",
              "      <td>Black</td>\n",
              "      <td>Male</td>\n",
              "      <td>0</td>\n",
              "      <td>0</td>\n",
              "      <td>40</td>\n",
              "      <td>United-States</td>\n",
              "      <td>&lt;=50K</td>\n",
              "    </tr>\n",
              "    <tr>\n",
              "      <th>4</th>\n",
              "      <td>28</td>\n",
              "      <td>Private</td>\n",
              "      <td>338409</td>\n",
              "      <td>Bachelors</td>\n",
              "      <td>13</td>\n",
              "      <td>Married-civ-spouse</td>\n",
              "      <td>Prof-specialty</td>\n",
              "      <td>Wife</td>\n",
              "      <td>Black</td>\n",
              "      <td>Female</td>\n",
              "      <td>0</td>\n",
              "      <td>0</td>\n",
              "      <td>40</td>\n",
              "      <td>Cuba</td>\n",
              "      <td>&lt;=50K</td>\n",
              "    </tr>\n",
              "    <tr>\n",
              "      <th>...</th>\n",
              "      <td>...</td>\n",
              "      <td>...</td>\n",
              "      <td>...</td>\n",
              "      <td>...</td>\n",
              "      <td>...</td>\n",
              "      <td>...</td>\n",
              "      <td>...</td>\n",
              "      <td>...</td>\n",
              "      <td>...</td>\n",
              "      <td>...</td>\n",
              "      <td>...</td>\n",
              "      <td>...</td>\n",
              "      <td>...</td>\n",
              "      <td>...</td>\n",
              "      <td>...</td>\n",
              "    </tr>\n",
              "    <tr>\n",
              "      <th>32556</th>\n",
              "      <td>27</td>\n",
              "      <td>Private</td>\n",
              "      <td>257302</td>\n",
              "      <td>Assoc-acdm</td>\n",
              "      <td>12</td>\n",
              "      <td>Married-civ-spouse</td>\n",
              "      <td>Tech-support</td>\n",
              "      <td>Wife</td>\n",
              "      <td>White</td>\n",
              "      <td>Female</td>\n",
              "      <td>0</td>\n",
              "      <td>0</td>\n",
              "      <td>38</td>\n",
              "      <td>United-States</td>\n",
              "      <td>&lt;=50K</td>\n",
              "    </tr>\n",
              "    <tr>\n",
              "      <th>32557</th>\n",
              "      <td>40</td>\n",
              "      <td>Private</td>\n",
              "      <td>154374</td>\n",
              "      <td>HS-grad</td>\n",
              "      <td>9</td>\n",
              "      <td>Married-civ-spouse</td>\n",
              "      <td>Machine-op-inspct</td>\n",
              "      <td>Husband</td>\n",
              "      <td>White</td>\n",
              "      <td>Male</td>\n",
              "      <td>0</td>\n",
              "      <td>0</td>\n",
              "      <td>40</td>\n",
              "      <td>United-States</td>\n",
              "      <td>&gt;50K</td>\n",
              "    </tr>\n",
              "    <tr>\n",
              "      <th>32558</th>\n",
              "      <td>58</td>\n",
              "      <td>Private</td>\n",
              "      <td>151910</td>\n",
              "      <td>HS-grad</td>\n",
              "      <td>9</td>\n",
              "      <td>Widowed</td>\n",
              "      <td>Adm-clerical</td>\n",
              "      <td>Unmarried</td>\n",
              "      <td>White</td>\n",
              "      <td>Female</td>\n",
              "      <td>0</td>\n",
              "      <td>0</td>\n",
              "      <td>40</td>\n",
              "      <td>United-States</td>\n",
              "      <td>&lt;=50K</td>\n",
              "    </tr>\n",
              "    <tr>\n",
              "      <th>32559</th>\n",
              "      <td>22</td>\n",
              "      <td>Private</td>\n",
              "      <td>201490</td>\n",
              "      <td>HS-grad</td>\n",
              "      <td>9</td>\n",
              "      <td>Never-married</td>\n",
              "      <td>Adm-clerical</td>\n",
              "      <td>Own-child</td>\n",
              "      <td>White</td>\n",
              "      <td>Male</td>\n",
              "      <td>0</td>\n",
              "      <td>0</td>\n",
              "      <td>20</td>\n",
              "      <td>United-States</td>\n",
              "      <td>&lt;=50K</td>\n",
              "    </tr>\n",
              "    <tr>\n",
              "      <th>32560</th>\n",
              "      <td>52</td>\n",
              "      <td>Self-emp-inc</td>\n",
              "      <td>287927</td>\n",
              "      <td>HS-grad</td>\n",
              "      <td>9</td>\n",
              "      <td>Married-civ-spouse</td>\n",
              "      <td>Exec-managerial</td>\n",
              "      <td>Wife</td>\n",
              "      <td>White</td>\n",
              "      <td>Female</td>\n",
              "      <td>15024</td>\n",
              "      <td>0</td>\n",
              "      <td>40</td>\n",
              "      <td>United-States</td>\n",
              "      <td>&gt;50K</td>\n",
              "    </tr>\n",
              "  </tbody>\n",
              "</table>\n",
              "<p>32561 rows × 15 columns</p>\n",
              "</div>\n",
              "      <button class=\"colab-df-convert\" onclick=\"convertToInteractive('df-2371b2d7-a81d-4e94-a508-2f4a17520310')\"\n",
              "              title=\"Convert this dataframe to an interactive table.\"\n",
              "              style=\"display:none;\">\n",
              "        \n",
              "  <svg xmlns=\"http://www.w3.org/2000/svg\" height=\"24px\"viewBox=\"0 0 24 24\"\n",
              "       width=\"24px\">\n",
              "    <path d=\"M0 0h24v24H0V0z\" fill=\"none\"/>\n",
              "    <path d=\"M18.56 5.44l.94 2.06.94-2.06 2.06-.94-2.06-.94-.94-2.06-.94 2.06-2.06.94zm-11 1L8.5 8.5l.94-2.06 2.06-.94-2.06-.94L8.5 2.5l-.94 2.06-2.06.94zm10 10l.94 2.06.94-2.06 2.06-.94-2.06-.94-.94-2.06-.94 2.06-2.06.94z\"/><path d=\"M17.41 7.96l-1.37-1.37c-.4-.4-.92-.59-1.43-.59-.52 0-1.04.2-1.43.59L10.3 9.45l-7.72 7.72c-.78.78-.78 2.05 0 2.83L4 21.41c.39.39.9.59 1.41.59.51 0 1.02-.2 1.41-.59l7.78-7.78 2.81-2.81c.8-.78.8-2.07 0-2.86zM5.41 20L4 18.59l7.72-7.72 1.47 1.35L5.41 20z\"/>\n",
              "  </svg>\n",
              "      </button>\n",
              "      \n",
              "  <style>\n",
              "    .colab-df-container {\n",
              "      display:flex;\n",
              "      flex-wrap:wrap;\n",
              "      gap: 12px;\n",
              "    }\n",
              "\n",
              "    .colab-df-convert {\n",
              "      background-color: #E8F0FE;\n",
              "      border: none;\n",
              "      border-radius: 50%;\n",
              "      cursor: pointer;\n",
              "      display: none;\n",
              "      fill: #1967D2;\n",
              "      height: 32px;\n",
              "      padding: 0 0 0 0;\n",
              "      width: 32px;\n",
              "    }\n",
              "\n",
              "    .colab-df-convert:hover {\n",
              "      background-color: #E2EBFA;\n",
              "      box-shadow: 0px 1px 2px rgba(60, 64, 67, 0.3), 0px 1px 3px 1px rgba(60, 64, 67, 0.15);\n",
              "      fill: #174EA6;\n",
              "    }\n",
              "\n",
              "    [theme=dark] .colab-df-convert {\n",
              "      background-color: #3B4455;\n",
              "      fill: #D2E3FC;\n",
              "    }\n",
              "\n",
              "    [theme=dark] .colab-df-convert:hover {\n",
              "      background-color: #434B5C;\n",
              "      box-shadow: 0px 1px 3px 1px rgba(0, 0, 0, 0.15);\n",
              "      filter: drop-shadow(0px 1px 2px rgba(0, 0, 0, 0.3));\n",
              "      fill: #FFFFFF;\n",
              "    }\n",
              "  </style>\n",
              "\n",
              "      <script>\n",
              "        const buttonEl =\n",
              "          document.querySelector('#df-2371b2d7-a81d-4e94-a508-2f4a17520310 button.colab-df-convert');\n",
              "        buttonEl.style.display =\n",
              "          google.colab.kernel.accessAllowed ? 'block' : 'none';\n",
              "\n",
              "        async function convertToInteractive(key) {\n",
              "          const element = document.querySelector('#df-2371b2d7-a81d-4e94-a508-2f4a17520310');\n",
              "          const dataTable =\n",
              "            await google.colab.kernel.invokeFunction('convertToInteractive',\n",
              "                                                     [key], {});\n",
              "          if (!dataTable) return;\n",
              "\n",
              "          const docLinkHtml = 'Like what you see? Visit the ' +\n",
              "            '<a target=\"_blank\" href=https://colab.research.google.com/notebooks/data_table.ipynb>data table notebook</a>'\n",
              "            + ' to learn more about interactive tables.';\n",
              "          element.innerHTML = '';\n",
              "          dataTable['output_type'] = 'display_data';\n",
              "          await google.colab.output.renderOutput(dataTable, element);\n",
              "          const docLink = document.createElement('div');\n",
              "          docLink.innerHTML = docLinkHtml;\n",
              "          element.appendChild(docLink);\n",
              "        }\n",
              "      </script>\n",
              "    </div>\n",
              "  </div>\n",
              "  "
            ]
          },
          "metadata": {},
          "execution_count": 5
        }
      ],
      "source": [
        "col_index = [i for i in range(len(col_names))]\n",
        "col_dict = dict(zip(col_index,col_names))\n",
        "origin_df = pd.DataFrame(data)\n",
        "origin_df.rename(col_dict, axis=1, inplace = True)\n",
        "df = origin_df\n",
        "origin_df"
      ]
    },
    {
      "cell_type": "code",
      "execution_count": null,
      "id": "d39f5e52",
      "metadata": {
        "id": "d39f5e52"
      },
      "outputs": [],
      "source": [
        "categorical = [\"workclass\", \"education\", \"marital-status\" , \"occupation\" , \"relationship\", \"race\", \"sex\", \"native-country\"]"
      ]
    },
    {
      "cell_type": "markdown",
      "id": "47c7f52b",
      "metadata": {
        "id": "47c7f52b"
      },
      "source": [
        "Next, I will use a code snippet that I took from my classmate *Ahmet Süheyl Kiriş*. As we discussed in class, dealing with categorical data is problematic since every labeling we can do instead of the categories can be biased depending on the label type. So we give every option of a category an individual column. These new columns will only have binary values of $0$ or $1$, depending whether that row has that attribute. With my sincere gratitude to the owner, I name the snippet, _SuheylBinarizer_. (Later, we have noticed that LabelBinarizer does the same thing but it is still good for his citation count this way.)\n",
        "\n",
        "The list `categorical values` only contains the columns of the dataset that has categorical parameters. At the end of the next code cell, `df` will be a DataFrame containing only the new binary columns."
      ]
    },
    {
      "cell_type": "code",
      "execution_count": null,
      "id": "1064da49",
      "metadata": {
        "id": "1064da49"
      },
      "outputs": [],
      "source": [
        "# Süheyl Binarizer\n",
        "\n",
        "trivial = np.zeros((32561,1)).astype(int)\n",
        "df = pd.DataFrame(trivial, columns = [\"Deneme\"])\n",
        "\n",
        "for a in range(len(categorical)):\n",
        "    arr_unique = np.unique(data[categorical[a]])\n",
        "    arr = data[categorical[a]]\n",
        "    clmns = []\n",
        "    \n",
        "    for u in arr_unique:\n",
        "        string = str(categorical[a]) + str(u)\n",
        "        clmns.append(string)\n",
        "\n",
        "    matrix = np.zeros((32561,len(arr_unique)))\n",
        "    for i in range(len(arr_unique)):\n",
        "        for j in range(32561):\n",
        "            if arr[j] == arr_unique[i]:\n",
        "                matrix[j][i] = 1;\n",
        "    matrix = matrix.astype(int)\n",
        "    df2 = pd.DataFrame(matrix, columns = clmns)\n",
        "    df = df.join(df2)\n",
        "df = df.drop([\"Deneme\"], axis=1)"
      ]
    },
    {
      "cell_type": "markdown",
      "id": "860a6e16",
      "metadata": {
        "id": "860a6e16"
      },
      "source": [
        "Now I drop the original categorical columns from the initial `data` DataFrame and add the newly formed binary columns."
      ]
    },
    {
      "cell_type": "code",
      "execution_count": null,
      "id": "b482cf81",
      "metadata": {
        "colab": {
          "base_uri": "https://localhost:8080/",
          "height": 419
        },
        "id": "b482cf81",
        "outputId": "b40fa1b8-8bc8-4501-c64d-5fc624f4773e"
      },
      "outputs": [
        {
          "output_type": "execute_result",
          "data": {
            "text/plain": [
              "       age  fnlwgt  education-num  capital-gain  capital-loss  hours-per-week  \\\n",
              "0       39   77516             13          2174             0              40   \n",
              "1       50   83311             13             0             0              13   \n",
              "2       38  215646              9             0             0              40   \n",
              "3       53  234721              7             0             0              40   \n",
              "4       28  338409             13             0             0              40   \n",
              "...    ...     ...            ...           ...           ...             ...   \n",
              "32556   27  257302             12             0             0              38   \n",
              "32557   40  154374              9             0             0              40   \n",
              "32558   58  151910              9             0             0              40   \n",
              "32559   22  201490              9             0             0              20   \n",
              "32560   52  287927              9         15024             0              40   \n",
              "\n",
              "       income  \n",
              "0       <=50K  \n",
              "1       <=50K  \n",
              "2       <=50K  \n",
              "3       <=50K  \n",
              "4       <=50K  \n",
              "...       ...  \n",
              "32556   <=50K  \n",
              "32557    >50K  \n",
              "32558   <=50K  \n",
              "32559   <=50K  \n",
              "32560    >50K  \n",
              "\n",
              "[32561 rows x 7 columns]"
            ],
            "text/html": [
              "\n",
              "  <div id=\"df-6a271d66-652e-494b-8795-3fa80485737b\">\n",
              "    <div class=\"colab-df-container\">\n",
              "      <div>\n",
              "<style scoped>\n",
              "    .dataframe tbody tr th:only-of-type {\n",
              "        vertical-align: middle;\n",
              "    }\n",
              "\n",
              "    .dataframe tbody tr th {\n",
              "        vertical-align: top;\n",
              "    }\n",
              "\n",
              "    .dataframe thead th {\n",
              "        text-align: right;\n",
              "    }\n",
              "</style>\n",
              "<table border=\"1\" class=\"dataframe\">\n",
              "  <thead>\n",
              "    <tr style=\"text-align: right;\">\n",
              "      <th></th>\n",
              "      <th>age</th>\n",
              "      <th>fnlwgt</th>\n",
              "      <th>education-num</th>\n",
              "      <th>capital-gain</th>\n",
              "      <th>capital-loss</th>\n",
              "      <th>hours-per-week</th>\n",
              "      <th>income</th>\n",
              "    </tr>\n",
              "  </thead>\n",
              "  <tbody>\n",
              "    <tr>\n",
              "      <th>0</th>\n",
              "      <td>39</td>\n",
              "      <td>77516</td>\n",
              "      <td>13</td>\n",
              "      <td>2174</td>\n",
              "      <td>0</td>\n",
              "      <td>40</td>\n",
              "      <td>&lt;=50K</td>\n",
              "    </tr>\n",
              "    <tr>\n",
              "      <th>1</th>\n",
              "      <td>50</td>\n",
              "      <td>83311</td>\n",
              "      <td>13</td>\n",
              "      <td>0</td>\n",
              "      <td>0</td>\n",
              "      <td>13</td>\n",
              "      <td>&lt;=50K</td>\n",
              "    </tr>\n",
              "    <tr>\n",
              "      <th>2</th>\n",
              "      <td>38</td>\n",
              "      <td>215646</td>\n",
              "      <td>9</td>\n",
              "      <td>0</td>\n",
              "      <td>0</td>\n",
              "      <td>40</td>\n",
              "      <td>&lt;=50K</td>\n",
              "    </tr>\n",
              "    <tr>\n",
              "      <th>3</th>\n",
              "      <td>53</td>\n",
              "      <td>234721</td>\n",
              "      <td>7</td>\n",
              "      <td>0</td>\n",
              "      <td>0</td>\n",
              "      <td>40</td>\n",
              "      <td>&lt;=50K</td>\n",
              "    </tr>\n",
              "    <tr>\n",
              "      <th>4</th>\n",
              "      <td>28</td>\n",
              "      <td>338409</td>\n",
              "      <td>13</td>\n",
              "      <td>0</td>\n",
              "      <td>0</td>\n",
              "      <td>40</td>\n",
              "      <td>&lt;=50K</td>\n",
              "    </tr>\n",
              "    <tr>\n",
              "      <th>...</th>\n",
              "      <td>...</td>\n",
              "      <td>...</td>\n",
              "      <td>...</td>\n",
              "      <td>...</td>\n",
              "      <td>...</td>\n",
              "      <td>...</td>\n",
              "      <td>...</td>\n",
              "    </tr>\n",
              "    <tr>\n",
              "      <th>32556</th>\n",
              "      <td>27</td>\n",
              "      <td>257302</td>\n",
              "      <td>12</td>\n",
              "      <td>0</td>\n",
              "      <td>0</td>\n",
              "      <td>38</td>\n",
              "      <td>&lt;=50K</td>\n",
              "    </tr>\n",
              "    <tr>\n",
              "      <th>32557</th>\n",
              "      <td>40</td>\n",
              "      <td>154374</td>\n",
              "      <td>9</td>\n",
              "      <td>0</td>\n",
              "      <td>0</td>\n",
              "      <td>40</td>\n",
              "      <td>&gt;50K</td>\n",
              "    </tr>\n",
              "    <tr>\n",
              "      <th>32558</th>\n",
              "      <td>58</td>\n",
              "      <td>151910</td>\n",
              "      <td>9</td>\n",
              "      <td>0</td>\n",
              "      <td>0</td>\n",
              "      <td>40</td>\n",
              "      <td>&lt;=50K</td>\n",
              "    </tr>\n",
              "    <tr>\n",
              "      <th>32559</th>\n",
              "      <td>22</td>\n",
              "      <td>201490</td>\n",
              "      <td>9</td>\n",
              "      <td>0</td>\n",
              "      <td>0</td>\n",
              "      <td>20</td>\n",
              "      <td>&lt;=50K</td>\n",
              "    </tr>\n",
              "    <tr>\n",
              "      <th>32560</th>\n",
              "      <td>52</td>\n",
              "      <td>287927</td>\n",
              "      <td>9</td>\n",
              "      <td>15024</td>\n",
              "      <td>0</td>\n",
              "      <td>40</td>\n",
              "      <td>&gt;50K</td>\n",
              "    </tr>\n",
              "  </tbody>\n",
              "</table>\n",
              "<p>32561 rows × 7 columns</p>\n",
              "</div>\n",
              "      <button class=\"colab-df-convert\" onclick=\"convertToInteractive('df-6a271d66-652e-494b-8795-3fa80485737b')\"\n",
              "              title=\"Convert this dataframe to an interactive table.\"\n",
              "              style=\"display:none;\">\n",
              "        \n",
              "  <svg xmlns=\"http://www.w3.org/2000/svg\" height=\"24px\"viewBox=\"0 0 24 24\"\n",
              "       width=\"24px\">\n",
              "    <path d=\"M0 0h24v24H0V0z\" fill=\"none\"/>\n",
              "    <path d=\"M18.56 5.44l.94 2.06.94-2.06 2.06-.94-2.06-.94-.94-2.06-.94 2.06-2.06.94zm-11 1L8.5 8.5l.94-2.06 2.06-.94-2.06-.94L8.5 2.5l-.94 2.06-2.06.94zm10 10l.94 2.06.94-2.06 2.06-.94-2.06-.94-.94-2.06-.94 2.06-2.06.94z\"/><path d=\"M17.41 7.96l-1.37-1.37c-.4-.4-.92-.59-1.43-.59-.52 0-1.04.2-1.43.59L10.3 9.45l-7.72 7.72c-.78.78-.78 2.05 0 2.83L4 21.41c.39.39.9.59 1.41.59.51 0 1.02-.2 1.41-.59l7.78-7.78 2.81-2.81c.8-.78.8-2.07 0-2.86zM5.41 20L4 18.59l7.72-7.72 1.47 1.35L5.41 20z\"/>\n",
              "  </svg>\n",
              "      </button>\n",
              "      \n",
              "  <style>\n",
              "    .colab-df-container {\n",
              "      display:flex;\n",
              "      flex-wrap:wrap;\n",
              "      gap: 12px;\n",
              "    }\n",
              "\n",
              "    .colab-df-convert {\n",
              "      background-color: #E8F0FE;\n",
              "      border: none;\n",
              "      border-radius: 50%;\n",
              "      cursor: pointer;\n",
              "      display: none;\n",
              "      fill: #1967D2;\n",
              "      height: 32px;\n",
              "      padding: 0 0 0 0;\n",
              "      width: 32px;\n",
              "    }\n",
              "\n",
              "    .colab-df-convert:hover {\n",
              "      background-color: #E2EBFA;\n",
              "      box-shadow: 0px 1px 2px rgba(60, 64, 67, 0.3), 0px 1px 3px 1px rgba(60, 64, 67, 0.15);\n",
              "      fill: #174EA6;\n",
              "    }\n",
              "\n",
              "    [theme=dark] .colab-df-convert {\n",
              "      background-color: #3B4455;\n",
              "      fill: #D2E3FC;\n",
              "    }\n",
              "\n",
              "    [theme=dark] .colab-df-convert:hover {\n",
              "      background-color: #434B5C;\n",
              "      box-shadow: 0px 1px 3px 1px rgba(0, 0, 0, 0.15);\n",
              "      filter: drop-shadow(0px 1px 2px rgba(0, 0, 0, 0.3));\n",
              "      fill: #FFFFFF;\n",
              "    }\n",
              "  </style>\n",
              "\n",
              "      <script>\n",
              "        const buttonEl =\n",
              "          document.querySelector('#df-6a271d66-652e-494b-8795-3fa80485737b button.colab-df-convert');\n",
              "        buttonEl.style.display =\n",
              "          google.colab.kernel.accessAllowed ? 'block' : 'none';\n",
              "\n",
              "        async function convertToInteractive(key) {\n",
              "          const element = document.querySelector('#df-6a271d66-652e-494b-8795-3fa80485737b');\n",
              "          const dataTable =\n",
              "            await google.colab.kernel.invokeFunction('convertToInteractive',\n",
              "                                                     [key], {});\n",
              "          if (!dataTable) return;\n",
              "\n",
              "          const docLinkHtml = 'Like what you see? Visit the ' +\n",
              "            '<a target=\"_blank\" href=https://colab.research.google.com/notebooks/data_table.ipynb>data table notebook</a>'\n",
              "            + ' to learn more about interactive tables.';\n",
              "          element.innerHTML = '';\n",
              "          dataTable['output_type'] = 'display_data';\n",
              "          await google.colab.output.renderOutput(dataTable, element);\n",
              "          const docLink = document.createElement('div');\n",
              "          docLink.innerHTML = docLinkHtml;\n",
              "          element.appendChild(docLink);\n",
              "        }\n",
              "      </script>\n",
              "    </div>\n",
              "  </div>\n",
              "  "
            ]
          },
          "metadata": {},
          "execution_count": 8
        }
      ],
      "source": [
        "reduced_origin_df = origin_df.drop(categorical,axis = 1)\n",
        "reduced_origin_df\n"
      ]
    },
    {
      "cell_type": "markdown",
      "id": "51c34aca",
      "metadata": {
        "id": "51c34aca"
      },
      "source": [
        "We need to join two dataframes by means of columns. Since the row indices are same, we can do this by `concat` function."
      ]
    },
    {
      "cell_type": "code",
      "execution_count": null,
      "id": "5d77d384",
      "metadata": {
        "id": "5d77d384"
      },
      "outputs": [],
      "source": [
        "final_data = pd.concat([df,reduced_origin_df],axis = 1)"
      ]
    },
    {
      "cell_type": "markdown",
      "id": "548811b1",
      "metadata": {
        "id": "548811b1"
      },
      "source": [
        "Using the helper function to convert the income column to binary values."
      ]
    },
    {
      "cell_type": "code",
      "execution_count": null,
      "id": "ff96acc7",
      "metadata": {
        "colab": {
          "base_uri": "https://localhost:8080/",
          "height": 534
        },
        "id": "ff96acc7",
        "outputId": "10865aa4-e301-4e69-cca9-a3e585f295a0"
      },
      "outputs": [
        {
          "output_type": "execute_result",
          "data": {
            "text/plain": [
              "       workclass ?  workclass Federal-gov  workclass Local-gov  \\\n",
              "0                0                      0                    0   \n",
              "1                0                      0                    0   \n",
              "2                0                      0                    0   \n",
              "3                0                      0                    0   \n",
              "4                0                      0                    0   \n",
              "...            ...                    ...                  ...   \n",
              "32556            0                      0                    0   \n",
              "32557            0                      0                    0   \n",
              "32558            0                      0                    0   \n",
              "32559            0                      0                    0   \n",
              "32560            0                      0                    0   \n",
              "\n",
              "       workclass Never-worked  workclass Private  workclass Self-emp-inc  \\\n",
              "0                           0                  0                       0   \n",
              "1                           0                  0                       0   \n",
              "2                           0                  1                       0   \n",
              "3                           0                  1                       0   \n",
              "4                           0                  1                       0   \n",
              "...                       ...                ...                     ...   \n",
              "32556                       0                  1                       0   \n",
              "32557                       0                  1                       0   \n",
              "32558                       0                  1                       0   \n",
              "32559                       0                  1                       0   \n",
              "32560                       0                  0                       1   \n",
              "\n",
              "       workclass Self-emp-not-inc  workclass State-gov  workclass Without-pay  \\\n",
              "0                               0                    1                      0   \n",
              "1                               1                    0                      0   \n",
              "2                               0                    0                      0   \n",
              "3                               0                    0                      0   \n",
              "4                               0                    0                      0   \n",
              "...                           ...                  ...                    ...   \n",
              "32556                           0                    0                      0   \n",
              "32557                           0                    0                      0   \n",
              "32558                           0                    0                      0   \n",
              "32559                           0                    0                      0   \n",
              "32560                           0                    0                      0   \n",
              "\n",
              "       education 10th  ...  native-country United-States  \\\n",
              "0                   0  ...                             1   \n",
              "1                   0  ...                             1   \n",
              "2                   0  ...                             1   \n",
              "3                   0  ...                             1   \n",
              "4                   0  ...                             0   \n",
              "...               ...  ...                           ...   \n",
              "32556               0  ...                             1   \n",
              "32557               0  ...                             1   \n",
              "32558               0  ...                             1   \n",
              "32559               0  ...                             1   \n",
              "32560               0  ...                             1   \n",
              "\n",
              "       native-country Vietnam  native-country Yugoslavia  age  fnlwgt  \\\n",
              "0                           0                          0   39   77516   \n",
              "1                           0                          0   50   83311   \n",
              "2                           0                          0   38  215646   \n",
              "3                           0                          0   53  234721   \n",
              "4                           0                          0   28  338409   \n",
              "...                       ...                        ...  ...     ...   \n",
              "32556                       0                          0   27  257302   \n",
              "32557                       0                          0   40  154374   \n",
              "32558                       0                          0   58  151910   \n",
              "32559                       0                          0   22  201490   \n",
              "32560                       0                          0   52  287927   \n",
              "\n",
              "       education-num  capital-gain  capital-loss  hours-per-week  income  \n",
              "0                 13          2174             0              40       0  \n",
              "1                 13             0             0              13       0  \n",
              "2                  9             0             0              40       0  \n",
              "3                  7             0             0              40       0  \n",
              "4                 13             0             0              40       0  \n",
              "...              ...           ...           ...             ...     ...  \n",
              "32556             12             0             0              38       0  \n",
              "32557              9             0             0              40       1  \n",
              "32558              9             0             0              40       0  \n",
              "32559              9             0             0              20       0  \n",
              "32560              9         15024             0              40       1  \n",
              "\n",
              "[32561 rows x 109 columns]"
            ],
            "text/html": [
              "\n",
              "  <div id=\"df-a6532eae-8ba3-408f-ab16-36607d452bbe\">\n",
              "    <div class=\"colab-df-container\">\n",
              "      <div>\n",
              "<style scoped>\n",
              "    .dataframe tbody tr th:only-of-type {\n",
              "        vertical-align: middle;\n",
              "    }\n",
              "\n",
              "    .dataframe tbody tr th {\n",
              "        vertical-align: top;\n",
              "    }\n",
              "\n",
              "    .dataframe thead th {\n",
              "        text-align: right;\n",
              "    }\n",
              "</style>\n",
              "<table border=\"1\" class=\"dataframe\">\n",
              "  <thead>\n",
              "    <tr style=\"text-align: right;\">\n",
              "      <th></th>\n",
              "      <th>workclass ?</th>\n",
              "      <th>workclass Federal-gov</th>\n",
              "      <th>workclass Local-gov</th>\n",
              "      <th>workclass Never-worked</th>\n",
              "      <th>workclass Private</th>\n",
              "      <th>workclass Self-emp-inc</th>\n",
              "      <th>workclass Self-emp-not-inc</th>\n",
              "      <th>workclass State-gov</th>\n",
              "      <th>workclass Without-pay</th>\n",
              "      <th>education 10th</th>\n",
              "      <th>...</th>\n",
              "      <th>native-country United-States</th>\n",
              "      <th>native-country Vietnam</th>\n",
              "      <th>native-country Yugoslavia</th>\n",
              "      <th>age</th>\n",
              "      <th>fnlwgt</th>\n",
              "      <th>education-num</th>\n",
              "      <th>capital-gain</th>\n",
              "      <th>capital-loss</th>\n",
              "      <th>hours-per-week</th>\n",
              "      <th>income</th>\n",
              "    </tr>\n",
              "  </thead>\n",
              "  <tbody>\n",
              "    <tr>\n",
              "      <th>0</th>\n",
              "      <td>0</td>\n",
              "      <td>0</td>\n",
              "      <td>0</td>\n",
              "      <td>0</td>\n",
              "      <td>0</td>\n",
              "      <td>0</td>\n",
              "      <td>0</td>\n",
              "      <td>1</td>\n",
              "      <td>0</td>\n",
              "      <td>0</td>\n",
              "      <td>...</td>\n",
              "      <td>1</td>\n",
              "      <td>0</td>\n",
              "      <td>0</td>\n",
              "      <td>39</td>\n",
              "      <td>77516</td>\n",
              "      <td>13</td>\n",
              "      <td>2174</td>\n",
              "      <td>0</td>\n",
              "      <td>40</td>\n",
              "      <td>0</td>\n",
              "    </tr>\n",
              "    <tr>\n",
              "      <th>1</th>\n",
              "      <td>0</td>\n",
              "      <td>0</td>\n",
              "      <td>0</td>\n",
              "      <td>0</td>\n",
              "      <td>0</td>\n",
              "      <td>0</td>\n",
              "      <td>1</td>\n",
              "      <td>0</td>\n",
              "      <td>0</td>\n",
              "      <td>0</td>\n",
              "      <td>...</td>\n",
              "      <td>1</td>\n",
              "      <td>0</td>\n",
              "      <td>0</td>\n",
              "      <td>50</td>\n",
              "      <td>83311</td>\n",
              "      <td>13</td>\n",
              "      <td>0</td>\n",
              "      <td>0</td>\n",
              "      <td>13</td>\n",
              "      <td>0</td>\n",
              "    </tr>\n",
              "    <tr>\n",
              "      <th>2</th>\n",
              "      <td>0</td>\n",
              "      <td>0</td>\n",
              "      <td>0</td>\n",
              "      <td>0</td>\n",
              "      <td>1</td>\n",
              "      <td>0</td>\n",
              "      <td>0</td>\n",
              "      <td>0</td>\n",
              "      <td>0</td>\n",
              "      <td>0</td>\n",
              "      <td>...</td>\n",
              "      <td>1</td>\n",
              "      <td>0</td>\n",
              "      <td>0</td>\n",
              "      <td>38</td>\n",
              "      <td>215646</td>\n",
              "      <td>9</td>\n",
              "      <td>0</td>\n",
              "      <td>0</td>\n",
              "      <td>40</td>\n",
              "      <td>0</td>\n",
              "    </tr>\n",
              "    <tr>\n",
              "      <th>3</th>\n",
              "      <td>0</td>\n",
              "      <td>0</td>\n",
              "      <td>0</td>\n",
              "      <td>0</td>\n",
              "      <td>1</td>\n",
              "      <td>0</td>\n",
              "      <td>0</td>\n",
              "      <td>0</td>\n",
              "      <td>0</td>\n",
              "      <td>0</td>\n",
              "      <td>...</td>\n",
              "      <td>1</td>\n",
              "      <td>0</td>\n",
              "      <td>0</td>\n",
              "      <td>53</td>\n",
              "      <td>234721</td>\n",
              "      <td>7</td>\n",
              "      <td>0</td>\n",
              "      <td>0</td>\n",
              "      <td>40</td>\n",
              "      <td>0</td>\n",
              "    </tr>\n",
              "    <tr>\n",
              "      <th>4</th>\n",
              "      <td>0</td>\n",
              "      <td>0</td>\n",
              "      <td>0</td>\n",
              "      <td>0</td>\n",
              "      <td>1</td>\n",
              "      <td>0</td>\n",
              "      <td>0</td>\n",
              "      <td>0</td>\n",
              "      <td>0</td>\n",
              "      <td>0</td>\n",
              "      <td>...</td>\n",
              "      <td>0</td>\n",
              "      <td>0</td>\n",
              "      <td>0</td>\n",
              "      <td>28</td>\n",
              "      <td>338409</td>\n",
              "      <td>13</td>\n",
              "      <td>0</td>\n",
              "      <td>0</td>\n",
              "      <td>40</td>\n",
              "      <td>0</td>\n",
              "    </tr>\n",
              "    <tr>\n",
              "      <th>...</th>\n",
              "      <td>...</td>\n",
              "      <td>...</td>\n",
              "      <td>...</td>\n",
              "      <td>...</td>\n",
              "      <td>...</td>\n",
              "      <td>...</td>\n",
              "      <td>...</td>\n",
              "      <td>...</td>\n",
              "      <td>...</td>\n",
              "      <td>...</td>\n",
              "      <td>...</td>\n",
              "      <td>...</td>\n",
              "      <td>...</td>\n",
              "      <td>...</td>\n",
              "      <td>...</td>\n",
              "      <td>...</td>\n",
              "      <td>...</td>\n",
              "      <td>...</td>\n",
              "      <td>...</td>\n",
              "      <td>...</td>\n",
              "      <td>...</td>\n",
              "    </tr>\n",
              "    <tr>\n",
              "      <th>32556</th>\n",
              "      <td>0</td>\n",
              "      <td>0</td>\n",
              "      <td>0</td>\n",
              "      <td>0</td>\n",
              "      <td>1</td>\n",
              "      <td>0</td>\n",
              "      <td>0</td>\n",
              "      <td>0</td>\n",
              "      <td>0</td>\n",
              "      <td>0</td>\n",
              "      <td>...</td>\n",
              "      <td>1</td>\n",
              "      <td>0</td>\n",
              "      <td>0</td>\n",
              "      <td>27</td>\n",
              "      <td>257302</td>\n",
              "      <td>12</td>\n",
              "      <td>0</td>\n",
              "      <td>0</td>\n",
              "      <td>38</td>\n",
              "      <td>0</td>\n",
              "    </tr>\n",
              "    <tr>\n",
              "      <th>32557</th>\n",
              "      <td>0</td>\n",
              "      <td>0</td>\n",
              "      <td>0</td>\n",
              "      <td>0</td>\n",
              "      <td>1</td>\n",
              "      <td>0</td>\n",
              "      <td>0</td>\n",
              "      <td>0</td>\n",
              "      <td>0</td>\n",
              "      <td>0</td>\n",
              "      <td>...</td>\n",
              "      <td>1</td>\n",
              "      <td>0</td>\n",
              "      <td>0</td>\n",
              "      <td>40</td>\n",
              "      <td>154374</td>\n",
              "      <td>9</td>\n",
              "      <td>0</td>\n",
              "      <td>0</td>\n",
              "      <td>40</td>\n",
              "      <td>1</td>\n",
              "    </tr>\n",
              "    <tr>\n",
              "      <th>32558</th>\n",
              "      <td>0</td>\n",
              "      <td>0</td>\n",
              "      <td>0</td>\n",
              "      <td>0</td>\n",
              "      <td>1</td>\n",
              "      <td>0</td>\n",
              "      <td>0</td>\n",
              "      <td>0</td>\n",
              "      <td>0</td>\n",
              "      <td>0</td>\n",
              "      <td>...</td>\n",
              "      <td>1</td>\n",
              "      <td>0</td>\n",
              "      <td>0</td>\n",
              "      <td>58</td>\n",
              "      <td>151910</td>\n",
              "      <td>9</td>\n",
              "      <td>0</td>\n",
              "      <td>0</td>\n",
              "      <td>40</td>\n",
              "      <td>0</td>\n",
              "    </tr>\n",
              "    <tr>\n",
              "      <th>32559</th>\n",
              "      <td>0</td>\n",
              "      <td>0</td>\n",
              "      <td>0</td>\n",
              "      <td>0</td>\n",
              "      <td>1</td>\n",
              "      <td>0</td>\n",
              "      <td>0</td>\n",
              "      <td>0</td>\n",
              "      <td>0</td>\n",
              "      <td>0</td>\n",
              "      <td>...</td>\n",
              "      <td>1</td>\n",
              "      <td>0</td>\n",
              "      <td>0</td>\n",
              "      <td>22</td>\n",
              "      <td>201490</td>\n",
              "      <td>9</td>\n",
              "      <td>0</td>\n",
              "      <td>0</td>\n",
              "      <td>20</td>\n",
              "      <td>0</td>\n",
              "    </tr>\n",
              "    <tr>\n",
              "      <th>32560</th>\n",
              "      <td>0</td>\n",
              "      <td>0</td>\n",
              "      <td>0</td>\n",
              "      <td>0</td>\n",
              "      <td>0</td>\n",
              "      <td>1</td>\n",
              "      <td>0</td>\n",
              "      <td>0</td>\n",
              "      <td>0</td>\n",
              "      <td>0</td>\n",
              "      <td>...</td>\n",
              "      <td>1</td>\n",
              "      <td>0</td>\n",
              "      <td>0</td>\n",
              "      <td>52</td>\n",
              "      <td>287927</td>\n",
              "      <td>9</td>\n",
              "      <td>15024</td>\n",
              "      <td>0</td>\n",
              "      <td>40</td>\n",
              "      <td>1</td>\n",
              "    </tr>\n",
              "  </tbody>\n",
              "</table>\n",
              "<p>32561 rows × 109 columns</p>\n",
              "</div>\n",
              "      <button class=\"colab-df-convert\" onclick=\"convertToInteractive('df-a6532eae-8ba3-408f-ab16-36607d452bbe')\"\n",
              "              title=\"Convert this dataframe to an interactive table.\"\n",
              "              style=\"display:none;\">\n",
              "        \n",
              "  <svg xmlns=\"http://www.w3.org/2000/svg\" height=\"24px\"viewBox=\"0 0 24 24\"\n",
              "       width=\"24px\">\n",
              "    <path d=\"M0 0h24v24H0V0z\" fill=\"none\"/>\n",
              "    <path d=\"M18.56 5.44l.94 2.06.94-2.06 2.06-.94-2.06-.94-.94-2.06-.94 2.06-2.06.94zm-11 1L8.5 8.5l.94-2.06 2.06-.94-2.06-.94L8.5 2.5l-.94 2.06-2.06.94zm10 10l.94 2.06.94-2.06 2.06-.94-2.06-.94-.94-2.06-.94 2.06-2.06.94z\"/><path d=\"M17.41 7.96l-1.37-1.37c-.4-.4-.92-.59-1.43-.59-.52 0-1.04.2-1.43.59L10.3 9.45l-7.72 7.72c-.78.78-.78 2.05 0 2.83L4 21.41c.39.39.9.59 1.41.59.51 0 1.02-.2 1.41-.59l7.78-7.78 2.81-2.81c.8-.78.8-2.07 0-2.86zM5.41 20L4 18.59l7.72-7.72 1.47 1.35L5.41 20z\"/>\n",
              "  </svg>\n",
              "      </button>\n",
              "      \n",
              "  <style>\n",
              "    .colab-df-container {\n",
              "      display:flex;\n",
              "      flex-wrap:wrap;\n",
              "      gap: 12px;\n",
              "    }\n",
              "\n",
              "    .colab-df-convert {\n",
              "      background-color: #E8F0FE;\n",
              "      border: none;\n",
              "      border-radius: 50%;\n",
              "      cursor: pointer;\n",
              "      display: none;\n",
              "      fill: #1967D2;\n",
              "      height: 32px;\n",
              "      padding: 0 0 0 0;\n",
              "      width: 32px;\n",
              "    }\n",
              "\n",
              "    .colab-df-convert:hover {\n",
              "      background-color: #E2EBFA;\n",
              "      box-shadow: 0px 1px 2px rgba(60, 64, 67, 0.3), 0px 1px 3px 1px rgba(60, 64, 67, 0.15);\n",
              "      fill: #174EA6;\n",
              "    }\n",
              "\n",
              "    [theme=dark] .colab-df-convert {\n",
              "      background-color: #3B4455;\n",
              "      fill: #D2E3FC;\n",
              "    }\n",
              "\n",
              "    [theme=dark] .colab-df-convert:hover {\n",
              "      background-color: #434B5C;\n",
              "      box-shadow: 0px 1px 3px 1px rgba(0, 0, 0, 0.15);\n",
              "      filter: drop-shadow(0px 1px 2px rgba(0, 0, 0, 0.3));\n",
              "      fill: #FFFFFF;\n",
              "    }\n",
              "  </style>\n",
              "\n",
              "      <script>\n",
              "        const buttonEl =\n",
              "          document.querySelector('#df-a6532eae-8ba3-408f-ab16-36607d452bbe button.colab-df-convert');\n",
              "        buttonEl.style.display =\n",
              "          google.colab.kernel.accessAllowed ? 'block' : 'none';\n",
              "\n",
              "        async function convertToInteractive(key) {\n",
              "          const element = document.querySelector('#df-a6532eae-8ba3-408f-ab16-36607d452bbe');\n",
              "          const dataTable =\n",
              "            await google.colab.kernel.invokeFunction('convertToInteractive',\n",
              "                                                     [key], {});\n",
              "          if (!dataTable) return;\n",
              "\n",
              "          const docLinkHtml = 'Like what you see? Visit the ' +\n",
              "            '<a target=\"_blank\" href=https://colab.research.google.com/notebooks/data_table.ipynb>data table notebook</a>'\n",
              "            + ' to learn more about interactive tables.';\n",
              "          element.innerHTML = '';\n",
              "          dataTable['output_type'] = 'display_data';\n",
              "          await google.colab.output.renderOutput(dataTable, element);\n",
              "          const docLink = document.createElement('div');\n",
              "          docLink.innerHTML = docLinkHtml;\n",
              "          element.appendChild(docLink);\n",
              "        }\n",
              "      </script>\n",
              "    </div>\n",
              "  </div>\n",
              "  "
            ]
          },
          "metadata": {},
          "execution_count": 10
        }
      ],
      "source": [
        "def helper(x):\n",
        "    if ('<=' in x):\n",
        "        return 0\n",
        "    else:\n",
        "        return 1\n",
        "    \n",
        "y = [helper(x) for x in data.iloc[:,14]]\n",
        "final_data['income'] = y\n",
        "final_data"
      ]
    },
    {
      "cell_type": "markdown",
      "id": "5bac4167",
      "metadata": {
        "id": "5bac4167"
      },
      "source": [
        "## Logistic Regression"
      ]
    },
    {
      "cell_type": "markdown",
      "id": "858a3159",
      "metadata": {
        "id": "858a3159"
      },
      "source": [
        "Creating the Logistic regression model..."
      ]
    },
    {
      "cell_type": "code",
      "execution_count": null,
      "id": "9f06382c",
      "metadata": {
        "colab": {
          "base_uri": "https://localhost:8080/"
        },
        "id": "9f06382c",
        "outputId": "529a1c71-61e5-43e7-bd47-ca51be137fe4"
      },
      "outputs": [
        {
          "output_type": "stream",
          "name": "stderr",
          "text": [
            "/usr/local/lib/python3.7/dist-packages/scipy/optimize/linesearch.py:466: LineSearchWarning: The line search algorithm did not converge\n",
            "  warn('The line search algorithm did not converge', LineSearchWarning)\n",
            "/usr/local/lib/python3.7/dist-packages/scipy/optimize/linesearch.py:314: LineSearchWarning: The line search algorithm did not converge\n",
            "  warn('The line search algorithm did not converge', LineSearchWarning)\n",
            "/usr/local/lib/python3.7/dist-packages/scipy/optimize/linesearch.py:426: LineSearchWarning: Rounding errors prevent the line search from converging\n",
            "  warn(msg, LineSearchWarning)\n",
            "/usr/local/lib/python3.7/dist-packages/sklearn/utils/optimize.py:203: UserWarning: Line Search failed\n",
            "  warnings.warn(\"Line Search failed\")\n"
          ]
        }
      ],
      "source": [
        "x = final_data.iloc[:,0:-1]\n",
        "y = final_data.iloc[:,-1]\n",
        "x_train, x_test, y_train, y_test = train_test_split(x,y,test_size=0.30)\n",
        "\n",
        "LogResModel = LogisticRegression(C=1.0,penalty=\"l2\",multi_class=\"multinomial\",max_iter=10000,tol=1e-2,solver=\"newton-cg\")\n",
        "LogResModel.fit(x_train,y_train)\n",
        "LogResPred = LogResModel.predict(x_test)"
      ]
    },
    {
      "cell_type": "code",
      "execution_count": null,
      "id": "e4511bf7",
      "metadata": {
        "colab": {
          "base_uri": "https://localhost:8080/"
        },
        "id": "e4511bf7",
        "outputId": "dfca2da4-1960-48d6-f681-28ccad43b8a0"
      },
      "outputs": [
        {
          "output_type": "stream",
          "name": "stdout",
          "text": [
            "Accuracy =  0.8504452861091207\n",
            "Confusion Matrix = \n",
            " [[6897  950]\n",
            " [ 511 1411]]\n"
          ]
        }
      ],
      "source": [
        "def LogResResults():\n",
        "    print(\"Accuracy = \",accuracy_score(LogResPred,y_test))\n",
        "    print(\"Confusion Matrix = \\n\",confusion_matrix(LogResPred,y_test))\n",
        "LogResResults()\n",
        "LogResScore = accuracy_score(LogResPred,y_test)"
      ]
    },
    {
      "cell_type": "markdown",
      "id": "e60a3f06",
      "metadata": {
        "id": "e60a3f06"
      },
      "source": [
        "## Support Vector Machine (SVM)"
      ]
    },
    {
      "cell_type": "code",
      "execution_count": null,
      "id": "6d5a62cd",
      "metadata": {
        "id": "6d5a62cd"
      },
      "outputs": [],
      "source": [
        "SVM_Model = SVC(C = 2, kernel=\"rbf\",tol= 0.001,max_iter=20000)\n",
        "\n",
        "SVM_Model.fit(x_train,y_train)\n",
        "SVM_Pred = SVM_Model.predict(x_test)\n",
        "def SVMResults():\n",
        "    print(\"Accuracy = \",accuracy_score(SVM_Pred,y_test))\n",
        "    print(\"Confusion Matrix = \\n\",confusion_matrix(SVM_Pred,y_test))\n",
        "SVM_Score = accuracy_score(SVM_Pred,y_test)"
      ]
    },
    {
      "cell_type": "code",
      "execution_count": null,
      "id": "a696a6ce",
      "metadata": {
        "colab": {
          "base_uri": "https://localhost:8080/"
        },
        "id": "a696a6ce",
        "outputId": "cc3b2a68-0fe1-421b-fa22-8ef5e5004d85"
      },
      "outputs": [
        {
          "output_type": "stream",
          "name": "stdout",
          "text": [
            "Accuracy =  0.7986487869792199\n",
            "Confusion Matrix = \n",
            " [[7394 1953]\n",
            " [  14  408]]\n"
          ]
        }
      ],
      "source": [
        "SVMResults()"
      ]
    },
    {
      "cell_type": "markdown",
      "id": "1fa5f647",
      "metadata": {
        "id": "1fa5f647"
      },
      "source": [
        "## K-Nearest Neighbor"
      ]
    },
    {
      "cell_type": "code",
      "execution_count": null,
      "id": "083fd753",
      "metadata": {
        "id": "083fd753"
      },
      "outputs": [],
      "source": [
        "KNN_scores = []\n",
        "def KNN_Exp(N):\n",
        "    global KNN_scores\n",
        "    KNN_Model = KNeighborsClassifier(n_neighbors=N)\n",
        "    KNN_Model.fit(x_train,y_train)\n",
        "    KNN_Pred = KNN_Model.predict(x_test)\n",
        "    KNN_scores.append(accuracy_score(KNN_Pred,y_test))\n",
        "    print(\"Accuracy = \",accuracy_score(KNN_Pred,y_test))\n",
        "    print(\"Confusion Matrix = \\n\",confusion_matrix(KNN_Pred,y_test))"
      ]
    },
    {
      "cell_type": "code",
      "execution_count": null,
      "id": "271cb3b0",
      "metadata": {
        "colab": {
          "base_uri": "https://localhost:8080/"
        },
        "id": "271cb3b0",
        "outputId": "e9825b5a-a363-4283-93c6-4d99932615f6"
      },
      "outputs": [
        {
          "output_type": "stream",
          "name": "stdout",
          "text": [
            "2\n",
            "Accuracy =  0.7846248336574879\n",
            "Confusion Matrix = \n",
            " [[6992 1688]\n",
            " [ 416  673]]\n",
            "3\n",
            "Accuracy =  0.758010031733033\n",
            "Confusion Matrix = \n",
            " [[6529 1485]\n",
            " [ 879  876]]\n",
            "4\n",
            "Accuracy =  0.7872863138499334\n",
            "Confusion Matrix = \n",
            " [[7045 1715]\n",
            " [ 363  646]]\n",
            "5\n",
            "Accuracy =  0.7736718190193469\n",
            "Confusion Matrix = \n",
            " [[6789 1592]\n",
            " [ 619  769]]\n",
            "6\n",
            "Accuracy =  0.7941447435766199\n",
            "Confusion Matrix = \n",
            " [[7140 1743]\n",
            " [ 268  618]]\n",
            "7\n",
            "Accuracy =  0.7852390213942062\n",
            "Confusion Matrix = \n",
            " [[6967 1657]\n",
            " [ 441  704]]\n",
            "8\n",
            "Accuracy =  0.7938376497082609\n",
            "Confusion Matrix = \n",
            " [[7182 1788]\n",
            " [ 226  573]]\n",
            "9\n",
            "Accuracy =  0.7882075954550107\n",
            "Confusion Matrix = \n",
            " [[7069 1730]\n",
            " [ 339  631]]\n",
            "10\n",
            "Accuracy =  0.7941447435766199\n",
            "Confusion Matrix = \n",
            " [[7206 1809]\n",
            " [ 202  552]]\n",
            "11\n",
            "Accuracy =  0.7901525232879517\n",
            "Confusion Matrix = \n",
            " [[7119 1761]\n",
            " [ 289  600]]\n"
          ]
        }
      ],
      "source": [
        "for i in np.arange(2,12):\n",
        "    print(i)\n",
        "    KNN_Exp(i)"
      ]
    },
    {
      "cell_type": "code",
      "source": [
        "KNN_scores"
      ],
      "metadata": {
        "colab": {
          "base_uri": "https://localhost:8080/"
        },
        "id": "_TTociHXMvED",
        "outputId": "fe3aee94-6e0d-4b56-c93a-7bd1c7188a53"
      },
      "id": "_TTociHXMvED",
      "execution_count": null,
      "outputs": [
        {
          "output_type": "execute_result",
          "data": {
            "text/plain": [
              "[0.7846248336574879,\n",
              " 0.758010031733033,\n",
              " 0.7872863138499334,\n",
              " 0.7736718190193469,\n",
              " 0.7941447435766199,\n",
              " 0.7852390213942062,\n",
              " 0.7938376497082609,\n",
              " 0.7882075954550107,\n",
              " 0.7941447435766199,\n",
              " 0.7901525232879517]"
            ]
          },
          "metadata": {},
          "execution_count": 17
        }
      ]
    },
    {
      "cell_type": "markdown",
      "id": "540198c7",
      "metadata": {
        "id": "540198c7"
      },
      "source": [
        "Highest value is acquired by neighbors of 10. So, n is going to be 10."
      ]
    },
    {
      "cell_type": "markdown",
      "id": "b6f3fa4a",
      "metadata": {
        "id": "b6f3fa4a"
      },
      "source": [
        "## Decision Trees"
      ]
    },
    {
      "cell_type": "code",
      "execution_count": null,
      "id": "47ac023b",
      "metadata": {
        "colab": {
          "base_uri": "https://localhost:8080/"
        },
        "id": "47ac023b",
        "outputId": "22434ba0-faa1-4014-a7e2-36255bd2fe49"
      },
      "outputs": [
        {
          "output_type": "stream",
          "name": "stdout",
          "text": [
            "0.9895580602561347\n"
          ]
        }
      ],
      "source": [
        "DT_Model = DecisionTreeClassifier(max_depth=36, criterion=\"entropy\")\n",
        "DT_Model.fit(x,y)\n",
        "DT_Score = DT_Model.score(x,y)\n",
        "print(DT_Score)"
      ]
    },
    {
      "cell_type": "code",
      "execution_count": null,
      "id": "c79bd2af",
      "metadata": {
        "colab": {
          "base_uri": "https://localhost:8080/",
          "height": 1000
        },
        "id": "c79bd2af",
        "outputId": "f97bfb53-3fee-4cfb-fd4d-a67f16ffcab4"
      },
      "outputs": [
        {
          "output_type": "execute_result",
          "data": {
            "text/plain": [
              "[Text(0.5072115384615384, 0.9166666666666666, 'X[27] <= 0.5\\nentropy = 0.796\\nsamples = 32561\\nvalue = [24720, 7841]'),\n",
              " Text(0.25961538461538464, 0.75, 'X[105] <= 7073.5\\nentropy = 0.348\\nsamples = 17585\\nvalue = [16436, 1149]'),\n",
              " Text(0.15384615384615385, 0.5833333333333334, 'X[104] <= 12.5\\nentropy = 0.283\\nsamples = 17274\\nvalue = [16425, 849]'),\n",
              " Text(0.07692307692307693, 0.4166666666666667, 'X[102] <= 28.5\\nentropy = 0.167\\nsamples = 13864\\nvalue = [13522, 342]'),\n",
              " Text(0.038461538461538464, 0.25, 'X[102] <= 21.5\\nentropy = 0.043\\nsamples = 6212\\nvalue = [6183, 29]'),\n",
              " Text(0.019230769230769232, 0.08333333333333333, '\\n  (...)  \\n'),\n",
              " Text(0.057692307692307696, 0.08333333333333333, '\\n  (...)  \\n'),\n",
              " Text(0.11538461538461539, 0.25, 'X[107] <= 40.5\\nentropy = 0.246\\nsamples = 7652\\nvalue = [7339, 313]'),\n",
              " Text(0.09615384615384616, 0.08333333333333333, '\\n  (...)  \\n'),\n",
              " Text(0.1346153846153846, 0.08333333333333333, '\\n  (...)  \\n'),\n",
              " Text(0.23076923076923078, 0.4166666666666667, 'X[102] <= 27.5\\nentropy = 0.607\\nsamples = 3410\\nvalue = [2903, 507]'),\n",
              " Text(0.19230769230769232, 0.25, 'X[106] <= 2102.5\\nentropy = 0.13\\nsamples = 1003\\nvalue = [985, 18]'),\n",
              " Text(0.17307692307692307, 0.08333333333333333, '\\n  (...)  \\n'),\n",
              " Text(0.21153846153846154, 0.08333333333333333, '\\n  (...)  \\n'),\n",
              " Text(0.2692307692307692, 0.25, 'X[107] <= 43.5\\nentropy = 0.728\\nsamples = 2407\\nvalue = [1918, 489]'),\n",
              " Text(0.25, 0.08333333333333333, '\\n  (...)  \\n'),\n",
              " Text(0.28846153846153844, 0.08333333333333333, '\\n  (...)  \\n'),\n",
              " Text(0.36538461538461536, 0.5833333333333334, 'X[102] <= 20.5\\nentropy = 0.221\\nsamples = 311\\nvalue = [11, 300]'),\n",
              " Text(0.34615384615384615, 0.4166666666666667, 'entropy = 0.0\\nsamples = 4\\nvalue = [4, 0]'),\n",
              " Text(0.38461538461538464, 0.4166666666666667, 'X[105] <= 8296.0\\nentropy = 0.157\\nsamples = 307\\nvalue = [7, 300]'),\n",
              " Text(0.34615384615384615, 0.25, 'X[104] <= 11.5\\nentropy = 0.9\\nsamples = 19\\nvalue = [6, 13]'),\n",
              " Text(0.3269230769230769, 0.08333333333333333, '\\n  (...)  \\n'),\n",
              " Text(0.36538461538461536, 0.08333333333333333, '\\n  (...)  \\n'),\n",
              " Text(0.4230769230769231, 0.25, 'X[105] <= 30961.5\\nentropy = 0.033\\nsamples = 288\\nvalue = [1, 287]'),\n",
              " Text(0.40384615384615385, 0.08333333333333333, '\\n  (...)  \\n'),\n",
              " Text(0.4423076923076923, 0.08333333333333333, '\\n  (...)  \\n'),\n",
              " Text(0.7548076923076923, 0.75, 'X[104] <= 12.5\\nentropy = 0.992\\nsamples = 14976\\nvalue = [8284, 6692]'),\n",
              " Text(0.6153846153846154, 0.5833333333333334, 'X[105] <= 5095.5\\nentropy = 0.916\\nsamples = 10507\\nvalue = [7029, 3478]'),\n",
              " Text(0.5384615384615384, 0.4166666666666667, 'X[104] <= 8.5\\nentropy = 0.877\\nsamples = 9979\\nvalue = [7018, 2961]'),\n",
              " Text(0.5, 0.25, 'X[102] <= 36.5\\nentropy = 0.472\\nsamples = 1656\\nvalue = [1489, 167]'),\n",
              " Text(0.4807692307692308, 0.08333333333333333, '\\n  (...)  \\n'),\n",
              " Text(0.5192307692307693, 0.08333333333333333, '\\n  (...)  \\n'),\n",
              " Text(0.5769230769230769, 0.25, 'X[102] <= 35.5\\nentropy = 0.921\\nsamples = 8323\\nvalue = [5529, 2794]'),\n",
              " Text(0.5576923076923077, 0.08333333333333333, '\\n  (...)  \\n'),\n",
              " Text(0.5961538461538461, 0.08333333333333333, '\\n  (...)  \\n'),\n",
              " Text(0.6923076923076923, 0.4166666666666667, 'X[102] <= 60.5\\nentropy = 0.146\\nsamples = 528\\nvalue = [11, 517]'),\n",
              " Text(0.6538461538461539, 0.25, 'X[104] <= 1.5\\nentropy = 0.022\\nsamples = 462\\nvalue = [1, 461]'),\n",
              " Text(0.6346153846153846, 0.08333333333333333, '\\n  (...)  \\n'),\n",
              " Text(0.6730769230769231, 0.08333333333333333, '\\n  (...)  \\n'),\n",
              " Text(0.7307692307692307, 0.25, 'X[105] <= 6640.5\\nentropy = 0.614\\nsamples = 66\\nvalue = [10, 56]'),\n",
              " Text(0.7115384615384616, 0.08333333333333333, '\\n  (...)  \\n'),\n",
              " Text(0.75, 0.08333333333333333, '\\n  (...)  \\n'),\n",
              " Text(0.8942307692307693, 0.5833333333333334, 'X[105] <= 5095.5\\nentropy = 0.857\\nsamples = 4469\\nvalue = [1255, 3214]'),\n",
              " Text(0.8461538461538461, 0.4166666666666667, 'X[106] <= 1782.5\\nentropy = 0.915\\nsamples = 3788\\nvalue = [1252, 2536]'),\n",
              " Text(0.8076923076923077, 0.25, 'X[107] <= 31.0\\nentropy = 0.947\\nsamples = 3390\\nvalue = [1239, 2151]'),\n",
              " Text(0.7884615384615384, 0.08333333333333333, '\\n  (...)  \\n'),\n",
              " Text(0.8269230769230769, 0.08333333333333333, '\\n  (...)  \\n'),\n",
              " Text(0.8846153846153846, 0.25, 'X[106] <= 1989.5\\nentropy = 0.208\\nsamples = 398\\nvalue = [13, 385]'),\n",
              " Text(0.8653846153846154, 0.08333333333333333, '\\n  (...)  \\n'),\n",
              " Text(0.9038461538461539, 0.08333333333333333, '\\n  (...)  \\n'),\n",
              " Text(0.9423076923076923, 0.4166666666666667, 'X[102] <= 62.5\\nentropy = 0.041\\nsamples = 681\\nvalue = [3, 678]'),\n",
              " Text(0.9230769230769231, 0.25, 'entropy = 0.0\\nsamples = 609\\nvalue = [0, 609]'),\n",
              " Text(0.9615384615384616, 0.25, 'X[37] <= 0.5\\nentropy = 0.25\\nsamples = 72\\nvalue = [3, 69]'),\n",
              " Text(0.9423076923076923, 0.08333333333333333, '\\n  (...)  \\n'),\n",
              " Text(0.9807692307692307, 0.08333333333333333, '\\n  (...)  \\n')]"
            ]
          },
          "metadata": {},
          "execution_count": 19
        },
        {
          "output_type": "display_data",
          "data": {
            "text/plain": [
              "<Figure size 2880x2880 with 1 Axes>"
            ],
            "image/png": "[encoded data removed]"
          },
          "metadata": {
            "needs_background": "light"
          }
        }
      ],
      "source": [
        "plt.figure(figsize=(12,12), dpi=240)\n",
        "tree.plot_tree(DT_Model,filled = True,max_depth=4)"
      ]
    },
    {
      "cell_type": "markdown",
      "id": "549daeaa",
      "metadata": {
        "id": "549daeaa"
      },
      "source": [
        "## XGBoost"
      ]
    },
    {
      "cell_type": "code",
      "execution_count": null,
      "id": "42f9d4c6",
      "metadata": {
        "colab": {
          "base_uri": "https://localhost:8080/"
        },
        "id": "42f9d4c6",
        "outputId": "7d44c86c-e4f4-4e4a-d2c6-28b4b9929fba"
      },
      "outputs": [
        {
          "output_type": "stream",
          "name": "stdout",
          "text": [
            "0.8638550516941345\n"
          ]
        }
      ],
      "source": [
        "XGB_Model = xgb.XGBClassifier()\n",
        "XGB_Model.fit(x_train,y_train)\n",
        "XGB_pred = XGB_Model.predict(x_test)\n",
        "XGB_score = accuracy_score(XGB_pred,y_test)\n",
        "print(XGB_score)\n"
      ]
    },
    {
      "cell_type": "markdown",
      "id": "3aa09b5c",
      "metadata": {
        "id": "3aa09b5c"
      },
      "source": [
        "## Neural Network"
      ]
    },
    {
      "cell_type": "code",
      "execution_count": null,
      "id": "2ad61a21",
      "metadata": {
        "id": "2ad61a21"
      },
      "outputs": [],
      "source": [
        "NN_model = ks.models.Sequential()\n",
        "\n",
        "NN_model.add(ks.layers.Dense(100, activation='relu', input_dim=108))\n",
        "NN_model.add(ks.layers.Dense(1,activation='sigmoid'))"
      ]
    },
    {
      "cell_type": "code",
      "source": [
        "NN_model.compile(optimizer='adam',\n",
        "              loss='binary_crossentropy',\n",
        "              metrics=['binary_accuracy'])\n",
        "\n",
        "NN_model.compile(loss='binary_crossentropy', \n",
        "              optimizer='adam', \n",
        "              metrics=['binary_accuracy'])\n",
        "\n",
        "NN_model.fit(x_train,y_train,epochs=30,batch_size=100,validation_data=(x_test, y_test))\n",
        "loss, accuracy = NN_model.evaluate(x_train, y_train, verbose=False)\n",
        "print(\"Training Accuracy: {:.4f}\".format(accuracy))\n",
        "loss, NN_score = NN_model.evaluate(x_test, y_test, verbose=False)\n",
        "print(\"Testing Accuracy:  {:.4f}\".format(NN_score))"
      ],
      "metadata": {
        "colab": {
          "base_uri": "https://localhost:8080/"
        },
        "id": "-3a0QGw_6MyF",
        "outputId": "7685def3-419b-4f81-f181-8908ff1d8033"
      },
      "id": "-3a0QGw_6MyF",
      "execution_count": null,
      "outputs": [
        {
          "output_type": "stream",
          "name": "stdout",
          "text": [
            "Epoch 1/30\n",
            "228/228 [==============================] - 1s 3ms/step - loss: 114.8304 - binary_accuracy: 0.6783 - val_loss: 18.2907 - val_binary_accuracy: 0.7390\n",
            "Epoch 2/30\n",
            "228/228 [==============================] - 1s 3ms/step - loss: 72.9246 - binary_accuracy: 0.6902 - val_loss: 71.7856 - val_binary_accuracy: 0.7946\n",
            "Epoch 3/30\n",
            "228/228 [==============================] - 1s 3ms/step - loss: 123.9468 - binary_accuracy: 0.6795 - val_loss: 183.2797 - val_binary_accuracy: 0.7889\n",
            "Epoch 4/30\n",
            "228/228 [==============================] - 1s 3ms/step - loss: 92.8290 - binary_accuracy: 0.6905 - val_loss: 148.4665 - val_binary_accuracy: 0.7901\n",
            "Epoch 5/30\n",
            "228/228 [==============================] - 1s 3ms/step - loss: 80.5376 - binary_accuracy: 0.6845 - val_loss: 308.3940 - val_binary_accuracy: 0.7688\n",
            "Epoch 6/30\n",
            "228/228 [==============================] - 1s 3ms/step - loss: 102.4274 - binary_accuracy: 0.6809 - val_loss: 31.5011 - val_binary_accuracy: 0.2653\n",
            "Epoch 7/30\n",
            "228/228 [==============================] - 1s 2ms/step - loss: 67.1956 - binary_accuracy: 0.6896 - val_loss: 113.8664 - val_binary_accuracy: 0.7803\n",
            "Epoch 8/30\n",
            "228/228 [==============================] - 1s 3ms/step - loss: 81.4604 - binary_accuracy: 0.6890 - val_loss: 14.4843 - val_binary_accuracy: 0.7073\n",
            "Epoch 9/30\n",
            "228/228 [==============================] - 1s 3ms/step - loss: 60.7649 - binary_accuracy: 0.6847 - val_loss: 172.9688 - val_binary_accuracy: 0.7837\n",
            "Epoch 10/30\n",
            "228/228 [==============================] - 1s 3ms/step - loss: 67.8784 - binary_accuracy: 0.6910 - val_loss: 15.1342 - val_binary_accuracy: 0.7879\n",
            "Epoch 11/30\n",
            "228/228 [==============================] - 1s 3ms/step - loss: 81.8719 - binary_accuracy: 0.6880 - val_loss: 37.7257 - val_binary_accuracy: 0.7937\n",
            "Epoch 12/30\n",
            "228/228 [==============================] - 1s 3ms/step - loss: 52.6243 - binary_accuracy: 0.6948 - val_loss: 119.0022 - val_binary_accuracy: 0.7866\n",
            "Epoch 13/30\n",
            "228/228 [==============================] - 1s 3ms/step - loss: 77.7640 - binary_accuracy: 0.6912 - val_loss: 14.0654 - val_binary_accuracy: 0.7810\n",
            "Epoch 14/30\n",
            "228/228 [==============================] - 1s 3ms/step - loss: 79.5862 - binary_accuracy: 0.6860 - val_loss: 112.5843 - val_binary_accuracy: 0.7945\n",
            "Epoch 15/30\n",
            "228/228 [==============================] - 1s 3ms/step - loss: 61.2688 - binary_accuracy: 0.6898 - val_loss: 34.1946 - val_binary_accuracy: 0.7923\n",
            "Epoch 16/30\n",
            "228/228 [==============================] - 1s 3ms/step - loss: 61.4655 - binary_accuracy: 0.6948 - val_loss: 191.0882 - val_binary_accuracy: 0.2418\n",
            "Epoch 17/30\n",
            "228/228 [==============================] - 1s 3ms/step - loss: 91.5028 - binary_accuracy: 0.6934 - val_loss: 62.0189 - val_binary_accuracy: 0.7964\n",
            "Epoch 18/30\n",
            "228/228 [==============================] - 1s 3ms/step - loss: 44.4488 - binary_accuracy: 0.7032 - val_loss: 31.1634 - val_binary_accuracy: 0.8015\n",
            "Epoch 19/30\n",
            "228/228 [==============================] - 1s 2ms/step - loss: 58.0680 - binary_accuracy: 0.6930 - val_loss: 37.8216 - val_binary_accuracy: 0.2899\n",
            "Epoch 20/30\n",
            "228/228 [==============================] - 1s 3ms/step - loss: 53.6921 - binary_accuracy: 0.6951 - val_loss: 22.6151 - val_binary_accuracy: 0.7921\n",
            "Epoch 21/30\n",
            "228/228 [==============================] - 1s 2ms/step - loss: 46.4606 - binary_accuracy: 0.7042 - val_loss: 45.8072 - val_binary_accuracy: 0.2709\n",
            "Epoch 22/30\n",
            "228/228 [==============================] - 1s 3ms/step - loss: 45.2645 - binary_accuracy: 0.7048 - val_loss: 26.1542 - val_binary_accuracy: 0.3696\n",
            "Epoch 23/30\n",
            "228/228 [==============================] - 1s 3ms/step - loss: 55.5057 - binary_accuracy: 0.6984 - val_loss: 90.8833 - val_binary_accuracy: 0.7926\n",
            "Epoch 24/30\n",
            "228/228 [==============================] - 1s 3ms/step - loss: 34.2683 - binary_accuracy: 0.7067 - val_loss: 130.3348 - val_binary_accuracy: 0.7770\n",
            "Epoch 25/30\n",
            "228/228 [==============================] - 1s 3ms/step - loss: 55.3817 - binary_accuracy: 0.7063 - val_loss: 33.5373 - val_binary_accuracy: 0.7924\n",
            "Epoch 26/30\n",
            "228/228 [==============================] - 1s 3ms/step - loss: 56.9677 - binary_accuracy: 0.7018 - val_loss: 13.1107 - val_binary_accuracy: 0.7770\n",
            "Epoch 27/30\n",
            "228/228 [==============================] - 1s 3ms/step - loss: 67.2984 - binary_accuracy: 0.7007 - val_loss: 36.8815 - val_binary_accuracy: 0.8046\n",
            "Epoch 28/30\n",
            "228/228 [==============================] - 1s 3ms/step - loss: 51.7893 - binary_accuracy: 0.7132 - val_loss: 179.5967 - val_binary_accuracy: 0.7815\n",
            "Epoch 29/30\n",
            "228/228 [==============================] - 1s 3ms/step - loss: 45.4406 - binary_accuracy: 0.7160 - val_loss: 76.0538 - val_binary_accuracy: 0.7789\n",
            "Epoch 30/30\n",
            "228/228 [==============================] - 1s 3ms/step - loss: 39.1017 - binary_accuracy: 0.7175 - val_loss: 22.2627 - val_binary_accuracy: 0.7981\n",
            "Training Accuracy: 0.7980\n",
            "Testing Accuracy:  0.7981\n"
          ]
        }
      ]
    },
    {
      "cell_type": "code",
      "source": [
        "NN_model.summary()\n",
        "clear_session()"
      ],
      "metadata": {
        "colab": {
          "base_uri": "https://localhost:8080/"
        },
        "id": "WjZ6govN-bI6",
        "outputId": "46186e79-5e9e-4f12-f9c7-b89c4b4a3444"
      },
      "id": "WjZ6govN-bI6",
      "execution_count": null,
      "outputs": [
        {
          "output_type": "stream",
          "name": "stdout",
          "text": [
            "Model: \"sequential\"\n",
            "_________________________________________________________________\n",
            " Layer (type)                Output Shape              Param #   \n",
            "=================================================================\n",
            " dense (Dense)               (None, 100)               10900     \n",
            "                                                                 \n",
            " dense_1 (Dense)             (None, 1)                 101       \n",
            "                                                                 \n",
            "=================================================================\n",
            "Total params: 11,001\n",
            "Trainable params: 11,001\n",
            "Non-trainable params: 0\n",
            "_________________________________________________________________\n"
          ]
        }
      ]
    },
    {
      "cell_type": "markdown",
      "source": [
        "## Q1 Results"
      ],
      "metadata": {
        "id": "YshlOQoGOTg6"
      },
      "id": "YshlOQoGOTg6"
    },
    {
      "cell_type": "code",
      "source": [
        "Q1Res = pd.DataFrame()\n",
        "Q1Res = Q1Res.append({\"LogRes\":LogResScore,\"SVM\":SVM_Score,\"KNN\":max(KNN_scores),\"DT\":DT_Score,\"XGB\":XGB_score,\"NN\":NN_score},ignore_index = True)\n",
        "Q1Res.head()"
      ],
      "metadata": {
        "colab": {
          "base_uri": "https://localhost:8080/",
          "height": 80
        },
        "id": "XasR-C60Knwg",
        "outputId": "c9632711-401d-4bf9-c1cf-53279dff46bc"
      },
      "id": "XasR-C60Knwg",
      "execution_count": null,
      "outputs": [
        {
          "output_type": "execute_result",
          "data": {
            "text/plain": [
              "     LogRes       SVM       KNN        DT       XGB        NN\n",
              "0  0.850445  0.798649  0.794145  0.989558  0.863855  0.798137"
            ],
            "text/html": [
              "\n",
              "  <div id=\"df-d700d030-9e80-4250-9d2f-d07b2ab342e7\">\n",
              "    <div class=\"colab-df-container\">\n",
              "      <div>\n",
              "<style scoped>\n",
              "    .dataframe tbody tr th:only-of-type {\n",
              "        vertical-align: middle;\n",
              "    }\n",
              "\n",
              "    .dataframe tbody tr th {\n",
              "        vertical-align: top;\n",
              "    }\n",
              "\n",
              "    .dataframe thead th {\n",
              "        text-align: right;\n",
              "    }\n",
              "</style>\n",
              "<table border=\"1\" class=\"dataframe\">\n",
              "  <thead>\n",
              "    <tr style=\"text-align: right;\">\n",
              "      <th></th>\n",
              "      <th>LogRes</th>\n",
              "      <th>SVM</th>\n",
              "      <th>KNN</th>\n",
              "      <th>DT</th>\n",
              "      <th>XGB</th>\n",
              "      <th>NN</th>\n",
              "    </tr>\n",
              "  </thead>\n",
              "  <tbody>\n",
              "    <tr>\n",
              "      <th>0</th>\n",
              "      <td>0.850445</td>\n",
              "      <td>0.798649</td>\n",
              "      <td>0.794145</td>\n",
              "      <td>0.989558</td>\n",
              "      <td>0.863855</td>\n",
              "      <td>0.798137</td>\n",
              "    </tr>\n",
              "  </tbody>\n",
              "</table>\n",
              "</div>\n",
              "      <button class=\"colab-df-convert\" onclick=\"convertToInteractive('df-d700d030-9e80-4250-9d2f-d07b2ab342e7')\"\n",
              "              title=\"Convert this dataframe to an interactive table.\"\n",
              "              style=\"display:none;\">\n",
              "        \n",
              "  <svg xmlns=\"http://www.w3.org/2000/svg\" height=\"24px\"viewBox=\"0 0 24 24\"\n",
              "       width=\"24px\">\n",
              "    <path d=\"M0 0h24v24H0V0z\" fill=\"none\"/>\n",
              "    <path d=\"M18.56 5.44l.94 2.06.94-2.06 2.06-.94-2.06-.94-.94-2.06-.94 2.06-2.06.94zm-11 1L8.5 8.5l.94-2.06 2.06-.94-2.06-.94L8.5 2.5l-.94 2.06-2.06.94zm10 10l.94 2.06.94-2.06 2.06-.94-2.06-.94-.94-2.06-.94 2.06-2.06.94z\"/><path d=\"M17.41 7.96l-1.37-1.37c-.4-.4-.92-.59-1.43-.59-.52 0-1.04.2-1.43.59L10.3 9.45l-7.72 7.72c-.78.78-.78 2.05 0 2.83L4 21.41c.39.39.9.59 1.41.59.51 0 1.02-.2 1.41-.59l7.78-7.78 2.81-2.81c.8-.78.8-2.07 0-2.86zM5.41 20L4 18.59l7.72-7.72 1.47 1.35L5.41 20z\"/>\n",
              "  </svg>\n",
              "      </button>\n",
              "      \n",
              "  <style>\n",
              "    .colab-df-container {\n",
              "      display:flex;\n",
              "      flex-wrap:wrap;\n",
              "      gap: 12px;\n",
              "    }\n",
              "\n",
              "    .colab-df-convert {\n",
              "      background-color: #E8F0FE;\n",
              "      border: none;\n",
              "      border-radius: 50%;\n",
              "      cursor: pointer;\n",
              "      display: none;\n",
              "      fill: #1967D2;\n",
              "      height: 32px;\n",
              "      padding: 0 0 0 0;\n",
              "      width: 32px;\n",
              "    }\n",
              "\n",
              "    .colab-df-convert:hover {\n",
              "      background-color: #E2EBFA;\n",
              "      box-shadow: 0px 1px 2px rgba(60, 64, 67, 0.3), 0px 1px 3px 1px rgba(60, 64, 67, 0.15);\n",
              "      fill: #174EA6;\n",
              "    }\n",
              "\n",
              "    [theme=dark] .colab-df-convert {\n",
              "      background-color: #3B4455;\n",
              "      fill: #D2E3FC;\n",
              "    }\n",
              "\n",
              "    [theme=dark] .colab-df-convert:hover {\n",
              "      background-color: #434B5C;\n",
              "      box-shadow: 0px 1px 3px 1px rgba(0, 0, 0, 0.15);\n",
              "      filter: drop-shadow(0px 1px 2px rgba(0, 0, 0, 0.3));\n",
              "      fill: #FFFFFF;\n",
              "    }\n",
              "  </style>\n",
              "\n",
              "      <script>\n",
              "        const buttonEl =\n",
              "          document.querySelector('#df-d700d030-9e80-4250-9d2f-d07b2ab342e7 button.colab-df-convert');\n",
              "        buttonEl.style.display =\n",
              "          google.colab.kernel.accessAllowed ? 'block' : 'none';\n",
              "\n",
              "        async function convertToInteractive(key) {\n",
              "          const element = document.querySelector('#df-d700d030-9e80-4250-9d2f-d07b2ab342e7');\n",
              "          const dataTable =\n",
              "            await google.colab.kernel.invokeFunction('convertToInteractive',\n",
              "                                                     [key], {});\n",
              "          if (!dataTable) return;\n",
              "\n",
              "          const docLinkHtml = 'Like what you see? Visit the ' +\n",
              "            '<a target=\"_blank\" href=https://colab.research.google.com/notebooks/data_table.ipynb>data table notebook</a>'\n",
              "            + ' to learn more about interactive tables.';\n",
              "          element.innerHTML = '';\n",
              "          dataTable['output_type'] = 'display_data';\n",
              "          await google.colab.output.renderOutput(dataTable, element);\n",
              "          const docLink = document.createElement('div');\n",
              "          docLink.innerHTML = docLinkHtml;\n",
              "          element.appendChild(docLink);\n",
              "        }\n",
              "      </script>\n",
              "    </div>\n",
              "  </div>\n",
              "  "
            ]
          },
          "metadata": {},
          "execution_count": 24
        }
      ]
    },
    {
      "cell_type": "markdown",
      "source": [
        "The winner seems like the Decision Tree Classifier."
      ],
      "metadata": {
        "id": "Y5sVF0m9e4w2"
      },
      "id": "Y5sVF0m9e4w2"
    },
    {
      "cell_type": "markdown",
      "id": "e5d24982",
      "metadata": {
        "id": "e5d24982"
      },
      "source": [
        "# Q2\n",
        "\n",
        "For this question we are going to use [the Dry Bean Dataset](https://archive.ics.uci.edu/ml/datasets/Dry+Bean+Dataset):\n",
        "\n",
        "Construct \n",
        "\n",
        "- Logistic regression\n",
        "- SVM\n",
        "- KNN\n",
        "- Decision tree\n",
        "- Gradient Boost (XGBoost)\n",
        "- Neural network\n",
        "\n",
        "models for the data. Cross-validate your models and measure the accuracies. Compare them putting the accuracies in a table."
      ]
    },
    {
      "cell_type": "markdown",
      "source": [
        "## Data Handling"
      ],
      "metadata": {
        "id": "_-0plue2SDW8"
      },
      "id": "_-0plue2SDW8"
    },
    {
      "cell_type": "code",
      "execution_count": null,
      "id": "928cc867",
      "metadata": {
        "colab": {
          "base_uri": "https://localhost:8080/",
          "height": 483
        },
        "id": "928cc867",
        "outputId": "ee7965db-ab91-4562-c6b3-b3314198880f"
      },
      "outputs": [
        {
          "output_type": "execute_result",
          "data": {
            "text/plain": [
              "        Area  Perimeter  MajorAxisLength  MinorAxisLength  AspectRation  \\\n",
              "0      28395    610.291       208.178117       173.888747      1.197191   \n",
              "1      28734    638.018       200.524796       182.734419      1.097356   \n",
              "2      29380    624.110       212.826130       175.931143      1.209713   \n",
              "3      30008    645.884       210.557999       182.516516      1.153638   \n",
              "4      30140    620.134       201.847882       190.279279      1.060798   \n",
              "...      ...        ...              ...              ...           ...   \n",
              "13606  42097    759.696       288.721612       185.944705      1.552728   \n",
              "13607  42101    757.499       281.576392       190.713136      1.476439   \n",
              "13608  42139    759.321       281.539928       191.187979      1.472582   \n",
              "13609  42147    763.779       283.382636       190.275731      1.489326   \n",
              "13610  42159    772.237       295.142741       182.204716      1.619841   \n",
              "\n",
              "       Eccentricity  ConvexArea  EquivDiameter    Extent  Solidity  roundness  \\\n",
              "0          0.549812       28715     190.141097  0.763923  0.988856   0.958027   \n",
              "1          0.411785       29172     191.272750  0.783968  0.984986   0.887034   \n",
              "2          0.562727       29690     193.410904  0.778113  0.989559   0.947849   \n",
              "3          0.498616       30724     195.467062  0.782681  0.976696   0.903936   \n",
              "4          0.333680       30417     195.896503  0.773098  0.990893   0.984877   \n",
              "...             ...         ...            ...       ...       ...        ...   \n",
              "13606      0.765002       42508     231.515799  0.714574  0.990331   0.916603   \n",
              "13607      0.735702       42494     231.526798  0.799943  0.990752   0.922015   \n",
              "13608      0.734065       42569     231.631261  0.729932  0.989899   0.918424   \n",
              "13609      0.741055       42667     231.653248  0.705389  0.987813   0.907906   \n",
              "13610      0.786693       42600     231.686223  0.788962  0.989648   0.888380   \n",
              "\n",
              "       Compactness  ShapeFactor1  ShapeFactor2  ShapeFactor3  ShapeFactor4  \\\n",
              "0         0.913358      0.007332      0.003147      0.834222      0.998724   \n",
              "1         0.953861      0.006979      0.003564      0.909851      0.998430   \n",
              "2         0.908774      0.007244      0.003048      0.825871      0.999066   \n",
              "3         0.928329      0.007017      0.003215      0.861794      0.994199   \n",
              "4         0.970516      0.006697      0.003665      0.941900      0.999166   \n",
              "...            ...           ...           ...           ...           ...   \n",
              "13606     0.801865      0.006858      0.001749      0.642988      0.998385   \n",
              "13607     0.822252      0.006688      0.001886      0.676099      0.998219   \n",
              "13608     0.822730      0.006681      0.001888      0.676884      0.996767   \n",
              "13609     0.817457      0.006724      0.001852      0.668237      0.995222   \n",
              "13610     0.784997      0.007001      0.001640      0.616221      0.998180   \n",
              "\n",
              "          Class  \n",
              "0         SEKER  \n",
              "1         SEKER  \n",
              "2         SEKER  \n",
              "3         SEKER  \n",
              "4         SEKER  \n",
              "...         ...  \n",
              "13606  DERMASON  \n",
              "13607  DERMASON  \n",
              "13608  DERMASON  \n",
              "13609  DERMASON  \n",
              "13610  DERMASON  \n",
              "\n",
              "[13611 rows x 17 columns]"
            ],
            "text/html": [
              "\n",
              "  <div id=\"df-fced1179-57c7-44a5-858f-68f6ce471e43\">\n",
              "    <div class=\"colab-df-container\">\n",
              "      <div>\n",
              "<style scoped>\n",
              "    .dataframe tbody tr th:only-of-type {\n",
              "        vertical-align: middle;\n",
              "    }\n",
              "\n",
              "    .dataframe tbody tr th {\n",
              "        vertical-align: top;\n",
              "    }\n",
              "\n",
              "    .dataframe thead th {\n",
              "        text-align: right;\n",
              "    }\n",
              "</style>\n",
              "<table border=\"1\" class=\"dataframe\">\n",
              "  <thead>\n",
              "    <tr style=\"text-align: right;\">\n",
              "      <th></th>\n",
              "      <th>Area</th>\n",
              "      <th>Perimeter</th>\n",
              "      <th>MajorAxisLength</th>\n",
              "      <th>MinorAxisLength</th>\n",
              "      <th>AspectRation</th>\n",
              "      <th>Eccentricity</th>\n",
              "      <th>ConvexArea</th>\n",
              "      <th>EquivDiameter</th>\n",
              "      <th>Extent</th>\n",
              "      <th>Solidity</th>\n",
              "      <th>roundness</th>\n",
              "      <th>Compactness</th>\n",
              "      <th>ShapeFactor1</th>\n",
              "      <th>ShapeFactor2</th>\n",
              "      <th>ShapeFactor3</th>\n",
              "      <th>ShapeFactor4</th>\n",
              "      <th>Class</th>\n",
              "    </tr>\n",
              "  </thead>\n",
              "  <tbody>\n",
              "    <tr>\n",
              "      <th>0</th>\n",
              "      <td>28395</td>\n",
              "      <td>610.291</td>\n",
              "      <td>208.178117</td>\n",
              "      <td>173.888747</td>\n",
              "      <td>1.197191</td>\n",
              "      <td>0.549812</td>\n",
              "      <td>28715</td>\n",
              "      <td>190.141097</td>\n",
              "      <td>0.763923</td>\n",
              "      <td>0.988856</td>\n",
              "      <td>0.958027</td>\n",
              "      <td>0.913358</td>\n",
              "      <td>0.007332</td>\n",
              "      <td>0.003147</td>\n",
              "      <td>0.834222</td>\n",
              "      <td>0.998724</td>\n",
              "      <td>SEKER</td>\n",
              "    </tr>\n",
              "    <tr>\n",
              "      <th>1</th>\n",
              "      <td>28734</td>\n",
              "      <td>638.018</td>\n",
              "      <td>200.524796</td>\n",
              "      <td>182.734419</td>\n",
              "      <td>1.097356</td>\n",
              "      <td>0.411785</td>\n",
              "      <td>29172</td>\n",
              "      <td>191.272750</td>\n",
              "      <td>0.783968</td>\n",
              "      <td>0.984986</td>\n",
              "      <td>0.887034</td>\n",
              "      <td>0.953861</td>\n",
              "      <td>0.006979</td>\n",
              "      <td>0.003564</td>\n",
              "      <td>0.909851</td>\n",
              "      <td>0.998430</td>\n",
              "      <td>SEKER</td>\n",
              "    </tr>\n",
              "    <tr>\n",
              "      <th>2</th>\n",
              "      <td>29380</td>\n",
              "      <td>624.110</td>\n",
              "      <td>212.826130</td>\n",
              "      <td>175.931143</td>\n",
              "      <td>1.209713</td>\n",
              "      <td>0.562727</td>\n",
              "      <td>29690</td>\n",
              "      <td>193.410904</td>\n",
              "      <td>0.778113</td>\n",
              "      <td>0.989559</td>\n",
              "      <td>0.947849</td>\n",
              "      <td>0.908774</td>\n",
              "      <td>0.007244</td>\n",
              "      <td>0.003048</td>\n",
              "      <td>0.825871</td>\n",
              "      <td>0.999066</td>\n",
              "      <td>SEKER</td>\n",
              "    </tr>\n",
              "    <tr>\n",
              "      <th>3</th>\n",
              "      <td>30008</td>\n",
              "      <td>645.884</td>\n",
              "      <td>210.557999</td>\n",
              "      <td>182.516516</td>\n",
              "      <td>1.153638</td>\n",
              "      <td>0.498616</td>\n",
              "      <td>30724</td>\n",
              "      <td>195.467062</td>\n",
              "      <td>0.782681</td>\n",
              "      <td>0.976696</td>\n",
              "      <td>0.903936</td>\n",
              "      <td>0.928329</td>\n",
              "      <td>0.007017</td>\n",
              "      <td>0.003215</td>\n",
              "      <td>0.861794</td>\n",
              "      <td>0.994199</td>\n",
              "      <td>SEKER</td>\n",
              "    </tr>\n",
              "    <tr>\n",
              "      <th>4</th>\n",
              "      <td>30140</td>\n",
              "      <td>620.134</td>\n",
              "      <td>201.847882</td>\n",
              "      <td>190.279279</td>\n",
              "      <td>1.060798</td>\n",
              "      <td>0.333680</td>\n",
              "      <td>30417</td>\n",
              "      <td>195.896503</td>\n",
              "      <td>0.773098</td>\n",
              "      <td>0.990893</td>\n",
              "      <td>0.984877</td>\n",
              "      <td>0.970516</td>\n",
              "      <td>0.006697</td>\n",
              "      <td>0.003665</td>\n",
              "      <td>0.941900</td>\n",
              "      <td>0.999166</td>\n",
              "      <td>SEKER</td>\n",
              "    </tr>\n",
              "    <tr>\n",
              "      <th>...</th>\n",
              "      <td>...</td>\n",
              "      <td>...</td>\n",
              "      <td>...</td>\n",
              "      <td>...</td>\n",
              "      <td>...</td>\n",
              "      <td>...</td>\n",
              "      <td>...</td>\n",
              "      <td>...</td>\n",
              "      <td>...</td>\n",
              "      <td>...</td>\n",
              "      <td>...</td>\n",
              "      <td>...</td>\n",
              "      <td>...</td>\n",
              "      <td>...</td>\n",
              "      <td>...</td>\n",
              "      <td>...</td>\n",
              "      <td>...</td>\n",
              "    </tr>\n",
              "    <tr>\n",
              "      <th>13606</th>\n",
              "      <td>42097</td>\n",
              "      <td>759.696</td>\n",
              "      <td>288.721612</td>\n",
              "      <td>185.944705</td>\n",
              "      <td>1.552728</td>\n",
              "      <td>0.765002</td>\n",
              "      <td>42508</td>\n",
              "      <td>231.515799</td>\n",
              "      <td>0.714574</td>\n",
              "      <td>0.990331</td>\n",
              "      <td>0.916603</td>\n",
              "      <td>0.801865</td>\n",
              "      <td>0.006858</td>\n",
              "      <td>0.001749</td>\n",
              "      <td>0.642988</td>\n",
              "      <td>0.998385</td>\n",
              "      <td>DERMASON</td>\n",
              "    </tr>\n",
              "    <tr>\n",
              "      <th>13607</th>\n",
              "      <td>42101</td>\n",
              "      <td>757.499</td>\n",
              "      <td>281.576392</td>\n",
              "      <td>190.713136</td>\n",
              "      <td>1.476439</td>\n",
              "      <td>0.735702</td>\n",
              "      <td>42494</td>\n",
              "      <td>231.526798</td>\n",
              "      <td>0.799943</td>\n",
              "      <td>0.990752</td>\n",
              "      <td>0.922015</td>\n",
              "      <td>0.822252</td>\n",
              "      <td>0.006688</td>\n",
              "      <td>0.001886</td>\n",
              "      <td>0.676099</td>\n",
              "      <td>0.998219</td>\n",
              "      <td>DERMASON</td>\n",
              "    </tr>\n",
              "    <tr>\n",
              "      <th>13608</th>\n",
              "      <td>42139</td>\n",
              "      <td>759.321</td>\n",
              "      <td>281.539928</td>\n",
              "      <td>191.187979</td>\n",
              "      <td>1.472582</td>\n",
              "      <td>0.734065</td>\n",
              "      <td>42569</td>\n",
              "      <td>231.631261</td>\n",
              "      <td>0.729932</td>\n",
              "      <td>0.989899</td>\n",
              "      <td>0.918424</td>\n",
              "      <td>0.822730</td>\n",
              "      <td>0.006681</td>\n",
              "      <td>0.001888</td>\n",
              "      <td>0.676884</td>\n",
              "      <td>0.996767</td>\n",
              "      <td>DERMASON</td>\n",
              "    </tr>\n",
              "    <tr>\n",
              "      <th>13609</th>\n",
              "      <td>42147</td>\n",
              "      <td>763.779</td>\n",
              "      <td>283.382636</td>\n",
              "      <td>190.275731</td>\n",
              "      <td>1.489326</td>\n",
              "      <td>0.741055</td>\n",
              "      <td>42667</td>\n",
              "      <td>231.653248</td>\n",
              "      <td>0.705389</td>\n",
              "      <td>0.987813</td>\n",
              "      <td>0.907906</td>\n",
              "      <td>0.817457</td>\n",
              "      <td>0.006724</td>\n",
              "      <td>0.001852</td>\n",
              "      <td>0.668237</td>\n",
              "      <td>0.995222</td>\n",
              "      <td>DERMASON</td>\n",
              "    </tr>\n",
              "    <tr>\n",
              "      <th>13610</th>\n",
              "      <td>42159</td>\n",
              "      <td>772.237</td>\n",
              "      <td>295.142741</td>\n",
              "      <td>182.204716</td>\n",
              "      <td>1.619841</td>\n",
              "      <td>0.786693</td>\n",
              "      <td>42600</td>\n",
              "      <td>231.686223</td>\n",
              "      <td>0.788962</td>\n",
              "      <td>0.989648</td>\n",
              "      <td>0.888380</td>\n",
              "      <td>0.784997</td>\n",
              "      <td>0.007001</td>\n",
              "      <td>0.001640</td>\n",
              "      <td>0.616221</td>\n",
              "      <td>0.998180</td>\n",
              "      <td>DERMASON</td>\n",
              "    </tr>\n",
              "  </tbody>\n",
              "</table>\n",
              "<p>13611 rows × 17 columns</p>\n",
              "</div>\n",
              "      <button class=\"colab-df-convert\" onclick=\"convertToInteractive('df-fced1179-57c7-44a5-858f-68f6ce471e43')\"\n",
              "              title=\"Convert this dataframe to an interactive table.\"\n",
              "              style=\"display:none;\">\n",
              "        \n",
              "  <svg xmlns=\"http://www.w3.org/2000/svg\" height=\"24px\"viewBox=\"0 0 24 24\"\n",
              "       width=\"24px\">\n",
              "    <path d=\"M0 0h24v24H0V0z\" fill=\"none\"/>\n",
              "    <path d=\"M18.56 5.44l.94 2.06.94-2.06 2.06-.94-2.06-.94-.94-2.06-.94 2.06-2.06.94zm-11 1L8.5 8.5l.94-2.06 2.06-.94-2.06-.94L8.5 2.5l-.94 2.06-2.06.94zm10 10l.94 2.06.94-2.06 2.06-.94-2.06-.94-.94-2.06-.94 2.06-2.06.94z\"/><path d=\"M17.41 7.96l-1.37-1.37c-.4-.4-.92-.59-1.43-.59-.52 0-1.04.2-1.43.59L10.3 9.45l-7.72 7.72c-.78.78-.78 2.05 0 2.83L4 21.41c.39.39.9.59 1.41.59.51 0 1.02-.2 1.41-.59l7.78-7.78 2.81-2.81c.8-.78.8-2.07 0-2.86zM5.41 20L4 18.59l7.72-7.72 1.47 1.35L5.41 20z\"/>\n",
              "  </svg>\n",
              "      </button>\n",
              "      \n",
              "  <style>\n",
              "    .colab-df-container {\n",
              "      display:flex;\n",
              "      flex-wrap:wrap;\n",
              "      gap: 12px;\n",
              "    }\n",
              "\n",
              "    .colab-df-convert {\n",
              "      background-color: #E8F0FE;\n",
              "      border: none;\n",
              "      border-radius: 50%;\n",
              "      cursor: pointer;\n",
              "      display: none;\n",
              "      fill: #1967D2;\n",
              "      height: 32px;\n",
              "      padding: 0 0 0 0;\n",
              "      width: 32px;\n",
              "    }\n",
              "\n",
              "    .colab-df-convert:hover {\n",
              "      background-color: #E2EBFA;\n",
              "      box-shadow: 0px 1px 2px rgba(60, 64, 67, 0.3), 0px 1px 3px 1px rgba(60, 64, 67, 0.15);\n",
              "      fill: #174EA6;\n",
              "    }\n",
              "\n",
              "    [theme=dark] .colab-df-convert {\n",
              "      background-color: #3B4455;\n",
              "      fill: #D2E3FC;\n",
              "    }\n",
              "\n",
              "    [theme=dark] .colab-df-convert:hover {\n",
              "      background-color: #434B5C;\n",
              "      box-shadow: 0px 1px 3px 1px rgba(0, 0, 0, 0.15);\n",
              "      filter: drop-shadow(0px 1px 2px rgba(0, 0, 0, 0.3));\n",
              "      fill: #FFFFFF;\n",
              "    }\n",
              "  </style>\n",
              "\n",
              "      <script>\n",
              "        const buttonEl =\n",
              "          document.querySelector('#df-fced1179-57c7-44a5-858f-68f6ce471e43 button.colab-df-convert');\n",
              "        buttonEl.style.display =\n",
              "          google.colab.kernel.accessAllowed ? 'block' : 'none';\n",
              "\n",
              "        async function convertToInteractive(key) {\n",
              "          const element = document.querySelector('#df-fced1179-57c7-44a5-858f-68f6ce471e43');\n",
              "          const dataTable =\n",
              "            await google.colab.kernel.invokeFunction('convertToInteractive',\n",
              "                                                     [key], {});\n",
              "          if (!dataTable) return;\n",
              "\n",
              "          const docLinkHtml = 'Like what you see? Visit the ' +\n",
              "            '<a target=\"_blank\" href=https://colab.research.google.com/notebooks/data_table.ipynb>data table notebook</a>'\n",
              "            + ' to learn more about interactive tables.';\n",
              "          element.innerHTML = '';\n",
              "          dataTable['output_type'] = 'display_data';\n",
              "          await google.colab.output.renderOutput(dataTable, element);\n",
              "          const docLink = document.createElement('div');\n",
              "          docLink.innerHTML = docLinkHtml;\n",
              "          element.appendChild(docLink);\n",
              "        }\n",
              "      </script>\n",
              "    </div>\n",
              "  </div>\n",
              "  "
            ]
          },
          "metadata": {},
          "execution_count": 25
        }
      ],
      "source": [
        "with urlopen('https://archive.ics.uci.edu/ml/machine-learning-databases/00602/DryBeanDataset.zip') as url:\n",
        "    zf = ZipFile(BytesIO(url.read()))\n",
        "    data = pd.read_excel(zf.open('DryBeanDataset/Dry_Bean_Dataset.xlsx'))\n",
        "    \n",
        "data"
      ]
    },
    {
      "cell_type": "markdown",
      "source": [
        "Doing the same process to the outcomes as above. This time, instead of income, we have several classes so we need to use several labels."
      ],
      "metadata": {
        "id": "A8BTPfZ_Rj44"
      },
      "id": "A8BTPfZ_Rj44"
    },
    {
      "cell_type": "code",
      "source": [
        "le = LabelEncoder()\n",
        "data['Class'] = le.fit_transform(data['Class'])\n",
        "data['Class']"
      ],
      "metadata": {
        "colab": {
          "base_uri": "https://localhost:8080/"
        },
        "id": "KegypOKFQ7Kt",
        "outputId": "2993a438-9099-427c-928a-5cc4cb7e90ac"
      },
      "id": "KegypOKFQ7Kt",
      "execution_count": null,
      "outputs": [
        {
          "output_type": "execute_result",
          "data": {
            "text/plain": [
              "0        5\n",
              "1        5\n",
              "2        5\n",
              "3        5\n",
              "4        5\n",
              "        ..\n",
              "13606    3\n",
              "13607    3\n",
              "13608    3\n",
              "13609    3\n",
              "13610    3\n",
              "Name: Class, Length: 13611, dtype: int64"
            ]
          },
          "metadata": {},
          "execution_count": 26
        }
      ]
    },
    {
      "cell_type": "code",
      "source": [
        "x2 = data.iloc[:,0:-1]\n",
        "y2 = data.iloc[:,-1]"
      ],
      "metadata": {
        "id": "eGZYetk3SLm8"
      },
      "id": "eGZYetk3SLm8",
      "execution_count": null,
      "outputs": []
    },
    {
      "cell_type": "markdown",
      "source": [
        "## Logistic Regression"
      ],
      "metadata": {
        "id": "YL2fnZP8R5h8"
      },
      "id": "YL2fnZP8R5h8"
    },
    {
      "cell_type": "code",
      "source": [
        "x2_train, x2_test, y2_train, y2_test = train_test_split(x2,y2,test_size=0.30)\n",
        "\n",
        "LogResModel2 = LogisticRegression(C=1.0,solver=\"lbfgs\",multi_class=\"multinomial\",max_iter=10000,tol=1e-1)\n",
        "LogResModel2.fit(x2_train,y2_train)\n",
        "LogResPred2 = LogResModel2.predict(x2_test)\n",
        "\n",
        "def LogResResults2():\n",
        "    print(\"Accuracy = \",accuracy_score(LogResPred2,y2_test))\n",
        "    print(\"Confusion Matrix = \\n\",confusion_matrix(LogResPred2,y2_test))\n",
        "LogResResults2()\n",
        "LogResScore2 = accuracy_score(LogResPred2,y2_test)"
      ],
      "metadata": {
        "colab": {
          "base_uri": "https://localhost:8080/"
        },
        "id": "-xulEqzYSJDQ",
        "outputId": "cf0d8350-d221-4bae-dfee-d63ebc2a2d9a"
      },
      "id": "-xulEqzYSJDQ",
      "execution_count": null,
      "outputs": [
        {
          "output_type": "stream",
          "name": "stdout",
          "text": [
            "Accuracy =  0.910871694417238\n",
            "Confusion Matrix = \n",
            " [[360   0  21   0   3   3   0]\n",
            " [  0 153   0   0   0   0   0]\n",
            " [ 37   0 479   0   8   0   3]\n",
            " [  0   0   0 969   6  11  69]\n",
            " [  3   0  10   1 547   0  19]\n",
            " [  1   0   0  17   0 566  14]\n",
            " [ 15   0   7  80  11  25 646]]\n"
          ]
        }
      ]
    },
    {
      "cell_type": "markdown",
      "source": [
        "## Support Vector Machine"
      ],
      "metadata": {
        "id": "XtaOrdIxVW0F"
      },
      "id": "XtaOrdIxVW0F"
    },
    {
      "cell_type": "code",
      "source": [
        "SVM_Model2 = SVC(C = 2, kernel=\"rbf\",tol= 0.001,max_iter=20000)\n",
        "\n",
        "SVM_Model2.fit(x2_train,y2_train)\n",
        "SVM_Pred2 = SVM_Model2.predict(x2_test)\n",
        "def SVMResults():\n",
        "    print(\"Accuracy = \",accuracy_score(SVM_Pred2,y2_test))\n",
        "    print(\"Confusion Matrix = \\n\",confusion_matrix(SVM_Pred2,y2_test))\n",
        "SVM_Score2 = accuracy_score(SVM_Pred2,y2_test)"
      ],
      "metadata": {
        "id": "mcjIsWyuVbTM"
      },
      "id": "mcjIsWyuVbTM",
      "execution_count": null,
      "outputs": []
    },
    {
      "cell_type": "markdown",
      "source": [
        "## K-Nearest Neighbor"
      ],
      "metadata": {
        "id": "az_mwUlVVvqk"
      },
      "id": "az_mwUlVVvqk"
    },
    {
      "cell_type": "code",
      "source": [
        "KNN_scores2 = []\n",
        "def KNN_Exp(N):\n",
        "    global KNN_scores2\n",
        "    KNN_Model2 = KNeighborsClassifier(n_neighbors=N)\n",
        "    KNN_Model2.fit(x2_train,y2_train)\n",
        "    KNN_Pred2 = KNN_Model2.predict(x2_test)\n",
        "    KNN_scores2.append(accuracy_score(KNN_Pred2,y2_test))\n",
        "    print(\"Accuracy = \",accuracy_score(KNN_Pred2,y2_test))\n",
        "    print(\"Confusion Matrix = \\n\",confusion_matrix(KNN_Pred2,y2_test))\n",
        "  \n",
        "for i in np.arange(2,12):\n",
        "    print(i)\n",
        "    KNN_Exp(i)"
      ],
      "metadata": {
        "colab": {
          "base_uri": "https://localhost:8080/"
        },
        "id": "o9ihIjsSYRW6",
        "outputId": "d1ac07e0-02ce-4553-ff39-42b482410574"
      },
      "id": "o9ihIjsSYRW6",
      "execution_count": null,
      "outputs": [
        {
          "output_type": "stream",
          "name": "stdout",
          "text": [
            "2\n",
            "Accuracy =  0.7061704211557297\n",
            "Confusion Matrix = \n",
            " [[289   0 254   0  65   2  20]\n",
            " [  1 153   0   0   0   0   0]\n",
            " [ 91   0 248   0  54   5   5]\n",
            " [  0   0   0 991  17 163 128]\n",
            " [ 28   0  12   4 394   9  83]\n",
            " [  1   0   0  32   8 378  84]\n",
            " [  6   0   3  40  37  48 431]]\n",
            "3\n",
            "Accuracy =  0.7272282076395691\n",
            "Confusion Matrix = \n",
            " [[221   0 163   0  53   1  13]\n",
            " [  0 153   0   0   0   0   0]\n",
            " [143   0 327   0  26   2   3]\n",
            " [  0   0   0 966  20 111 101]\n",
            " [ 45   0  24   0 395   9  58]\n",
            " [  0   0   0  37   2 371  39]\n",
            " [  7   0   3  64  79 111 537]]\n",
            "4\n",
            "Accuracy =  0.7262487757100882\n",
            "Confusion Matrix = \n",
            " [[261   0 198   0  45   1   6]\n",
            " [  0 153   0   0   0   0   0]\n",
            " [104   0 293   0  33   0   2]\n",
            " [  0   0   0 984  14 132 101]\n",
            " [ 42   0  23   0 399  10  80]\n",
            " [  0   0   0  37   4 363  49]\n",
            " [  9   0   3  46  80  99 513]]\n",
            "5\n",
            "Accuracy =  0.7284524975514202\n",
            "Confusion Matrix = \n",
            " [[207   0 149   0  39   1   3]\n",
            " [  0 153   0   0   0   0   0]\n",
            " [149   0 340   0  27   0   2]\n",
            " [  0   0   0 970  18 119  87]\n",
            " [ 51   0  25   0 399  13  78]\n",
            " [  1   0   0  52   0 365  40]\n",
            " [  8   0   3  45  92 107 541]]\n",
            "6\n",
            "Accuracy =  0.7203721841332027\n",
            "Confusion Matrix = \n",
            " [[238   0 189   0  37   1   3]\n",
            " [  0 153   0   0   0   0   0]\n",
            " [116   0 301   0  23   1   0]\n",
            " [  0   0   0 966  17 139  92]\n",
            " [ 51   0  25   0 409  11  83]\n",
            " [  1   0   0  48   2 345  43]\n",
            " [ 10   0   2  53  87 108 530]]\n",
            "7\n",
            "Accuracy =  0.7164544564152792\n",
            "Confusion Matrix = \n",
            " [[201   0 145   0  32   1   1]\n",
            " [  0 153   0   0   0   0   0]\n",
            " [149   0 339   0  26   1   1]\n",
            " [  0   0   0 961  16 134  83]\n",
            " [ 56   0  31   0 388  13  80]\n",
            " [  0   0   0  52   0 340  42]\n",
            " [ 10   0   2  54 113 116 544]]\n",
            "8\n",
            "Accuracy =  0.7103330068560235\n",
            "Confusion Matrix = \n",
            " [[223   0 178   0  37   1   1]\n",
            " [  0 153   0   0   0   0   0]\n",
            " [130   0 304   0  22   1   1]\n",
            " [  0   0   0 967  14 150  86]\n",
            " [ 54   0  33   0 393  13  88]\n",
            " [  0   0   0  48   1 330  44]\n",
            " [  9   0   2  52 108 110 531]]\n",
            "9\n",
            "Accuracy =  0.7127815866797258\n",
            "Confusion Matrix = \n",
            " [[199   0 141   0  30   1   1]\n",
            " [  0 153   0   0   0   0   0]\n",
            " [147   0 343   0  23   0   0]\n",
            " [  0   0   0 960  15 136  84]\n",
            " [ 62   0  31   0 383  12  84]\n",
            " [  0   0   0  57   1 324  33]\n",
            " [  8   0   2  50 123 132 549]]\n",
            "10\n",
            "Accuracy =  0.7105778648383937\n",
            "Confusion Matrix = \n",
            " [[219   0 162   0  32   1   1]\n",
            " [  0 153   0   0   0   0   0]\n",
            " [123   0 320   0  23   0   0]\n",
            " [  0   0   0 964  16 150  85]\n",
            " [ 65   0  33   0 387  12  82]\n",
            " [  0   0   0  54   0 310  34]\n",
            " [  9   0   2  49 117 132 549]]\n",
            "11\n",
            "Accuracy =  0.7088638589618022\n",
            "Confusion Matrix = \n",
            " [[183   0 138   0  28   1   1]\n",
            " [  0 153   0   0   0   0   0]\n",
            " [155   0 342   0  22   0   0]\n",
            " [  0   0   0 963  15 138  79]\n",
            " [ 68   0  35   0 376  12  77]\n",
            " [  0   0   0  54   0 315  31]\n",
            " [ 10   0   2  50 134 139 563]]\n"
          ]
        }
      ]
    },
    {
      "cell_type": "markdown",
      "source": [
        "## Decision Tree"
      ],
      "metadata": {
        "id": "CJDRmsGrV0RO"
      },
      "id": "CJDRmsGrV0RO"
    },
    {
      "cell_type": "code",
      "source": [
        "DT_Model2 = DecisionTreeClassifier(max_depth=36, criterion=\"entropy\")\n",
        "DT_Model2.fit(x2,y2)\n",
        "DT_Score2 = DT_Model2.score(x2,y2)\n",
        "print(DT_Score2)"
      ],
      "metadata": {
        "colab": {
          "base_uri": "https://localhost:8080/"
        },
        "id": "_uetMEvDYs3Y",
        "outputId": "19eda4d3-ff17-4f11-b8c1-89037ef38cbf"
      },
      "id": "_uetMEvDYs3Y",
      "execution_count": null,
      "outputs": [
        {
          "output_type": "stream",
          "name": "stdout",
          "text": [
            "1.0\n"
          ]
        }
      ]
    },
    {
      "cell_type": "code",
      "source": [
        "plt.figure(figsize=(12,12), dpi=240)\n",
        "tree.plot_tree(DT_Model2,filled = True,max_depth=4)"
      ],
      "metadata": {
        "colab": {
          "base_uri": "https://localhost:8080/",
          "height": 1000
        },
        "id": "aJ0K5B8yY_2R",
        "outputId": "4511acaa-1d51-4405-8232-ef5dda05b3f0"
      },
      "id": "aJ0K5B8yY_2R",
      "execution_count": null,
      "outputs": [
        {
          "output_type": "execute_result",
          "data": {
            "text/plain": [
              "[Text(0.5145833333333333, 0.9166666666666666, 'X[2] <= 328.881\\nentropy = 2.647\\nsamples = 13611\\nvalue = [1322, 522, 1630, 3546, 1928, 2027, 2636]'),\n",
              " Text(0.26666666666666666, 0.75, 'X[3] <= 181.384\\nentropy = 1.753\\nsamples = 8298\\nvalue = [136, 0, 7, 3546, 156, 2023, 2430]'),\n",
              " Text(0.13333333333333333, 0.5833333333333334, 'X[1] <= 704.897\\nentropy = 0.755\\nsamples = 3695\\nvalue = [1, 0, 0, 3151, 141, 17, 385]'),\n",
              " Text(0.06666666666666667, 0.4166666666666667, 'X[1] <= 668.069\\nentropy = 0.169\\nsamples = 2708\\nvalue = [0, 0, 0, 2653, 5, 16, 34]'),\n",
              " Text(0.03333333333333333, 0.25, 'X[12] <= 0.007\\nentropy = 0.048\\nsamples = 1873\\nvalue = [0, 0, 0, 1863, 0, 10, 0]'),\n",
              " Text(0.016666666666666666, 0.08333333333333333, '\\n  (...)  \\n'),\n",
              " Text(0.05, 0.08333333333333333, '\\n  (...)  \\n'),\n",
              " Text(0.1, 0.25, 'X[5] <= 0.701\\nentropy = 0.359\\nsamples = 835\\nvalue = [0, 0, 0, 790, 5, 6, 34]'),\n",
              " Text(0.08333333333333333, 0.08333333333333333, '\\n  (...)  \\n'),\n",
              " Text(0.11666666666666667, 0.08333333333333333, '\\n  (...)  \\n'),\n",
              " Text(0.2, 0.4166666666666667, 'X[11] <= 0.742\\nentropy = 1.443\\nsamples = 987\\nvalue = [1, 0, 0, 498, 136, 1, 351]'),\n",
              " Text(0.16666666666666666, 0.25, 'X[12] <= 0.008\\nentropy = 0.523\\nsamples = 119\\nvalue = [0, 0, 0, 3, 108, 0, 8]'),\n",
              " Text(0.15, 0.08333333333333333, '\\n  (...)  \\n'),\n",
              " Text(0.18333333333333332, 0.08333333333333333, '\\n  (...)  \\n'),\n",
              " Text(0.23333333333333334, 0.25, 'X[1] <= 752.681\\nentropy = 1.174\\nsamples = 868\\nvalue = [1, 0, 0, 495, 28, 1, 343]'),\n",
              " Text(0.21666666666666667, 0.08333333333333333, '\\n  (...)  \\n'),\n",
              " Text(0.25, 0.08333333333333333, '\\n  (...)  \\n'),\n",
              " Text(0.4, 0.5833333333333334, 'X[11] <= 0.853\\nentropy = 1.537\\nsamples = 4603\\nvalue = [135, 0, 7, 395, 15, 2006, 2045]'),\n",
              " Text(0.3333333333333333, 0.4166666666666667, 'X[6] <= 42670.5\\nentropy = 1.092\\nsamples = 2575\\nvalue = [96, 0, 5, 319, 15, 120, 2020]'),\n",
              " Text(0.3, 0.25, 'X[10] <= 0.909\\nentropy = 1.256\\nsamples = 775\\nvalue = [1, 0, 0, 319, 1, 40, 414]'),\n",
              " Text(0.2833333333333333, 0.08333333333333333, '\\n  (...)  \\n'),\n",
              " Text(0.31666666666666665, 0.08333333333333333, '\\n  (...)  \\n'),\n",
              " Text(0.36666666666666664, 0.25, 'X[1] <= 870.881\\nentropy = 0.648\\nsamples = 1800\\nvalue = [95, 0, 5, 0, 14, 80, 1606]'),\n",
              " Text(0.35, 0.08333333333333333, '\\n  (...)  \\n'),\n",
              " Text(0.38333333333333336, 0.08333333333333333, '\\n  (...)  \\n'),\n",
              " Text(0.4666666666666667, 0.4166666666666667, 'X[1] <= 854.741\\nentropy = 0.473\\nsamples = 2028\\nvalue = [39, 0, 2, 76, 0, 1886, 25]'),\n",
              " Text(0.43333333333333335, 0.25, 'X[11] <= 0.877\\nentropy = 0.359\\nsamples = 1978\\nvalue = [4, 0, 1, 76, 0, 1872, 25]'),\n",
              " Text(0.4166666666666667, 0.08333333333333333, '\\n  (...)  \\n'),\n",
              " Text(0.45, 0.08333333333333333, '\\n  (...)  \\n'),\n",
              " Text(0.5, 0.25, 'X[10] <= 0.763\\nentropy = 0.987\\nsamples = 50\\nvalue = [35, 0, 1, 0, 0, 14, 0]'),\n",
              " Text(0.48333333333333334, 0.08333333333333333, '\\n  (...)  \\n'),\n",
              " Text(0.5166666666666667, 0.08333333333333333, '\\n  (...)  \\n'),\n",
              " Text(0.7625, 0.75, 'X[12] <= 0.006\\nentropy = 2.052\\nsamples = 5313\\nvalue = [1186, 522, 1623, 0, 1772, 4, 206]'),\n",
              " Text(0.6583333333333333, 0.5833333333333334, 'X[3] <= 313.823\\nentropy = 1.565\\nsamples = 3300\\nvalue = [1155, 522, 1574, 0, 36, 2, 11]'),\n",
              " Text(0.6, 0.4166666666666667, 'X[11] <= 0.785\\nentropy = 1.111\\nsamples = 2777\\nvalue = [1154, 0, 1574, 0, 36, 2, 11]'),\n",
              " Text(0.5666666666666667, 0.25, 'X[10] <= 0.801\\nentropy = 0.828\\nsamples = 1818\\nvalue = [333, 0, 1449, 0, 34, 0, 2]'),\n",
              " Text(0.55, 0.08333333333333333, '\\n  (...)  \\n'),\n",
              " Text(0.5833333333333334, 0.08333333333333333, '\\n  (...)  \\n'),\n",
              " Text(0.6333333333333333, 0.25, 'X[10] <= 0.843\\nentropy = 0.675\\nsamples = 959\\nvalue = [821, 0, 125, 0, 2, 2, 9]'),\n",
              " Text(0.6166666666666667, 0.08333333333333333, '\\n  (...)  \\n'),\n",
              " Text(0.65, 0.08333333333333333, '\\n  (...)  \\n'),\n",
              " Text(0.7166666666666667, 0.4166666666666667, 'X[7] <= 385.139\\nentropy = 0.02\\nsamples = 523\\nvalue = [1, 522, 0, 0, 0, 0, 0]'),\n",
              " Text(0.7, 0.25, 'X[9] <= 0.984\\nentropy = 1.0\\nsamples = 2\\nvalue = [1, 1, 0, 0, 0, 0, 0]'),\n",
              " Text(0.6833333333333333, 0.08333333333333333, '\\n  (...)  \\n'),\n",
              " Text(0.7166666666666667, 0.08333333333333333, '\\n  (...)  \\n'),\n",
              " Text(0.7333333333333333, 0.25, 'entropy = 0.0\\nsamples = 521\\nvalue = [0, 521, 0, 0, 0, 0, 0]'),\n",
              " Text(0.8666666666666667, 0.5833333333333334, 'X[11] <= 0.738\\nentropy = 0.744\\nsamples = 2013\\nvalue = [31, 0, 49, 0, 1736, 2, 195]'),\n",
              " Text(0.8, 0.4166666666666667, 'X[5] <= 0.864\\nentropy = 0.177\\nsamples = 1710\\nvalue = [4, 0, 17, 0, 1674, 0, 15]'),\n",
              " Text(0.7666666666666667, 0.25, 'X[1] <= 964.508\\nentropy = 0.457\\nsamples = 509\\nvalue = [4, 0, 17, 0, 474, 0, 14]'),\n",
              " Text(0.75, 0.08333333333333333, '\\n  (...)  \\n'),\n",
              " Text(0.7833333333333333, 0.08333333333333333, '\\n  (...)  \\n'),\n",
              " Text(0.8333333333333334, 0.25, 'X[10] <= 0.816\\nentropy = 0.01\\nsamples = 1201\\nvalue = [0, 0, 0, 0, 1200, 0, 1]'),\n",
              " Text(0.8166666666666667, 0.08333333333333333, '\\n  (...)  \\n'),\n",
              " Text(0.85, 0.08333333333333333, '\\n  (...)  \\n'),\n",
              " Text(0.9333333333333333, 0.4166666666666667, 'X[10] <= 0.851\\nentropy = 1.616\\nsamples = 303\\nvalue = [27, 0, 32, 0, 62, 2, 180]'),\n",
              " Text(0.9, 0.25, 'X[3] <= 198.223\\nentropy = 1.906\\nsamples = 150\\nvalue = [26, 0, 24, 0, 58, 0, 42]'),\n",
              " Text(0.8833333333333333, 0.08333333333333333, '\\n  (...)  \\n'),\n",
              " Text(0.9166666666666666, 0.08333333333333333, '\\n  (...)  \\n'),\n",
              " Text(0.9666666666666667, 0.25, 'X[6] <= 56390.5\\nentropy = 0.624\\nsamples = 153\\nvalue = [1, 0, 8, 0, 4, 2, 138]'),\n",
              " Text(0.95, 0.08333333333333333, '\\n  (...)  \\n'),\n",
              " Text(0.9833333333333333, 0.08333333333333333, '\\n  (...)  \\n')]"
            ]
          },
          "metadata": {},
          "execution_count": 32
        },
        {
          "output_type": "display_data",
          "data": {
            "text/plain": [
              "<Figure size 2880x2880 with 1 Axes>"
            ],
            "image/png": "[encoded data removed]"
          },
          "metadata": {
            "needs_background": "light"
          }
        }
      ]
    },
    {
      "cell_type": "markdown",
      "source": [
        "## XGBoost"
      ],
      "metadata": {
        "id": "vZBp4Xz_V3P3"
      },
      "id": "vZBp4Xz_V3P3"
    },
    {
      "cell_type": "code",
      "source": [
        "XGB_Model2 = xgb.XGBClassifier()\n",
        "XGB_Model2.fit(x2_train,y2_train)\n",
        "XGB_pred2 = XGB_Model2.predict(x2_test)\n",
        "XGB_score2 = accuracy_score(XGB_pred2,y2_test)\n",
        "print(XGB_score2)"
      ],
      "metadata": {
        "colab": {
          "base_uri": "https://localhost:8080/"
        },
        "id": "FcG0z90QZE05",
        "outputId": "630d5187-4b9c-49ca-9660-57ab12833908"
      },
      "id": "FcG0z90QZE05",
      "execution_count": null,
      "outputs": [
        {
          "output_type": "stream",
          "name": "stdout",
          "text": [
            "0.9272771792360431\n"
          ]
        }
      ]
    },
    {
      "cell_type": "markdown",
      "source": [
        "## Neural Network"
      ],
      "metadata": {
        "id": "AZDlAZpEV6Bz"
      },
      "id": "AZDlAZpEV6Bz"
    },
    {
      "cell_type": "code",
      "source": [
        "NN_model2 = ks.models.Sequential()\n",
        "\n",
        "NN_model2.add(ks.layers.Dense(100, activation='relu', input_dim=16))\n",
        "NN_model2.add(ks.layers.Dense(25,activation='relu'))\n",
        "NN_model2.add(ks.layers.Dense(1,activation='softmax'))\n",
        "\n",
        "NN_model2.compile(loss='binary_crossentropy', \n",
        "              optimizer='adam', \n",
        "              metrics=['binary_accuracy'])\n",
        "\n",
        "NN_model2.fit(x2_train,y2_train,epochs=30,batch_size=100,validation_data=(x2_test, y2_test))\n",
        "loss2, accuracy2 = NN_model2.evaluate(x2_train, y2_train, verbose=False)\n",
        "print(\"Training Accuracy: {:.4f}\".format(accuracy2))\n",
        "loss2, NN_score2 = NN_model2.evaluate(x2_test, y2_test, verbose=False)\n",
        "print(\"Testing Accuracy:  {:.4f}\".format(NN_score2))"
      ],
      "metadata": {
        "colab": {
          "base_uri": "https://localhost:8080/"
        },
        "id": "1Vk3O1EpZX5J",
        "outputId": "c0553887-4807-4a19-993f-81888b88672b"
      },
      "id": "1Vk3O1EpZX5J",
      "execution_count": null,
      "outputs": [
        {
          "output_type": "stream",
          "name": "stdout",
          "text": [
            "Epoch 1/30\n",
            "96/96 [==============================] - 1s 4ms/step - loss: -241750.7344 - binary_accuracy: 0.0387 - val_loss: -646269.3750 - val_binary_accuracy: 0.0375\n",
            "Epoch 2/30\n",
            "96/96 [==============================] - 0s 3ms/step - loss: -1890189.0000 - binary_accuracy: 0.0387 - val_loss: -3788532.2500 - val_binary_accuracy: 0.0375\n",
            "Epoch 3/30\n",
            "96/96 [==============================] - 0s 3ms/step - loss: -7851650.5000 - binary_accuracy: 0.0387 - val_loss: -12968108.0000 - val_binary_accuracy: 0.0375\n",
            "Epoch 4/30\n",
            "96/96 [==============================] - 0s 4ms/step - loss: -21823180.0000 - binary_accuracy: 0.0387 - val_loss: -31637058.0000 - val_binary_accuracy: 0.0375\n",
            "Epoch 5/30\n",
            "96/96 [==============================] - 1s 5ms/step - loss: -46978920.0000 - binary_accuracy: 0.0387 - val_loss: -62618400.0000 - val_binary_accuracy: 0.0375\n",
            "Epoch 6/30\n",
            "96/96 [==============================] - 0s 3ms/step - loss: -86209264.0000 - binary_accuracy: 0.0387 - val_loss: -108530576.0000 - val_binary_accuracy: 0.0375\n",
            "Epoch 7/30\n",
            "96/96 [==============================] - 0s 3ms/step - loss: -142046752.0000 - binary_accuracy: 0.0387 - val_loss: -171726400.0000 - val_binary_accuracy: 0.0375\n",
            "Epoch 8/30\n",
            "96/96 [==============================] - 0s 3ms/step - loss: -216623472.0000 - binary_accuracy: 0.0387 - val_loss: -254218688.0000 - val_binary_accuracy: 0.0375\n",
            "Epoch 9/30\n",
            "96/96 [==============================] - 0s 3ms/step - loss: -312181568.0000 - binary_accuracy: 0.0387 - val_loss: -357943360.0000 - val_binary_accuracy: 0.0375\n",
            "Epoch 10/30\n",
            "96/96 [==============================] - 0s 3ms/step - loss: -430648384.0000 - binary_accuracy: 0.0387 - val_loss: -484888832.0000 - val_binary_accuracy: 0.0375\n",
            "Epoch 11/30\n",
            "96/96 [==============================] - 0s 3ms/step - loss: -573417664.0000 - binary_accuracy: 0.0387 - val_loss: -636473024.0000 - val_binary_accuracy: 0.0375\n",
            "Epoch 12/30\n",
            "96/96 [==============================] - 0s 3ms/step - loss: -742127744.0000 - binary_accuracy: 0.0387 - val_loss: -813384192.0000 - val_binary_accuracy: 0.0375\n",
            "Epoch 13/30\n",
            "96/96 [==============================] - 0s 3ms/step - loss: -938207104.0000 - binary_accuracy: 0.0387 - val_loss: -1017373120.0000 - val_binary_accuracy: 0.0375\n",
            "Epoch 14/30\n",
            "96/96 [==============================] - 0s 3ms/step - loss: -1162622592.0000 - binary_accuracy: 0.0387 - val_loss: -1250768384.0000 - val_binary_accuracy: 0.0375\n",
            "Epoch 15/30\n",
            "96/96 [==============================] - 0s 3ms/step - loss: -1416556288.0000 - binary_accuracy: 0.0387 - val_loss: -1511693440.0000 - val_binary_accuracy: 0.0375\n",
            "Epoch 16/30\n",
            "96/96 [==============================] - 0s 3ms/step - loss: -1700836352.0000 - binary_accuracy: 0.0387 - val_loss: -1803258624.0000 - val_binary_accuracy: 0.0375\n",
            "Epoch 17/30\n",
            "96/96 [==============================] - 0s 3ms/step - loss: -2016261632.0000 - binary_accuracy: 0.0387 - val_loss: -2125856000.0000 - val_binary_accuracy: 0.0375\n",
            "Epoch 18/30\n",
            "96/96 [==============================] - 0s 3ms/step - loss: -2364788480.0000 - binary_accuracy: 0.0387 - val_loss: -2480671488.0000 - val_binary_accuracy: 0.0375\n",
            "Epoch 19/30\n",
            "96/96 [==============================] - 0s 3ms/step - loss: -2745849856.0000 - binary_accuracy: 0.0387 - val_loss: -2866895360.0000 - val_binary_accuracy: 0.0375\n",
            "Epoch 20/30\n",
            "96/96 [==============================] - 0s 3ms/step - loss: -3160322816.0000 - binary_accuracy: 0.0387 - val_loss: -3286699520.0000 - val_binary_accuracy: 0.0375\n",
            "Epoch 21/30\n",
            "96/96 [==============================] - 0s 3ms/step - loss: -3609994752.0000 - binary_accuracy: 0.0387 - val_loss: -3739986176.0000 - val_binary_accuracy: 0.0375\n",
            "Epoch 22/30\n",
            "96/96 [==============================] - 0s 3ms/step - loss: -4095253760.0000 - binary_accuracy: 0.0387 - val_loss: -4229036800.0000 - val_binary_accuracy: 0.0375\n",
            "Epoch 23/30\n",
            "96/96 [==============================] - 0s 3ms/step - loss: -4616877056.0000 - binary_accuracy: 0.0387 - val_loss: -4753605632.0000 - val_binary_accuracy: 0.0375\n",
            "Epoch 24/30\n",
            "96/96 [==============================] - 0s 3ms/step - loss: -5172934656.0000 - binary_accuracy: 0.0387 - val_loss: -5313668096.0000 - val_binary_accuracy: 0.0375\n",
            "Epoch 25/30\n",
            "96/96 [==============================] - 0s 2ms/step - loss: -5767155712.0000 - binary_accuracy: 0.0387 - val_loss: -5908281344.0000 - val_binary_accuracy: 0.0375\n",
            "Epoch 26/30\n",
            "96/96 [==============================] - 0s 3ms/step - loss: -6397557760.0000 - binary_accuracy: 0.0387 - val_loss: -6540005376.0000 - val_binary_accuracy: 0.0375\n",
            "Epoch 27/30\n",
            "96/96 [==============================] - 0s 3ms/step - loss: -7066830336.0000 - binary_accuracy: 0.0387 - val_loss: -7207860224.0000 - val_binary_accuracy: 0.0375\n",
            "Epoch 28/30\n",
            "96/96 [==============================] - 0s 3ms/step - loss: -7773999616.0000 - binary_accuracy: 0.0387 - val_loss: -7913569280.0000 - val_binary_accuracy: 0.0375\n",
            "Epoch 29/30\n",
            "96/96 [==============================] - 0s 3ms/step - loss: -8520818176.0000 - binary_accuracy: 0.0387 - val_loss: -8657851392.0000 - val_binary_accuracy: 0.0375\n",
            "Epoch 30/30\n",
            "96/96 [==============================] - 0s 3ms/step - loss: -9305656320.0000 - binary_accuracy: 0.0387 - val_loss: -9440709632.0000 - val_binary_accuracy: 0.0375\n",
            "Training Accuracy: 0.0387\n",
            "Testing Accuracy:  0.0375\n"
          ]
        }
      ]
    },
    {
      "cell_type": "markdown",
      "source": [
        "## Q2 Results"
      ],
      "metadata": {
        "id": "C0ZdEtOdWAPC"
      },
      "id": "C0ZdEtOdWAPC"
    },
    {
      "cell_type": "code",
      "source": [
        "Q2Res = pd.DataFrame()\n",
        "Q2Res = Q2Res.append({\"LogRes\":LogResScore2,\"SVM\":SVM_Score2,\"KNN\":max(KNN_scores2),\"DT\":DT_Score2,\"XGB\":XGB_score2,\"NN\":NN_score2},ignore_index = True)\n",
        "Q2Res.head()"
      ],
      "metadata": {
        "colab": {
          "base_uri": "https://localhost:8080/",
          "height": 80
        },
        "id": "SS0LVRGveull",
        "outputId": "abf4f355-6aba-4789-cbdf-d84a6ced2d9f"
      },
      "id": "SS0LVRGveull",
      "execution_count": null,
      "outputs": [
        {
          "output_type": "execute_result",
          "data": {
            "text/plain": [
              "     LogRes       SVM       KNN   DT       XGB        NN\n",
              "0  0.910872  0.636386  0.728452  1.0  0.927277  0.037463"
            ],
            "text/html": [
              "\n",
              "  <div id=\"df-bbdf90d9-3fee-4dcd-b3f5-81ed766b72a3\">\n",
              "    <div class=\"colab-df-container\">\n",
              "      <div>\n",
              "<style scoped>\n",
              "    .dataframe tbody tr th:only-of-type {\n",
              "        vertical-align: middle;\n",
              "    }\n",
              "\n",
              "    .dataframe tbody tr th {\n",
              "        vertical-align: top;\n",
              "    }\n",
              "\n",
              "    .dataframe thead th {\n",
              "        text-align: right;\n",
              "    }\n",
              "</style>\n",
              "<table border=\"1\" class=\"dataframe\">\n",
              "  <thead>\n",
              "    <tr style=\"text-align: right;\">\n",
              "      <th></th>\n",
              "      <th>LogRes</th>\n",
              "      <th>SVM</th>\n",
              "      <th>KNN</th>\n",
              "      <th>DT</th>\n",
              "      <th>XGB</th>\n",
              "      <th>NN</th>\n",
              "    </tr>\n",
              "  </thead>\n",
              "  <tbody>\n",
              "    <tr>\n",
              "      <th>0</th>\n",
              "      <td>0.910872</td>\n",
              "      <td>0.636386</td>\n",
              "      <td>0.728452</td>\n",
              "      <td>1.0</td>\n",
              "      <td>0.927277</td>\n",
              "      <td>0.037463</td>\n",
              "    </tr>\n",
              "  </tbody>\n",
              "</table>\n",
              "</div>\n",
              "      <button class=\"colab-df-convert\" onclick=\"convertToInteractive('df-bbdf90d9-3fee-4dcd-b3f5-81ed766b72a3')\"\n",
              "              title=\"Convert this dataframe to an interactive table.\"\n",
              "              style=\"display:none;\">\n",
              "        \n",
              "  <svg xmlns=\"http://www.w3.org/2000/svg\" height=\"24px\"viewBox=\"0 0 24 24\"\n",
              "       width=\"24px\">\n",
              "    <path d=\"M0 0h24v24H0V0z\" fill=\"none\"/>\n",
              "    <path d=\"M18.56 5.44l.94 2.06.94-2.06 2.06-.94-2.06-.94-.94-2.06-.94 2.06-2.06.94zm-11 1L8.5 8.5l.94-2.06 2.06-.94-2.06-.94L8.5 2.5l-.94 2.06-2.06.94zm10 10l.94 2.06.94-2.06 2.06-.94-2.06-.94-.94-2.06-.94 2.06-2.06.94z\"/><path d=\"M17.41 7.96l-1.37-1.37c-.4-.4-.92-.59-1.43-.59-.52 0-1.04.2-1.43.59L10.3 9.45l-7.72 7.72c-.78.78-.78 2.05 0 2.83L4 21.41c.39.39.9.59 1.41.59.51 0 1.02-.2 1.41-.59l7.78-7.78 2.81-2.81c.8-.78.8-2.07 0-2.86zM5.41 20L4 18.59l7.72-7.72 1.47 1.35L5.41 20z\"/>\n",
              "  </svg>\n",
              "      </button>\n",
              "      \n",
              "  <style>\n",
              "    .colab-df-container {\n",
              "      display:flex;\n",
              "      flex-wrap:wrap;\n",
              "      gap: 12px;\n",
              "    }\n",
              "\n",
              "    .colab-df-convert {\n",
              "      background-color: #E8F0FE;\n",
              "      border: none;\n",
              "      border-radius: 50%;\n",
              "      cursor: pointer;\n",
              "      display: none;\n",
              "      fill: #1967D2;\n",
              "      height: 32px;\n",
              "      padding: 0 0 0 0;\n",
              "      width: 32px;\n",
              "    }\n",
              "\n",
              "    .colab-df-convert:hover {\n",
              "      background-color: #E2EBFA;\n",
              "      box-shadow: 0px 1px 2px rgba(60, 64, 67, 0.3), 0px 1px 3px 1px rgba(60, 64, 67, 0.15);\n",
              "      fill: #174EA6;\n",
              "    }\n",
              "\n",
              "    [theme=dark] .colab-df-convert {\n",
              "      background-color: #3B4455;\n",
              "      fill: #D2E3FC;\n",
              "    }\n",
              "\n",
              "    [theme=dark] .colab-df-convert:hover {\n",
              "      background-color: #434B5C;\n",
              "      box-shadow: 0px 1px 3px 1px rgba(0, 0, 0, 0.15);\n",
              "      filter: drop-shadow(0px 1px 2px rgba(0, 0, 0, 0.3));\n",
              "      fill: #FFFFFF;\n",
              "    }\n",
              "  </style>\n",
              "\n",
              "      <script>\n",
              "        const buttonEl =\n",
              "          document.querySelector('#df-bbdf90d9-3fee-4dcd-b3f5-81ed766b72a3 button.colab-df-convert');\n",
              "        buttonEl.style.display =\n",
              "          google.colab.kernel.accessAllowed ? 'block' : 'none';\n",
              "\n",
              "        async function convertToInteractive(key) {\n",
              "          const element = document.querySelector('#df-bbdf90d9-3fee-4dcd-b3f5-81ed766b72a3');\n",
              "          const dataTable =\n",
              "            await google.colab.kernel.invokeFunction('convertToInteractive',\n",
              "                                                     [key], {});\n",
              "          if (!dataTable) return;\n",
              "\n",
              "          const docLinkHtml = 'Like what you see? Visit the ' +\n",
              "            '<a target=\"_blank\" href=https://colab.research.google.com/notebooks/data_table.ipynb>data table notebook</a>'\n",
              "            + ' to learn more about interactive tables.';\n",
              "          element.innerHTML = '';\n",
              "          dataTable['output_type'] = 'display_data';\n",
              "          await google.colab.output.renderOutput(dataTable, element);\n",
              "          const docLink = document.createElement('div');\n",
              "          docLink.innerHTML = docLinkHtml;\n",
              "          element.appendChild(docLink);\n",
              "        }\n",
              "      </script>\n",
              "    </div>\n",
              "  </div>\n",
              "  "
            ]
          },
          "metadata": {},
          "execution_count": 35
        }
      ]
    },
    {
      "cell_type": "markdown",
      "source": [
        "The winner seems like, again, the Decision Tree Classifier."
      ],
      "metadata": {
        "id": "Mq-ClMtlfFX2"
      },
      "id": "Mq-ClMtlfFX2"
    },
    {
      "cell_type": "markdown",
      "id": "a6bc9b76",
      "metadata": {
        "id": "a6bc9b76"
      },
      "source": [
        "# Q3\n",
        "\n",
        "For this question we are going to use the [Japanese MNIST](https://github.com/rois-codh/kmnist) dataset.\n",
        "\n",
        "Construct a convolutional neural network model for the dataset and cross-validate your model."
      ]
    },
    {
      "cell_type": "code",
      "execution_count": null,
      "id": "7f98d401",
      "metadata": {
        "id": "7f98d401",
        "colab": {
          "base_uri": "https://localhost:8080/"
        },
        "outputId": "6343304f-67cd-457e-9e96-40da1ef8c83f"
      },
      "outputs": [
        {
          "output_type": "stream",
          "name": "stdout",
          "text": [
            "Please select a download option:\n",
            "1) Kuzushiji-MNIST (10 classes, 28x28, 70k examples)\n",
            "2) Kuzushiji-49 (49 classes, 28x28, 270k examples)\n",
            "3) Kuzushiji-Kanji (3832 classes, 64x64, 140k examples)\n",
            "> 1\n",
            "Please select a download option:\n",
            "1) MNIST data format (ubyte.gz)\n",
            "2) NumPy data format (.npz)\n",
            "> 2\n",
            "Downloading kmnist-train-imgs.npz - 18.0 MB\n"
          ]
        },
        {
          "output_type": "stream",
          "name": "stderr",
          "text": [
            "100%|██████████| 17954/17954 [00:06<00:00, 2810.79KB/s]\n"
          ]
        },
        {
          "output_type": "stream",
          "name": "stdout",
          "text": [
            "Downloading kmnist-train-labels.npz - 0.0 MB\n"
          ]
        },
        {
          "output_type": "stream",
          "name": "stderr",
          "text": [
            "100%|██████████| 30/30 [00:00<00:00, 904.30KB/s]\n"
          ]
        },
        {
          "output_type": "stream",
          "name": "stdout",
          "text": [
            "Downloading kmnist-test-imgs.npz - 3.0 MB\n"
          ]
        },
        {
          "output_type": "stream",
          "name": "stderr",
          "text": [
            "100%|██████████| 3008/3008 [00:01<00:00, 2271.10KB/s]\n"
          ]
        },
        {
          "output_type": "stream",
          "name": "stdout",
          "text": [
            "Downloading kmnist-test-labels.npz - 0.0 MB\n"
          ]
        },
        {
          "output_type": "stream",
          "name": "stderr",
          "text": [
            "100%|██████████| 6/6 [00:00<00:00, 11382.10KB/s]"
          ]
        },
        {
          "output_type": "stream",
          "name": "stdout",
          "text": [
            "All dataset files downloaded!\n"
          ]
        },
        {
          "output_type": "stream",
          "name": "stderr",
          "text": [
            "\n"
          ]
        }
      ],
      "source": [
        "try:\n",
        "    from tqdm import tqdm\n",
        "except ImportError:\n",
        "    tqdm = lambda x, total, unit: x  # If tqdm doesn't exist, replace it with a function that does nothing\n",
        "    print('**** Could not import tqdm. Please install tqdm for download progressbars! (pip install tqdm) ****')\n",
        "\n",
        "# Python2 compatibility\n",
        "try:\n",
        "    input = raw_input\n",
        "except NameError:\n",
        "    pass\n",
        "\n",
        "download_dict = {\n",
        "    '1) Kuzushiji-MNIST (10 classes, 28x28, 70k examples)': {\n",
        "        '1) MNIST data format (ubyte.gz)':\n",
        "            ['http://codh.rois.ac.jp/kmnist/dataset/kmnist/train-images-idx3-ubyte.gz',\n",
        "            'http://codh.rois.ac.jp/kmnist/dataset/kmnist/train-labels-idx1-ubyte.gz',\n",
        "            'http://codh.rois.ac.jp/kmnist/dataset/kmnist/t10k-images-idx3-ubyte.gz',\n",
        "            'http://codh.rois.ac.jp/kmnist/dataset/kmnist/t10k-labels-idx1-ubyte.gz'],\n",
        "        '2) NumPy data format (.npz)':\n",
        "            ['http://codh.rois.ac.jp/kmnist/dataset/kmnist/kmnist-train-imgs.npz',\n",
        "            'http://codh.rois.ac.jp/kmnist/dataset/kmnist/kmnist-train-labels.npz',\n",
        "            'http://codh.rois.ac.jp/kmnist/dataset/kmnist/kmnist-test-imgs.npz',\n",
        "            'http://codh.rois.ac.jp/kmnist/dataset/kmnist/kmnist-test-labels.npz'],\n",
        "    },\n",
        "    '2) Kuzushiji-49 (49 classes, 28x28, 270k examples)': {\n",
        "        '1) NumPy data format (.npz)':\n",
        "            ['http://codh.rois.ac.jp/kmnist/dataset/k49/k49-train-imgs.npz',\n",
        "            'http://codh.rois.ac.jp/kmnist/dataset/k49/k49-train-labels.npz',\n",
        "            'http://codh.rois.ac.jp/kmnist/dataset/k49/k49-test-imgs.npz',\n",
        "            'http://codh.rois.ac.jp/kmnist/dataset/k49/k49-test-labels.npz'],\n",
        "    },\n",
        "    '3) Kuzushiji-Kanji (3832 classes, 64x64, 140k examples)': {\n",
        "        '1) Folders of images (.tar)':\n",
        "            ['http://codh.rois.ac.jp/kmnist/dataset/kkanji/kkanji.tar'],\n",
        "    }\n",
        "\n",
        "}\n",
        "\n",
        "# Download a list of files\n",
        "def download_list(url_list):\n",
        "    for url in url_list:\n",
        "        path = url.split('/')[-1]\n",
        "        r = requests.get(url, stream=True)\n",
        "        with open(path, 'wb') as f:\n",
        "            total_length = int(r.headers.get('content-length'))\n",
        "            print('Downloading {} - {:.1f} MB'.format(path, (total_length / 1024000)))\n",
        "\n",
        "            for chunk in tqdm(r.iter_content(chunk_size=1024), total=int(total_length / 1024) + 1, unit=\"KB\"):\n",
        "                if chunk:\n",
        "                    f.write(chunk)\n",
        "    print('All dataset files downloaded!')\n",
        "\n",
        "# Ask the user about which path to take down the dict\n",
        "def traverse_dict(d):\n",
        "    print('Please select a download option:')\n",
        "    keys = sorted(d.keys())  # Print download options\n",
        "    for key in keys:\n",
        "        print(key)\n",
        "\n",
        "    userinput = input('> ').strip()\n",
        "\n",
        "    try:\n",
        "        selection = int(userinput) - 1\n",
        "    except ValueError:\n",
        "        print('Your selection was not valid')\n",
        "        traverse_dict(d)  # Try again if input was not valid\n",
        "        return\n",
        "\n",
        "    selected = keys[selection]\n",
        "\n",
        "    next_level = d[selected]\n",
        "    if isinstance(next_level, list):  # If we've hit a list of downloads, download that list\n",
        "        download_list(next_level)\n",
        "    else:\n",
        "        traverse_dict(next_level)     # Otherwise, repeat with the next level\n",
        "\n",
        "traverse_dict(download_dict)"
      ]
    },
    {
      "cell_type": "code",
      "source": [
        "x3_train = np.load('kmnist-train-imgs.npz')['arr_0']\n",
        "x3_test = np.load('kmnist-test-imgs.npz')['arr_0']\n",
        "y3_train = np.load('kmnist-train-labels.npz')['arr_0']\n",
        "y3_test = np.load('kmnist-test-labels.npz')['arr_0']\n",
        "\n",
        "x3_train.shape,x3_test.shape"
      ],
      "metadata": {
        "colab": {
          "base_uri": "https://localhost:8080/"
        },
        "id": "Aeebees6hMtE",
        "outputId": "7ad390af-9dde-494a-91f5-b9e072da6046"
      },
      "id": "Aeebees6hMtE",
      "execution_count": 46,
      "outputs": [
        {
          "output_type": "execute_result",
          "data": {
            "text/plain": [
              "((60000, 28, 28), (10000, 28, 28))"
            ]
          },
          "metadata": {},
          "execution_count": 46
        }
      ]
    },
    {
      "cell_type": "code",
      "source": [
        "x3_train.reshape(60000,28,28,1)\n",
        "x3_test.reshape(10000,28,28,1)\n",
        "x3_train.shape,x3_test.shape"
      ],
      "metadata": {
        "id": "wGYrIpGIufFe",
        "colab": {
          "base_uri": "https://localhost:8080/"
        },
        "outputId": "576d6f03-02e7-44d7-d6bb-b9c5903dc06b"
      },
      "id": "wGYrIpGIufFe",
      "execution_count": 59,
      "outputs": [
        {
          "output_type": "execute_result",
          "data": {
            "text/plain": [
              "((60000, 28, 28), (10000, 28, 28))"
            ]
          },
          "metadata": {},
          "execution_count": 59
        }
      ]
    },
    {
      "cell_type": "code",
      "source": [
        "y3_train.shape"
      ],
      "metadata": {
        "colab": {
          "base_uri": "https://localhost:8080/"
        },
        "id": "sadzVeuS3mxp",
        "outputId": "73e65df8-4cb8-4a09-af3c-99382c8244d3"
      },
      "id": "sadzVeuS3mxp",
      "execution_count": 81,
      "outputs": [
        {
          "output_type": "execute_result",
          "data": {
            "text/plain": [
              "(60000,)"
            ]
          },
          "metadata": {},
          "execution_count": 81
        }
      ]
    },
    {
      "cell_type": "code",
      "source": [
        "y3_train_cat = to_categorical(y3_train)\n",
        "y3_test_cat = to_categorical(y3_test)"
      ],
      "metadata": {
        "id": "gKpwo5sP3RwI"
      },
      "id": "gKpwo5sP3RwI",
      "execution_count": 84,
      "outputs": []
    },
    {
      "cell_type": "code",
      "source": [
        "y3_train_cat.shape"
      ],
      "metadata": {
        "colab": {
          "base_uri": "https://localhost:8080/"
        },
        "id": "JpTznE1n0ozR",
        "outputId": "b5393a16-177a-41fe-fdea-3334ac59c942"
      },
      "id": "JpTznE1n0ozR",
      "execution_count": 80,
      "outputs": [
        {
          "output_type": "execute_result",
          "data": {
            "text/plain": [
              "(60000, 10)"
            ]
          },
          "metadata": {},
          "execution_count": 80
        }
      ]
    },
    {
      "cell_type": "code",
      "source": [
        "model3 = ks.models.Sequential()\n",
        "\n",
        "model3.add(Conv2D(64, (3, 3), padding=\"same\", activation='relu', input_shape=(28,28,1)))\n",
        "model3.add(MaxPooling2D((3,3)))\n",
        "model3.add(Flatten())\n",
        "model3.add(Dense(128, activation = 'relu',))\n",
        "model3.add(Dense(10, activation = 'softmax'))\n",
        "\n",
        "model3.compile(optimizer='adam',\n",
        "              loss='binary_crossentropy',\n",
        "              metrics=['binary_accuracy'])\n",
        "\n",
        "model3.fit(x3_train, y3_train_cat, batch_size=64, epochs=5)"
      ],
      "metadata": {
        "colab": {
          "base_uri": "https://localhost:8080/"
        },
        "id": "a82nwiTqj0zA",
        "outputId": "400c2761-8a6d-4429-d82c-267f3eb6a43e"
      },
      "id": "a82nwiTqj0zA",
      "execution_count": 83,
      "outputs": [
        {
          "output_type": "stream",
          "name": "stdout",
          "text": [
            "Epoch 1/5\n",
            "938/938 [==============================] - 46s 48ms/step - loss: 0.1562 - binary_accuracy: 0.9817\n",
            "Epoch 2/5\n",
            "938/938 [==============================] - 44s 47ms/step - loss: 0.0251 - binary_accuracy: 0.9939\n",
            "Epoch 3/5\n",
            "938/938 [==============================] - 44s 47ms/step - loss: 0.0168 - binary_accuracy: 0.9962\n",
            "Epoch 4/5\n",
            "938/938 [==============================] - 44s 46ms/step - loss: 0.0129 - binary_accuracy: 0.9972\n",
            "Epoch 5/5\n",
            "938/938 [==============================] - 43s 46ms/step - loss: 0.0102 - binary_accuracy: 0.9979\n"
          ]
        },
        {
          "output_type": "execute_result",
          "data": {
            "text/plain": [
              "<keras.callbacks.History at 0x7f31de23c550>"
            ]
          },
          "metadata": {},
          "execution_count": 83
        }
      ]
    },
    {
      "cell_type": "code",
      "source": [
        "loss3, accuracy3 = model3.evaluate(x3_train, y3_train_cat, verbose=False)\n",
        "print(\"Training Accuracy: {:.4f}\".format(accuracy3))\n",
        "loss3, NN_score3 = model3.evaluate(x3_test, y3_test_cat, verbose=False)\n",
        "print(\"Testing Accuracy:  {:.4f}\".format(NN_score3))"
      ],
      "metadata": {
        "colab": {
          "base_uri": "https://localhost:8080/"
        },
        "id": "TiI1Z17o57ky",
        "outputId": "10631bf9-f18a-4709-c13b-4294e7111880"
      },
      "id": "TiI1Z17o57ky",
      "execution_count": 85,
      "outputs": [
        {
          "output_type": "stream",
          "name": "stdout",
          "text": [
            "Training Accuracy: 0.9986\n",
            "Testing Accuracy:  0.9864\n"
          ]
        }
      ]
    },
    {
      "cell_type": "markdown",
      "id": "bb380447",
      "metadata": {
        "id": "bb380447"
      },
      "source": [
        "# Q4\n",
        "\n",
        "For this question we are going to use Box and Jenkins Airline Passenger Dataset. For this dataset, please install the `rdatasets` library:"
      ]
    },
    {
      "cell_type": "code",
      "execution_count": null,
      "id": "7b92762a",
      "metadata": {
        "id": "7b92762a",
        "colab": {
          "base_uri": "https://localhost:8080/"
        },
        "outputId": "18c54404-c75c-4487-b34b-892ef7878e79"
      },
      "outputs": [
        {
          "output_type": "stream",
          "name": "stdout",
          "text": [
            "Looking in indexes: https://pypi.org/simple, https://us-python.pkg.dev/colab-wheels/public/simple/\n",
            "Collecting rdatasets\n",
            "  Downloading rdatasets-0.1.0.tar.gz (18.9 MB)\n",
            "\u001b[K     |████████████████████████████████| 18.9 MB 1.1 MB/s \n",
            "\u001b[?25hRequirement already satisfied: pandas in /usr/local/lib/python3.7/dist-packages (from rdatasets) (1.3.5)\n",
            "Requirement already satisfied: numpy>=1.17.3 in /usr/local/lib/python3.7/dist-packages (from pandas->rdatasets) (1.21.6)\n",
            "Requirement already satisfied: pytz>=2017.3 in /usr/local/lib/python3.7/dist-packages (from pandas->rdatasets) (2022.1)\n",
            "Requirement already satisfied: python-dateutil>=2.7.3 in /usr/local/lib/python3.7/dist-packages (from pandas->rdatasets) (2.8.2)\n",
            "Requirement already satisfied: six>=1.5 in /usr/local/lib/python3.7/dist-packages (from python-dateutil>=2.7.3->pandas->rdatasets) (1.15.0)\n",
            "Building wheels for collected packages: rdatasets\n",
            "  Building wheel for rdatasets (setup.py) ... \u001b[?25l\u001b[?25hdone\n",
            "  Created wheel for rdatasets: filename=rdatasets-0.1.0-py3-none-any.whl size=19168567 sha256=28deb904dbefb0e9efbcfdf84ae82e64c4ac0c05792cb8481416c63dffbadc72\n",
            "  Stored in directory: /root/.cache/pip/wheels/ef/4e/d6/f967f2312216a7d44046043e44ccb8bc227c7df236fa6e7b11\n",
            "Successfully built rdatasets\n",
            "Installing collected packages: rdatasets\n",
            "Successfully installed rdatasets-0.1.0\n"
          ]
        }
      ],
      "source": [
        "!pip install rdatasets\n",
        "from rdatasets import data"
      ]
    },
    {
      "cell_type": "code",
      "execution_count": null,
      "id": "2b6b19a0",
      "metadata": {
        "id": "2b6b19a0",
        "colab": {
          "base_uri": "https://localhost:8080/",
          "height": 282
        },
        "outputId": "66316f45-f5cd-4728-a045-b0ad75cd004e"
      },
      "outputs": [
        {
          "output_type": "execute_result",
          "data": {
            "text/plain": [
              "<matplotlib.axes._subplots.AxesSubplot at 0x7f31dcfabad0>"
            ]
          },
          "metadata": {},
          "execution_count": 44
        },
        {
          "output_type": "display_data",
          "data": {
            "text/plain": [
              "<Figure size 864x288 with 1 Axes>"
            ],
            "image/png": "[encoded data removed]"
          },
          "metadata": {
            "needs_background": "light"
          }
        }
      ],
      "source": [
        "airline = data('AirPassengers')\n",
        "\n",
        "plt.figure(figsize=(12,4))\n",
        "airline['value'].plot()"
      ]
    },
    {
      "cell_type": "markdown",
      "id": "d9534c73",
      "metadata": {
        "id": "d9534c73"
      },
      "source": [
        "Construct\n",
        "\n",
        "- recurrent \n",
        "- LSTM\n",
        "\n",
        "neutral network models on the train set (the first 122 values), and then test it on the last 24 values."
      ]
    },
    {
      "cell_type": "markdown",
      "source": [
        "## Recurrent"
      ],
      "metadata": {
        "id": "zYBdD6Qb6jS4"
      },
      "id": "zYBdD6Qb6jS4"
    },
    {
      "cell_type": "markdown",
      "source": [
        "## LSTM"
      ],
      "metadata": {
        "id": "XuzlNPST6gxM"
      },
      "id": "XuzlNPST6gxM"
    },
    {
      "cell_type": "code",
      "execution_count": null,
      "id": "bec6529f",
      "metadata": {
        "id": "bec6529f"
      },
      "outputs": [],
      "source": [
        "scale = MinMaxScaler(feature_range=(0, 1))\n",
        "airline = scale.fit_transform(airline)\n",
        "airline.shape"
      ]
    },
    {
      "cell_type": "code",
      "execution_count": null,
      "id": "a773d44d",
      "metadata": {
        "id": "a773d44d"
      },
      "outputs": [],
      "source": [
        "train = airline[:123]\n",
        "test = airline[123:]\n",
        "print(\"train:\",train[1:5])\n",
        "print(\"test:\",test[1:5])"
      ]
    },
    {
      "cell_type": "code",
      "source": [
        ""
      ],
      "metadata": {
        "id": "sKDvPAyDY-9Z"
      },
      "id": "sKDvPAyDY-9Z",
      "execution_count": null,
      "outputs": []
    }
  ],
  "metadata": {
    "interpreter": {
      "hash": "df2f81b94a627e8efc53712ce382a9fd4efeeb18c61063c915a2dc322dae6b87"
    },
    "kernelspec": {
      "display_name": "Python 3 (ipykernel)",
      "language": "python",
      "name": "python3"
    },
    "language_info": {
      "codemirror_mode": {
        "name": "ipython",
        "version": 3
      },
      "file_extension": ".py",
      "mimetype": "text/x-python",
      "name": "python",
      "nbconvert_exporter": "python",
      "pygments_lexer": "ipython3",
      "version": "3.9.7"
    },
    "colab": {
      "name": "HW4_CemS.ipynb",
      "provenance": [],
      "collapsed_sections": [
        "5bac4167",
        "e60a3f06"
      ],
      "toc_visible": true,
      "include_colab_link": true
    }
  },
  "nbformat": 4,
  "nbformat_minor": 5
}