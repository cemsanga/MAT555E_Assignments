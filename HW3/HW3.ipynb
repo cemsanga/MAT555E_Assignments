{
 "cells": [
  {
   "cell_type": "markdown",
   "source": [
    "HW3 - MAT555E - Spring 22\n",
    "Cem Sanga - sanga@itu.edu.tr\n",
    "509201104"
   ],
   "metadata": {
    "collapsed": false,
    "pycharm": {
     "name": "#%% md\n"
    }
   }
  },
  {
   "cell_type": "code",
   "execution_count": 59,
   "outputs": [],
   "source": [
    "import matplotlib.pyplot as plt\n",
    "plt.style.use('dark_background')\n",
    "import numpy as np\n",
    "import pandas as pd\n",
    "from scipy.io.matlab import loadmat\n",
    "from scipy.optimize import linear_sum_assignment\n",
    "from sklearn.model_selection import train_test_split\n",
    "from sklearn.neighbors import KNeighborsClassifier\n",
    "from sklearn.metrics import confusion_matrix, classification_report\n",
    "from scipy.stats import chisquare\n",
    "from seaborn import heatmap"
   ],
   "metadata": {
    "collapsed": false,
    "pycharm": {
     "name": "#%%\n"
    }
   }
  },
  {
   "cell_type": "markdown",
   "id": "32b14523",
   "metadata": {
    "pycharm": {
     "name": "#%% md\n"
    }
   },
   "source": [
    "# HW3\n",
    "\n",
    "## Data preprocessing\n",
    "\n",
    "In this homework we are going to look at a hyperspectral image dataset called [Salinas](https://rslab.ut.ac.ir/data) dataset.\n",
    "\n",
    "This scene was collected by the 224-band AVIRIS sensor over Salinas Valley, California, and is characterized by high spatial resolution (3.7-meter pixels). The area covered comprises 512´217. As with Indian Pines scene, we discarded the 20 water absorption bands, in this case bands: [108-112], [154-167], 224. This image was available only as at-sensor radiance data. It includes vegetables, bare soils, and vineyard fields. Salinas ground truth contains 16 classes."
   ]
  },
  {
   "cell_type": "markdown",
   "source": [
    "Making some formatting to process the data. I took gt names from the website and reshaped the data to be able to put it inside a pd.Dataframe. In this scheme, reshape stacks every 217 number in a column 512 times, which gives a final row length of 111,104. The columns will be the 204 bands (channels)."
   ],
   "metadata": {
    "collapsed": false,
    "pycharm": {
     "name": "#%% md\n"
    }
   }
  },
  {
   "cell_type": "code",
   "execution_count": 37,
   "outputs": [
    {
     "data": {
      "text/plain": "array([[290, 381, 585, ...,  36,  11,  17],\n       [290, 381, 519, ...,  36,  11,  15],\n       [290, 381, 585, ...,  30,  11,  11],\n       ...,\n       [373, 482, 594, ...,   6,   4,   0],\n       [373, 482, 659, ...,   0,   0,   5],\n       [305, 393, 655, ...,   1,   1,  -3]], dtype=int16)"
     },
     "execution_count": 37,
     "metadata": {},
     "output_type": "execute_result"
    }
   ],
   "source": [
    "salinas = loadmat('data/Salinas_corrected.mat')['salinas_corrected']\n",
    "salinas[0]"
   ],
   "metadata": {
    "collapsed": false,
    "pycharm": {
     "name": "#%%\n"
    }
   }
  },
  {
   "cell_type": "code",
   "execution_count": 38,
   "outputs": [
    {
     "data": {
      "text/plain": "array([[290, 381, 585, ...,  36,  11,  17],\n       [290, 381, 519, ...,  36,  11,  15],\n       [290, 381, 585, ...,  30,  11,  11],\n       ...,\n       [373, 482, 594, ...,   6,   4,   0],\n       [373, 482, 659, ...,   0,   0,   5],\n       [305, 393, 655, ...,   1,   1,  -3]], dtype=int16)"
     },
     "execution_count": 38,
     "metadata": {},
     "output_type": "execute_result"
    }
   ],
   "source": [
    "formatted_salinas = salinas.reshape(512*217,204)\n",
    "formatted_salinas\n",
    "# salinas[0] = formatted_salinas[0:217,:]\n",
    "formatted_salinas[0:217,:] # index 0 inclusive, index 217 exclusive."
   ],
   "metadata": {
    "collapsed": false,
    "pycharm": {
     "name": "#%%\n"
    }
   }
  },
  {
   "cell_type": "markdown",
   "source": [
    "Here, I am adding an extra name ,\"None\", to the gt labels to account for the 0 in the data."
   ],
   "metadata": {
    "collapsed": false,
    "pycharm": {
     "name": "#%% md\n"
    }
   }
  },
  {
   "cell_type": "code",
   "execution_count": 39,
   "outputs": [
    {
     "data": {
      "text/plain": "(111104,)"
     },
     "execution_count": 39,
     "metadata": {},
     "output_type": "execute_result"
    }
   ],
   "source": [
    "salinas_gt = loadmat('data/Salinas_gt.mat')['salinas_gt']\n",
    "#gt classes\n",
    "gt_names = [\"None\",\"Brocoli_green_weeds_1\", \"Brocoli_green_weeds_2\", \"Fallow\",\"Fallow_rough_plow\",\"Fallow_smooth\",\"Stubble\",\"Celery\",\"Grapes_untrained\",\"Soil_vineyard_develop\",\"Corn_senesced_green_weeds\",\"Lettuce_romaine_4wk\",\"Lettuce_romaine_5wk\",\"Lettuce_romaine_6wk\",\"Lettuce_romaine_7wk\",\"Vineyard_untrained\",\"Vineyard_vertical_trellis\"]\n",
    "dict_names = {i : gt_names[i] for i in range(len(gt_names))}\n",
    "formatted_salinas_gt = salinas_gt.reshape(512*217) #gt --> ground truth.\n",
    "formatted_salinas_gt.shape"
   ],
   "metadata": {
    "collapsed": false,
    "pycharm": {
     "name": "#%%\n"
    }
   }
  },
  {
   "cell_type": "code",
   "execution_count": 40,
   "outputs": [
    {
     "data": {
      "text/plain": "(6, 6)"
     },
     "execution_count": 40,
     "metadata": {},
     "output_type": "execute_result"
    }
   ],
   "source": [
    "salinas_gt[3,89],formatted_salinas_gt[3*217+89] #salinas_gt[3,89] = formatted_salinas_gt[3*217+89]"
   ],
   "metadata": {
    "collapsed": false,
    "pycharm": {
     "name": "#%%\n"
    }
   }
  },
  {
   "cell_type": "code",
   "execution_count": 41,
   "outputs": [],
   "source": [
    "data = pd.DataFrame(formatted_salinas)\n",
    "X = formatted_salinas\n",
    "y = formatted_salinas_gt"
   ],
   "metadata": {
    "collapsed": false,
    "pycharm": {
     "name": "#%%\n"
    }
   }
  },
  {
   "cell_type": "markdown",
   "id": "4a33ad83",
   "metadata": {
    "pycharm": {
     "name": "#%% md\n"
    }
   },
   "source": [
    "## Q1 \n",
    "\n",
    "1. Reshape and split the data into train (80%) and test (20%) data sets.\n",
    "2. Apply all of the supervised ML algorithms we learned on the data and compare the results.\n",
    "\n",
    "***\n",
    "## Solution 1"
   ]
  },
  {
   "cell_type": "code",
   "execution_count": 42,
   "id": "64973cf2",
   "metadata": {
    "pycharm": {
     "name": "#%%\n"
    }
   },
   "outputs": [
    {
     "data": {
      "text/plain": "((88883, 204), (22221, 204), (88883,), (22221,))"
     },
     "execution_count": 42,
     "metadata": {},
     "output_type": "execute_result"
    }
   ],
   "source": [
    "X_train, X_test, y_train, y_test = train_test_split(X,y,test_size=0.2,random_state=42)\n",
    "X_train.shape, X_test.shape, y_train.shape, y_test.shape"
   ]
  },
  {
   "cell_type": "markdown",
   "source": [
    "***\n",
    "### Multiclass Support Vector Machine"
   ],
   "metadata": {
    "collapsed": false,
    "pycharm": {
     "name": "#%% md\n"
    }
   }
  },
  {
   "cell_type": "code",
   "execution_count": null,
   "outputs": [],
   "source": [],
   "metadata": {
    "collapsed": false,
    "pycharm": {
     "name": "#%%\n"
    }
   }
  },
  {
   "cell_type": "markdown",
   "source": [
    "***\n",
    "### K-Nearest Neighbors\n",
    "\n",
    "Let's see how KNN model reacts with different number of neighbors. I defined an experiment with changing neighbors. The train and test scores are generated with a commented for loop below the definiton. The scores are stored as inputs of lists for easy reference at later times."
   ],
   "metadata": {
    "collapsed": false,
    "pycharm": {
     "name": "#%% md\n"
    }
   }
  },
  {
   "cell_type": "code",
   "execution_count": 43,
   "outputs": [
    {
     "data": {
      "text/plain": "'\\nscore_list = []\\npred_list = []\\nfor n in range(2,17):\\n    score,pred = KNN_Experiment(n)\\n    score_list.append(score)\\n    pred_list.append(pred)\\n\\nscore_list,pred_list\\n\\n'"
     },
     "execution_count": 43,
     "metadata": {},
     "output_type": "execute_result"
    }
   ],
   "source": [
    "def KNN_Experiment(n):\n",
    "    model_knn = KNeighborsClassifier(n_neighbors=n)\n",
    "    model_knn.fit(X_train,y_train)\n",
    "    score = model_knn.score(X_train,y_train)\n",
    "    pred = model_knn.score(X_test,y_test)\n",
    "    return score,pred\n",
    "\n",
    "'''\n",
    "score_list = []\n",
    "pred_list = []\n",
    "for n in range(2,17):\n",
    "    score,pred = KNN_Experiment(n)\n",
    "    score_list.append(score)\n",
    "    pred_list.append(pred)\n",
    "\n",
    "score_list,pred_list\n",
    "\n",
    "'''"
   ],
   "metadata": {
    "collapsed": false,
    "pycharm": {
     "name": "#%%\n"
    }
   }
  },
  {
   "cell_type": "markdown",
   "source": [
    "A plot of the change in the train and test scores depending on the neighbor number is given below. The star on the lower curve indicates the best test score, which is $n=6$."
   ],
   "metadata": {
    "collapsed": false,
    "pycharm": {
     "name": "#%% md\n"
    }
   }
  },
  {
   "cell_type": "code",
   "execution_count": 58,
   "outputs": [
    {
     "data": {
      "text/plain": "<Figure size 432x288 with 1 Axes>",
      "image/png": "[encoded data removed]"
     },
     "metadata": {},
     "output_type": "display_data"
    }
   ],
   "source": [
    "\n",
    "score_list = np.array([0.9600036002385158,\n",
    "  0.9515767919624675,\n",
    "  0.938762192995286,\n",
    "  0.9346894231742853,\n",
    "  0.929739095215058,\n",
    "  0.9256888268847812,\n",
    "  0.922977397252568,\n",
    "  0.9199509467502222,\n",
    "  0.9183083379273876,\n",
    "  0.9155069023322795,\n",
    "  0.9146180934486909,\n",
    "  0.9120529235061823,\n",
    "  0.9114566340020026,\n",
    "  0.9091727326935409,\n",
    "  0.9080364074119911])\n",
    "pred_list = np.array([0.9018946042032312,\n",
    " 0.9079249358714729,\n",
    " 0.9058548220152108,\n",
    " 0.9079249358714729,\n",
    " 0.9090049952747401,\n",
    " 0.9085999729985149,\n",
    " 0.9073849061698394,\n",
    " 0.9073399036947032,\n",
    " 0.9081499482471536,\n",
    " 0.9076999234957923,\n",
    " 0.9063948517168444,\n",
    " 0.9049547725124882,\n",
    " 0.9051347824130327,\n",
    " 0.9037847081589487,\n",
    " 0.9039647180594933])\n",
    "\n",
    "x_range = np.arange(2,17,1)\n",
    "max_x = np.where(pred_list == max(pred_list))\n",
    "plt.plot(x_range,score_list, label = \"Training Data Scores\")\n",
    "plt.plot(x_range,pred_list, label = \"Test Data Scores\")\n",
    "plt.plot(max_x[0] + 2,max(pred_list), marker = \"*\", markersize = 15)\n",
    "#plt.axhline(y=max(pred_list), color='gray', linestyle='--')\n",
    "#plt.axvline(x=np.where(pred_list == max(pred_list)), color='gray', linestyle='--')\n",
    "plt.xlabel(r\"$Number~of~neighbors~in~KNN$\")\n",
    "plt.ylabel(r\"$Scores$\",rotation = 0,ha = \"right\")\n",
    "plt.legend()\n",
    "plt.show()\n"
   ],
   "metadata": {
    "collapsed": false,
    "pycharm": {
     "name": "#%%\n"
    }
   }
  },
  {
   "cell_type": "markdown",
   "source": [
    "Although the best test score is given by $n=6$, the similarity of training and test results might be more important. Let's choose $n=14$ for the model."
   ],
   "metadata": {
    "collapsed": false,
    "pycharm": {
     "name": "#%% md\n"
    }
   }
  },
  {
   "cell_type": "code",
   "execution_count": 45,
   "outputs": [],
   "source": [
    "model_knn = KNeighborsClassifier(n_neighbors=14)\n",
    "model_knn.fit(X_train,y_train)\n",
    "score = model_knn.score(X_train,y_train)\n",
    "test_score = model_knn.score(X_test,y_test)\n",
    "y_pred = model_knn.predict(X_test)\n"
   ],
   "metadata": {
    "collapsed": false,
    "pycharm": {
     "name": "#%%\n"
    }
   }
  },
  {
   "cell_type": "code",
   "execution_count": 61,
   "outputs": [
    {
     "data": {
      "text/plain": "array([[10429,    55,    93,    51,    21,    67,    96,    66,    82,\n           56,    71,    26,    43,    34,    28,    41,    37],\n       [   12,   412,     6,     0,     0,     0,     0,     0,     0,\n            0,     0,     0,     0,     0,     0,     0,     0],\n       [   14,     0,   727,     0,     0,     0,     0,     0,     0,\n            0,     0,     0,     0,     0,     0,     0,     0],\n       [   31,     0,     0,   385,     0,     1,     0,     0,     0,\n            0,     0,     0,     0,     0,     0,     0,     0],\n       [   34,     0,     0,     0,   237,     0,     0,     0,     0,\n            0,     0,     0,     0,     0,     0,     0,     0],\n       [   27,     0,     0,     3,     2,   526,     0,     0,     0,\n            0,     0,     0,     0,     0,     0,     0,     0],\n       [   15,     0,     0,     0,     0,     0,   796,     0,     0,\n            0,     0,     0,     0,     0,     0,     0,     0],\n       [   19,     0,     0,     0,     0,     0,     0,   725,     0,\n            0,     0,     0,     0,     0,     0,     0,     0],\n       [   39,     0,     0,     0,     0,     0,     0,     0,  2015,\n            0,    15,     0,     0,     0,     0,   224,     0],\n       [  108,     0,     0,     0,     0,     0,     0,     0,     0,\n         1159,     0,     0,     0,     0,     0,     0,     0],\n       [   61,     0,     0,     1,     0,     0,     0,     0,     0,\n            6,   554,     1,     4,     0,     0,     1,     0],\n       [   31,     0,     0,     1,     0,     0,     0,     0,     0,\n            0,     0,   183,     0,     0,     0,     0,     0],\n       [    9,     0,     0,     0,     0,     0,     0,     0,     0,\n            0,     0,     0,   387,     0,     0,     0,     0],\n       [   16,     0,     0,     0,     0,     0,     0,     0,     0,\n            0,     0,     0,     0,   168,     0,     0,     0],\n       [   28,     0,     0,     0,     0,     0,     0,     0,     0,\n            0,     1,     0,     0,     6,   160,     0,     0],\n       [   19,     0,     0,     0,     0,     0,     0,     0,   483,\n            0,    10,     0,     0,     0,     0,   903,     0],\n       [   13,     0,     0,     0,     0,     0,     0,     0,     0,\n            0,     0,     0,     0,     0,     0,     0,   347]])"
     },
     "execution_count": 61,
     "metadata": {},
     "output_type": "execute_result"
    }
   ],
   "source": [
    "cm = confusion_matrix(y_test,y_pred)\n",
    "cm"
   ],
   "metadata": {
    "collapsed": false,
    "pycharm": {
     "name": "#%%\n"
    }
   }
  },
  {
   "cell_type": "code",
   "execution_count": 69,
   "outputs": [
    {
     "data": {
      "text/plain": "<AxesSubplot:>"
     },
     "execution_count": 69,
     "metadata": {},
     "output_type": "execute_result"
    },
    {
     "data": {
      "text/plain": "<Figure size 864x864 with 2 Axes>",
      "image/png": "[encoded data removed]"
     },
     "metadata": {},
     "output_type": "display_data"
    }
   ],
   "source": [
    "plt.figure(figsize=(12,12))\n",
    "heatmap(cm,cmap=\"jet\",annot = True)"
   ],
   "metadata": {
    "collapsed": false,
    "pycharm": {
     "name": "#%%\n"
    }
   }
  },
  {
   "cell_type": "code",
   "execution_count": 70,
   "outputs": [
    {
     "data": {
      "text/plain": "Power_divergenceResult(statistic=1516984.1170964404, pvalue=0.0)"
     },
     "execution_count": 70,
     "metadata": {},
     "output_type": "execute_result"
    }
   ],
   "source": [
    "ResKNN = chisquare(cm,axis=None)\n",
    "ResKNN"
   ],
   "metadata": {
    "collapsed": false,
    "pycharm": {
     "name": "#%%\n"
    }
   }
  },
  {
   "cell_type": "code",
   "execution_count": 71,
   "outputs": [
    {
     "name": "stdout",
     "output_type": "stream",
     "text": [
      "              precision    recall  f1-score   support\n",
      "\n",
      "           0       0.96      0.92      0.94     11296\n",
      "           1       0.88      0.96      0.92       430\n",
      "           2       0.88      0.98      0.93       741\n",
      "           3       0.87      0.92      0.90       417\n",
      "           4       0.91      0.87      0.89       271\n",
      "           5       0.89      0.94      0.91       558\n",
      "           6       0.89      0.98      0.93       811\n",
      "           7       0.92      0.97      0.94       744\n",
      "           8       0.78      0.88      0.83      2293\n",
      "           9       0.95      0.91      0.93      1267\n",
      "          10       0.85      0.88      0.87       628\n",
      "          11       0.87      0.85      0.86       215\n",
      "          12       0.89      0.98      0.93       396\n",
      "          13       0.81      0.91      0.86       184\n",
      "          14       0.85      0.82      0.84       195\n",
      "          15       0.77      0.64      0.70      1415\n",
      "          16       0.90      0.96      0.93       360\n",
      "\n",
      "    accuracy                           0.91     22221\n",
      "   macro avg       0.88      0.91      0.89     22221\n",
      "weighted avg       0.91      0.91      0.90     22221\n",
      "\n"
     ]
    }
   ],
   "source": [
    "print(classification_report(y_test,y_pred))"
   ],
   "metadata": {
    "collapsed": false,
    "pycharm": {
     "name": "#%%\n"
    }
   }
  },
  {
   "cell_type": "markdown",
   "id": "27afc40f",
   "metadata": {
    "pycharm": {
     "name": "#%% md\n"
    }
   },
   "source": [
    "***\n",
    "## Q2\n",
    "\n",
    "Now, apply all of the unsupervised algorithms we have learned so far and compare the results. In order to align the unsupervised labels and true labels use the `linear_sum_assignment` function from `scipy.optimize`. For example, if a confusion matrix looks like:"
   ]
  },
  {
   "cell_type": "code",
   "execution_count": 49,
   "id": "f27ac6ca",
   "metadata": {
    "pycharm": {
     "name": "#%%\n"
    }
   },
   "outputs": [],
   "source": [
    "cm = np.array(\n",
    "      [[1,10,2],\n",
    "       [9,2,1],\n",
    "       [3,4,10]])"
   ]
  },
  {
   "cell_type": "markdown",
   "id": "44732ba2",
   "metadata": {
    "pycharm": {
     "name": "#%% md\n"
    }
   },
   "source": [
    "we get"
   ]
  },
  {
   "cell_type": "code",
   "execution_count": 50,
   "id": "01824944",
   "metadata": {
    "pycharm": {
     "name": "#%%\n"
    }
   },
   "outputs": [
    {
     "data": {
      "text/plain": "array([[10,  1,  2],\n       [ 2,  9,  1],\n       [ 4,  3, 10]])"
     },
     "execution_count": 50,
     "metadata": {},
     "output_type": "execute_result"
    }
   ],
   "source": [
    "rows, cols = linear_sum_assignment(cm,maximize=True)\n",
    "cm = cm[rows,:]\n",
    "cm = cm[:,cols]\n",
    "cm"
   ]
  },
  {
   "cell_type": "markdown",
   "id": "360f3b90",
   "metadata": {
    "pycharm": {
     "name": "#%% md\n"
    }
   },
   "source": [
    "## Q3\n",
    "\n",
    "Now compare supervised and unsupervised algorithm results."
   ]
  },
  {
   "cell_type": "code",
   "execution_count": 50,
   "id": "b26f5ac0",
   "metadata": {
    "pycharm": {
     "name": "#%%\n"
    }
   },
   "outputs": [],
   "source": []
  }
 ],
 "metadata": {
  "kernelspec": {
   "display_name": "Python 3 (ipykernel)",
   "language": "python",
   "name": "python3"
  },
  "language_info": {
   "codemirror_mode": {
    "name": "ipython",
    "version": 3
   },
   "file_extension": ".py",
   "mimetype": "text/x-python",
   "name": "python",
   "nbconvert_exporter": "python",
   "pygments_lexer": "ipython3",
   "version": "3.10.4"
  }
 },
 "nbformat": 4,
 "nbformat_minor": 5
}