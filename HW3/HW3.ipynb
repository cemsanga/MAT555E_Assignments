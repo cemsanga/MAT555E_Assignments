{
 "cells": [
  {
   "cell_type": "markdown",
   "source": [
    "HW3 - MAT555E - Spring 22\n",
    "Cem Sanga - sanga@itu.edu.tr\n",
    "509201104"
   ],
   "metadata": {
    "collapsed": false,
    "pycharm": {
     "name": "#%% md\n"
    }
   }
  },
  {
   "cell_type": "code",
   "execution_count": 27,
   "outputs": [],
   "source": [
    "import matplotlib.pyplot as plt\n",
    "plt.style.use('dark_background')\n",
    "import numpy as np\n",
    "import pandas as pd\n",
    "from scipy.io.matlab import loadmat\n",
    "from scipy.optimize import linear_sum_assignment\n",
    "from sklearn.model_selection import train_test_split\n",
    "from sklearn.neighbors import KNeighborsClassifier\n",
    "from sklearn.svm import SVC\n",
    "from sklearn.metrics import confusion_matrix, classification_report\n",
    "from sklearn.discriminant_analysis import LinearDiscriminantAnalysis\n",
    "from scipy.stats import chisquare\n",
    "from seaborn import heatmap"
   ],
   "metadata": {
    "collapsed": false,
    "pycharm": {
     "name": "#%%\n"
    }
   }
  },
  {
   "cell_type": "markdown",
   "id": "32b14523",
   "metadata": {
    "pycharm": {
     "name": "#%% md\n"
    }
   },
   "source": [
    "# HW3\n",
    "\n",
    "## Data preprocessing\n",
    "\n",
    "In this homework we are going to look at a hyperspectral image dataset called [Salinas](https://rslab.ut.ac.ir/data) dataset.\n",
    "\n",
    "This scene was collected by the 224-band AVIRIS sensor over Salinas Valley, California, and is characterized by high spatial resolution (3.7-meter pixels). The area covered comprises 512´217. As with Indian Pines scene, we discarded the 20 water absorption bands, in this case bands: [108-112], [154-167], 224. This image was available only as at-sensor radiance data. It includes vegetables, bare soils, and vineyard fields. Salinas ground truth contains 16 classes."
   ]
  },
  {
   "cell_type": "markdown",
   "source": [
    "Making some formatting to process the data. I took gt names from the website and reshaped the data to be able to put it inside a pd.Dataframe. In this scheme, reshape stacks every 217 number in a column 512 times, which gives a final row length of 111,104. The columns will be the 204 bands (channels)."
   ],
   "metadata": {
    "collapsed": false,
    "pycharm": {
     "name": "#%% md\n"
    }
   }
  },
  {
   "cell_type": "code",
   "execution_count": 28,
   "outputs": [
    {
     "data": {
      "text/plain": "array([[290, 381, 585, ...,  36,  11,  17],\n       [290, 381, 519, ...,  36,  11,  15],\n       [290, 381, 585, ...,  30,  11,  11],\n       ...,\n       [373, 482, 594, ...,   6,   4,   0],\n       [373, 482, 659, ...,   0,   0,   5],\n       [305, 393, 655, ...,   1,   1,  -3]], dtype=int16)"
     },
     "execution_count": 28,
     "metadata": {},
     "output_type": "execute_result"
    }
   ],
   "source": [
    "salinas = loadmat('data/Salinas_corrected.mat')['salinas_corrected']\n",
    "salinas[0]"
   ],
   "metadata": {
    "collapsed": false,
    "pycharm": {
     "name": "#%%\n"
    }
   }
  },
  {
   "cell_type": "code",
   "execution_count": 29,
   "outputs": [
    {
     "data": {
      "text/plain": "array([[290, 381, 585, ...,  36,  11,  17],\n       [290, 381, 519, ...,  36,  11,  15],\n       [290, 381, 585, ...,  30,  11,  11],\n       ...,\n       [373, 482, 594, ...,   6,   4,   0],\n       [373, 482, 659, ...,   0,   0,   5],\n       [305, 393, 655, ...,   1,   1,  -3]], dtype=int16)"
     },
     "execution_count": 29,
     "metadata": {},
     "output_type": "execute_result"
    }
   ],
   "source": [
    "formatted_salinas = salinas.reshape(512*217,204)\n",
    "formatted_salinas\n",
    "# salinas[0] = formatted_salinas[0:217,:]\n",
    "formatted_salinas[0:217,:] # index 0 inclusive, index 217 exclusive."
   ],
   "metadata": {
    "collapsed": false,
    "pycharm": {
     "name": "#%%\n"
    }
   }
  },
  {
   "cell_type": "markdown",
   "source": [
    "Here, I am adding an extra name ,\"None\", to the gt labels to account for the 0 in the data."
   ],
   "metadata": {
    "collapsed": false,
    "pycharm": {
     "name": "#%% md\n"
    }
   }
  },
  {
   "cell_type": "code",
   "execution_count": 30,
   "outputs": [
    {
     "data": {
      "text/plain": "(111104,)"
     },
     "execution_count": 30,
     "metadata": {},
     "output_type": "execute_result"
    }
   ],
   "source": [
    "salinas_gt = loadmat('data/Salinas_gt.mat')['salinas_gt']\n",
    "#gt classes\n",
    "gt_names = [\"None\",\"Brocoli_green_weeds_1\", \"Brocoli_green_weeds_2\", \"Fallow\",\"Fallow_rough_plow\",\"Fallow_smooth\",\"Stubble\",\"Celery\",\"Grapes_untrained\",\"Soil_vineyard_develop\",\"Corn_senesced_green_weeds\",\"Lettuce_romaine_4wk\",\"Lettuce_romaine_5wk\",\"Lettuce_romaine_6wk\",\"Lettuce_romaine_7wk\",\"Vineyard_untrained\",\"Vineyard_vertical_trellis\"]\n",
    "dict_names = {i : gt_names[i] for i in range(len(gt_names))}\n",
    "formatted_salinas_gt = salinas_gt.reshape(512*217) #gt --> ground truth.\n",
    "formatted_salinas_gt.shape"
   ],
   "metadata": {
    "collapsed": false,
    "pycharm": {
     "name": "#%%\n"
    }
   }
  },
  {
   "cell_type": "code",
   "execution_count": 31,
   "outputs": [
    {
     "data": {
      "text/plain": "(6, 6)"
     },
     "execution_count": 31,
     "metadata": {},
     "output_type": "execute_result"
    }
   ],
   "source": [
    "salinas_gt[3,89],formatted_salinas_gt[3*217+89] #salinas_gt[3,89] = formatted_salinas_gt[3*217+89]"
   ],
   "metadata": {
    "collapsed": false,
    "pycharm": {
     "name": "#%%\n"
    }
   }
  },
  {
   "cell_type": "code",
   "execution_count": 32,
   "outputs": [],
   "source": [
    "data = pd.DataFrame(formatted_salinas)\n",
    "X = formatted_salinas\n",
    "y = formatted_salinas_gt"
   ],
   "metadata": {
    "collapsed": false,
    "pycharm": {
     "name": "#%%\n"
    }
   }
  },
  {
   "cell_type": "markdown",
   "id": "4a33ad83",
   "metadata": {
    "pycharm": {
     "name": "#%% md\n"
    }
   },
   "source": [
    "## Q1 \n",
    "\n",
    "1. Reshape and split the data into train (80%) and test (20%) data sets.\n",
    "2. Apply all of the supervised ML algorithms we learned on the data and compare the results.\n",
    "\n",
    "***\n",
    "## Solution 1"
   ]
  },
  {
   "cell_type": "code",
   "execution_count": 33,
   "id": "64973cf2",
   "metadata": {
    "pycharm": {
     "name": "#%%\n"
    }
   },
   "outputs": [
    {
     "data": {
      "text/plain": "((88883, 204), (22221, 204), (88883,), (22221,))"
     },
     "execution_count": 33,
     "metadata": {},
     "output_type": "execute_result"
    }
   ],
   "source": [
    "X_train, X_test, y_train, y_test = train_test_split(X,y,test_size=0.2,random_state=42)\n",
    "X_train.shape, X_test.shape, y_train.shape, y_test.shape"
   ]
  },
  {
   "cell_type": "markdown",
   "source": [
    "***\n",
    "### Multiclass Support Vector Machine"
   ],
   "metadata": {
    "collapsed": false,
    "pycharm": {
     "name": "#%% md\n"
    }
   }
  },
  {
   "cell_type": "code",
   "execution_count": 34,
   "outputs": [
    {
     "name": "stderr",
     "output_type": "stream",
     "text": [
      "/Users/cemsanga/opt/anaconda3/lib/python3.9/site-packages/sklearn/svm/_base.py:255: ConvergenceWarning: Solver terminated early (max_iter=2500).  Consider pre-processing your data with StandardScaler or MinMaxScaler.\n",
      "  warnings.warn('Solver terminated early (max_iter=%i).'\n"
     ]
    },
    {
     "name": "stdout",
     "output_type": "stream",
     "text": [
      "0.8275823273291856\n",
      "0.8271454930021152\n"
     ]
    }
   ],
   "source": [
    "model_svc = SVC(C=75,kernel=\"rbf\",max_iter=2500)\n",
    "model_svc.fit(X_train,y_train)\n",
    "svc_score = model_svc.score(X_train,y_train)\n",
    "y_pred = model_svc.predict(X_test)\n",
    "svc_pred_score = model_svc.score(X_test,y_test)\n",
    "print(svc_score)\n",
    "print(svc_pred_score)\n",
    "# C = 20 --> 0.782.."
   ],
   "metadata": {
    "collapsed": false,
    "pycharm": {
     "name": "#%%\n"
    }
   }
  },
  {
   "cell_type": "code",
   "execution_count": 35,
   "outputs": [
    {
     "data": {
      "text/plain": "array([[10174,    86,    82,    85,    33,    85,    93,    80,     0,\n          171,    79,    22,    64,    64,    63,    83,    32],\n       [    5,   425,     0,     0,     0,     0,     0,     0,     0,\n            0,     0,     0,     0,     0,     0,     0,     0],\n       [    7,     0,   734,     0,     0,     0,     0,     0,     0,\n            0,     0,     0,     0,     0,     0,     0,     0],\n       [  106,     0,     0,   310,     0,     1,     0,     0,     0,\n            0,     0,     0,     0,     0,     0,     0,     0],\n       [   42,     0,     0,     0,   229,     0,     0,     0,     0,\n            0,     0,     0,     0,     0,     0,     0,     0],\n       [   12,     0,     0,     0,     1,   545,     0,     0,     0,\n            0,     0,     0,     0,     0,     0,     0,     0],\n       [   10,     0,     0,     0,     0,     0,   801,     0,     0,\n            0,     0,     0,     0,     0,     0,     0,     0],\n       [   12,     0,     0,     0,     0,     0,     0,   732,     0,\n            0,     0,     0,     0,     0,     0,     0,     0],\n       [   99,     0,     0,     0,     0,     0,     0,     0,    10,\n            0,     1,     0,     0,     0,     0,  2183,     0],\n       [   41,     0,     0,     0,     0,     0,     0,     0,     0,\n         1226,     0,     0,     0,     0,     0,     0,     0],\n       [   73,     0,     0,     0,     0,     0,     0,     0,     0,\n            8,   547,     0,     0,     0,     0,     0,     0],\n       [   23,     0,     0,     0,     0,     0,     0,     0,     0,\n            0,     0,   192,     0,     0,     0,     0,     0],\n       [   26,     0,     0,     0,     0,     0,     0,     0,     0,\n            0,     0,     0,   370,     0,     0,     0,     0],\n       [    7,     0,     0,     0,     0,     0,     0,     0,     0,\n            0,     0,     0,     0,   177,     0,     0,     0],\n       [   20,     0,     0,     0,     0,     0,     0,     0,     0,\n            0,     1,     0,     0,     0,   174,     0,     0],\n       [   28,     0,     0,     0,     0,     0,     0,     0,     1,\n            0,     0,     0,     0,     0,     0,  1386,     0],\n       [   10,     0,     0,     0,     0,     0,     0,     0,     0,\n            0,     2,     0,     0,     0,     0,     0,   348]])"
     },
     "execution_count": 35,
     "metadata": {},
     "output_type": "execute_result"
    },
    {
     "data": {
      "text/plain": "<Figure size 864x864 with 2 Axes>",
      "image/png": "[encoded data removed]"
     },
     "metadata": {},
     "output_type": "display_data"
    }
   ],
   "source": [
    "cm = confusion_matrix(y_test,y_pred)\n",
    "plt.figure(figsize=(12,12))\n",
    "heatmap(cm,cmap=\"jet\",annot = True)\n",
    "ResMultiSVC = chisquare(cm,axis=None)\n",
    "cm"
   ],
   "metadata": {
    "collapsed": false,
    "pycharm": {
     "name": "#%%\n"
    }
   }
  },
  {
   "cell_type": "code",
   "execution_count": 36,
   "outputs": [
    {
     "data": {
      "text/plain": "Power_divergenceResult(statistic=1471246.3978218804, pvalue=0.0)"
     },
     "execution_count": 36,
     "metadata": {},
     "output_type": "execute_result"
    }
   ],
   "source": [
    "ResMultiSVC"
   ],
   "metadata": {
    "collapsed": false,
    "pycharm": {
     "name": "#%%\n"
    }
   }
  },
  {
   "cell_type": "code",
   "execution_count": 37,
   "outputs": [
    {
     "name": "stdout",
     "output_type": "stream",
     "text": [
      "              precision    recall  f1-score   support\n",
      "\n",
      "           0       0.95      0.90      0.93     11296\n",
      "           1       0.83      0.99      0.90       430\n",
      "           2       0.90      0.99      0.94       741\n",
      "           3       0.78      0.74      0.76       417\n",
      "           4       0.87      0.85      0.86       271\n",
      "           5       0.86      0.98      0.92       558\n",
      "           6       0.90      0.99      0.94       811\n",
      "           7       0.90      0.98      0.94       744\n",
      "           8       0.91      0.00      0.01      2293\n",
      "           9       0.87      0.97      0.92      1267\n",
      "          10       0.87      0.87      0.87       628\n",
      "          11       0.90      0.89      0.90       215\n",
      "          12       0.85      0.93      0.89       396\n",
      "          13       0.73      0.96      0.83       184\n",
      "          14       0.73      0.89      0.81       195\n",
      "          15       0.38      0.98      0.55      1415\n",
      "          16       0.92      0.97      0.94       360\n",
      "\n",
      "    accuracy                           0.83     22221\n",
      "   macro avg       0.83      0.88      0.82     22221\n",
      "weighted avg       0.88      0.83      0.80     22221\n",
      "\n"
     ]
    }
   ],
   "source": [
    "print(classification_report(y_test,y_pred))"
   ],
   "metadata": {
    "collapsed": false,
    "pycharm": {
     "name": "#%%\n"
    }
   }
  },
  {
   "cell_type": "markdown",
   "source": [
    "***\n",
    "### K-Nearest Neighbors\n",
    "\n",
    "Let's see how KNN model reacts with different number of neighbors. I defined an experiment with changing neighbors. The train and test scores are generated with a commented for loop below the definiton. The scores are stored as inputs of lists for easy reference at later times."
   ],
   "metadata": {
    "collapsed": false,
    "pycharm": {
     "name": "#%% md\n"
    }
   }
  },
  {
   "cell_type": "code",
   "execution_count": 38,
   "outputs": [
    {
     "data": {
      "text/plain": "'\\nscore_list = []\\npred_list = []\\nfor n in range(2,17):\\n    score,pred = KNN_Experiment(n)\\n    score_list.append(score)\\n    pred_list.append(pred)\\n\\nscore_list,pred_list\\n\\n'"
     },
     "execution_count": 38,
     "metadata": {},
     "output_type": "execute_result"
    }
   ],
   "source": [
    "def KNN_Experiment(n):\n",
    "    model_knn = KNeighborsClassifier(n_neighbors=n)\n",
    "    model_knn.fit(X_train,y_train)\n",
    "    score = model_knn.score(X_train,y_train)\n",
    "    pred = model_knn.score(X_test,y_test)\n",
    "    return score,pred\n",
    "\n",
    "'''\n",
    "score_list = []\n",
    "pred_list = []\n",
    "for n in range(2,17):\n",
    "    score,pred = KNN_Experiment(n)\n",
    "    score_list.append(score)\n",
    "    pred_list.append(pred)\n",
    "\n",
    "score_list,pred_list\n",
    "\n",
    "'''"
   ],
   "metadata": {
    "collapsed": false,
    "pycharm": {
     "name": "#%%\n"
    }
   }
  },
  {
   "cell_type": "markdown",
   "source": [
    "A plot of the change in the train and test scores depending on the neighbor number is given below. The star on the lower curve indicates the best test score, which is $n=6$."
   ],
   "metadata": {
    "collapsed": false,
    "pycharm": {
     "name": "#%% md\n"
    }
   }
  },
  {
   "cell_type": "code",
   "execution_count": 53,
   "outputs": [
    {
     "data": {
      "text/plain": "<Figure size 432x288 with 1 Axes>",
      "image/png": "[encoded data removed]"
     },
     "metadata": {},
     "output_type": "display_data"
    }
   ],
   "source": [
    "\n",
    "score_list = np.array([0.9600036002385158,\n",
    "  0.9515767919624675,\n",
    "  0.938762192995286,\n",
    "  0.9346894231742853,\n",
    "  0.929739095215058,\n",
    "  0.9256888268847812,\n",
    "  0.922977397252568,\n",
    "  0.9199509467502222,\n",
    "  0.9183083379273876,\n",
    "  0.9155069023322795,\n",
    "  0.9146180934486909,\n",
    "  0.9120529235061823,\n",
    "  0.9114566340020026,\n",
    "  0.9091727326935409,\n",
    "  0.9080364074119911])\n",
    "pred_list = np.array([0.9018946042032312,\n",
    " 0.9079249358714729,\n",
    " 0.9058548220152108,\n",
    " 0.9079249358714729,\n",
    " 0.9090049952747401,\n",
    " 0.9085999729985149,\n",
    " 0.9073849061698394,\n",
    " 0.9073399036947032,\n",
    " 0.9081499482471536,\n",
    " 0.9076999234957923,\n",
    " 0.9063948517168444,\n",
    " 0.9049547725124882,\n",
    " 0.9051347824130327,\n",
    " 0.9037847081589487,\n",
    " 0.9039647180594933])\n",
    "\n",
    "x_range = np.arange(2,17,1)\n",
    "max_x = np.where(pred_list == max(pred_list))\n",
    "plt.plot(x_range,score_list, label = \"Training Data Scores\")\n",
    "plt.plot(x_range,pred_list, label = \"Test Data Scores\")\n",
    "plt.plot(max_x[0] + 2,max(pred_list), marker = \"*\", markersize = 15,color = \"yellow\",label = \"Best Test Score\")\n",
    "#plt.axhline(y=max(pred_list), color='gray', linestyle='--')\n",
    "#plt.axvline(x=np.where(pred_list == max(pred_list)), color='gray', linestyle='--')\n",
    "plt.xlabel(r\"$Number~of~neighbors~in~KNN$\")\n",
    "plt.ylabel(r\"$Scores$\",rotation = 0,ha = \"right\")\n",
    "plt.legend()\n",
    "plt.grid(visible = False)\n",
    "plt.show()\n"
   ],
   "metadata": {
    "collapsed": false,
    "pycharm": {
     "name": "#%%\n"
    }
   }
  },
  {
   "cell_type": "markdown",
   "source": [
    "Although the best test score is given by $n=6$, the similarity of training and test results might be more important. Let's choose $n=14$ for the model."
   ],
   "metadata": {
    "collapsed": false,
    "pycharm": {
     "name": "#%% md\n"
    }
   }
  },
  {
   "cell_type": "code",
   "execution_count": 40,
   "outputs": [],
   "source": [
    "#model_knn = KNeighborsClassifier(n_neighbors=14)\n",
    "#model_knn.fit(X_train,y_train)\n",
    "#score = model_knn.score(X_train,y_train)\n",
    "#test_score = model_knn.score(X_test,y_test)\n",
    "#y_pred = model_knn.predict(X_test)\n"
   ],
   "metadata": {
    "collapsed": false,
    "pycharm": {
     "name": "#%%\n"
    }
   }
  },
  {
   "cell_type": "code",
   "execution_count": 41,
   "outputs": [],
   "source": [
    "#cm = confusion_matrix(y_test,y_pred)\n",
    "#cm"
   ],
   "metadata": {
    "collapsed": false,
    "pycharm": {
     "name": "#%%\n"
    }
   }
  },
  {
   "cell_type": "code",
   "execution_count": 42,
   "outputs": [],
   "source": [
    "#plt.figure(figsize=(12,12))\n",
    "#heatmap(cm,cmap=\"jet\",annot = True)"
   ],
   "metadata": {
    "collapsed": false,
    "pycharm": {
     "name": "#%%\n"
    }
   }
  },
  {
   "cell_type": "code",
   "execution_count": 43,
   "outputs": [],
   "source": [
    "#ResKNN = chisquare(cm,axis=None)\n",
    "#ResKNN"
   ],
   "metadata": {
    "collapsed": false,
    "pycharm": {
     "name": "#%%\n"
    }
   }
  },
  {
   "cell_type": "code",
   "execution_count": 44,
   "outputs": [],
   "source": [
    "#print(classification_report(y_test,y_pred))"
   ],
   "metadata": {
    "collapsed": false,
    "pycharm": {
     "name": "#%%\n"
    }
   }
  },
  {
   "cell_type": "markdown",
   "source": [
    "***\n",
    "### Linear Discriminant Analysis"
   ],
   "metadata": {
    "collapsed": false,
    "pycharm": {
     "name": "#%% md\n"
    }
   }
  },
  {
   "cell_type": "code",
   "execution_count": 45,
   "outputs": [],
   "source": [
    "model_lda = LinearDiscriminantAnalysis()\n",
    "model_lda.fit_transform(X_train,y_train)\n",
    "score_lda = model_lda.score(X_train,y_train)\n",
    "testscore_lda = model_lda.score(X_test,y_test)\n",
    "y_pred = model_lda.predict(X_test)"
   ],
   "metadata": {
    "collapsed": false,
    "pycharm": {
     "name": "#%%\n"
    }
   }
  },
  {
   "cell_type": "code",
   "execution_count": 54,
   "outputs": [
    {
     "data": {
      "text/plain": "(0.8131476210298932, 0.8105395796768823)"
     },
     "execution_count": 54,
     "metadata": {},
     "output_type": "execute_result"
    }
   ],
   "source": [
    "score_lda,testscore_lda"
   ],
   "metadata": {
    "collapsed": false,
    "pycharm": {
     "name": "#%%\n"
    }
   }
  },
  {
   "cell_type": "code",
   "execution_count": 46,
   "outputs": [
    {
     "data": {
      "text/plain": "<Figure size 864x864 with 2 Axes>",
      "image/png": "[encoded data removed]"
     },
     "metadata": {},
     "output_type": "display_data"
    }
   ],
   "source": [
    "cm = confusion_matrix(y_test,y_pred)\n",
    "plt.figure(figsize=(12,12))\n",
    "heatmap(cm,cmap=\"jet\",annot = True)\n",
    "ResLDA = chisquare(cm,axis=None)"
   ],
   "metadata": {
    "collapsed": false,
    "pycharm": {
     "name": "#%%\n"
    }
   }
  },
  {
   "cell_type": "code",
   "execution_count": 47,
   "outputs": [
    {
     "name": "stdout",
     "output_type": "stream",
     "text": [
      "              precision    recall  f1-score   support\n",
      "\n",
      "           0       0.96      0.75      0.84     11296\n",
      "           1       0.79      0.99      0.88       430\n",
      "           2       0.81      0.99      0.90       741\n",
      "           3       0.48      0.95      0.64       417\n",
      "           4       0.55      0.87      0.67       271\n",
      "           5       0.54      0.99      0.70       558\n",
      "           6       0.84      0.99      0.91       811\n",
      "           7       0.83      1.00      0.91       744\n",
      "           8       0.76      0.84      0.80      2293\n",
      "           9       0.76      0.91      0.82      1267\n",
      "          10       0.65      0.88      0.75       628\n",
      "          11       0.69      0.90      0.78       215\n",
      "          12       0.75      0.76      0.75       396\n",
      "          13       0.58      0.98      0.73       184\n",
      "          14       0.66      0.89      0.76       195\n",
      "          15       0.68      0.60      0.64      1415\n",
      "          16       0.82      0.97      0.89       360\n",
      "\n",
      "    accuracy                           0.81     22221\n",
      "   macro avg       0.71      0.90      0.79     22221\n",
      "weighted avg       0.84      0.81      0.81     22221\n",
      "\n"
     ]
    }
   ],
   "source": [
    "print(classification_report(y_test,y_pred))"
   ],
   "metadata": {
    "collapsed": false,
    "pycharm": {
     "name": "#%%\n"
    }
   }
  },
  {
   "cell_type": "markdown",
   "id": "27afc40f",
   "metadata": {
    "pycharm": {
     "name": "#%% md\n"
    }
   },
   "source": [
    "***\n",
    "## Q2\n",
    "\n",
    "Now, apply all of the unsupervised algorithms we have learned so far and compare the results. In order to align the unsupervised labels and true labels use the `linear_sum_assignment` function from `scipy.optimize`. For example, if a confusion matrix looks like:"
   ]
  },
  {
   "cell_type": "code",
   "execution_count": 48,
   "id": "f27ac6ca",
   "metadata": {
    "pycharm": {
     "name": "#%%\n"
    }
   },
   "outputs": [],
   "source": [
    "cm = np.array(\n",
    "      [[1,10,2],\n",
    "       [9,2,1],\n",
    "       [3,4,10]])"
   ]
  },
  {
   "cell_type": "markdown",
   "id": "44732ba2",
   "metadata": {
    "pycharm": {
     "name": "#%% md\n"
    }
   },
   "source": [
    "we get"
   ]
  },
  {
   "cell_type": "code",
   "execution_count": 49,
   "id": "01824944",
   "metadata": {
    "pycharm": {
     "name": "#%%\n"
    }
   },
   "outputs": [
    {
     "data": {
      "text/plain": "array([[10,  1,  2],\n       [ 2,  9,  1],\n       [ 4,  3, 10]])"
     },
     "execution_count": 49,
     "metadata": {},
     "output_type": "execute_result"
    }
   ],
   "source": [
    "rows, cols = linear_sum_assignment(cm,maximize=True)\n",
    "cm = cm[rows,:]\n",
    "cm = cm[:,cols]\n",
    "cm"
   ]
  },
  {
   "cell_type": "markdown",
   "source": [
    "***\n",
    "### Principal Component Analysis"
   ],
   "metadata": {
    "collapsed": false,
    "pycharm": {
     "name": "#%% md\n"
    }
   }
  },
  {
   "cell_type": "markdown",
   "source": [
    "**"
   ],
   "metadata": {
    "collapsed": false,
    "pycharm": {
     "name": "#%% md\n"
    }
   }
  },
  {
   "cell_type": "markdown",
   "id": "360f3b90",
   "metadata": {
    "pycharm": {
     "name": "#%% md\n"
    }
   },
   "source": [
    "## Q3\n",
    "\n",
    "Now compare supervised and unsupervised algorithm results."
   ]
  },
  {
   "cell_type": "code",
   "execution_count": 49,
   "id": "b26f5ac0",
   "metadata": {
    "pycharm": {
     "name": "#%%\n"
    }
   },
   "outputs": [],
   "source": []
  }
 ],
 "metadata": {
  "kernelspec": {
   "name": "python397jvsc74a57bd0df2f81b94a627e8efc53712ce382a9fd4efeeb18c61063c915a2dc322dae6b87",
   "language": "python",
   "display_name": "Python 3.9.7 64-bit ('base': conda)"
  },
  "language_info": {
   "codemirror_mode": {
    "name": "ipython",
    "version": 3
   },
   "file_extension": ".py",
   "mimetype": "text/x-python",
   "name": "python",
   "nbconvert_exporter": "python",
   "pygments_lexer": "ipython3",
   "version": "3.10.4"
  }
 },
 "nbformat": 4,
 "nbformat_minor": 5
}