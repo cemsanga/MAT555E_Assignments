{
  "cells": [
    {
      "cell_type": "markdown",
      "metadata": {
        "id": "view-in-github",
        "colab_type": "text"
      },
      "source": [
        "<a href=\"https://colab.research.google.com/github/cemsanga/MAT555E_Assignments/blob/main/FinalProject.ipynb\" target=\"_parent\"><img src=\"https://colab.research.google.com/assets/colab-badge.svg\" alt=\"Open In Colab\"/></a>"
      ]
    },
    {
      "cell_type": "code",
      "execution_count": 85,
      "metadata": {
        "id": "1kX1e8gGag9H"
      },
      "outputs": [],
      "source": [
        "import pandas as pd\n",
        "import numpy as np\n",
        "import sklearn as sk\n",
        "import matplotlib.pyplot as plt\n",
        "from sklearn.preprocessing import LabelEncoder,StandardScaler,MinMaxScaler\n",
        "from sklearn.model_selection import train_test_split \n",
        "from sklearn.kernel_ridge import KernelRidge\n",
        "from sklearn.metrics import accuracy_score,mean_squared_error,r2_score\n",
        "from sklearn.linear_model import Ridge,RidgeCV,Lasso,LassoCV\n",
        "from sklearn.tree import DecisionTreeRegressor\n",
        "from sklearn.neighbors import KNeighborsRegressor\n",
        "from sklearn.svm import SVR\n",
        "from xgboost import XGBRegressor\n",
        "import tensorflow as tf\n",
        "import keras as ks\n",
        "from keras.layers import Dense\n",
        "from keras.utils import np_utils\n",
        "from keras.models import Sequential"
      ]
    },
    {
      "cell_type": "code",
      "execution_count": 11,
      "metadata": {
        "colab": {
          "base_uri": "https://localhost:8080/",
          "height": 463
        },
        "id": "H3maDMF3ag9I",
        "outputId": "a8cb7b33-7c2e-4dbf-927b-5f8c330daf26"
      },
      "outputs": [
        {
          "output_type": "execute_result",
          "data": {
            "text/plain": [
              "       Unnamed: 0          0          1          2          3          4  \\\n",
              "0               0  73.516695  17.817765  12.469551  12.458130  12.454607   \n",
              "1               1  73.516695  20.649126  18.527789  17.891535  17.887995   \n",
              "2               2  73.516695  17.830377  12.512263  12.404775  12.394493   \n",
              "3               3  73.516695  17.875810  17.871259  17.862402  17.850920   \n",
              "4               4  73.516695  17.883818  17.868256  17.864221  17.818540   \n",
              "...           ...        ...        ...        ...        ...        ...   \n",
              "16237       16268  73.516695  20.753166  18.624076  17.872009  17.851690   \n",
              "16238       16269  73.516695  20.724740  18.579933  17.741621  14.716676   \n",
              "16239       16270  53.358707  20.820797  19.150234  19.148721  15.135514   \n",
              "16240       16271  53.358707  15.707759  15.707644  13.653838  13.653570   \n",
              "16241       16272  53.358707  15.708752  15.708094  13.653893  13.653176   \n",
              "\n",
              "               5          6          7          8  ...  1267  1268  1269  \\\n",
              "0      12.447345  12.433065  12.426926  12.387474  ...   0.0   0.0   0.5   \n",
              "1      17.871731  17.852586  17.729842  15.864270  ...   0.0   0.0   0.0   \n",
              "2      12.391564  12.324461  12.238106  10.423249  ...   0.0   0.0   0.0   \n",
              "3      17.850440  12.558105  12.557645  12.517583  ...   0.0   0.0   0.0   \n",
              "4      12.508657  12.490519  12.450098  10.597068  ...   0.0   0.0   0.0   \n",
              "...          ...        ...        ...        ...  ...   ...   ...   ...   \n",
              "16237  17.851254  17.742176  14.655754  12.706683  ...   0.0   0.0   0.0   \n",
              "16238  13.697829  13.697558  13.653512  13.652942  ...   0.0   0.0   0.0   \n",
              "16239  15.123685  12.942704  12.938162  12.488633  ...   0.0   0.0   0.0   \n",
              "16240  13.653314  13.652591  13.652585  13.652550  ...   0.0   0.0   0.0   \n",
              "16241  13.653120  13.652930  13.652528  13.652322  ...   0.0   0.0   0.0   \n",
              "\n",
              "       1270  1271  1272  1273  1274  pubchem_id        Eat  \n",
              "0       0.0   0.0   0.0   0.0   0.0       25004 -19.013763  \n",
              "1       0.0   0.0   0.0   0.0   0.0       25005 -10.161019  \n",
              "2       0.0   0.0   0.0   0.0   0.0       25006  -9.376619  \n",
              "3       0.0   0.0   0.0   0.0   0.0       25009 -13.776438  \n",
              "4       0.0   0.0   0.0   0.0   0.0       25011  -8.537140  \n",
              "...     ...   ...   ...   ...   ...         ...        ...  \n",
              "16237   0.0   0.0   0.0   0.0   0.0       74976  -8.876123  \n",
              "16238   0.0   0.0   0.0   0.0   0.0       74977 -13.105268  \n",
              "16239   0.0   0.0   0.0   0.0   0.0       74978 -16.801464  \n",
              "16240   0.0   0.0   0.0   0.0   0.0       74979 -13.335088  \n",
              "16241   0.0   0.0   0.0   0.0   0.0       74980 -13.336696  \n",
              "\n",
              "[16242 rows x 1278 columns]"
            ],
            "text/html": [
              "\n",
              "  <div id=\"df-98e4bb41-de94-4f04-bcf2-fc6e4da69809\">\n",
              "    <div class=\"colab-df-container\">\n",
              "      <div>\n",
              "<style scoped>\n",
              "    .dataframe tbody tr th:only-of-type {\n",
              "        vertical-align: middle;\n",
              "    }\n",
              "\n",
              "    .dataframe tbody tr th {\n",
              "        vertical-align: top;\n",
              "    }\n",
              "\n",
              "    .dataframe thead th {\n",
              "        text-align: right;\n",
              "    }\n",
              "</style>\n",
              "<table border=\"1\" class=\"dataframe\">\n",
              "  <thead>\n",
              "    <tr style=\"text-align: right;\">\n",
              "      <th></th>\n",
              "      <th>Unnamed: 0</th>\n",
              "      <th>0</th>\n",
              "      <th>1</th>\n",
              "      <th>2</th>\n",
              "      <th>3</th>\n",
              "      <th>4</th>\n",
              "      <th>5</th>\n",
              "      <th>6</th>\n",
              "      <th>7</th>\n",
              "      <th>8</th>\n",
              "      <th>...</th>\n",
              "      <th>1267</th>\n",
              "      <th>1268</th>\n",
              "      <th>1269</th>\n",
              "      <th>1270</th>\n",
              "      <th>1271</th>\n",
              "      <th>1272</th>\n",
              "      <th>1273</th>\n",
              "      <th>1274</th>\n",
              "      <th>pubchem_id</th>\n",
              "      <th>Eat</th>\n",
              "    </tr>\n",
              "  </thead>\n",
              "  <tbody>\n",
              "    <tr>\n",
              "      <th>0</th>\n",
              "      <td>0</td>\n",
              "      <td>73.516695</td>\n",
              "      <td>17.817765</td>\n",
              "      <td>12.469551</td>\n",
              "      <td>12.458130</td>\n",
              "      <td>12.454607</td>\n",
              "      <td>12.447345</td>\n",
              "      <td>12.433065</td>\n",
              "      <td>12.426926</td>\n",
              "      <td>12.387474</td>\n",
              "      <td>...</td>\n",
              "      <td>0.0</td>\n",
              "      <td>0.0</td>\n",
              "      <td>0.5</td>\n",
              "      <td>0.0</td>\n",
              "      <td>0.0</td>\n",
              "      <td>0.0</td>\n",
              "      <td>0.0</td>\n",
              "      <td>0.0</td>\n",
              "      <td>25004</td>\n",
              "      <td>-19.013763</td>\n",
              "    </tr>\n",
              "    <tr>\n",
              "      <th>1</th>\n",
              "      <td>1</td>\n",
              "      <td>73.516695</td>\n",
              "      <td>20.649126</td>\n",
              "      <td>18.527789</td>\n",
              "      <td>17.891535</td>\n",
              "      <td>17.887995</td>\n",
              "      <td>17.871731</td>\n",
              "      <td>17.852586</td>\n",
              "      <td>17.729842</td>\n",
              "      <td>15.864270</td>\n",
              "      <td>...</td>\n",
              "      <td>0.0</td>\n",
              "      <td>0.0</td>\n",
              "      <td>0.0</td>\n",
              "      <td>0.0</td>\n",
              "      <td>0.0</td>\n",
              "      <td>0.0</td>\n",
              "      <td>0.0</td>\n",
              "      <td>0.0</td>\n",
              "      <td>25005</td>\n",
              "      <td>-10.161019</td>\n",
              "    </tr>\n",
              "    <tr>\n",
              "      <th>2</th>\n",
              "      <td>2</td>\n",
              "      <td>73.516695</td>\n",
              "      <td>17.830377</td>\n",
              "      <td>12.512263</td>\n",
              "      <td>12.404775</td>\n",
              "      <td>12.394493</td>\n",
              "      <td>12.391564</td>\n",
              "      <td>12.324461</td>\n",
              "      <td>12.238106</td>\n",
              "      <td>10.423249</td>\n",
              "      <td>...</td>\n",
              "      <td>0.0</td>\n",
              "      <td>0.0</td>\n",
              "      <td>0.0</td>\n",
              "      <td>0.0</td>\n",
              "      <td>0.0</td>\n",
              "      <td>0.0</td>\n",
              "      <td>0.0</td>\n",
              "      <td>0.0</td>\n",
              "      <td>25006</td>\n",
              "      <td>-9.376619</td>\n",
              "    </tr>\n",
              "    <tr>\n",
              "      <th>3</th>\n",
              "      <td>3</td>\n",
              "      <td>73.516695</td>\n",
              "      <td>17.875810</td>\n",
              "      <td>17.871259</td>\n",
              "      <td>17.862402</td>\n",
              "      <td>17.850920</td>\n",
              "      <td>17.850440</td>\n",
              "      <td>12.558105</td>\n",
              "      <td>12.557645</td>\n",
              "      <td>12.517583</td>\n",
              "      <td>...</td>\n",
              "      <td>0.0</td>\n",
              "      <td>0.0</td>\n",
              "      <td>0.0</td>\n",
              "      <td>0.0</td>\n",
              "      <td>0.0</td>\n",
              "      <td>0.0</td>\n",
              "      <td>0.0</td>\n",
              "      <td>0.0</td>\n",
              "      <td>25009</td>\n",
              "      <td>-13.776438</td>\n",
              "    </tr>\n",
              "    <tr>\n",
              "      <th>4</th>\n",
              "      <td>4</td>\n",
              "      <td>73.516695</td>\n",
              "      <td>17.883818</td>\n",
              "      <td>17.868256</td>\n",
              "      <td>17.864221</td>\n",
              "      <td>17.818540</td>\n",
              "      <td>12.508657</td>\n",
              "      <td>12.490519</td>\n",
              "      <td>12.450098</td>\n",
              "      <td>10.597068</td>\n",
              "      <td>...</td>\n",
              "      <td>0.0</td>\n",
              "      <td>0.0</td>\n",
              "      <td>0.0</td>\n",
              "      <td>0.0</td>\n",
              "      <td>0.0</td>\n",
              "      <td>0.0</td>\n",
              "      <td>0.0</td>\n",
              "      <td>0.0</td>\n",
              "      <td>25011</td>\n",
              "      <td>-8.537140</td>\n",
              "    </tr>\n",
              "    <tr>\n",
              "      <th>...</th>\n",
              "      <td>...</td>\n",
              "      <td>...</td>\n",
              "      <td>...</td>\n",
              "      <td>...</td>\n",
              "      <td>...</td>\n",
              "      <td>...</td>\n",
              "      <td>...</td>\n",
              "      <td>...</td>\n",
              "      <td>...</td>\n",
              "      <td>...</td>\n",
              "      <td>...</td>\n",
              "      <td>...</td>\n",
              "      <td>...</td>\n",
              "      <td>...</td>\n",
              "      <td>...</td>\n",
              "      <td>...</td>\n",
              "      <td>...</td>\n",
              "      <td>...</td>\n",
              "      <td>...</td>\n",
              "      <td>...</td>\n",
              "      <td>...</td>\n",
              "    </tr>\n",
              "    <tr>\n",
              "      <th>16237</th>\n",
              "      <td>16268</td>\n",
              "      <td>73.516695</td>\n",
              "      <td>20.753166</td>\n",
              "      <td>18.624076</td>\n",
              "      <td>17.872009</td>\n",
              "      <td>17.851690</td>\n",
              "      <td>17.851254</td>\n",
              "      <td>17.742176</td>\n",
              "      <td>14.655754</td>\n",
              "      <td>12.706683</td>\n",
              "      <td>...</td>\n",
              "      <td>0.0</td>\n",
              "      <td>0.0</td>\n",
              "      <td>0.0</td>\n",
              "      <td>0.0</td>\n",
              "      <td>0.0</td>\n",
              "      <td>0.0</td>\n",
              "      <td>0.0</td>\n",
              "      <td>0.0</td>\n",
              "      <td>74976</td>\n",
              "      <td>-8.876123</td>\n",
              "    </tr>\n",
              "    <tr>\n",
              "      <th>16238</th>\n",
              "      <td>16269</td>\n",
              "      <td>73.516695</td>\n",
              "      <td>20.724740</td>\n",
              "      <td>18.579933</td>\n",
              "      <td>17.741621</td>\n",
              "      <td>14.716676</td>\n",
              "      <td>13.697829</td>\n",
              "      <td>13.697558</td>\n",
              "      <td>13.653512</td>\n",
              "      <td>13.652942</td>\n",
              "      <td>...</td>\n",
              "      <td>0.0</td>\n",
              "      <td>0.0</td>\n",
              "      <td>0.0</td>\n",
              "      <td>0.0</td>\n",
              "      <td>0.0</td>\n",
              "      <td>0.0</td>\n",
              "      <td>0.0</td>\n",
              "      <td>0.0</td>\n",
              "      <td>74977</td>\n",
              "      <td>-13.105268</td>\n",
              "    </tr>\n",
              "    <tr>\n",
              "      <th>16239</th>\n",
              "      <td>16270</td>\n",
              "      <td>53.358707</td>\n",
              "      <td>20.820797</td>\n",
              "      <td>19.150234</td>\n",
              "      <td>19.148721</td>\n",
              "      <td>15.135514</td>\n",
              "      <td>15.123685</td>\n",
              "      <td>12.942704</td>\n",
              "      <td>12.938162</td>\n",
              "      <td>12.488633</td>\n",
              "      <td>...</td>\n",
              "      <td>0.0</td>\n",
              "      <td>0.0</td>\n",
              "      <td>0.0</td>\n",
              "      <td>0.0</td>\n",
              "      <td>0.0</td>\n",
              "      <td>0.0</td>\n",
              "      <td>0.0</td>\n",
              "      <td>0.0</td>\n",
              "      <td>74978</td>\n",
              "      <td>-16.801464</td>\n",
              "    </tr>\n",
              "    <tr>\n",
              "      <th>16240</th>\n",
              "      <td>16271</td>\n",
              "      <td>53.358707</td>\n",
              "      <td>15.707759</td>\n",
              "      <td>15.707644</td>\n",
              "      <td>13.653838</td>\n",
              "      <td>13.653570</td>\n",
              "      <td>13.653314</td>\n",
              "      <td>13.652591</td>\n",
              "      <td>13.652585</td>\n",
              "      <td>13.652550</td>\n",
              "      <td>...</td>\n",
              "      <td>0.0</td>\n",
              "      <td>0.0</td>\n",
              "      <td>0.0</td>\n",
              "      <td>0.0</td>\n",
              "      <td>0.0</td>\n",
              "      <td>0.0</td>\n",
              "      <td>0.0</td>\n",
              "      <td>0.0</td>\n",
              "      <td>74979</td>\n",
              "      <td>-13.335088</td>\n",
              "    </tr>\n",
              "    <tr>\n",
              "      <th>16241</th>\n",
              "      <td>16272</td>\n",
              "      <td>53.358707</td>\n",
              "      <td>15.708752</td>\n",
              "      <td>15.708094</td>\n",
              "      <td>13.653893</td>\n",
              "      <td>13.653176</td>\n",
              "      <td>13.653120</td>\n",
              "      <td>13.652930</td>\n",
              "      <td>13.652528</td>\n",
              "      <td>13.652322</td>\n",
              "      <td>...</td>\n",
              "      <td>0.0</td>\n",
              "      <td>0.0</td>\n",
              "      <td>0.0</td>\n",
              "      <td>0.0</td>\n",
              "      <td>0.0</td>\n",
              "      <td>0.0</td>\n",
              "      <td>0.0</td>\n",
              "      <td>0.0</td>\n",
              "      <td>74980</td>\n",
              "      <td>-13.336696</td>\n",
              "    </tr>\n",
              "  </tbody>\n",
              "</table>\n",
              "<p>16242 rows × 1278 columns</p>\n",
              "</div>\n",
              "      <button class=\"colab-df-convert\" onclick=\"convertToInteractive('df-98e4bb41-de94-4f04-bcf2-fc6e4da69809')\"\n",
              "              title=\"Convert this dataframe to an interactive table.\"\n",
              "              style=\"display:none;\">\n",
              "        \n",
              "  <svg xmlns=\"http://www.w3.org/2000/svg\" height=\"24px\"viewBox=\"0 0 24 24\"\n",
              "       width=\"24px\">\n",
              "    <path d=\"M0 0h24v24H0V0z\" fill=\"none\"/>\n",
              "    <path d=\"M18.56 5.44l.94 2.06.94-2.06 2.06-.94-2.06-.94-.94-2.06-.94 2.06-2.06.94zm-11 1L8.5 8.5l.94-2.06 2.06-.94-2.06-.94L8.5 2.5l-.94 2.06-2.06.94zm10 10l.94 2.06.94-2.06 2.06-.94-2.06-.94-.94-2.06-.94 2.06-2.06.94z\"/><path d=\"M17.41 7.96l-1.37-1.37c-.4-.4-.92-.59-1.43-.59-.52 0-1.04.2-1.43.59L10.3 9.45l-7.72 7.72c-.78.78-.78 2.05 0 2.83L4 21.41c.39.39.9.59 1.41.59.51 0 1.02-.2 1.41-.59l7.78-7.78 2.81-2.81c.8-.78.8-2.07 0-2.86zM5.41 20L4 18.59l7.72-7.72 1.47 1.35L5.41 20z\"/>\n",
              "  </svg>\n",
              "      </button>\n",
              "      \n",
              "  <style>\n",
              "    .colab-df-container {\n",
              "      display:flex;\n",
              "      flex-wrap:wrap;\n",
              "      gap: 12px;\n",
              "    }\n",
              "\n",
              "    .colab-df-convert {\n",
              "      background-color: #E8F0FE;\n",
              "      border: none;\n",
              "      border-radius: 50%;\n",
              "      cursor: pointer;\n",
              "      display: none;\n",
              "      fill: #1967D2;\n",
              "      height: 32px;\n",
              "      padding: 0 0 0 0;\n",
              "      width: 32px;\n",
              "    }\n",
              "\n",
              "    .colab-df-convert:hover {\n",
              "      background-color: #E2EBFA;\n",
              "      box-shadow: 0px 1px 2px rgba(60, 64, 67, 0.3), 0px 1px 3px 1px rgba(60, 64, 67, 0.15);\n",
              "      fill: #174EA6;\n",
              "    }\n",
              "\n",
              "    [theme=dark] .colab-df-convert {\n",
              "      background-color: #3B4455;\n",
              "      fill: #D2E3FC;\n",
              "    }\n",
              "\n",
              "    [theme=dark] .colab-df-convert:hover {\n",
              "      background-color: #434B5C;\n",
              "      box-shadow: 0px 1px 3px 1px rgba(0, 0, 0, 0.15);\n",
              "      filter: drop-shadow(0px 1px 2px rgba(0, 0, 0, 0.3));\n",
              "      fill: #FFFFFF;\n",
              "    }\n",
              "  </style>\n",
              "\n",
              "      <script>\n",
              "        const buttonEl =\n",
              "          document.querySelector('#df-98e4bb41-de94-4f04-bcf2-fc6e4da69809 button.colab-df-convert');\n",
              "        buttonEl.style.display =\n",
              "          google.colab.kernel.accessAllowed ? 'block' : 'none';\n",
              "\n",
              "        async function convertToInteractive(key) {\n",
              "          const element = document.querySelector('#df-98e4bb41-de94-4f04-bcf2-fc6e4da69809');\n",
              "          const dataTable =\n",
              "            await google.colab.kernel.invokeFunction('convertToInteractive',\n",
              "                                                     [key], {});\n",
              "          if (!dataTable) return;\n",
              "\n",
              "          const docLinkHtml = 'Like what you see? Visit the ' +\n",
              "            '<a target=\"_blank\" href=https://colab.research.google.com/notebooks/data_table.ipynb>data table notebook</a>'\n",
              "            + ' to learn more about interactive tables.';\n",
              "          element.innerHTML = '';\n",
              "          dataTable['output_type'] = 'display_data';\n",
              "          await google.colab.output.renderOutput(dataTable, element);\n",
              "          const docLink = document.createElement('div');\n",
              "          docLink.innerHTML = docLinkHtml;\n",
              "          element.appendChild(docLink);\n",
              "        }\n",
              "      </script>\n",
              "    </div>\n",
              "  </div>\n",
              "  "
            ]
          },
          "metadata": {},
          "execution_count": 11
        }
      ],
      "source": [
        "def compare(a,b):\n",
        "    for i,k in zip(a,b):\n",
        "        print(i,k)\n",
        "    \n",
        "def compare_plot(pred,test,fig_name):\n",
        "    score = r2_score(test,pred)\n",
        "    plt.scatter(np.arange(len(pred[1:-1:150])),pred[1:-1:150],marker=\"x\",label = \"Predicted Data\",color=\"blue\")\n",
        "    plt.scatter(np.arange(len(test[1:-1:150])),test[1:-1:150],marker=\"P\",label = \"Real Data\",color =\"darkorange\")\n",
        "    \n",
        "    ax =plt.gca()\n",
        "    ax.axes.xaxis.set_ticks([])\n",
        "\n",
        "    plt.legend()\n",
        "    plt.ylabel(\"Atomization Energy (eV)\",rotation=90)\n",
        "    plt.xlabel(\"Target Variable Data Points\")\n",
        "    plt.title(r\"$R^2$ =\"+\" \"+str(score)[:6]+\"\\n\"+str(fig_name))\n",
        "    plt.savefig(str(fig_name)+\".png\")\n",
        "    plt.show()\n",
        "    \n",
        "minmax = MinMaxScaler()\n",
        "standard = StandardScaler()\n",
        "original_data = pd.read_csv(\"roboBohr.csv\")\n",
        "original_data"
      ]
    },
    {
      "cell_type": "code",
      "execution_count": 12,
      "metadata": {
        "colab": {
          "base_uri": "https://localhost:8080/",
          "height": 419
        },
        "id": "NlA6CpKGag9K",
        "outputId": "978fd361-0d56-4172-843d-af71490c24d5"
      },
      "outputs": [
        {
          "output_type": "execute_result",
          "data": {
            "text/plain": [
              "               0          1          2          3          4          5  \\\n",
              "0      73.516695  17.817765  12.469551  12.458130  12.454607  12.447345   \n",
              "1      73.516695  20.649126  18.527789  17.891535  17.887995  17.871731   \n",
              "2      73.516695  17.830377  12.512263  12.404775  12.394493  12.391564   \n",
              "3      73.516695  17.875810  17.871259  17.862402  17.850920  17.850440   \n",
              "4      73.516695  17.883818  17.868256  17.864221  17.818540  12.508657   \n",
              "...          ...        ...        ...        ...        ...        ...   \n",
              "16237  73.516695  20.753166  18.624076  17.872009  17.851690  17.851254   \n",
              "16238  73.516695  20.724740  18.579933  17.741621  14.716676  13.697829   \n",
              "16239  53.358707  20.820797  19.150234  19.148721  15.135514  15.123685   \n",
              "16240  53.358707  15.707759  15.707644  13.653838  13.653570  13.653314   \n",
              "16241  53.358707  15.708752  15.708094  13.653893  13.653176  13.653120   \n",
              "\n",
              "               6          7          8          9  ...  1266  1267  1268  \\\n",
              "0      12.433065  12.426926  12.387474  12.365984  ...   0.0   0.0   0.0   \n",
              "1      17.852586  17.729842  15.864270  15.227643  ...   0.0   0.0   0.0   \n",
              "2      12.324461  12.238106  10.423249   8.698826  ...   0.0   0.0   0.0   \n",
              "3      12.558105  12.557645  12.517583  12.444141  ...   0.0   0.0   0.0   \n",
              "4      12.490519  12.450098  10.597068  10.595914  ...   0.0   0.0   0.0   \n",
              "...          ...        ...        ...        ...  ...   ...   ...   ...   \n",
              "16237  17.742176  14.655754  12.706683  12.557785  ...   0.0   0.0   0.0   \n",
              "16238  13.697558  13.653512  13.652942  13.652387  ...   0.0   0.0   0.0   \n",
              "16239  12.942704  12.938162  12.488633  12.488061  ...   0.0   0.0   0.0   \n",
              "16240  13.652591  13.652585  13.652550  12.743890  ...   0.0   0.0   0.0   \n",
              "16241  13.652930  13.652528  13.652322  12.743688  ...   0.0   0.0   0.0   \n",
              "\n",
              "       1269  1270  1271  1272  1273  1274        Eat  \n",
              "0       0.5   0.0   0.0   0.0   0.0   0.0 -19.013763  \n",
              "1       0.0   0.0   0.0   0.0   0.0   0.0 -10.161019  \n",
              "2       0.0   0.0   0.0   0.0   0.0   0.0  -9.376619  \n",
              "3       0.0   0.0   0.0   0.0   0.0   0.0 -13.776438  \n",
              "4       0.0   0.0   0.0   0.0   0.0   0.0  -8.537140  \n",
              "...     ...   ...   ...   ...   ...   ...        ...  \n",
              "16237   0.0   0.0   0.0   0.0   0.0   0.0  -8.876123  \n",
              "16238   0.0   0.0   0.0   0.0   0.0   0.0 -13.105268  \n",
              "16239   0.0   0.0   0.0   0.0   0.0   0.0 -16.801464  \n",
              "16240   0.0   0.0   0.0   0.0   0.0   0.0 -13.335088  \n",
              "16241   0.0   0.0   0.0   0.0   0.0   0.0 -13.336696  \n",
              "\n",
              "[16242 rows x 1276 columns]"
            ],
            "text/html": [
              "\n",
              "  <div id=\"df-8b6ecc54-d893-4f77-b9eb-f6418798cc45\">\n",
              "    <div class=\"colab-df-container\">\n",
              "      <div>\n",
              "<style scoped>\n",
              "    .dataframe tbody tr th:only-of-type {\n",
              "        vertical-align: middle;\n",
              "    }\n",
              "\n",
              "    .dataframe tbody tr th {\n",
              "        vertical-align: top;\n",
              "    }\n",
              "\n",
              "    .dataframe thead th {\n",
              "        text-align: right;\n",
              "    }\n",
              "</style>\n",
              "<table border=\"1\" class=\"dataframe\">\n",
              "  <thead>\n",
              "    <tr style=\"text-align: right;\">\n",
              "      <th></th>\n",
              "      <th>0</th>\n",
              "      <th>1</th>\n",
              "      <th>2</th>\n",
              "      <th>3</th>\n",
              "      <th>4</th>\n",
              "      <th>5</th>\n",
              "      <th>6</th>\n",
              "      <th>7</th>\n",
              "      <th>8</th>\n",
              "      <th>9</th>\n",
              "      <th>...</th>\n",
              "      <th>1266</th>\n",
              "      <th>1267</th>\n",
              "      <th>1268</th>\n",
              "      <th>1269</th>\n",
              "      <th>1270</th>\n",
              "      <th>1271</th>\n",
              "      <th>1272</th>\n",
              "      <th>1273</th>\n",
              "      <th>1274</th>\n",
              "      <th>Eat</th>\n",
              "    </tr>\n",
              "  </thead>\n",
              "  <tbody>\n",
              "    <tr>\n",
              "      <th>0</th>\n",
              "      <td>73.516695</td>\n",
              "      <td>17.817765</td>\n",
              "      <td>12.469551</td>\n",
              "      <td>12.458130</td>\n",
              "      <td>12.454607</td>\n",
              "      <td>12.447345</td>\n",
              "      <td>12.433065</td>\n",
              "      <td>12.426926</td>\n",
              "      <td>12.387474</td>\n",
              "      <td>12.365984</td>\n",
              "      <td>...</td>\n",
              "      <td>0.0</td>\n",
              "      <td>0.0</td>\n",
              "      <td>0.0</td>\n",
              "      <td>0.5</td>\n",
              "      <td>0.0</td>\n",
              "      <td>0.0</td>\n",
              "      <td>0.0</td>\n",
              "      <td>0.0</td>\n",
              "      <td>0.0</td>\n",
              "      <td>-19.013763</td>\n",
              "    </tr>\n",
              "    <tr>\n",
              "      <th>1</th>\n",
              "      <td>73.516695</td>\n",
              "      <td>20.649126</td>\n",
              "      <td>18.527789</td>\n",
              "      <td>17.891535</td>\n",
              "      <td>17.887995</td>\n",
              "      <td>17.871731</td>\n",
              "      <td>17.852586</td>\n",
              "      <td>17.729842</td>\n",
              "      <td>15.864270</td>\n",
              "      <td>15.227643</td>\n",
              "      <td>...</td>\n",
              "      <td>0.0</td>\n",
              "      <td>0.0</td>\n",
              "      <td>0.0</td>\n",
              "      <td>0.0</td>\n",
              "      <td>0.0</td>\n",
              "      <td>0.0</td>\n",
              "      <td>0.0</td>\n",
              "      <td>0.0</td>\n",
              "      <td>0.0</td>\n",
              "      <td>-10.161019</td>\n",
              "    </tr>\n",
              "    <tr>\n",
              "      <th>2</th>\n",
              "      <td>73.516695</td>\n",
              "      <td>17.830377</td>\n",
              "      <td>12.512263</td>\n",
              "      <td>12.404775</td>\n",
              "      <td>12.394493</td>\n",
              "      <td>12.391564</td>\n",
              "      <td>12.324461</td>\n",
              "      <td>12.238106</td>\n",
              "      <td>10.423249</td>\n",
              "      <td>8.698826</td>\n",
              "      <td>...</td>\n",
              "      <td>0.0</td>\n",
              "      <td>0.0</td>\n",
              "      <td>0.0</td>\n",
              "      <td>0.0</td>\n",
              "      <td>0.0</td>\n",
              "      <td>0.0</td>\n",
              "      <td>0.0</td>\n",
              "      <td>0.0</td>\n",
              "      <td>0.0</td>\n",
              "      <td>-9.376619</td>\n",
              "    </tr>\n",
              "    <tr>\n",
              "      <th>3</th>\n",
              "      <td>73.516695</td>\n",
              "      <td>17.875810</td>\n",
              "      <td>17.871259</td>\n",
              "      <td>17.862402</td>\n",
              "      <td>17.850920</td>\n",
              "      <td>17.850440</td>\n",
              "      <td>12.558105</td>\n",
              "      <td>12.557645</td>\n",
              "      <td>12.517583</td>\n",
              "      <td>12.444141</td>\n",
              "      <td>...</td>\n",
              "      <td>0.0</td>\n",
              "      <td>0.0</td>\n",
              "      <td>0.0</td>\n",
              "      <td>0.0</td>\n",
              "      <td>0.0</td>\n",
              "      <td>0.0</td>\n",
              "      <td>0.0</td>\n",
              "      <td>0.0</td>\n",
              "      <td>0.0</td>\n",
              "      <td>-13.776438</td>\n",
              "    </tr>\n",
              "    <tr>\n",
              "      <th>4</th>\n",
              "      <td>73.516695</td>\n",
              "      <td>17.883818</td>\n",
              "      <td>17.868256</td>\n",
              "      <td>17.864221</td>\n",
              "      <td>17.818540</td>\n",
              "      <td>12.508657</td>\n",
              "      <td>12.490519</td>\n",
              "      <td>12.450098</td>\n",
              "      <td>10.597068</td>\n",
              "      <td>10.595914</td>\n",
              "      <td>...</td>\n",
              "      <td>0.0</td>\n",
              "      <td>0.0</td>\n",
              "      <td>0.0</td>\n",
              "      <td>0.0</td>\n",
              "      <td>0.0</td>\n",
              "      <td>0.0</td>\n",
              "      <td>0.0</td>\n",
              "      <td>0.0</td>\n",
              "      <td>0.0</td>\n",
              "      <td>-8.537140</td>\n",
              "    </tr>\n",
              "    <tr>\n",
              "      <th>...</th>\n",
              "      <td>...</td>\n",
              "      <td>...</td>\n",
              "      <td>...</td>\n",
              "      <td>...</td>\n",
              "      <td>...</td>\n",
              "      <td>...</td>\n",
              "      <td>...</td>\n",
              "      <td>...</td>\n",
              "      <td>...</td>\n",
              "      <td>...</td>\n",
              "      <td>...</td>\n",
              "      <td>...</td>\n",
              "      <td>...</td>\n",
              "      <td>...</td>\n",
              "      <td>...</td>\n",
              "      <td>...</td>\n",
              "      <td>...</td>\n",
              "      <td>...</td>\n",
              "      <td>...</td>\n",
              "      <td>...</td>\n",
              "      <td>...</td>\n",
              "    </tr>\n",
              "    <tr>\n",
              "      <th>16237</th>\n",
              "      <td>73.516695</td>\n",
              "      <td>20.753166</td>\n",
              "      <td>18.624076</td>\n",
              "      <td>17.872009</td>\n",
              "      <td>17.851690</td>\n",
              "      <td>17.851254</td>\n",
              "      <td>17.742176</td>\n",
              "      <td>14.655754</td>\n",
              "      <td>12.706683</td>\n",
              "      <td>12.557785</td>\n",
              "      <td>...</td>\n",
              "      <td>0.0</td>\n",
              "      <td>0.0</td>\n",
              "      <td>0.0</td>\n",
              "      <td>0.0</td>\n",
              "      <td>0.0</td>\n",
              "      <td>0.0</td>\n",
              "      <td>0.0</td>\n",
              "      <td>0.0</td>\n",
              "      <td>0.0</td>\n",
              "      <td>-8.876123</td>\n",
              "    </tr>\n",
              "    <tr>\n",
              "      <th>16238</th>\n",
              "      <td>73.516695</td>\n",
              "      <td>20.724740</td>\n",
              "      <td>18.579933</td>\n",
              "      <td>17.741621</td>\n",
              "      <td>14.716676</td>\n",
              "      <td>13.697829</td>\n",
              "      <td>13.697558</td>\n",
              "      <td>13.653512</td>\n",
              "      <td>13.652942</td>\n",
              "      <td>13.652387</td>\n",
              "      <td>...</td>\n",
              "      <td>0.0</td>\n",
              "      <td>0.0</td>\n",
              "      <td>0.0</td>\n",
              "      <td>0.0</td>\n",
              "      <td>0.0</td>\n",
              "      <td>0.0</td>\n",
              "      <td>0.0</td>\n",
              "      <td>0.0</td>\n",
              "      <td>0.0</td>\n",
              "      <td>-13.105268</td>\n",
              "    </tr>\n",
              "    <tr>\n",
              "      <th>16239</th>\n",
              "      <td>53.358707</td>\n",
              "      <td>20.820797</td>\n",
              "      <td>19.150234</td>\n",
              "      <td>19.148721</td>\n",
              "      <td>15.135514</td>\n",
              "      <td>15.123685</td>\n",
              "      <td>12.942704</td>\n",
              "      <td>12.938162</td>\n",
              "      <td>12.488633</td>\n",
              "      <td>12.488061</td>\n",
              "      <td>...</td>\n",
              "      <td>0.0</td>\n",
              "      <td>0.0</td>\n",
              "      <td>0.0</td>\n",
              "      <td>0.0</td>\n",
              "      <td>0.0</td>\n",
              "      <td>0.0</td>\n",
              "      <td>0.0</td>\n",
              "      <td>0.0</td>\n",
              "      <td>0.0</td>\n",
              "      <td>-16.801464</td>\n",
              "    </tr>\n",
              "    <tr>\n",
              "      <th>16240</th>\n",
              "      <td>53.358707</td>\n",
              "      <td>15.707759</td>\n",
              "      <td>15.707644</td>\n",
              "      <td>13.653838</td>\n",
              "      <td>13.653570</td>\n",
              "      <td>13.653314</td>\n",
              "      <td>13.652591</td>\n",
              "      <td>13.652585</td>\n",
              "      <td>13.652550</td>\n",
              "      <td>12.743890</td>\n",
              "      <td>...</td>\n",
              "      <td>0.0</td>\n",
              "      <td>0.0</td>\n",
              "      <td>0.0</td>\n",
              "      <td>0.0</td>\n",
              "      <td>0.0</td>\n",
              "      <td>0.0</td>\n",
              "      <td>0.0</td>\n",
              "      <td>0.0</td>\n",
              "      <td>0.0</td>\n",
              "      <td>-13.335088</td>\n",
              "    </tr>\n",
              "    <tr>\n",
              "      <th>16241</th>\n",
              "      <td>53.358707</td>\n",
              "      <td>15.708752</td>\n",
              "      <td>15.708094</td>\n",
              "      <td>13.653893</td>\n",
              "      <td>13.653176</td>\n",
              "      <td>13.653120</td>\n",
              "      <td>13.652930</td>\n",
              "      <td>13.652528</td>\n",
              "      <td>13.652322</td>\n",
              "      <td>12.743688</td>\n",
              "      <td>...</td>\n",
              "      <td>0.0</td>\n",
              "      <td>0.0</td>\n",
              "      <td>0.0</td>\n",
              "      <td>0.0</td>\n",
              "      <td>0.0</td>\n",
              "      <td>0.0</td>\n",
              "      <td>0.0</td>\n",
              "      <td>0.0</td>\n",
              "      <td>0.0</td>\n",
              "      <td>-13.336696</td>\n",
              "    </tr>\n",
              "  </tbody>\n",
              "</table>\n",
              "<p>16242 rows × 1276 columns</p>\n",
              "</div>\n",
              "      <button class=\"colab-df-convert\" onclick=\"convertToInteractive('df-8b6ecc54-d893-4f77-b9eb-f6418798cc45')\"\n",
              "              title=\"Convert this dataframe to an interactive table.\"\n",
              "              style=\"display:none;\">\n",
              "        \n",
              "  <svg xmlns=\"http://www.w3.org/2000/svg\" height=\"24px\"viewBox=\"0 0 24 24\"\n",
              "       width=\"24px\">\n",
              "    <path d=\"M0 0h24v24H0V0z\" fill=\"none\"/>\n",
              "    <path d=\"M18.56 5.44l.94 2.06.94-2.06 2.06-.94-2.06-.94-.94-2.06-.94 2.06-2.06.94zm-11 1L8.5 8.5l.94-2.06 2.06-.94-2.06-.94L8.5 2.5l-.94 2.06-2.06.94zm10 10l.94 2.06.94-2.06 2.06-.94-2.06-.94-.94-2.06-.94 2.06-2.06.94z\"/><path d=\"M17.41 7.96l-1.37-1.37c-.4-.4-.92-.59-1.43-.59-.52 0-1.04.2-1.43.59L10.3 9.45l-7.72 7.72c-.78.78-.78 2.05 0 2.83L4 21.41c.39.39.9.59 1.41.59.51 0 1.02-.2 1.41-.59l7.78-7.78 2.81-2.81c.8-.78.8-2.07 0-2.86zM5.41 20L4 18.59l7.72-7.72 1.47 1.35L5.41 20z\"/>\n",
              "  </svg>\n",
              "      </button>\n",
              "      \n",
              "  <style>\n",
              "    .colab-df-container {\n",
              "      display:flex;\n",
              "      flex-wrap:wrap;\n",
              "      gap: 12px;\n",
              "    }\n",
              "\n",
              "    .colab-df-convert {\n",
              "      background-color: #E8F0FE;\n",
              "      border: none;\n",
              "      border-radius: 50%;\n",
              "      cursor: pointer;\n",
              "      display: none;\n",
              "      fill: #1967D2;\n",
              "      height: 32px;\n",
              "      padding: 0 0 0 0;\n",
              "      width: 32px;\n",
              "    }\n",
              "\n",
              "    .colab-df-convert:hover {\n",
              "      background-color: #E2EBFA;\n",
              "      box-shadow: 0px 1px 2px rgba(60, 64, 67, 0.3), 0px 1px 3px 1px rgba(60, 64, 67, 0.15);\n",
              "      fill: #174EA6;\n",
              "    }\n",
              "\n",
              "    [theme=dark] .colab-df-convert {\n",
              "      background-color: #3B4455;\n",
              "      fill: #D2E3FC;\n",
              "    }\n",
              "\n",
              "    [theme=dark] .colab-df-convert:hover {\n",
              "      background-color: #434B5C;\n",
              "      box-shadow: 0px 1px 3px 1px rgba(0, 0, 0, 0.15);\n",
              "      filter: drop-shadow(0px 1px 2px rgba(0, 0, 0, 0.3));\n",
              "      fill: #FFFFFF;\n",
              "    }\n",
              "  </style>\n",
              "\n",
              "      <script>\n",
              "        const buttonEl =\n",
              "          document.querySelector('#df-8b6ecc54-d893-4f77-b9eb-f6418798cc45 button.colab-df-convert');\n",
              "        buttonEl.style.display =\n",
              "          google.colab.kernel.accessAllowed ? 'block' : 'none';\n",
              "\n",
              "        async function convertToInteractive(key) {\n",
              "          const element = document.querySelector('#df-8b6ecc54-d893-4f77-b9eb-f6418798cc45');\n",
              "          const dataTable =\n",
              "            await google.colab.kernel.invokeFunction('convertToInteractive',\n",
              "                                                     [key], {});\n",
              "          if (!dataTable) return;\n",
              "\n",
              "          const docLinkHtml = 'Like what you see? Visit the ' +\n",
              "            '<a target=\"_blank\" href=https://colab.research.google.com/notebooks/data_table.ipynb>data table notebook</a>'\n",
              "            + ' to learn more about interactive tables.';\n",
              "          element.innerHTML = '';\n",
              "          dataTable['output_type'] = 'display_data';\n",
              "          await google.colab.output.renderOutput(dataTable, element);\n",
              "          const docLink = document.createElement('div');\n",
              "          docLink.innerHTML = docLinkHtml;\n",
              "          element.appendChild(docLink);\n",
              "        }\n",
              "      </script>\n",
              "    </div>\n",
              "  </div>\n",
              "  "
            ]
          },
          "metadata": {},
          "execution_count": 12
        }
      ],
      "source": [
        "data = original_data.drop(columns=[\"Unnamed: 0\",\"pubchem_id\"])\n",
        "data"
      ]
    },
    {
      "cell_type": "code",
      "execution_count": 13,
      "metadata": {
        "id": "Hwy1bBtiag9K"
      },
      "outputs": [],
      "source": [
        "X = data.iloc[:,:-1]\n",
        "y = data.iloc[:,-1].to_numpy()"
      ]
    },
    {
      "cell_type": "code",
      "execution_count": 14,
      "metadata": {
        "id": "_uDREVCBag9L"
      },
      "outputs": [],
      "source": [
        "X_train,X_test,y_train,y_test = train_test_split(X,y,test_size=0.20,random_state=42)\n",
        "\n",
        "X_train_std = standard.fit_transform(X_train)\n",
        "X_test_std = standard.fit_transform(X_test)\n",
        "\n",
        "X_train_mm = minmax.fit_transform(X_train)\n",
        "X_test_mm = minmax.fit_transform(X_test)"
      ]
    },
    {
      "cell_type": "code",
      "execution_count": 96,
      "metadata": {
        "colab": {
          "base_uri": "https://localhost:8080/"
        },
        "id": "MJ8MoSfMag9L",
        "outputId": "d63dbc52-b66d-4189-d0c4-7b4a5048e1ad"
      },
      "outputs": [
        {
          "output_type": "execute_result",
          "data": {
            "text/plain": [
              "array([1.00000000e-04, 4.12462638e-04, 1.70125428e-03, 7.01703829e-03,\n",
              "       2.89426612e-02, 1.19377664e-01, 4.92388263e-01, 2.03091762e+00,\n",
              "       8.37677640e+00, 3.45510729e+01, 1.42510267e+02, 5.87801607e+02,\n",
              "       2.42446202e+03, 1.00000000e+04])"
            ]
          },
          "metadata": {},
          "execution_count": 96
        }
      ],
      "source": [
        "alphas = [0.1,0.2,0.5,1,10,20,50,100,200,500]\n",
        "alphas_log = np.logspace(-4, 4, 14)\n",
        "alphas_log"
      ]
    },
    {
      "cell_type": "markdown",
      "metadata": {
        "id": "PP0VyIrrag9L"
      },
      "source": [
        "# Kernel Ridge"
      ]
    },
    {
      "cell_type": "markdown",
      "metadata": {
        "id": "dEgcptlUag9N"
      },
      "source": [
        "## Original Data"
      ]
    },
    {
      "cell_type": "code",
      "execution_count": 16,
      "metadata": {
        "id": "XGEaYii9ag9O"
      },
      "outputs": [],
      "source": [
        "def Kernel(X_train,y_train,X_test,y_test): \n",
        "    global y_pred_kr\n",
        "    model_kernel = KernelRidge(alpha=20.0)\n",
        "    model_kernel.fit(X_train,y_train)\n",
        "    y_pred_kr = model_kernel.predict(X_test)\n",
        "    kr_mse = mean_squared_error(y_test,y_pred_kr)\n",
        "    kr_score = r2_score(y_test,y_pred_kr)\n",
        "    print(\"Score=\",kr_score,\"\\n\",\"Error=\",kr_mse)\n",
        "# 150, 1.80\n",
        "# 2000, 1.65\n",
        "# 3000, 1.6590"
      ]
    },
    {
      "cell_type": "code",
      "execution_count": 17,
      "metadata": {
        "colab": {
          "base_uri": "https://localhost:8080/"
        },
        "id": "hv9JxzI_ag9O",
        "outputId": "e58f4601-032c-4644-c47f-7a7c5c49f1e5"
      },
      "outputs": [
        {
          "output_type": "stream",
          "name": "stdout",
          "text": [
            "Score= 0.7948075781967459 \n",
            " Error= 2.7851104680719776\n"
          ]
        }
      ],
      "source": [
        "Kernel(X_train,y_train,X_test,y_test)"
      ]
    },
    {
      "cell_type": "code",
      "execution_count": 18,
      "metadata": {
        "colab": {
          "base_uri": "https://localhost:8080/",
          "height": 297
        },
        "id": "L_-wgyC6ag9P",
        "outputId": "3d70f162-fee0-45db-e33a-23773a86526e"
      },
      "outputs": [
        {
          "output_type": "display_data",
          "data": {
            "text/plain": [
              "<Figure size 432x288 with 1 Axes>"
            ],
            "image/png": "[encoded data removed]"
          },
          "metadata": {
            "needs_background": "light"
          }
        }
      ],
      "source": [
        "compare_plot(y_pred_kr,y_test,\"kernel\")"
      ]
    },
    {
      "cell_type": "markdown",
      "metadata": {
        "id": "JmvkOg38ag9P"
      },
      "source": [
        "## MinMax Data"
      ]
    },
    {
      "cell_type": "code",
      "execution_count": 19,
      "metadata": {
        "colab": {
          "base_uri": "https://localhost:8080/"
        },
        "id": "yTK0biztag9P",
        "outputId": "61a8ab3d-01fc-4fd4-9b61-ca7952fee6f8"
      },
      "outputs": [
        {
          "output_type": "stream",
          "name": "stdout",
          "text": [
            "Score= 0.6951060090029014 \n",
            " Error= 4.138376254423622\n"
          ]
        }
      ],
      "source": [
        "Kernel(X_train_mm,y_train,X_test_mm,y_test)"
      ]
    },
    {
      "cell_type": "code",
      "execution_count": 20,
      "metadata": {
        "colab": {
          "base_uri": "https://localhost:8080/",
          "height": 297
        },
        "id": "RAv2lMiwag9Q",
        "outputId": "340854a7-c19b-4a29-f02a-eb6723510424"
      },
      "outputs": [
        {
          "output_type": "display_data",
          "data": {
            "text/plain": [
              "<Figure size 432x288 with 1 Axes>"
            ],
            "image/png": "[encoded data removed]"
          },
          "metadata": {
            "needs_background": "light"
          }
        }
      ],
      "source": [
        "compare_plot(y_pred_kr,y_test,\"kernel_minmax\")"
      ]
    },
    {
      "cell_type": "markdown",
      "metadata": {
        "id": "JelE60Veag9R"
      },
      "source": [
        "## Std. Scaled Data"
      ]
    },
    {
      "cell_type": "code",
      "execution_count": 21,
      "metadata": {
        "colab": {
          "base_uri": "https://localhost:8080/"
        },
        "id": "O2sP-ajfag9R",
        "outputId": "456e0d01-4758-450a-cbfd-5a47821f5e9e"
      },
      "outputs": [
        {
          "output_type": "stream",
          "name": "stdout",
          "text": [
            "Score= -8.290268705239127 \n",
            " Error= 126.09834415313995\n"
          ]
        }
      ],
      "source": [
        "Kernel(X_train_std,y_train,X_test_std,y_test)"
      ]
    },
    {
      "cell_type": "code",
      "execution_count": 22,
      "metadata": {
        "colab": {
          "base_uri": "https://localhost:8080/",
          "height": 297
        },
        "id": "s_nFKIkyag9S",
        "outputId": "14c13f5f-a330-4925-c887-44b395d453b1"
      },
      "outputs": [
        {
          "output_type": "display_data",
          "data": {
            "text/plain": [
              "<Figure size 432x288 with 1 Axes>"
            ],
            "image/png": "[encoded data removed]"
          },
          "metadata": {
            "needs_background": "light"
          }
        }
      ],
      "source": [
        "compare_plot(y_pred_kr,y_test,\"kernel_std\")"
      ]
    },
    {
      "cell_type": "markdown",
      "metadata": {
        "id": "Dm0HeIUEag9T"
      },
      "source": [
        "# Ridge Regression"
      ]
    },
    {
      "cell_type": "markdown",
      "metadata": {
        "id": "KIfo0XTKag9T"
      },
      "source": [
        "## Original Data"
      ]
    },
    {
      "cell_type": "code",
      "execution_count": 23,
      "metadata": {
        "id": "r66CE2Umag9U"
      },
      "outputs": [],
      "source": [
        "def RidgeExp(X_train,X_test,alpha_val):\n",
        "    global y_pred_ridge\n",
        "    model_ridge = Ridge(alpha=alpha_val)\n",
        "    model_ridge.fit(X_train,y_train)\n",
        "    y_pred_ridge = model_ridge.predict(X_test)\n",
        "    ridge_error = mean_squared_error(y_test,y_pred_ridge)\n",
        "    ridge_score = r2_score(y_test,y_pred_ridge)\n",
        "    print(\"Score=\",ridge_score,\"\\n\",\"Error=\",ridge_error)"
      ]
    },
    {
      "cell_type": "code",
      "execution_count": 24,
      "metadata": {
        "id": "-kZkkT60ag9U"
      },
      "outputs": [],
      "source": [
        "#for i in alphas_log:\n",
        "#    print(i)\n",
        "#    RidgeExp(i)\n",
        "\n",
        "# Selected Alpha Values : 587.8016072274924\n",
        "#                         2424.462017082331\n",
        "\n",
        "# 587.80 is the best."
      ]
    },
    {
      "cell_type": "code",
      "execution_count": 25,
      "metadata": {
        "colab": {
          "base_uri": "https://localhost:8080/"
        },
        "id": "j_AVWLGAag9V",
        "outputId": "9a4baddd-8b47-4404-98cc-bb6ed0551023"
      },
      "outputs": [
        {
          "output_type": "stream",
          "name": "stdout",
          "text": [
            "Score= 0.9543415684921968 \n",
            " Error= 0.619729395611205\n"
          ]
        }
      ],
      "source": [
        "RidgeExp(X_train,X_test,587.80)"
      ]
    },
    {
      "cell_type": "code",
      "execution_count": 26,
      "metadata": {
        "colab": {
          "base_uri": "https://localhost:8080/",
          "height": 297
        },
        "id": "p1yrR5p1ag9V",
        "outputId": "9328d598-73ba-4a73-abcd-b45d49a3367c"
      },
      "outputs": [
        {
          "output_type": "display_data",
          "data": {
            "text/plain": [
              "<Figure size 432x288 with 1 Axes>"
            ],
            "image/png": "[encoded data removed]"
          },
          "metadata": {
            "needs_background": "light"
          }
        }
      ],
      "source": [
        "compare_plot(y_pred_ridge,y_test,\"ridge\")"
      ]
    },
    {
      "cell_type": "markdown",
      "metadata": {
        "id": "IhH3qq3Qag9W"
      },
      "source": [
        "## MinMax Data"
      ]
    },
    {
      "cell_type": "code",
      "execution_count": 27,
      "metadata": {
        "colab": {
          "base_uri": "https://localhost:8080/"
        },
        "id": "m9-utEy0ag9W",
        "outputId": "c3f9a2fb-1501-426a-8bb5-dc656cee72d1"
      },
      "outputs": [
        {
          "output_type": "stream",
          "name": "stdout",
          "text": [
            "Score= 0.5679596804313025 \n",
            " Error= 5.864154270832137\n"
          ]
        }
      ],
      "source": [
        "RidgeExp(X_train_mm,X_test_mm,587.80)"
      ]
    },
    {
      "cell_type": "code",
      "execution_count": 28,
      "metadata": {
        "colab": {
          "base_uri": "https://localhost:8080/",
          "height": 297
        },
        "id": "7MS-sOOEag9W",
        "outputId": "e670218b-99d6-4c34-de5e-f90af9217f09"
      },
      "outputs": [
        {
          "output_type": "display_data",
          "data": {
            "text/plain": [
              "<Figure size 432x288 with 1 Axes>"
            ],
            "image/png": "[encoded data removed]"
          },
          "metadata": {
            "needs_background": "light"
          }
        }
      ],
      "source": [
        "compare_plot(y_pred_ridge,y_test,\"ridge_mm\")"
      ]
    },
    {
      "cell_type": "markdown",
      "metadata": {
        "id": "7YCcj9Ouag9X"
      },
      "source": [
        "## Std. Scaled Data"
      ]
    },
    {
      "cell_type": "code",
      "execution_count": 29,
      "metadata": {
        "colab": {
          "base_uri": "https://localhost:8080/"
        },
        "id": "h94s8Bf7ag9X",
        "outputId": "fe27b32e-c1a2-41cf-d973-9b6fa57ed868"
      },
      "outputs": [
        {
          "output_type": "stream",
          "name": "stdout",
          "text": [
            "Score= 0.9475026016200853 \n",
            " Error= 0.7125558170692959\n"
          ]
        }
      ],
      "source": [
        "RidgeExp(X_train_std,X_test_std,587.80)"
      ]
    },
    {
      "cell_type": "code",
      "execution_count": 30,
      "metadata": {
        "colab": {
          "base_uri": "https://localhost:8080/",
          "height": 297
        },
        "id": "_5NOADFJag9Y",
        "outputId": "45f76604-ed37-4767-9b46-f5951b24a28b"
      },
      "outputs": [
        {
          "output_type": "display_data",
          "data": {
            "text/plain": [
              "<Figure size 432x288 with 1 Axes>"
            ],
            "image/png": "[encoded data removed]"
          },
          "metadata": {
            "needs_background": "light"
          }
        }
      ],
      "source": [
        "compare_plot(y_pred_ridge,y_test,\"ridge_std\")"
      ]
    },
    {
      "cell_type": "markdown",
      "metadata": {
        "id": "1R3o4qhUag9Y"
      },
      "source": [
        "# Lasso"
      ]
    },
    {
      "cell_type": "markdown",
      "metadata": {
        "id": "Ep0MhBrvag9Y"
      },
      "source": [
        "## Original Data"
      ]
    },
    {
      "cell_type": "code",
      "execution_count": 31,
      "metadata": {
        "id": "ZqlRkVO6ag9Y"
      },
      "outputs": [],
      "source": [
        "def LassoExp(X_train,X_test,alpha_val):\n",
        "    global y_pred_lasso\n",
        "    model_lasso = Lasso(max_iter = 10**4,alpha=alpha_val)\n",
        "    model_lasso.fit(X_train,y_train)\n",
        "    y_pred_lasso = model_lasso.predict(X_test)\n",
        "    lasso_error = mean_squared_error(y_test,y_pred_lasso)\n",
        "    lasso_score = r2_score(y_test,y_pred_lasso)\n",
        "    print(\"Score=\",lasso_score,\"\\n\",\"Error=\",lasso_error)"
      ]
    },
    {
      "cell_type": "code",
      "execution_count": 32,
      "metadata": {
        "colab": {
          "base_uri": "https://localhost:8080/"
        },
        "id": "SW0Y8DfWag9Z",
        "outputId": "1ed05e51-4283-4a97-a30f-122c093de5c4"
      },
      "outputs": [
        {
          "output_type": "stream",
          "name": "stdout",
          "text": [
            "Alpha= 0.028942661247167517\n",
            "Score= 0.9348479513516612 \n",
            " Error= 0.8843194651740565\n",
            "Alpha= 0.1193776641714437\n",
            "Score= 0.8646421456723128 \n",
            " Error= 1.8372344052027028\n",
            "Alpha= 0.49238826317067413\n",
            "Score= 0.7874386541010026 \n",
            " Error= 2.885130086034092\n",
            "Alpha= 2.030917620904739\n",
            "Score= 0.7717876346213297 \n",
            " Error= 3.0975639459484268\n"
          ]
        }
      ],
      "source": [
        "for i in alphas_log[4:8]:\n",
        "    print(\"Alpha=\",i)\n",
        "    LassoExp(X_train,X_test,i)"
      ]
    },
    {
      "cell_type": "code",
      "execution_count": 33,
      "metadata": {
        "colab": {
          "base_uri": "https://localhost:8080/",
          "height": 297
        },
        "id": "-vIYww9Uag9Z",
        "outputId": "d34e71ac-30c3-4a0d-9fbe-17ca8cd70341"
      },
      "outputs": [
        {
          "output_type": "display_data",
          "data": {
            "text/plain": [
              "<Figure size 432x288 with 1 Axes>"
            ],
            "image/png": "[encoded data removed]"
          },
          "metadata": {
            "needs_background": "light"
          }
        }
      ],
      "source": [
        "compare_plot(y_pred_lasso,y_test,\"lasso\")"
      ]
    },
    {
      "cell_type": "markdown",
      "metadata": {
        "id": "_r1dHWFYag9Z"
      },
      "source": [
        "## MinMax Data"
      ]
    },
    {
      "cell_type": "code",
      "execution_count": 34,
      "metadata": {
        "colab": {
          "base_uri": "https://localhost:8080/"
        },
        "id": "8DlPnS-Tag9Z",
        "outputId": "bd0ce244-43d8-488f-fe72-8a16cb6cc503"
      },
      "outputs": [
        {
          "output_type": "stream",
          "name": "stdout",
          "text": [
            "Score= -4.818961356178875e-06 \n",
            " Error= 13.57322977591333\n"
          ]
        }
      ],
      "source": [
        "LassoExp(X_train_mm,X_test_mm,i)"
      ]
    },
    {
      "cell_type": "code",
      "execution_count": 35,
      "metadata": {
        "colab": {
          "base_uri": "https://localhost:8080/",
          "height": 297
        },
        "id": "f8GLn0Woag9Z",
        "outputId": "3ebb9e6f-2048-4b01-e287-e115cf3f8f74"
      },
      "outputs": [
        {
          "output_type": "display_data",
          "data": {
            "text/plain": [
              "<Figure size 432x288 with 1 Axes>"
            ],
            "image/png": "[encoded data removed]"
          },
          "metadata": {
            "needs_background": "light"
          }
        }
      ],
      "source": [
        "compare_plot(y_pred_lasso,y_test,\"lasso_mm\")"
      ]
    },
    {
      "cell_type": "markdown",
      "metadata": {
        "id": "8jKqbReLag9a"
      },
      "source": [
        "## Std. Scaled Data"
      ]
    },
    {
      "cell_type": "code",
      "execution_count": 36,
      "metadata": {
        "colab": {
          "base_uri": "https://localhost:8080/"
        },
        "id": "Ute2R8_cag9a",
        "outputId": "7bd321fa-1d16-45d9-a8c3-4296ea08c326"
      },
      "outputs": [
        {
          "output_type": "stream",
          "name": "stdout",
          "text": [
            "Score= 0.4592490429408119 \n",
            " Error= 7.339701621970921\n"
          ]
        }
      ],
      "source": [
        "LassoExp(X_train_std,X_test_std,i)"
      ]
    },
    {
      "cell_type": "code",
      "execution_count": 37,
      "metadata": {
        "colab": {
          "base_uri": "https://localhost:8080/",
          "height": 297
        },
        "id": "aAT-BzdOag9a",
        "outputId": "17a28ff7-8f95-4c33-fb88-0fa46388e1a7"
      },
      "outputs": [
        {
          "output_type": "display_data",
          "data": {
            "text/plain": [
              "<Figure size 432x288 with 1 Axes>"
            ],
            "image/png": "[encoded data removed]"
          },
          "metadata": {
            "needs_background": "light"
          }
        }
      ],
      "source": [
        "compare_plot(y_pred_lasso,y_test,\"lasso_std\")"
      ]
    },
    {
      "cell_type": "markdown",
      "metadata": {
        "id": "_GWwBOfxag9a"
      },
      "source": [
        "# Ridge with Cross-Validation"
      ]
    },
    {
      "cell_type": "markdown",
      "metadata": {
        "id": "5zqpmrizag9a"
      },
      "source": [
        "## Original Data"
      ]
    },
    {
      "cell_type": "code",
      "execution_count": 38,
      "metadata": {
        "id": "WRnMqRfaag9a"
      },
      "outputs": [],
      "source": [
        "def RidgeCVExp(X_train,y_train,X_test,y_test):\n",
        "    global y_pred_ridgecv\n",
        "    model_ridgecv = RidgeCV(alphas=alphas_log)\n",
        "    model_ridgecv.fit(X_train,y_train)\n",
        "    y_pred_ridgecv = model_ridgecv.predict(X_test)\n",
        "    ridgecv_error = mean_squared_error(y_test,y_pred_ridgecv)\n",
        "    ridgecv_score = r2_score(y_test,y_pred_ridgecv)\n",
        "    print(\"Score=\",ridgecv_score,\"\\n\",\"Error=\",ridgecv_error)"
      ]
    },
    {
      "cell_type": "code",
      "execution_count": 39,
      "metadata": {
        "colab": {
          "base_uri": "https://localhost:8080/"
        },
        "id": "qU_FTfsZag9a",
        "outputId": "0a8a40bb-c487-43d4-db3e-bab822ca464d"
      },
      "outputs": [
        {
          "output_type": "stream",
          "name": "stdout",
          "text": [
            "Score= 0.8044872411515771 \n",
            " Error= 2.6537268117654205\n"
          ]
        }
      ],
      "source": [
        "RidgeCVExp(X_train,y_train,X_test,y_test)"
      ]
    },
    {
      "cell_type": "code",
      "execution_count": 40,
      "metadata": {
        "colab": {
          "base_uri": "https://localhost:8080/",
          "height": 297
        },
        "id": "Udtjd5hhag9b",
        "outputId": "7b81e542-38db-4297-aa97-8815fd2858d0"
      },
      "outputs": [
        {
          "output_type": "display_data",
          "data": {
            "text/plain": [
              "<Figure size 432x288 with 1 Axes>"
            ],
            "image/png": "[encoded data removed]"
          },
          "metadata": {
            "needs_background": "light"
          }
        }
      ],
      "source": [
        "compare_plot(y_pred_ridgecv,y_test,\"ridgecv\")"
      ]
    },
    {
      "cell_type": "markdown",
      "metadata": {
        "id": "TGe8Q4X9ag9b"
      },
      "source": [
        "## MinMax Data"
      ]
    },
    {
      "cell_type": "code",
      "execution_count": 41,
      "metadata": {
        "colab": {
          "base_uri": "https://localhost:8080/"
        },
        "id": "YUqck2snag9b",
        "outputId": "ca843f96-82b7-4603-a387-0a32b11fd854"
      },
      "outputs": [
        {
          "output_type": "stream",
          "name": "stdout",
          "text": [
            "Score= 0.7871903839655123 \n",
            " Error= 2.888499897390609\n"
          ]
        }
      ],
      "source": [
        "RidgeCVExp(X_train_mm,y_train,X_test_mm,y_test)"
      ]
    },
    {
      "cell_type": "code",
      "execution_count": 42,
      "metadata": {
        "colab": {
          "base_uri": "https://localhost:8080/",
          "height": 297
        },
        "id": "emlad-hgag9b",
        "outputId": "7c3a19ca-79a6-479d-f6e4-63796e05a000"
      },
      "outputs": [
        {
          "output_type": "display_data",
          "data": {
            "text/plain": [
              "<Figure size 432x288 with 1 Axes>"
            ],
            "image/png": "[encoded data removed]"
          },
          "metadata": {
            "needs_background": "light"
          }
        }
      ],
      "source": [
        "compare_plot(y_pred_ridgecv,y_test,\"ridgecv_mm\")"
      ]
    },
    {
      "cell_type": "markdown",
      "metadata": {
        "id": "22wtmpdlag9b"
      },
      "source": [
        "## Std. Scaled Data"
      ]
    },
    {
      "cell_type": "code",
      "execution_count": 43,
      "metadata": {
        "colab": {
          "base_uri": "https://localhost:8080/"
        },
        "id": "VPGL2xpjag9b",
        "outputId": "7eb48b69-748d-4ad3-ee33-3f4d1169faa9"
      },
      "outputs": [
        {
          "output_type": "stream",
          "name": "stdout",
          "text": [
            "Score= 0.9445815914783816 \n",
            " Error= 0.7522031678413623\n"
          ]
        }
      ],
      "source": [
        "RidgeCVExp(X_train_std,y_train,X_test_std,y_test)"
      ]
    },
    {
      "cell_type": "code",
      "execution_count": 44,
      "metadata": {
        "colab": {
          "base_uri": "https://localhost:8080/",
          "height": 297
        },
        "id": "LRDull78ag9c",
        "outputId": "97aaa9ae-7b4f-4e16-deb0-16484db7298c"
      },
      "outputs": [
        {
          "output_type": "display_data",
          "data": {
            "text/plain": [
              "<Figure size 432x288 with 1 Axes>"
            ],
            "image/png": "[encoded data removed]"
          },
          "metadata": {
            "needs_background": "light"
          }
        }
      ],
      "source": [
        "compare_plot(y_pred_ridgecv,y_test,\"ridgecv_std\")"
      ]
    },
    {
      "cell_type": "markdown",
      "metadata": {
        "id": "AhxTGwUmag9c"
      },
      "source": [
        "# LassoCV"
      ]
    },
    {
      "cell_type": "markdown",
      "metadata": {
        "id": "-fK-9X9Uag9c"
      },
      "source": [
        "## Original Data"
      ]
    },
    {
      "cell_type": "code",
      "execution_count": 48,
      "metadata": {
        "id": "bqcT2FHYag9c"
      },
      "outputs": [],
      "source": [
        "def LassoCVExp(X_train,y_train,X_test,y_test):\n",
        "    global y_pred_lassocv\n",
        "    model_lassocv = LassoCV(max_iter=10**6, alphas=alphas_log)\n",
        "    model_lassocv.fit(X_train,y_train)\n",
        "    y_pred_lassocv = model_lassocv.predict(X_test)\n",
        "    lassocv_error = mean_squared_error(y_test,y_pred_lassocv)\n",
        "    lassocv_score = r2_score(y_test,y_pred_lassocv)\n",
        "    print(\"Score=\",lassocv_score,\"\\n\",\"Error=\",lassocv_error)"
      ]
    },
    {
      "cell_type": "code",
      "execution_count": 49,
      "metadata": {
        "colab": {
          "base_uri": "https://localhost:8080/"
        },
        "id": "IW-_B1Yyag9c",
        "outputId": "e348380e-3fd9-46b9-9761-4d742d9870bf"
      },
      "outputs": [
        {
          "output_type": "stream",
          "name": "stdout",
          "text": [
            "Score= 0.9348479513516612 \n",
            " Error= 0.8843194651740565\n"
          ]
        }
      ],
      "source": [
        "LassoCVExp(X_train,y_train,X_test,y_test)"
      ]
    },
    {
      "cell_type": "code",
      "execution_count": 50,
      "metadata": {
        "colab": {
          "base_uri": "https://localhost:8080/",
          "height": 297
        },
        "id": "9h4mLF3Eag9c",
        "outputId": "91dbb6f4-d58b-40b0-8567-57b1a3827ee3"
      },
      "outputs": [
        {
          "output_type": "display_data",
          "data": {
            "text/plain": [
              "<Figure size 432x288 with 1 Axes>"
            ],
            "image/png": "[encoded data removed]"
          },
          "metadata": {
            "needs_background": "light"
          }
        }
      ],
      "source": [
        "compare_plot(y_pred_lassocv,y_test,\"lassocv\")"
      ]
    },
    {
      "cell_type": "markdown",
      "metadata": {
        "id": "JqvpwrjJag9c"
      },
      "source": [
        "## MinMaxData"
      ]
    },
    {
      "cell_type": "code",
      "execution_count": 51,
      "metadata": {
        "colab": {
          "base_uri": "https://localhost:8080/"
        },
        "id": "wHye_SrKag9c",
        "outputId": "2b609a84-ef96-4e5e-802f-ccbb53e167cb"
      },
      "outputs": [
        {
          "output_type": "stream",
          "name": "stdout",
          "text": [
            "Score= 0.7728560483875612 \n",
            " Error= 3.083062190287018\n"
          ]
        }
      ],
      "source": [
        "LassoCVExp(X_train_mm,y_train,X_test_mm,y_test)"
      ]
    },
    {
      "cell_type": "code",
      "execution_count": 52,
      "metadata": {
        "colab": {
          "base_uri": "https://localhost:8080/",
          "height": 297
        },
        "id": "3UykWTncag9d",
        "outputId": "4b9464ff-0d11-4aab-eae7-db7dcfb3ef50"
      },
      "outputs": [
        {
          "output_type": "display_data",
          "data": {
            "text/plain": [
              "<Figure size 432x288 with 1 Axes>"
            ],
            "image/png": "[encoded data removed]"
          },
          "metadata": {
            "needs_background": "light"
          }
        }
      ],
      "source": [
        "compare_plot(y_pred_lassocv,y_test,\"lassocv_minmax\")"
      ]
    },
    {
      "cell_type": "markdown",
      "metadata": {
        "id": "whLt38Fbag9d"
      },
      "source": [
        "## Std. Scaled Data"
      ]
    },
    {
      "cell_type": "code",
      "execution_count": 53,
      "metadata": {
        "colab": {
          "base_uri": "https://localhost:8080/"
        },
        "id": "fibLl_u3ag9d",
        "outputId": "bac83fb1-ed77-4fbb-8ad1-ec9ac208ea24"
      },
      "outputs": [
        {
          "output_type": "stream",
          "name": "stdout",
          "text": [
            "Score= 0.9213305599607838 \n",
            " Error= 1.0677932403403554\n"
          ]
        }
      ],
      "source": [
        "LassoCVExp(X_train_std,y_train,X_test_std,y_test)"
      ]
    },
    {
      "cell_type": "code",
      "execution_count": 54,
      "metadata": {
        "colab": {
          "base_uri": "https://localhost:8080/",
          "height": 297
        },
        "id": "mDHAT8SWag9d",
        "outputId": "52c79aec-7810-4949-9223-9989f03638fe"
      },
      "outputs": [
        {
          "output_type": "display_data",
          "data": {
            "text/plain": [
              "<Figure size 432x288 with 1 Axes>"
            ],
            "image/png": "[encoded data removed]"
          },
          "metadata": {
            "needs_background": "light"
          }
        }
      ],
      "source": [
        "compare_plot(y_pred_lassocv,y_test,\"lassocv_std\")"
      ]
    },
    {
      "cell_type": "markdown",
      "metadata": {
        "id": "4-Tdyg4Vag9d"
      },
      "source": [
        "# Support Vector Regression"
      ]
    },
    {
      "cell_type": "code",
      "execution_count": 55,
      "metadata": {
        "id": "V2shqp7cag9d"
      },
      "outputs": [],
      "source": [
        "def SVRExp(X_train,X_test):\n",
        "    global pred_svm\n",
        "    model_svr = SVR(kernel=\"rbf\")\n",
        "    model_svr.fit(X_train,y_train)\n",
        "    pred_svm = model_svr.predict(X_test)\n",
        "    score = r2_score(pred_svm,y_test)\n",
        "    print(score)\n"
      ]
    },
    {
      "cell_type": "markdown",
      "metadata": {
        "id": "L9uiniYTag9e"
      },
      "source": [
        "## Original Data"
      ]
    },
    {
      "cell_type": "code",
      "execution_count": 56,
      "metadata": {
        "colab": {
          "base_uri": "https://localhost:8080/"
        },
        "id": "Zl2aZ63xag9e",
        "outputId": "043cca93-db65-4fd8-a8f1-e6a312f77338"
      },
      "outputs": [
        {
          "output_type": "stream",
          "name": "stdout",
          "text": [
            "0.9804528258306725\n"
          ]
        }
      ],
      "source": [
        "SVRExp(X_train,X_test)"
      ]
    },
    {
      "cell_type": "code",
      "execution_count": 57,
      "metadata": {
        "colab": {
          "base_uri": "https://localhost:8080/",
          "height": 297
        },
        "id": "oDmOC-HBag9e",
        "outputId": "d2f023ba-8f25-4840-cad0-29aaf2bf4988"
      },
      "outputs": [
        {
          "output_type": "display_data",
          "data": {
            "text/plain": [
              "<Figure size 432x288 with 1 Axes>"
            ],
            "image/png": "[encoded data removed]"
          },
          "metadata": {
            "needs_background": "light"
          }
        }
      ],
      "source": [
        "compare_plot(pred_svm,y_test,\"SVR_plot\")"
      ]
    },
    {
      "cell_type": "markdown",
      "metadata": {
        "id": "e2qyxTl2ag9e"
      },
      "source": [
        "## MinMax"
      ]
    },
    {
      "cell_type": "code",
      "execution_count": 58,
      "metadata": {
        "colab": {
          "base_uri": "https://localhost:8080/"
        },
        "id": "2mhiWZ6eag9e",
        "outputId": "84a848e0-6761-449b-a1b6-a3c42ff7279d"
      },
      "outputs": [
        {
          "output_type": "stream",
          "name": "stdout",
          "text": [
            "0.9417416135823121\n"
          ]
        }
      ],
      "source": [
        "SVRExp(X_train_mm,X_test_mm)"
      ]
    },
    {
      "cell_type": "code",
      "execution_count": 59,
      "metadata": {
        "colab": {
          "base_uri": "https://localhost:8080/",
          "height": 297
        },
        "id": "waCLoTWsag9e",
        "outputId": "7c93a8a1-943c-4072-e590-aeef04395e58"
      },
      "outputs": [
        {
          "output_type": "display_data",
          "data": {
            "text/plain": [
              "<Figure size 432x288 with 1 Axes>"
            ],
            "image/png": "[encoded data removed]"
          },
          "metadata": {
            "needs_background": "light"
          }
        }
      ],
      "source": [
        "compare_plot(pred_svm,y_test,\"SVR_plot_minmax\")"
      ]
    },
    {
      "cell_type": "markdown",
      "metadata": {
        "id": "Nmg5BQSrag9e"
      },
      "source": [
        "## Std. Scaled Data"
      ]
    },
    {
      "cell_type": "code",
      "execution_count": 60,
      "metadata": {
        "colab": {
          "base_uri": "https://localhost:8080/"
        },
        "id": "55Zbx4BVag9f",
        "outputId": "b35b36ba-e3ae-41b8-f396-915ec200797e"
      },
      "outputs": [
        {
          "output_type": "stream",
          "name": "stdout",
          "text": [
            "0.9859692065461165\n"
          ]
        }
      ],
      "source": [
        "SVRExp(X_train_std,X_test_std)"
      ]
    },
    {
      "cell_type": "code",
      "execution_count": 61,
      "metadata": {
        "colab": {
          "base_uri": "https://localhost:8080/",
          "height": 297
        },
        "id": "_lVvr8yrag9f",
        "outputId": "b9d38d7c-9405-4300-fe34-9c6484748770"
      },
      "outputs": [
        {
          "output_type": "display_data",
          "data": {
            "text/plain": [
              "<Figure size 432x288 with 1 Axes>"
            ],
            "image/png": "[encoded data removed]"
          },
          "metadata": {
            "needs_background": "light"
          }
        }
      ],
      "source": [
        "compare_plot(pred_svm,y_test,\"SVR_plot_std\")"
      ]
    },
    {
      "cell_type": "markdown",
      "metadata": {
        "id": "O16oiCLvag9f"
      },
      "source": [
        "# KNN"
      ]
    },
    {
      "cell_type": "code",
      "execution_count": 62,
      "metadata": {
        "id": "XywnDwjFag9f"
      },
      "outputs": [],
      "source": [
        "def KNNexp(X_train,y_train,X_test,y_test,N):\n",
        "    global pred\n",
        "    model_KNN = KNeighborsRegressor(n_neighbors=N)\n",
        "    model_KNN.fit(X_train,y_train)\n",
        "    pred = model_KNN.predict(X_test)\n",
        "    score = r2_score(pred,y_test)\n",
        "    print(\"Score = \",score)\n"
      ]
    },
    {
      "cell_type": "markdown",
      "metadata": {
        "id": "H3LuisuKag9f"
      },
      "source": [
        "## Original Data"
      ]
    },
    {
      "cell_type": "code",
      "execution_count": 63,
      "metadata": {
        "colab": {
          "base_uri": "https://localhost:8080/"
        },
        "id": "MyZbJ8qbag9f",
        "outputId": "5c74d390-28b6-4164-be17-638b471ae4f1"
      },
      "outputs": [
        {
          "output_type": "stream",
          "name": "stdout",
          "text": [
            "Score =  0.961560999094339\n"
          ]
        }
      ],
      "source": [
        "KNNexp(X_train,y_train,X_test,y_test,10)"
      ]
    },
    {
      "cell_type": "code",
      "execution_count": 64,
      "metadata": {
        "colab": {
          "base_uri": "https://localhost:8080/",
          "height": 297
        },
        "id": "hvH0CjV_ag9f",
        "outputId": "eb7552f1-72c4-4c38-f4d2-9677b571a027"
      },
      "outputs": [
        {
          "output_type": "display_data",
          "data": {
            "text/plain": [
              "<Figure size 432x288 with 1 Axes>"
            ],
            "image/png": "[encoded data removed]"
          },
          "metadata": {
            "needs_background": "light"
          }
        }
      ],
      "source": [
        "compare_plot(pred,y_test,\"knn_plot\")"
      ]
    },
    {
      "cell_type": "markdown",
      "metadata": {
        "id": "0BViE2uCag9f"
      },
      "source": [
        "## MinMax Data"
      ]
    },
    {
      "cell_type": "code",
      "execution_count": 65,
      "metadata": {
        "colab": {
          "base_uri": "https://localhost:8080/"
        },
        "id": "YvI06P3bag9f",
        "outputId": "fa7fe5b9-a3d2-4119-e45b-05a354794eb9"
      },
      "outputs": [
        {
          "output_type": "stream",
          "name": "stdout",
          "text": [
            "Score =  0.943327389430883\n"
          ]
        }
      ],
      "source": [
        "KNNexp(X_train_mm,y_train,X_test_mm,y_test,10)"
      ]
    },
    {
      "cell_type": "code",
      "execution_count": 66,
      "metadata": {
        "colab": {
          "base_uri": "https://localhost:8080/",
          "height": 297
        },
        "id": "tHqGbBk3ag9g",
        "outputId": "82ac74bd-77f0-4fc0-c3c2-6e16d32b5020"
      },
      "outputs": [
        {
          "output_type": "display_data",
          "data": {
            "text/plain": [
              "<Figure size 432x288 with 1 Axes>"
            ],
            "image/png": "[encoded data removed]"
          },
          "metadata": {
            "needs_background": "light"
          }
        }
      ],
      "source": [
        "compare_plot(pred,y_test,\"knn_plot_minmax\")"
      ]
    },
    {
      "cell_type": "markdown",
      "metadata": {
        "id": "S_AS_A8Dag9g"
      },
      "source": [
        "## Std. Scaled Data"
      ]
    },
    {
      "cell_type": "code",
      "execution_count": 67,
      "metadata": {
        "colab": {
          "base_uri": "https://localhost:8080/"
        },
        "id": "XO9tMmVHag9g",
        "outputId": "3b8bae2d-7f25-4695-b354-67b2bf634231"
      },
      "outputs": [
        {
          "output_type": "stream",
          "name": "stdout",
          "text": [
            "Score =  0.993944181370908\n"
          ]
        }
      ],
      "source": [
        "KNNexp(X_train_std,y_train,X_test_std,y_test,10)"
      ]
    },
    {
      "cell_type": "code",
      "execution_count": 68,
      "metadata": {
        "colab": {
          "base_uri": "https://localhost:8080/",
          "height": 297
        },
        "id": "tOUz7p2Iag9g",
        "outputId": "d67b44e7-b95f-4041-c49c-8334aab93e38"
      },
      "outputs": [
        {
          "output_type": "display_data",
          "data": {
            "text/plain": [
              "<Figure size 432x288 with 1 Axes>"
            ],
            "image/png": "[encoded data removed]"
          },
          "metadata": {
            "needs_background": "light"
          }
        }
      ],
      "source": [
        "compare_plot(pred,y_test,\"knn_plot_std\")"
      ]
    },
    {
      "cell_type": "markdown",
      "metadata": {
        "id": "2pMdZYEzag9g"
      },
      "source": [
        "# Decision Trees"
      ]
    },
    {
      "cell_type": "code",
      "execution_count": 69,
      "metadata": {
        "id": "pDac2ppIag9g"
      },
      "outputs": [],
      "source": [
        "def DTexp(X_train,y_train,X_test,y_test,depth):\n",
        "    global pred\n",
        "    model_dt = DecisionTreeRegressor(max_depth=depth)\n",
        "    model_dt.fit(X_train,y_train)\n",
        "    pred = model_dt.predict(X_test)\n",
        "    print(r2_score(y_test,pred))\n",
        "    "
      ]
    },
    {
      "cell_type": "code",
      "execution_count": 70,
      "metadata": {
        "id": "ekTpJygQag9h"
      },
      "outputs": [],
      "source": [
        "def DTexp_minsample(X_train,y_train,X_test,y_test,depth):\n",
        "    model_dt = DecisionTreeRegressor(min_samples_split=5)\n",
        "    model_dt.fit(X_train,y_train)\n",
        "    pred = model_dt.predict(X_test)\n",
        "    score = r2_score(pred,y_test)\n",
        "    return pred"
      ]
    },
    {
      "cell_type": "code",
      "execution_count": 71,
      "metadata": {
        "colab": {
          "base_uri": "https://localhost:8080/"
        },
        "id": "fbo4IPWAag9h",
        "outputId": "1296517e-9652-4870-b8a3-62ae627bf6de"
      },
      "outputs": [
        {
          "output_type": "stream",
          "name": "stdout",
          "text": [
            "0.9963001262473653\n"
          ]
        }
      ],
      "source": [
        "DTexp(X_train,y_train,X_test,y_test,10)"
      ]
    },
    {
      "cell_type": "code",
      "execution_count": 72,
      "metadata": {
        "colab": {
          "base_uri": "https://localhost:8080/",
          "height": 297
        },
        "id": "IY7MZyqiag9h",
        "outputId": "95f36402-10b2-4a53-f4fd-01a4c909a811"
      },
      "outputs": [
        {
          "output_type": "display_data",
          "data": {
            "text/plain": [
              "<Figure size 432x288 with 1 Axes>"
            ],
            "image/png": "[encoded data removed]"
          },
          "metadata": {
            "needs_background": "light"
          }
        }
      ],
      "source": [
        "compare_plot(pred,y_test,\"dt_plot\")"
      ]
    },
    {
      "cell_type": "markdown",
      "metadata": {
        "id": "XX0p1TDAag9h"
      },
      "source": [
        "## MinMax Data"
      ]
    },
    {
      "cell_type": "code",
      "execution_count": 73,
      "metadata": {
        "colab": {
          "base_uri": "https://localhost:8080/"
        },
        "id": "bI0w3f9Fag9h",
        "outputId": "9d039e5b-9d88-422c-96b4-6452c924c25b"
      },
      "outputs": [
        {
          "output_type": "stream",
          "name": "stdout",
          "text": [
            "0.9921822695528284\n"
          ]
        }
      ],
      "source": [
        "DTexp(X_train_mm,y_train,X_test_mm,y_test,10)"
      ]
    },
    {
      "cell_type": "code",
      "execution_count": 74,
      "metadata": {
        "colab": {
          "base_uri": "https://localhost:8080/",
          "height": 297
        },
        "id": "yq65HsXbag9h",
        "outputId": "94758421-6959-489c-ea5b-f13f2892e778"
      },
      "outputs": [
        {
          "output_type": "display_data",
          "data": {
            "text/plain": [
              "<Figure size 432x288 with 1 Axes>"
            ],
            "image/png": "[encoded data removed]"
          },
          "metadata": {
            "needs_background": "light"
          }
        }
      ],
      "source": [
        "compare_plot(pred,y_test,\"dt_plot_mm\")"
      ]
    },
    {
      "cell_type": "markdown",
      "metadata": {
        "id": "2-LozV7Wag9h"
      },
      "source": [
        "## Std. Scaled Data"
      ]
    },
    {
      "cell_type": "code",
      "execution_count": 75,
      "metadata": {
        "colab": {
          "base_uri": "https://localhost:8080/"
        },
        "id": "H20m7T6sag9h",
        "outputId": "bb90dee0-e5c1-4b1f-b22d-05af2812e4de"
      },
      "outputs": [
        {
          "output_type": "stream",
          "name": "stdout",
          "text": [
            "0.9932596730940714\n"
          ]
        }
      ],
      "source": [
        "DTexp(X_train_std,y_train,X_test_std,y_test,10)"
      ]
    },
    {
      "cell_type": "code",
      "execution_count": 76,
      "metadata": {
        "colab": {
          "base_uri": "https://localhost:8080/",
          "height": 297
        },
        "id": "enWcdoUMag9h",
        "outputId": "bec0937e-5627-4b5d-909c-561cc602423d"
      },
      "outputs": [
        {
          "output_type": "display_data",
          "data": {
            "text/plain": [
              "<Figure size 432x288 with 1 Axes>"
            ],
            "image/png": "[encoded data removed]"
          },
          "metadata": {
            "needs_background": "light"
          }
        }
      ],
      "source": [
        "compare_plot(pred,y_test,\"dt_plot_std\")"
      ]
    },
    {
      "cell_type": "markdown",
      "metadata": {
        "id": "apO1rvnCag9i"
      },
      "source": [
        "# XGBoost"
      ]
    },
    {
      "cell_type": "code",
      "execution_count": 77,
      "metadata": {
        "id": "XnGXBqlFag9i"
      },
      "outputs": [],
      "source": [
        "def XGB(X_train,X_test):\n",
        "    global pred\n",
        "    model = XGBRegressor()\n",
        "    model.fit(X_train,y_train)\n",
        "    pred = model.predict(X_test)\n",
        "    score = r2_score(y_test,pred)\n",
        "    print(score)"
      ]
    },
    {
      "cell_type": "code",
      "execution_count": 78,
      "metadata": {
        "colab": {
          "base_uri": "https://localhost:8080/"
        },
        "id": "O_n9h2Ebag9i",
        "outputId": "ba892aab-2066-4d77-8e14-3205bb124ea2"
      },
      "outputs": [
        {
          "output_type": "stream",
          "name": "stdout",
          "text": [
            "[18:20:02] WARNING: /workspace/src/objective/regression_obj.cu:152: reg:linear is now deprecated in favor of reg:squarederror.\n",
            "0.9986067621590289\n"
          ]
        }
      ],
      "source": [
        "XGB(X_train,X_test)"
      ]
    },
    {
      "cell_type": "code",
      "execution_count": 79,
      "metadata": {
        "colab": {
          "base_uri": "https://localhost:8080/",
          "height": 297
        },
        "id": "UmQRCnjuag9i",
        "outputId": "a72812ee-554b-49b0-bff8-7227b59371cb"
      },
      "outputs": [
        {
          "output_type": "display_data",
          "data": {
            "text/plain": [
              "<Figure size 432x288 with 1 Axes>"
            ],
            "image/png": "[encoded data removed]"
          },
          "metadata": {
            "needs_background": "light"
          }
        }
      ],
      "source": [
        "compare_plot(pred,y_test,\"xgb\")"
      ]
    },
    {
      "cell_type": "markdown",
      "metadata": {
        "id": "RdXWaiKqag9i"
      },
      "source": [
        "## MinMax Data"
      ]
    },
    {
      "cell_type": "code",
      "execution_count": 80,
      "metadata": {
        "colab": {
          "base_uri": "https://localhost:8080/"
        },
        "id": "37WIwz1gag9i",
        "outputId": "e10788be-126f-4cae-8677-bfea9d36f015"
      },
      "outputs": [
        {
          "output_type": "stream",
          "name": "stdout",
          "text": [
            "[18:20:53] WARNING: /workspace/src/objective/regression_obj.cu:152: reg:linear is now deprecated in favor of reg:squarederror.\n",
            "0.9842195266684683\n"
          ]
        }
      ],
      "source": [
        "XGB(X_train_mm,X_test_mm)"
      ]
    },
    {
      "cell_type": "code",
      "execution_count": 81,
      "metadata": {
        "colab": {
          "base_uri": "https://localhost:8080/",
          "height": 297
        },
        "id": "F1Ud1Uskag9i",
        "outputId": "b8815bc6-df35-421e-a99c-f6ad2b4b6fb7"
      },
      "outputs": [
        {
          "output_type": "display_data",
          "data": {
            "text/plain": [
              "<Figure size 432x288 with 1 Axes>"
            ],
            "image/png": "[encoded data removed]"
          },
          "metadata": {
            "needs_background": "light"
          }
        }
      ],
      "source": [
        "compare_plot(pred,y_test,\"xgb_mm\")"
      ]
    },
    {
      "cell_type": "markdown",
      "metadata": {
        "id": "fjMkbC4iag9j"
      },
      "source": [
        "## Std. Scaled Data"
      ]
    },
    {
      "cell_type": "code",
      "execution_count": 82,
      "metadata": {
        "colab": {
          "base_uri": "https://localhost:8080/"
        },
        "id": "XtXxyesUag9j",
        "outputId": "3ea9b788-affb-4648-c470-e10d8d8acbf0"
      },
      "outputs": [
        {
          "output_type": "stream",
          "name": "stdout",
          "text": [
            "[18:21:42] WARNING: /workspace/src/objective/regression_obj.cu:152: reg:linear is now deprecated in favor of reg:squarederror.\n",
            "0.9966656233857084\n"
          ]
        }
      ],
      "source": [
        "XGB(X_train_std,X_test_std)"
      ]
    },
    {
      "cell_type": "code",
      "execution_count": 83,
      "metadata": {
        "colab": {
          "base_uri": "https://localhost:8080/",
          "height": 297
        },
        "id": "iv-eXDYuag9j",
        "outputId": "c62d4a6f-5af1-42dd-f591-837f743be033"
      },
      "outputs": [
        {
          "output_type": "display_data",
          "data": {
            "text/plain": [
              "<Figure size 432x288 with 1 Axes>"
            ],
            "image/png": "[encoded data removed]"
          },
          "metadata": {
            "needs_background": "light"
          }
        }
      ],
      "source": [
        "compare_plot(pred,y_test,\"xgb_std\")"
      ]
    }
  ],
  "metadata": {
    "kernelspec": {
      "display_name": "Python 3.9.7 ('base')",
      "language": "python",
      "name": "python3"
    },
    "language_info": {
      "codemirror_mode": {
        "name": "ipython",
        "version": 3
      },
      "file_extension": ".py",
      "mimetype": "text/x-python",
      "name": "python",
      "nbconvert_exporter": "python",
      "pygments_lexer": "ipython3",
      "version": "3.9.7"
    },
    "orig_nbformat": 4,
    "vscode": {
      "interpreter": {
        "hash": "df2f81b94a627e8efc53712ce382a9fd4efeeb18c61063c915a2dc322dae6b87"
      }
    },
    "colab": {
      "name": "FinalProject.ipynb",
      "provenance": [],
      "toc_visible": true,
      "include_colab_link": true
    }
  },
  "nbformat": 4,
  "nbformat_minor": 0
}